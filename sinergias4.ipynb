{
 "cells": [
  {
   "cell_type": "code",
   "execution_count": 1,
   "id": "093071ad",
   "metadata": {},
   "outputs": [],
   "source": [
    "import re\n",
    "import pandas as pd\n",
    "import datetime\n",
    "import mysql.connector\n"
   ]
  },
  {
   "cell_type": "code",
   "execution_count": 2,
   "id": "b08f098b",
   "metadata": {},
   "outputs": [],
   "source": [
    "conexao = mysql.connector.connect(host='localhost',user='root',password='',database='producao')\n",
    "cursor = conexao.cursor()"
   ]
  },
  {
   "cell_type": "code",
   "execution_count": 11,
   "id": "5a68d084",
   "metadata": {},
   "outputs": [
    {
     "name": "stdout",
     "output_type": "stream",
     "text": [
      "Tempo médio de dias para concessão: 2002 = 5.73\n",
      "Tempo médio de dias para concessão: 2003 = 6.82\n",
      "Tempo médio de dias para concessão: 2004 = 7.82\n",
      "Tempo médio de dias para concessão: 2005 = 8.45\n",
      "Tempo médio de dias para concessão: 2006 = 9.69\n",
      "Tempo médio de dias para concessão: 2007 = 10.54\n",
      "Tempo médio de dias para concessão: 2008 = 11.33\n",
      "Tempo médio de dias para concessão: 2009 = 11.67\n",
      "Tempo médio de dias para concessão: 2010 = 11.99\n",
      "Tempo médio de dias para concessão: 2011 = 12.23\n",
      "Tempo médio de dias para concessão: 2012 = 12.31\n",
      "Tempo médio de dias para concessão: 2013 = 12.86\n",
      "Tempo médio de dias para concessão: 2014 = 12.13\n",
      "Tempo médio de dias para concessão: 2015 = 12.57\n",
      "Tempo médio de dias para concessão: 2016 = 12.93\n",
      "Tempo médio de dias para concessão: 2017 = 12.24\n",
      "Tempo médio de dias para concessão: 2018 = 12.09\n",
      "Tempo médio de dias para concessão: 2019 = 11.35\n",
      "Tempo médio de dias para concessão: 2020 = 10.60\n",
      "Tempo médio de dias para concessão: 2021 = 9.93\n"
     ]
    }
   ],
   "source": [
    "def numOfDays(date1, date2):\n",
    "    return (date2-date1).days\n",
    "\n",
    "#confere média de tempo de registro\n",
    "for ano in range(2002, 2022, 1):\n",
    "    soma = 0\n",
    "    total = 0\n",
    "    comando = f'select * from arqpatentes where year(concessao)={ano}'\n",
    "    cursor.execute(comando)\n",
    "    resultado = cursor.fetchall()\n",
    "    for row in resultado:\n",
    "        #print(\"numero= \"+str(row[0]))\n",
    "        #print(\"data deposito= \"+str(row[1]))\n",
    "        d=datetime.datetime.strptime(str(row[1]), \"%Y-%m-%d\")\n",
    "        date1 = datetime.date(d.year, d.month, d.day)\n",
    "        #print(\"data concessao= \"+str(row[4]))\n",
    "        d=datetime.datetime.strptime(str(row[4]), \"%Y-%m-%d\")\n",
    "        date2 = datetime.date(d.year, d.month, d.day)\n",
    "        #print(numOfDays(date1, date2)/365, \"anos\")\n",
    "        soma = soma + numOfDays(date1, date2)\n",
    "        total = total + 1\n",
    "        #print(\"\\n\")\n",
    "    \n",
    "    media = soma/total/365\n",
    "    print(f'Tempo médio de dias para concessão: {ano} = {media:.2f}')"
   ]
  },
  {
   "cell_type": "code",
   "execution_count": null,
   "id": "86d01534",
   "metadata": {},
   "outputs": [],
   "source": []
  }
 ],
 "metadata": {
  "kernelspec": {
   "display_name": "Python 3 (ipykernel)",
   "language": "python",
   "name": "python3"
  },
  "language_info": {
   "codemirror_mode": {
    "name": "ipython",
    "version": 3
   },
   "file_extension": ".py",
   "mimetype": "text/x-python",
   "name": "python",
   "nbconvert_exporter": "python",
   "pygments_lexer": "ipython3",
   "version": "3.9.7"
  }
 },
 "nbformat": 4,
 "nbformat_minor": 5
}
