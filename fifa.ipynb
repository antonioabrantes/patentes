{
 "cells": [
  {
   "cell_type": "code",
   "execution_count": 3,
   "id": "190afb06",
   "metadata": {},
   "outputs": [],
   "source": [
    "import streamlit as st  \n",
    "import pandas as pd\n",
    "import numpy as np\n",
    "import random \n",
    "from scipy.stats import poisson "
   ]
  },
  {
   "cell_type": "code",
   "execution_count": 4,
   "id": "83807eac",
   "metadata": {},
   "outputs": [],
   "source": [
    "#!pip install streamlit\n",
    "#https://github.com/gitflai/MinicursoFLAIDataScienceNaCopa\n",
    "#https://www.youtube.com/watch?v=5Q2_2GYiBwM\n",
    "#PROJETO 1: CRIE UMA IA QUE PREVÊ RESULTADOS DE JOGOS - MINICURSO FLAI DATA SCIENCE NA COPA DO MUNDO"
   ]
  },
  {
   "cell_type": "code",
   "execution_count": 11,
   "id": "36d43b80",
   "metadata": {},
   "outputs": [],
   "source": [
    "selecoes = pd.read_excel('DadosCopaDoMundoQatar2022.xlsx', sheet_name='selecoes', index_col=0)\n",
    "jogos = pd.read_excel('DadosCopaDoMundoQatar2022.xlsx', sheet_name='jogos')"
   ]
  },
  {
   "cell_type": "code",
   "execution_count": 12,
   "id": "13e2c794",
   "metadata": {},
   "outputs": [
    {
     "data": {
      "text/html": [
       "<div>\n",
       "<style scoped>\n",
       "    .dataframe tbody tr th:only-of-type {\n",
       "        vertical-align: middle;\n",
       "    }\n",
       "\n",
       "    .dataframe tbody tr th {\n",
       "        vertical-align: top;\n",
       "    }\n",
       "\n",
       "    .dataframe thead th {\n",
       "        text-align: right;\n",
       "    }\n",
       "</style>\n",
       "<table border=\"1\" class=\"dataframe\">\n",
       "  <thead>\n",
       "    <tr style=\"text-align: right;\">\n",
       "      <th></th>\n",
       "      <th>Grupo</th>\n",
       "      <th>GrupoNumero</th>\n",
       "      <th>NomeEmIngles</th>\n",
       "      <th>PosiçãoRankingFIFA</th>\n",
       "      <th>ValorDeMercado</th>\n",
       "      <th>PontosRankingFIFA</th>\n",
       "      <th>Confederação</th>\n",
       "      <th>Copas</th>\n",
       "      <th>JogadorDestaque</th>\n",
       "      <th>FotoJogadorDestaque</th>\n",
       "      <th>LinkBandeiraPequena</th>\n",
       "      <th>LinkBandeiraGrande</th>\n",
       "    </tr>\n",
       "    <tr>\n",
       "      <th>Seleção</th>\n",
       "      <th></th>\n",
       "      <th></th>\n",
       "      <th></th>\n",
       "      <th></th>\n",
       "      <th></th>\n",
       "      <th></th>\n",
       "      <th></th>\n",
       "      <th></th>\n",
       "      <th></th>\n",
       "      <th></th>\n",
       "      <th></th>\n",
       "      <th></th>\n",
       "    </tr>\n",
       "  </thead>\n",
       "  <tbody>\n",
       "    <tr>\n",
       "      <th>Catar</th>\n",
       "      <td>A</td>\n",
       "      <td>A1</td>\n",
       "      <td>Qatar</td>\n",
       "      <td>48</td>\n",
       "      <td>18.33</td>\n",
       "      <td>1442</td>\n",
       "      <td>AFC</td>\n",
       "      <td>0</td>\n",
       "      <td>Almoez Ali</td>\n",
       "      <td>https://github.com/ricardorocha86/PrevisaoEspo...</td>\n",
       "      <td>https://cloudinary.fifa.com/api/v3/picture/fla...</td>\n",
       "      <td>https://flagdownload.com/wp-content/uploads/Fl...</td>\n",
       "    </tr>\n",
       "    <tr>\n",
       "      <th>Equador</th>\n",
       "      <td>A</td>\n",
       "      <td>A2</td>\n",
       "      <td>Ecuador</td>\n",
       "      <td>44</td>\n",
       "      <td>125.80</td>\n",
       "      <td>1464</td>\n",
       "      <td>UEFA</td>\n",
       "      <td>0</td>\n",
       "      <td>Pervis Estupiñán</td>\n",
       "      <td>https://github.com/ricardorocha86/PrevisaoEspo...</td>\n",
       "      <td>https://cloudinary.fifa.com/api/v3/picture/fla...</td>\n",
       "      <td>https://flagdownload.com/wp-content/uploads/Fl...</td>\n",
       "    </tr>\n",
       "    <tr>\n",
       "      <th>Senegal</th>\n",
       "      <td>A</td>\n",
       "      <td>A3</td>\n",
       "      <td>Senegal</td>\n",
       "      <td>18</td>\n",
       "      <td>286.50</td>\n",
       "      <td>1585</td>\n",
       "      <td>CAF</td>\n",
       "      <td>0</td>\n",
       "      <td>Sadio Mané</td>\n",
       "      <td>https://github.com/ricardorocha86/PrevisaoEspo...</td>\n",
       "      <td>https://cloudinary.fifa.com/api/v3/picture/fla...</td>\n",
       "      <td>https://flagdownload.com/wp-content/uploads/Fl...</td>\n",
       "    </tr>\n",
       "    <tr>\n",
       "      <th>Holanda</th>\n",
       "      <td>A</td>\n",
       "      <td>A4</td>\n",
       "      <td>Netherlands</td>\n",
       "      <td>8</td>\n",
       "      <td>455.75</td>\n",
       "      <td>1679</td>\n",
       "      <td>UEFA</td>\n",
       "      <td>0</td>\n",
       "      <td>Virgil Van Dijk</td>\n",
       "      <td>https://github.com/ricardorocha86/PrevisaoEspo...</td>\n",
       "      <td>https://cloudinary.fifa.com/api/v3/picture/fla...</td>\n",
       "      <td>https://flagdownload.com/wp-content/uploads/Fl...</td>\n",
       "    </tr>\n",
       "    <tr>\n",
       "      <th>Inglaterra</th>\n",
       "      <td>B</td>\n",
       "      <td>B1</td>\n",
       "      <td>England</td>\n",
       "      <td>5</td>\n",
       "      <td>1360.00</td>\n",
       "      <td>1737</td>\n",
       "      <td>UEFA</td>\n",
       "      <td>1</td>\n",
       "      <td>Harry Kane</td>\n",
       "      <td>https://github.com/ricardorocha86/PrevisaoEspo...</td>\n",
       "      <td>https://cloudinary.fifa.com/api/v3/picture/fla...</td>\n",
       "      <td>https://flagdownload.com/wp-content/uploads/Fl...</td>\n",
       "    </tr>\n",
       "  </tbody>\n",
       "</table>\n",
       "</div>"
      ],
      "text/plain": [
       "           Grupo GrupoNumero NomeEmIngles  PosiçãoRankingFIFA  ValorDeMercado  \\\n",
       "Seleção                                                                         \n",
       "Catar          A          A1        Qatar                  48           18.33   \n",
       "Equador        A          A2      Ecuador                  44          125.80   \n",
       "Senegal        A          A3      Senegal                  18          286.50   \n",
       "Holanda        A          A4  Netherlands                   8          455.75   \n",
       "Inglaterra     B          B1      England                   5         1360.00   \n",
       "\n",
       "            PontosRankingFIFA Confederação  Copas   JogadorDestaque  \\\n",
       "Seleção                                                               \n",
       "Catar                    1442          AFC      0        Almoez Ali   \n",
       "Equador                  1464         UEFA      0  Pervis Estupiñán   \n",
       "Senegal                  1585          CAF      0        Sadio Mané   \n",
       "Holanda                  1679         UEFA      0   Virgil Van Dijk   \n",
       "Inglaterra               1737         UEFA      1        Harry Kane   \n",
       "\n",
       "                                          FotoJogadorDestaque  \\\n",
       "Seleção                                                         \n",
       "Catar       https://github.com/ricardorocha86/PrevisaoEspo...   \n",
       "Equador     https://github.com/ricardorocha86/PrevisaoEspo...   \n",
       "Senegal     https://github.com/ricardorocha86/PrevisaoEspo...   \n",
       "Holanda     https://github.com/ricardorocha86/PrevisaoEspo...   \n",
       "Inglaterra  https://github.com/ricardorocha86/PrevisaoEspo...   \n",
       "\n",
       "                                          LinkBandeiraPequena  \\\n",
       "Seleção                                                         \n",
       "Catar       https://cloudinary.fifa.com/api/v3/picture/fla...   \n",
       "Equador     https://cloudinary.fifa.com/api/v3/picture/fla...   \n",
       "Senegal     https://cloudinary.fifa.com/api/v3/picture/fla...   \n",
       "Holanda     https://cloudinary.fifa.com/api/v3/picture/fla...   \n",
       "Inglaterra  https://cloudinary.fifa.com/api/v3/picture/fla...   \n",
       "\n",
       "                                           LinkBandeiraGrande  \n",
       "Seleção                                                        \n",
       "Catar       https://flagdownload.com/wp-content/uploads/Fl...  \n",
       "Equador     https://flagdownload.com/wp-content/uploads/Fl...  \n",
       "Senegal     https://flagdownload.com/wp-content/uploads/Fl...  \n",
       "Holanda     https://flagdownload.com/wp-content/uploads/Fl...  \n",
       "Inglaterra  https://flagdownload.com/wp-content/uploads/Fl...  "
      ]
     },
     "execution_count": 12,
     "metadata": {},
     "output_type": "execute_result"
    }
   ],
   "source": [
    "selecoes.head()"
   ]
  },
  {
   "cell_type": "code",
   "execution_count": 13,
   "id": "31adc063",
   "metadata": {},
   "outputs": [
    {
     "data": {
      "text/html": [
       "<div>\n",
       "<style scoped>\n",
       "    .dataframe tbody tr th:only-of-type {\n",
       "        vertical-align: middle;\n",
       "    }\n",
       "\n",
       "    .dataframe tbody tr th {\n",
       "        vertical-align: top;\n",
       "    }\n",
       "\n",
       "    .dataframe thead th {\n",
       "        text-align: right;\n",
       "    }\n",
       "</style>\n",
       "<table border=\"1\" class=\"dataframe\">\n",
       "  <thead>\n",
       "    <tr style=\"text-align: right;\">\n",
       "      <th></th>\n",
       "      <th>data</th>\n",
       "      <th>hora</th>\n",
       "      <th>grupo</th>\n",
       "      <th>seleção1</th>\n",
       "      <th>seleção2</th>\n",
       "      <th>estádio</th>\n",
       "    </tr>\n",
       "  </thead>\n",
       "  <tbody>\n",
       "    <tr>\n",
       "      <th>0</th>\n",
       "      <td>2022-11-21</td>\n",
       "      <td>07:00:00</td>\n",
       "      <td>A</td>\n",
       "      <td>Senegal</td>\n",
       "      <td>Holanda</td>\n",
       "      <td>AL THUMAMA</td>\n",
       "    </tr>\n",
       "    <tr>\n",
       "      <th>1</th>\n",
       "      <td>2022-11-21</td>\n",
       "      <td>13:00:00</td>\n",
       "      <td>A</td>\n",
       "      <td>Catar</td>\n",
       "      <td>Equador</td>\n",
       "      <td>AL KHOR</td>\n",
       "    </tr>\n",
       "    <tr>\n",
       "      <th>2</th>\n",
       "      <td>2022-11-25</td>\n",
       "      <td>10:00:00</td>\n",
       "      <td>A</td>\n",
       "      <td>Catar</td>\n",
       "      <td>Senegal</td>\n",
       "      <td>AL THUMAMA</td>\n",
       "    </tr>\n",
       "    <tr>\n",
       "      <th>3</th>\n",
       "      <td>2022-11-25</td>\n",
       "      <td>13:00:00</td>\n",
       "      <td>A</td>\n",
       "      <td>Holanda</td>\n",
       "      <td>Equador</td>\n",
       "      <td>INTER. KHALIFA</td>\n",
       "    </tr>\n",
       "    <tr>\n",
       "      <th>4</th>\n",
       "      <td>2022-11-29</td>\n",
       "      <td>12:00:00</td>\n",
       "      <td>A</td>\n",
       "      <td>Holanda</td>\n",
       "      <td>Catar</td>\n",
       "      <td>AL KHOR</td>\n",
       "    </tr>\n",
       "  </tbody>\n",
       "</table>\n",
       "</div>"
      ],
      "text/plain": [
       "        data      hora grupo seleção1 seleção2         estádio\n",
       "0 2022-11-21  07:00:00     A  Senegal  Holanda      AL THUMAMA\n",
       "1 2022-11-21  13:00:00     A    Catar  Equador         AL KHOR\n",
       "2 2022-11-25  10:00:00     A    Catar  Senegal      AL THUMAMA\n",
       "3 2022-11-25  13:00:00     A  Holanda  Equador  INTER. KHALIFA\n",
       "4 2022-11-29  12:00:00     A  Holanda    Catar         AL KHOR"
      ]
     },
     "execution_count": 13,
     "metadata": {},
     "output_type": "execute_result"
    }
   ],
   "source": [
    "jogos.head()"
   ]
  },
  {
   "cell_type": "code",
   "execution_count": 18,
   "id": "6ac46be2",
   "metadata": {},
   "outputs": [
    {
     "data": {
      "text/plain": [
       "array([3])"
      ]
     },
     "execution_count": 18,
     "metadata": {},
     "output_type": "execute_result"
    }
   ],
   "source": [
    "np.random.poisson(lam=1, size=1) # a média de gols ´é 1"
   ]
  },
  {
   "cell_type": "code",
   "execution_count": 19,
   "id": "405ad64d",
   "metadata": {},
   "outputs": [],
   "source": [
    "fifa = selecoes['PontosRankingFIFA']\n",
    "a, b = min(fifa), max(fifa) \n",
    "fa, fb = 0.15, 1 # novos valores de força para uma nova escala para que fique entre 0,15 e 1\n",
    "b1 = (fb - fa)/(b-a) \n",
    "b0 = fb - b*b1\n",
    "forca = b0 + b1*fifa "
   ]
  },
  {
   "cell_type": "code",
   "execution_count": 21,
   "id": "2c675a77",
   "metadata": {},
   "outputs": [],
   "source": [
    "def Resultado(gols1, gols2):\n",
    "    if gols1 > gols2:\n",
    "        res = 'V'\n",
    "    if gols1 < gols2:\n",
    "        res = 'D' \n",
    "    if gols1 == gols2:\n",
    "        res = 'E'       \n",
    "    return res"
   ]
  },
  {
   "cell_type": "code",
   "execution_count": 20,
   "id": "a33b0a2a",
   "metadata": {},
   "outputs": [],
   "source": [
    "def MediasPoisson(selecao1, selecao2):\n",
    "    forca1 = forca[selecao1]\n",
    "    forca2 = forca[selecao2] \n",
    "    mgols = 2.75 # média de gols de cada partida numa copa\n",
    "    l1 = mgols*forca1/(forca1 + forca2)\n",
    "    l2 = mgols*forca2/(forca1 + forca2)\n",
    "    return [l1, l2]"
   ]
  },
  {
   "cell_type": "code",
   "execution_count": 23,
   "id": "2ba6ed19",
   "metadata": {},
   "outputs": [],
   "source": [
    "def Pontos(gols1, gols2):\n",
    "    rst = Resultado(gols1, gols2)\n",
    "    if rst == 'V':\n",
    "        pontos1, pontos2 = 3, 0\n",
    "    if rst == 'E':\n",
    "        pontos1, pontos2 = 1, 1\n",
    "    if rst == 'D':\n",
    "        pontos1, pontos2 = 0, 3\n",
    "    return pontos1, pontos2, rst"
   ]
  },
  {
   "cell_type": "code",
   "execution_count": 24,
   "id": "d7893bcc",
   "metadata": {},
   "outputs": [],
   "source": [
    "def Jogo(selecao1, selecao2):\n",
    "    l1, l2 = MediasPoisson(selecao1, selecao2)\n",
    "    gols1 = int(np.random.poisson(lam = l1, size = 1))\n",
    "    gols2 = int(np.random.poisson(lam = l2, size = 1))\n",
    "    saldo1 = gols1 - gols2\n",
    "    saldo2 = -saldo1\n",
    "    pontos1, pontos2, result = Pontos(gols1, gols2)\n",
    "    placar = '{}x{}'.format(gols1, gols2)\n",
    "    return [gols1, gols2, saldo1, saldo2, pontos1, pontos2, result, placar]"
   ]
  },
  {
   "cell_type": "code",
   "execution_count": 25,
   "id": "375bd365",
   "metadata": {},
   "outputs": [
    {
     "data": {
      "text/plain": [
       "[1.478048191315901, 1.2719518086840993]"
      ]
     },
     "execution_count": 25,
     "metadata": {},
     "output_type": "execute_result"
    }
   ],
   "source": [
    "MediasPoisson('Brasil','França') # 1,47 Brasil + 1,127 França = 2,5 gols por partida"
   ]
  },
  {
   "cell_type": "code",
   "execution_count": 27,
   "id": "ff1bb653",
   "metadata": {},
   "outputs": [
    {
     "data": {
      "text/plain": [
       "'E'"
      ]
     },
     "execution_count": 27,
     "metadata": {},
     "output_type": "execute_result"
    }
   ],
   "source": [
    "Resultado(2,2)"
   ]
  },
  {
   "cell_type": "code",
   "execution_count": 29,
   "id": "665453a3",
   "metadata": {},
   "outputs": [
    {
     "data": {
      "text/plain": [
       "[1, 0, 1, -1, 3, 0, 'V', '1x0']"
      ]
     },
     "execution_count": 29,
     "metadata": {},
     "output_type": "execute_result"
    }
   ],
   "source": [
    "Jogo('Brasil','Gana')"
   ]
  },
  {
   "cell_type": "code",
   "execution_count": 26,
   "id": "e00910c9",
   "metadata": {},
   "outputs": [],
   "source": [
    "st.set_page_config(\n",
    "    page_title = 'Predições de Jogos da Copa do Mundo',\n",
    "    page_icon = '⚽',\n",
    ")"
   ]
  },
  {
   "cell_type": "code",
   "execution_count": 30,
   "id": "9fcad2a8",
   "metadata": {},
   "outputs": [
    {
     "data": {
      "text/plain": [
       "0.2706705664732254"
      ]
     },
     "execution_count": 30,
     "metadata": {},
     "output_type": "execute_result"
    }
   ],
   "source": [
    "poisson.pmf(2,2) # probabilidade de fazer dois gols na partida sendo a média 2"
   ]
  },
  {
   "cell_type": "code",
   "execution_count": 28,
   "id": "7134f5f6",
   "metadata": {},
   "outputs": [],
   "source": [
    "def Distribuicao(media):\n",
    "    probs = []\n",
    "    for i in range(7):\n",
    "        probs.append(poisson.pmf(i,media))\n",
    "    probs.append(1-sum(probs))\n",
    "    return pd.Series(probs, index = ['0', '1', '2', '3', '4', '5', '6', '7+'])"
   ]
  },
  {
   "cell_type": "code",
   "execution_count": 31,
   "id": "7c4684b4",
   "metadata": {},
   "outputs": [
    {
     "data": {
      "text/plain": [
       "0     0.135335\n",
       "1     0.270671\n",
       "2     0.270671\n",
       "3     0.180447\n",
       "4     0.090224\n",
       "5     0.036089\n",
       "6     0.012030\n",
       "7+    0.004534\n",
       "dtype: float64"
      ]
     },
     "execution_count": 31,
     "metadata": {},
     "output_type": "execute_result"
    }
   ],
   "source": [
    "Distribuicao(2)"
   ]
  },
  {
   "cell_type": "code",
   "execution_count": 32,
   "id": "11c62764",
   "metadata": {},
   "outputs": [],
   "source": [
    "def ProbabilidadesPartida(selecao1, selecao2):\n",
    "    l1, l2 = MediasPoisson(selecao1, selecao2)\n",
    "    d1, d2 = Distribuicao(l1), Distribuicao(l2)  \n",
    "    matriz = np.outer(d1, d2)    #   Monta a matriz de probabilidades\n",
    "\n",
    "    vitoria = np.tril(matriz).sum()-np.trace(matriz)    #Soma a triangulo inferior\n",
    "    derrota = np.triu(matriz).sum()-np.trace(matriz)    #Soma a triangulo superior\n",
    "    probs = np.around([vitoria, 1-(vitoria+derrota), derrota], 3)\n",
    "    probsp = [f'{100*i:.1f}%' for i in probs]\n",
    "\n",
    "    nomes = ['0', '1', '2', '3', '4', '5', '6', '7+']\n",
    "    matriz = pd.DataFrame(matriz, columns = nomes, index = nomes)\n",
    "    matriz.index = pd.MultiIndex.from_product([[selecao1], matriz.index])\n",
    "    matriz.columns = pd.MultiIndex.from_product([[selecao2], matriz.columns]) \n",
    "    output = {'seleção1': selecao1, 'seleção2': selecao2, \n",
    "             'f1': forca[selecao1], 'f2': forca[selecao2], \n",
    "             'media1': l1, 'media2': l2, \n",
    "             'probabilidades': probsp, 'matriz': matriz}\n",
    "    return output"
   ]
  },
  {
   "cell_type": "code",
   "execution_count": 34,
   "id": "66d67685",
   "metadata": {},
   "outputs": [
    {
     "data": {
      "text/plain": [
       "{'seleção1': 'Brasil',\n",
       " 'seleção2': 'França',\n",
       " 'f1': 1.0,\n",
       " 'f2': 0.8605617977528088,\n",
       " 'media1': 1.478048191315901,\n",
       " 'media2': 1.2719518086840993,\n",
       " 'probabilidades': ['42.0%', '25.4%', '32.6%'],\n",
       " 'matriz':              França                                                    \\\n",
       "                   0         1         2         3         4         5   \n",
       " Brasil 0   0.063928  0.081313  0.051713  0.021926  0.006972  0.001774   \n",
       "        1   0.094488  0.120185  0.076435  0.032407  0.010305  0.002622   \n",
       "        2   0.069829  0.088819  0.056487  0.023950  0.007616  0.001937   \n",
       "        3   0.034404  0.043760  0.027830  0.011800  0.003752  0.000955   \n",
       "        4   0.012713  0.016170  0.010284  0.004360  0.001386  0.000353   \n",
       "        5   0.003758  0.004780  0.003040  0.001289  0.000410  0.000104   \n",
       "        6   0.000926  0.001177  0.000749  0.000318  0.000101  0.000026   \n",
       "        7+  0.000239  0.000303  0.000193  0.000082  0.000026  0.000007   \n",
       " \n",
       "                                    \n",
       "                   6            7+  \n",
       " Brasil 0   0.000376  8.093932e-05  \n",
       "        1   0.000556  1.196322e-04  \n",
       "        2   0.000411  8.841109e-05  \n",
       "        3   0.000202  4.355862e-05  \n",
       "        4   0.000075  1.609543e-05  \n",
       "        5   0.000022  4.757966e-06  \n",
       "        6   0.000005  1.172084e-06  \n",
       "        7+  0.000001  3.019985e-07  }"
      ]
     },
     "execution_count": 34,
     "metadata": {},
     "output_type": "execute_result"
    }
   ],
   "source": [
    "ProbabilidadesPartida('Brasil','França')"
   ]
  },
  {
   "cell_type": "code",
   "execution_count": 39,
   "id": "372a438f",
   "metadata": {},
   "outputs": [
    {
     "data": {
      "text/html": [
       "<div>\n",
       "<style scoped>\n",
       "    .dataframe tbody tr th:only-of-type {\n",
       "        vertical-align: middle;\n",
       "    }\n",
       "\n",
       "    .dataframe tbody tr th {\n",
       "        vertical-align: top;\n",
       "    }\n",
       "\n",
       "    .dataframe thead th {\n",
       "        text-align: right;\n",
       "    }\n",
       "</style>\n",
       "<table border=\"1\" class=\"dataframe\">\n",
       "  <thead>\n",
       "    <tr style=\"text-align: right;\">\n",
       "      <th></th>\n",
       "      <th>data</th>\n",
       "      <th>hora</th>\n",
       "      <th>grupo</th>\n",
       "      <th>seleção1</th>\n",
       "      <th>seleção2</th>\n",
       "      <th>estádio</th>\n",
       "      <th>Vitória</th>\n",
       "      <th>Empate</th>\n",
       "      <th>Derrota</th>\n",
       "    </tr>\n",
       "  </thead>\n",
       "  <tbody>\n",
       "    <tr>\n",
       "      <th>0</th>\n",
       "      <td>2022-11-21</td>\n",
       "      <td>07:00:00</td>\n",
       "      <td>A</td>\n",
       "      <td>Senegal</td>\n",
       "      <td>Holanda</td>\n",
       "      <td>AL THUMAMA</td>\n",
       "      <td>None</td>\n",
       "      <td>None</td>\n",
       "      <td>None</td>\n",
       "    </tr>\n",
       "    <tr>\n",
       "      <th>1</th>\n",
       "      <td>2022-11-21</td>\n",
       "      <td>13:00:00</td>\n",
       "      <td>A</td>\n",
       "      <td>Catar</td>\n",
       "      <td>Equador</td>\n",
       "      <td>AL KHOR</td>\n",
       "      <td>None</td>\n",
       "      <td>None</td>\n",
       "      <td>None</td>\n",
       "    </tr>\n",
       "    <tr>\n",
       "      <th>2</th>\n",
       "      <td>2022-11-25</td>\n",
       "      <td>10:00:00</td>\n",
       "      <td>A</td>\n",
       "      <td>Catar</td>\n",
       "      <td>Senegal</td>\n",
       "      <td>AL THUMAMA</td>\n",
       "      <td>None</td>\n",
       "      <td>None</td>\n",
       "      <td>None</td>\n",
       "    </tr>\n",
       "  </tbody>\n",
       "</table>\n",
       "</div>"
      ],
      "text/plain": [
       "        data      hora grupo seleção1 seleção2     estádio Vitória Empate  \\\n",
       "0 2022-11-21  07:00:00     A  Senegal  Holanda  AL THUMAMA    None   None   \n",
       "1 2022-11-21  13:00:00     A    Catar  Equador     AL KHOR    None   None   \n",
       "2 2022-11-25  10:00:00     A    Catar  Senegal  AL THUMAMA    None   None   \n",
       "\n",
       "  Derrota  \n",
       "0    None  \n",
       "1    None  \n",
       "2    None  "
      ]
     },
     "execution_count": 39,
     "metadata": {},
     "output_type": "execute_result"
    }
   ],
   "source": [
    "jogos.head(3)"
   ]
  },
  {
   "cell_type": "code",
   "execution_count": 40,
   "id": "3b40a4d4",
   "metadata": {},
   "outputs": [],
   "source": [
    "jogos['Vitória']=None\n",
    "jogos['Empate']=None\n",
    "jogos['Derrota']=None\n",
    "for i in range(jogos.shape[0]):\n",
    "    selecao1 = jogos['seleção1'][i]\n",
    "    selecao2 = jogos['seleção2'][i]\n",
    "    v,e,d = ProbabilidadesPartida(selecao1,selecao2)['probabilidades']\n",
    "    jogos.at[i,'Vitória']=v\n",
    "    jogos.at[i,'Empate']=e\n",
    "    jogos.at[i,'Derrota']=d"
   ]
  },
  {
   "cell_type": "code",
   "execution_count": 41,
   "id": "c846cef8",
   "metadata": {},
   "outputs": [
    {
     "data": {
      "text/html": [
       "<div>\n",
       "<style scoped>\n",
       "    .dataframe tbody tr th:only-of-type {\n",
       "        vertical-align: middle;\n",
       "    }\n",
       "\n",
       "    .dataframe tbody tr th {\n",
       "        vertical-align: top;\n",
       "    }\n",
       "\n",
       "    .dataframe thead th {\n",
       "        text-align: right;\n",
       "    }\n",
       "</style>\n",
       "<table border=\"1\" class=\"dataframe\">\n",
       "  <thead>\n",
       "    <tr style=\"text-align: right;\">\n",
       "      <th></th>\n",
       "      <th>data</th>\n",
       "      <th>hora</th>\n",
       "      <th>grupo</th>\n",
       "      <th>seleção1</th>\n",
       "      <th>seleção2</th>\n",
       "      <th>estádio</th>\n",
       "      <th>Vitória</th>\n",
       "      <th>Empate</th>\n",
       "      <th>Derrota</th>\n",
       "    </tr>\n",
       "  </thead>\n",
       "  <tbody>\n",
       "    <tr>\n",
       "      <th>0</th>\n",
       "      <td>2022-11-21</td>\n",
       "      <td>07:00:00</td>\n",
       "      <td>A</td>\n",
       "      <td>Senegal</td>\n",
       "      <td>Holanda</td>\n",
       "      <td>AL THUMAMA</td>\n",
       "      <td>28.3%</td>\n",
       "      <td>24.9%</td>\n",
       "      <td>46.8%</td>\n",
       "    </tr>\n",
       "    <tr>\n",
       "      <th>1</th>\n",
       "      <td>2022-11-21</td>\n",
       "      <td>13:00:00</td>\n",
       "      <td>A</td>\n",
       "      <td>Catar</td>\n",
       "      <td>Equador</td>\n",
       "      <td>AL KHOR</td>\n",
       "      <td>32.3%</td>\n",
       "      <td>25.4%</td>\n",
       "      <td>42.3%</td>\n",
       "    </tr>\n",
       "    <tr>\n",
       "      <th>2</th>\n",
       "      <td>2022-11-25</td>\n",
       "      <td>10:00:00</td>\n",
       "      <td>A</td>\n",
       "      <td>Catar</td>\n",
       "      <td>Senegal</td>\n",
       "      <td>AL THUMAMA</td>\n",
       "      <td>17.2%</td>\n",
       "      <td>22.1%</td>\n",
       "      <td>60.6%</td>\n",
       "    </tr>\n",
       "  </tbody>\n",
       "</table>\n",
       "</div>"
      ],
      "text/plain": [
       "        data      hora grupo seleção1 seleção2     estádio Vitória Empate  \\\n",
       "0 2022-11-21  07:00:00     A  Senegal  Holanda  AL THUMAMA   28.3%  24.9%   \n",
       "1 2022-11-21  13:00:00     A    Catar  Equador     AL KHOR   32.3%  25.4%   \n",
       "2 2022-11-25  10:00:00     A    Catar  Senegal  AL THUMAMA   17.2%  22.1%   \n",
       "\n",
       "  Derrota  \n",
       "0   46.8%  \n",
       "1   42.3%  \n",
       "2   60.6%  "
      ]
     },
     "execution_count": 41,
     "metadata": {},
     "output_type": "execute_result"
    }
   ],
   "source": [
    "jogos.head(3)"
   ]
  },
  {
   "cell_type": "code",
   "execution_count": 42,
   "id": "83f7bc47",
   "metadata": {},
   "outputs": [],
   "source": [
    "jogos.to_excel('outputFifa.xlsx')"
   ]
  },
  {
   "cell_type": "code",
   "execution_count": null,
   "id": "08b01549",
   "metadata": {},
   "outputs": [],
   "source": [
    "# para criar aplicativos web  usamos o framework streamlit\n",
    "# crie arquivo partidas.py e rode no prompt do dos: streamlit run partidas.py"
   ]
  }
 ],
 "metadata": {
  "kernelspec": {
   "display_name": "Python 3 (ipykernel)",
   "language": "python",
   "name": "python3"
  },
  "language_info": {
   "codemirror_mode": {
    "name": "ipython",
    "version": 3
   },
   "file_extension": ".py",
   "mimetype": "text/x-python",
   "name": "python",
   "nbconvert_exporter": "python",
   "pygments_lexer": "ipython3",
   "version": "3.9.12"
  }
 },
 "nbformat": 4,
 "nbformat_minor": 5
}
