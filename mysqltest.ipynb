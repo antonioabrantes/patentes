{
 "cells": [
  {
   "cell_type": "code",
   "execution_count": 6,
   "id": "5cf01a25",
   "metadata": {},
   "outputs": [
    {
     "name": "stdout",
     "output_type": "stream",
     "text": [
      "Collecting mysql-connector-python\n",
      "  Downloading mysql_connector_python-8.0.31-cp39-cp39-win_amd64.whl (7.9 MB)\n",
      "Requirement already satisfied: protobuf<=3.20.1,>=3.11.0 in d:\\users\\abrantes\\anaconda3\\lib\\site-packages (from mysql-connector-python) (3.19.1)\n",
      "Installing collected packages: mysql-connector-python\n",
      "Successfully installed mysql-connector-python-8.0.31\n"
     ]
    }
   ],
   "source": [
    "# CRUD em Python https://www.youtube.com/watch?v=_q3j25ACmQ4\n",
    "!pip install mysql-connector-python"
   ]
  },
  {
   "cell_type": "code",
   "execution_count": 7,
   "id": "990b563c",
   "metadata": {},
   "outputs": [],
   "source": [
    "import mysql.connector"
   ]
  },
  {
   "cell_type": "code",
   "execution_count": 8,
   "id": "76b9c46c",
   "metadata": {},
   "outputs": [],
   "source": [
    "import pandas as pd"
   ]
  },
  {
   "cell_type": "code",
   "execution_count": 9,
   "id": "10a4a4e1",
   "metadata": {},
   "outputs": [],
   "source": [
    "conexao = mysql.connector.connect(host='localhost',user='root',password='',database='producao')"
   ]
  },
  {
   "cell_type": "code",
   "execution_count": 10,
   "id": "20f6b76e",
   "metadata": {},
   "outputs": [],
   "source": [
    "cursor = conexao.cursor()"
   ]
  },
  {
   "cell_type": "code",
   "execution_count": 11,
   "id": "9d735c42",
   "metadata": {},
   "outputs": [],
   "source": [
    "numero = \"PI0808715\""
   ]
  },
  {
   "cell_type": "code",
   "execution_count": 12,
   "id": "63d31195",
   "metadata": {},
   "outputs": [],
   "source": [
    "comando = f'select * from arquivados where numero=\"{numero}\"'\n",
    "#comando = 'select * from arquivados where numero=\"PI9802730\"'"
   ]
  },
  {
   "cell_type": "code",
   "execution_count": 13,
   "id": "f4b8abfb",
   "metadata": {},
   "outputs": [],
   "source": [
    "cursor.execute(comando)"
   ]
  },
  {
   "cell_type": "code",
   "execution_count": 14,
   "id": "177061f9",
   "metadata": {},
   "outputs": [],
   "source": [
    "resultado = cursor.fetchall()"
   ]
  },
  {
   "cell_type": "code",
   "execution_count": 15,
   "id": "ac353a0f",
   "metadata": {},
   "outputs": [
    {
     "name": "stdout",
     "output_type": "stream",
     "text": [
      "[(1011532, '1.1', 'PI0808715', datetime.date(2011, 8, 9), 'dialp', 0, 0), (1475660, '1.3', 'PI0808715', datetime.date(2014, 8, 12), 'dialp', 0, 0), (1501853, '6.6', 'PI0808715', datetime.date(2014, 9, 16), 'dialp', 0, 0), (2788968, '7.1', 'PI0808715', datetime.date(2017, 4, 18), 'dialp', 0, 1), (2790019, '15.11', 'PI0808715', datetime.date(2017, 4, 18), 'dialp', 0, 0)]\n"
     ]
    }
   ],
   "source": [
    "print(resultado)"
   ]
  },
  {
   "cell_type": "code",
   "execution_count": 16,
   "id": "18b9f648",
   "metadata": {},
   "outputs": [],
   "source": [
    "df = pd.DataFrame(resultado)"
   ]
  },
  {
   "cell_type": "code",
   "execution_count": 17,
   "id": "9493b458",
   "metadata": {},
   "outputs": [
    {
     "name": "stdout",
     "output_type": "stream",
     "text": [
      "         0      1          2           3      4  5  6\n",
      "0  1011532    1.1  PI0808715  2011-08-09  dialp  0  0\n",
      "1  1475660    1.3  PI0808715  2014-08-12  dialp  0  0\n",
      "2  1501853    6.6  PI0808715  2014-09-16  dialp  0  0\n",
      "3  2788968    7.1  PI0808715  2017-04-18  dialp  0  1\n",
      "4  2790019  15.11  PI0808715  2017-04-18  dialp  0  0\n"
     ]
    }
   ],
   "source": [
    "print(df)"
   ]
  },
  {
   "cell_type": "code",
   "execution_count": null,
   "id": "e51eaaf7",
   "metadata": {},
   "outputs": [],
   "source": []
  }
 ],
 "metadata": {
  "kernelspec": {
   "display_name": "Python 3 (ipykernel)",
   "language": "python",
   "name": "python3"
  },
  "language_info": {
   "codemirror_mode": {
    "name": "ipython",
    "version": 3
   },
   "file_extension": ".py",
   "mimetype": "text/x-python",
   "name": "python",
   "nbconvert_exporter": "python",
   "pygments_lexer": "ipython3",
   "version": "3.9.12"
  }
 },
 "nbformat": 4,
 "nbformat_minor": 5
}
