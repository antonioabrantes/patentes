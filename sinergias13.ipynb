{
 "cells": [
  {
   "cell_type": "code",
   "execution_count": 1,
   "id": "cd6bc7b3",
   "metadata": {},
   "outputs": [],
   "source": [
    "key = 'coloque aqui sua senha key'\n",
    "secret = 'coloque aqui sua senha secret'"
   ]
  },
  {
   "cell_type": "code",
   "execution_count": 2,
   "id": "5358a569",
   "metadata": {},
   "outputs": [
    {
     "name": "stdout",
     "output_type": "stream",
     "text": [
      "Collecting python-epo-ops-client\n",
      "  Downloading python_epo_ops_client-4.0.0-py2.py3-none-any.whl (21 kB)\n",
      "Requirement already satisfied: six in c:\\users\\otimi\\anaconda3\\lib\\site-packages (from python-epo-ops-client) (1.16.0)\n",
      "Requirement already satisfied: requests in c:\\users\\otimi\\anaconda3\\lib\\site-packages (from python-epo-ops-client) (2.28.1)\n",
      "Requirement already satisfied: python-dateutil in c:\\users\\otimi\\anaconda3\\lib\\site-packages (from python-epo-ops-client) (2.8.2)\n",
      "Requirement already satisfied: certifi>=2017.4.17 in c:\\users\\otimi\\anaconda3\\lib\\site-packages (from requests->python-epo-ops-client) (2021.10.8)\n",
      "Requirement already satisfied: urllib3<1.27,>=1.21.1 in c:\\users\\otimi\\anaconda3\\lib\\site-packages (from requests->python-epo-ops-client) (1.26.7)\n",
      "Requirement already satisfied: idna<4,>=2.5 in c:\\users\\otimi\\anaconda3\\lib\\site-packages (from requests->python-epo-ops-client) (3.2)\n",
      "Requirement already satisfied: charset-normalizer<3,>=2 in c:\\users\\otimi\\anaconda3\\lib\\site-packages (from requests->python-epo-ops-client) (2.0.4)\n",
      "Installing collected packages: python-epo-ops-client\n",
      "Successfully installed python-epo-ops-client-4.0.0\n"
     ]
    }
   ],
   "source": [
    "# https://pypi.org/project/python-epo-ops-client/\n",
    "# https://github.com/gsong/python-epo-ops-client\n",
    "!pip install python-epo-ops-client"
   ]
  },
  {
   "cell_type": "code",
   "execution_count": 3,
   "id": "36f251bc",
   "metadata": {},
   "outputs": [],
   "source": [
    "import epo_ops\n",
    "import lxml\n",
    "from bs4 import BeautifulSoup as bs\n",
    "import os"
   ]
  },
  {
   "cell_type": "code",
   "execution_count": 6,
   "id": "62e9c71d",
   "metadata": {},
   "outputs": [],
   "source": [
    "def familia(xml):\n",
    "    content = response.text\n",
    "    bs_content = bs(content, \"xml\")\n",
    "    abstract = bs_content.find(\"abstract\")\n",
    "    #print(abstract)\n",
    "    family = bs_content.find_all(\"publication-reference\")\n",
    "    resultado=[]\n",
    "    i=0\n",
    "    for element in family:\n",
    "        if i>0:\n",
    "            #rint(element)\n",
    "            country = element.find(\"country\").text.strip()\n",
    "            doc_number = element.find(\"doc-number\").text.strip()\n",
    "            kind = element.find(\"kind\").text.strip()\n",
    "            #print(f'{country}{doc_number}{kind}')\n",
    "            resultado.append(f'{country}{doc_number}{kind}')\n",
    "\n",
    "        i=i+1\n",
    "    \n",
    "    return resultado"
   ]
  },
  {
   "cell_type": "code",
   "execution_count": 7,
   "id": "7b65035f",
   "metadata": {},
   "outputs": [
    {
     "name": "stdout",
     "output_type": "stream",
     "text": [
      "EP1000000\n",
      "['EP1000000A1', 'EP1000000A1', 'EP1000000B1', 'EP1000000B1', 'AT232441T', 'AT232441T', 'DE69905327D1', 'NL1010536C2', 'NL1010536C2', 'US6093011A', 'US6093011A']\n",
      "EP1000001\n",
      "['EP1000001A1', 'EP1000001A1', 'AR016572A1', 'AR016572A1', 'AU8670998A', 'AU8670998A', 'AU734578B2', 'AU734578B2', 'BR9810842A', 'BR9810842A', 'CA2298626A1', 'CA2298626A1', 'CN1265087A', 'CN1265087A', 'EA200000167A1', 'EA200000167A1', 'EE200000055A', 'EE200000055A', 'HRP980419A2', 'HRP980419A2', 'HU0003293A2', 'HU0003293A2', 'JP2001512091A', 'JP2001512091A', 'KR20010022443A', 'KR20010022443A', 'NO20000355D0', 'NO20000355L', 'NO20000355L', 'NZ503035A', 'NZ503035A', 'PL338455A1', 'PL338455A1', 'SK1022000A3', 'SK1022000A3', 'UA58470C2', 'UA58470C2', 'US6049019A', 'US6049019A', 'US6297410B1', 'US6297410B1', 'WO9906341A1', 'WO9906341A1', 'ZA986885B', 'ZA986885B']\n",
      "EP1000002\n",
      "['EP1000002A1', 'EP1000002A1', 'AR016385A1', 'AR016385A1', 'AU8228998A', 'AU8228998A', 'CN1271337A', 'CN1271337A', 'GB9716136D0', 'JP2001512092A', 'JP2001512092A', 'WO9906342A1', 'WO9906342A1', 'ZA986826B', 'ZA986826B']\n",
      "EP1000003\n",
      "['EP1000003A1', 'EP1000003A1', 'EP1000003B1', 'EP1000003B1', 'AU8863998A', 'AU8863998A', 'AU736737B2', 'AU736737B2', 'BR9811017A', 'BR9811017A', 'BR9811017B1', 'BR9811017B1', 'CA2297146A1', 'CA2297146A1', 'CA2297146C', 'CA2297146C', 'CN1264356A', 'CN1264356A', 'CN1121365C', 'CN1121365C', 'DE69808920D1', 'DE69808920T2', 'DE69808920T2', 'ES2181258T3', 'ES2181258T3', 'ID24612A', 'ID24612A', 'JP2001510816A', 'JP2001510816A', 'JP4204189B2', 'JP4204189B2', 'KR20010022057A', 'KR20010022057A', 'KR100515875B1', 'KR100515875B1', 'MY116258A', 'MY116258A', 'NO20000300D0', 'NO20000300L', 'NO20000300L', 'SA1559B1', 'SA1559B1', 'TR200000173T2', 'TR200000173T2', 'TW476746B', 'TW476746B', 'US6080898A', 'US6080898A', 'WO9905085A1', 'WO9905085A1']\n"
     ]
    }
   ],
   "source": [
    "# http://ops.epo.org/3.2/rest-services/family/publication/docdb/EP1000000\n",
    "\n",
    "filename = 'saida.csv'\n",
    "#if not os.path.exists(filename): \n",
    "saida = open(filename, 'w')\n",
    "saida.write(\"numero,familia\\n\")\n",
    "\n",
    "with open('entrada.txt','r') as file:\n",
    "    for linha in file:\n",
    "        numero = linha.strip()\n",
    "        digitos = numero[2:]\n",
    "        #print(digitos)\n",
    "        country = numero[0:2]\n",
    "        #print(country)\n",
    "        \n",
    "        client = epo_ops.Client(key=key, secret=secret)  # Instantiate client\n",
    "        response = client.family(  # Retrieve bibliography data\n",
    "          reference_type = 'publication',  # publication, application, priority\n",
    "          input = epo_ops.models.Docdb(digitos, country, 'A1'),  # original, docdb, epodoc\n",
    "          endpoint = 'biblio',  # optional, defaults to biblio in case of published_data\n",
    "          constituents = []  # optional, list of constituents\n",
    "        )    \n",
    "        \n",
    "        resposta = familia(response.text)\n",
    "        strresposta = \" \".join(resposta)\n",
    "        saida.write(f'{numero};{strresposta}\\n')\n",
    "        print(numero)\n",
    "        print(resposta)\n",
    "        \n",
    "saida.close()"
   ]
  },
  {
   "cell_type": "code",
   "execution_count": 5,
   "id": "41063320",
   "metadata": {},
   "outputs": [],
   "source": [
    "# Extraindo dados da família\n",
    "# https://github.com/gsong/python-epo-ops-client\n",
    "# family(reference_type, input, endpoint=None, constituents=None)\n",
    "\n",
    "client = epo_ops.Client(key=key, secret=secret)  # Instantiate client\n",
    "response = client.family(  # Retrieve bibliography data\n",
    "  reference_type = 'publication',  # publication, application, priority\n",
    "  input = epo_ops.models.Docdb('1000000', 'EP', 'A1'),  # original, docdb, epodoc\n",
    "  endpoint = 'biblio',  # optional, defaults to biblio in case of published_data\n",
    "  constituents = []  # optional, list of constituents\n",
    ")"
   ]
  },
  {
   "cell_type": "code",
   "execution_count": 7,
   "id": "5f01b44e",
   "metadata": {},
   "outputs": [
    {
     "name": "stdout",
     "output_type": "stream",
     "text": [
      "['EP1000000A1', 'EP1000000A1', 'EP1000000B1', 'EP1000000B1', 'AT232441T', 'AT232441T', 'DE69905327D1', 'NL1010536C2', 'NL1010536C2', 'US6093011A', 'US6093011A']\n"
     ]
    }
   ],
   "source": [
    "content = response.text\n",
    "bs_content = bs(content, \"xml\")\n",
    "abstract = bs_content.find(\"abstract\")\n",
    "#print(abstract)\n",
    "family = bs_content.find_all(\"publication-reference\")\n",
    "#print(family)\n",
    "resultado=[]\n",
    "i=0\n",
    "for element in family:\n",
    "    if i>0:\n",
    "        #rint(element)\n",
    "        country = element.find(\"country\").text.strip()\n",
    "        doc_number = element.find(\"doc-number\").text.strip()\n",
    "        kind = element.find(\"kind\").text.strip()\n",
    "        #print(f'{country}{doc_number}{kind}')\n",
    "        resultado.append(f'{country}{doc_number}{kind}')\n",
    "\n",
    "    i=i+1\n",
    "    \n",
    "print(resultado)  "
   ]
  },
  {
   "cell_type": "code",
   "execution_count": null,
   "id": "27127533",
   "metadata": {},
   "outputs": [],
   "source": []
  }
 ],
 "metadata": {
  "kernelspec": {
   "display_name": "Python 3 (ipykernel)",
   "language": "python",
   "name": "python3"
  },
  "language_info": {
   "codemirror_mode": {
    "name": "ipython",
    "version": 3
   },
   "file_extension": ".py",
   "mimetype": "text/x-python",
   "name": "python",
   "nbconvert_exporter": "python",
   "pygments_lexer": "ipython3",
   "version": "3.9.7"
  }
 },
 "nbformat": 4,
 "nbformat_minor": 5
}
