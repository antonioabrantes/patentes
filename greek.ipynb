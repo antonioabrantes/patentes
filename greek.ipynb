{
 "cells": [
  {
   "cell_type": "code",
   "execution_count": 1,
   "id": "0ec8e81f",
   "metadata": {},
   "outputs": [],
   "source": [
    "import cv2\n",
    "import pytesseract\n",
    "import numpy as np"
   ]
  },
  {
   "cell_type": "code",
   "execution_count": 14,
   "id": "28d37704",
   "metadata": {},
   "outputs": [],
   "source": [
    "img = cv2.imread('Imagens/EwJv4.png')\n",
    "img = cv2.imread('Imagens/ocr-test_4-baruch.png')\n",
    "img = cv2.imread('Imagens/POxy20.png')\n",
    "\n",
    "#img = cv2.imread('ocr_test_greek_and_english.png')\n",
    "gray = cv2.cvtColor(img, cv2.COLOR_BGR2GRAY)\n",
    "blur = cv2.GaussianBlur(gray, (3,3), 0)\n",
    "thresh = cv2.threshold(blur, 0, 255, cv2.THRESH_BINARY_INV + cv2.THRESH_OTSU)[1]\n"
   ]
  },
  {
   "cell_type": "code",
   "execution_count": 15,
   "id": "73f263b0",
   "metadata": {},
   "outputs": [
    {
     "name": "stdout",
     "output_type": "stream",
     "text": [
      "Line (491,543) -- (508,543)\n",
      "Line is 17px long\n"
     ]
    }
   ],
   "source": [
    "# Morph open to remove noise and invert image\n",
    "kernel = cv2.getStructuringElement(cv2.MORPH_RECT, (3,3))\n",
    "opening = cv2.morphologyEx(thresh, cv2.MORPH_OPEN, kernel, iterations=1)\n",
    "invert = 255 - opening\n",
    "\n",
    "# Line detection for the scale line\n",
    "edges = cv2.Canny(gray,50,150,apertureSize = 3)\n",
    "minLineLength = 100\n",
    "maxLineGap = 10\n",
    "lines = cv2.HoughLinesP(edges,1,np.pi/180,100,minLineLength,maxLineGap)\n",
    "x1,y1,x2,y2 = lines[0][0]\n",
    "print('Line (' + str(x1) + ',' + str(y1) + ') -- (' + str(x2) + ',' + str(y2) + ')')\n",
    "# Calculating lenght of scale line in pixels. Since the line is always horizontal we need to just subtract the X coordinates\n",
    "l = abs(x1 - x2)\n",
    "print('Line is ' + str(l) + 'px long')"
   ]
  },
  {
   "cell_type": "code",
   "execution_count": 16,
   "id": "1df7c472",
   "metadata": {},
   "outputs": [
    {
     "name": "stdout",
     "output_type": "stream",
     "text": [
      "OUTPUT: ['NUON', 'τ', 'λωσοαπολυς', '=rtercd', 'igen', '=', 'Feneeny', 'reicow', 'KoGuH', 'τ', 'τωΡΔηγηπ', 'ε;υἓἓἷἴο’', 'Α.ΓΟἹ', 'Ὕ']\n",
      "Number is []\n"
     ]
    }
   ],
   "source": [
    "pytesseract.pytesseract.tesseract_cmd = 'D:/Tesseract-OCR/tesseract.exe'\n",
    "custom_config = r'-l grc+eng --psm 1' # Greek (for mu and nu letters) and English (for m (metre))\n",
    "text = pytesseract.image_to_string(img, config=custom_config)\n",
    "print('OUTPUT:', text.split())\n",
    "number = [int(s) for s in text.split() if s.isdigit()]\n",
    "print('Number is ' + str(number))"
   ]
  },
  {
   "cell_type": "code",
   "execution_count": null,
   "id": "3b29965a",
   "metadata": {},
   "outputs": [],
   "source": []
  }
 ],
 "metadata": {
  "kernelspec": {
   "display_name": "Python 3 (ipykernel)",
   "language": "python",
   "name": "python3"
  },
  "language_info": {
   "codemirror_mode": {
    "name": "ipython",
    "version": 3
   },
   "file_extension": ".py",
   "mimetype": "text/x-python",
   "name": "python",
   "nbconvert_exporter": "python",
   "pygments_lexer": "ipython3",
   "version": "3.9.12"
  }
 },
 "nbformat": 4,
 "nbformat_minor": 5
}
