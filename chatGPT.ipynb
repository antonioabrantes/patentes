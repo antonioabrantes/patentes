{
 "cells": [
  {
   "cell_type": "code",
   "execution_count": 1,
   "id": "e03dce6d",
   "metadata": {},
   "outputs": [],
   "source": [
    "import openai\n",
    "from deep_translator import GoogleTranslator\n",
    "from flask import Flask, make_response, jsonify,request"
   ]
  },
  {
   "cell_type": "code",
   "execution_count": 2,
   "id": "bca389df",
   "metadata": {},
   "outputs": [],
   "source": [
    "#====================================================================\n",
    "# Inseri a chave do open https://platform.openai.com/account/api-keys\n",
    "#====================================================================\n",
    "openai.api_key = 'coloque aqui sua senha do openai' # Logando na aplicação"
   ]
  },
  {
   "cell_type": "code",
   "execution_count": null,
   "id": "2ae468da",
   "metadata": {},
   "outputs": [],
   "source": [
    "# dowlaod do postman\n",
    "# https://www.postman.com/downloads/"
   ]
  },
  {
   "cell_type": "code",
   "execution_count": null,
   "id": "dc5a0d5f",
   "metadata": {},
   "outputs": [
    {
     "name": "stdout",
     "output_type": "stream",
     "text": [
      " * Serving Flask app '__main__'\n",
      " * Debug mode: off\n"
     ]
    },
    {
     "name": "stderr",
     "output_type": "stream",
     "text": [
      "WARNING: This is a development server. Do not use it in a production deployment. Use a production WSGI server instead.\n",
      " * Running on http://127.0.0.1:5000\n",
      "Press CTRL+C to quit\n",
      "127.0.0.1 - - [10/May/2023 21:53:45] \"POST /mensagem HTTP/1.1\" 200 -\n",
      "127.0.0.1 - - [10/May/2023 21:54:21] \"POST /mensagem HTTP/1.1\" 200 -\n"
     ]
    }
   ],
   "source": [
    "#=================================\n",
    "# Função de conexão com API\n",
    "#=================================\n",
    "def openai_response(text):\n",
    "    response = openai.Completion.create(\n",
    "            model='text-davinci-003',\n",
    "            prompt=text,\n",
    "            temperature=0.9,\n",
    "            max_tokens=2049,\n",
    "            top_p=1,\n",
    "            frequency_penalty=0.0,\n",
    "            presence_penalty=0.6,\n",
    "            stop=[' Human:', ' AI:']\n",
    "        )\n",
    "    return traduzir(response['choices'][0]['text'])\n",
    "\n",
    "#=================================\n",
    "# Traduz o texo para inglês\n",
    "#=================================\n",
    "def enviar(pergunta):\n",
    "    ask = GoogleTranslator(source='auto', target='en').translate(text=pergunta)\n",
    "    print(openai_response(ask))\n",
    "#=================================\n",
    "# Traduz o texo para portugues\n",
    "#=================================  \n",
    "def traduzir(texto):\n",
    "    return GoogleTranslator(source='auto', target='pt').translate(text=texto)\n",
    "   \n",
    "app =Flask(__name__)\n",
    "#=================================\n",
    "# Rota da API\n",
    "#=================================\n",
    "@app.route('/mensagem',methods=['POST'])\n",
    "def mensagem():\n",
    "    texto = request.json\n",
    "    return openai_response(texto[\"texto\"])\n",
    "   \n",
    "#=================================\n",
    "# Starta o serviço\n",
    "#=================================  \n",
    "app.run()"
   ]
  },
  {
   "cell_type": "code",
   "execution_count": 5,
   "id": "5596e6e9",
   "metadata": {},
   "outputs": [],
   "source": []
  },
  {
   "cell_type": "code",
   "execution_count": null,
   "id": "c054254c",
   "metadata": {},
   "outputs": [],
   "source": []
  },
  {
   "cell_type": "code",
   "execution_count": null,
   "id": "1b51efb7",
   "metadata": {},
   "outputs": [],
   "source": []
  },
  {
   "cell_type": "code",
   "execution_count": null,
   "id": "a11c0aff",
   "metadata": {},
   "outputs": [],
   "source": []
  },
  {
   "cell_type": "code",
   "execution_count": null,
   "id": "d2eeea43",
   "metadata": {},
   "outputs": [],
   "source": []
  },
  {
   "cell_type": "code",
   "execution_count": null,
   "id": "c5c177b5",
   "metadata": {},
   "outputs": [],
   "source": []
  },
  {
   "cell_type": "code",
   "execution_count": null,
   "id": "12757315",
   "metadata": {},
   "outputs": [],
   "source": []
  },
  {
   "cell_type": "code",
   "execution_count": null,
   "id": "a15d76e5",
   "metadata": {},
   "outputs": [],
   "source": []
  },
  {
   "cell_type": "code",
   "execution_count": null,
   "id": "2faede8e",
   "metadata": {},
   "outputs": [],
   "source": []
  },
  {
   "cell_type": "code",
   "execution_count": null,
   "id": "f75ef0d2",
   "metadata": {},
   "outputs": [],
   "source": []
  },
  {
   "cell_type": "code",
   "execution_count": null,
   "id": "1b4824f8",
   "metadata": {},
   "outputs": [],
   "source": []
  },
  {
   "cell_type": "code",
   "execution_count": 2,
   "id": "806c4a31",
   "metadata": {},
   "outputs": [],
   "source": []
  },
  {
   "cell_type": "code",
   "execution_count": null,
   "id": "3d4eebea",
   "metadata": {},
   "outputs": [],
   "source": []
  }
 ],
 "metadata": {
  "kernelspec": {
   "display_name": "Python 3 (ipykernel)",
   "language": "python",
   "name": "python3"
  },
  "language_info": {
   "codemirror_mode": {
    "name": "ipython",
    "version": 3
   },
   "file_extension": ".py",
   "mimetype": "text/x-python",
   "name": "python",
   "nbconvert_exporter": "python",
   "pygments_lexer": "ipython3",
   "version": "3.8.16"
  }
 },
 "nbformat": 4,
 "nbformat_minor": 5
}
