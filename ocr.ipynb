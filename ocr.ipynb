{
 "cells": [
  {
   "cell_type": "code",
   "execution_count": 1,
   "id": "9b4f6d8e",
   "metadata": {},
   "outputs": [
    {
     "name": "stdout",
     "output_type": "stream",
     "text": [
      "Requirement already satisfied: pytesseract in d:\\users\\abrantes\\anaconda3\\lib\\site-packages (0.3.10)\n",
      "Requirement already satisfied: Pillow>=8.0.0 in d:\\users\\abrantes\\anaconda3\\lib\\site-packages (from pytesseract) (9.0.1)\n",
      "Requirement already satisfied: packaging>=21.3 in d:\\users\\abrantes\\anaconda3\\lib\\site-packages (from pytesseract) (21.3)\n",
      "Requirement already satisfied: pyparsing!=3.0.5,>=2.0.2 in d:\\users\\abrantes\\anaconda3\\lib\\site-packages (from packaging>=21.3->pytesseract) (3.0.9)\n"
     ]
    }
   ],
   "source": [
    "####################\n",
    "# Seção 2: Tesseract\n",
    "####################\n",
    "# google ccolab https://colab.research.google.com/drive/1mS01T2ljMRsh00_gN7OQPdXFdM6urPrj?usp=sharing\n",
    "\n",
    "# instalar tesseract https://github.com/UB-Mannheim/tesseract/wiki\n",
    "!pip install pytesseract"
   ]
  },
  {
   "cell_type": "code",
   "execution_count": 8,
   "id": "ca1f5b0c",
   "metadata": {},
   "outputs": [
    {
     "name": "stdout",
     "output_type": "stream",
     "text": [
      "Collecting opencv-python==4.5.5.64"
     ]
    },
    {
     "name": "stderr",
     "output_type": "stream",
     "text": [
      "WARNING: Ignoring invalid distribution -pencv-python (d:\\users\\abrantes\\anaconda3\\lib\\site-packages)\n",
      "WARNING: Ignoring invalid distribution -pencv-python (d:\\users\\abrantes\\anaconda3\\lib\\site-packages)\n",
      "WARNING: Ignoring invalid distribution -pencv-python (d:\\users\\abrantes\\anaconda3\\lib\\site-packages)\n",
      "    WARNING: Ignoring invalid distribution -pencv-python (d:\\users\\abrantes\\anaconda3\\lib\\site-packages)\n",
      "WARNING: Ignoring invalid distribution -pencv-python (d:\\users\\abrantes\\anaconda3\\lib\\site-packages)\n",
      "WARNING: Ignoring invalid distribution -pencv-python (d:\\users\\abrantes\\anaconda3\\lib\\site-packages)\n",
      "WARNING: Ignoring invalid distribution -pencv-python (d:\\users\\abrantes\\anaconda3\\lib\\site-packages)\n",
      "WARNING: Ignoring invalid distribution -pencv-python (d:\\users\\abrantes\\anaconda3\\lib\\site-packages)\n"
     ]
    },
    {
     "name": "stdout",
     "output_type": "stream",
     "text": [
      "\n",
      "  Using cached opencv_python-4.5.5.64-cp36-abi3-win_amd64.whl (35.4 MB)\n",
      "Requirement already satisfied: numpy>=1.19.3 in d:\\users\\abrantes\\anaconda3\\lib\\site-packages (from opencv-python==4.5.5.64) (1.21.5)\n",
      "Installing collected packages: opencv-python\n",
      "  Attempting uninstall: opencv-python\n",
      "    Found existing installation: opencv-python 4.7.0.72\n",
      "    Uninstalling opencv-python-4.7.0.72:\n",
      "      Successfully uninstalled opencv-python-4.7.0.72\n",
      "Successfully installed opencv-python-4.5.5.64\n"
     ]
    }
   ],
   "source": [
    "!pip3 install opencv-python==4.5.5.64\n",
    "#!pip install opencv-python"
   ]
  },
  {
   "cell_type": "code",
   "execution_count": 54,
   "id": "f5094d81",
   "metadata": {},
   "outputs": [
    {
     "name": "stdout",
     "output_type": "stream",
     "text": [
      "Requirement already satisfied: opencv-python in d:\\users\\abrantes\\anaconda3\\lib\\site-packages (4.5.5.64)\n",
      "Requirement already satisfied: numpy>=1.14.5 in d:\\users\\abrantes\\anaconda3\\lib\\site-packages (from opencv-python) (1.21.5)\n"
     ]
    },
    {
     "name": "stderr",
     "output_type": "stream",
     "text": [
      "WARNING: Ignoring invalid distribution -pencv-python (d:\\users\\abrantes\\anaconda3\\lib\\site-packages)\n",
      "WARNING: Ignoring invalid distribution -pencv-python (d:\\users\\abrantes\\anaconda3\\lib\\site-packages)\n",
      "WARNING: Ignoring invalid distribution -pencv-python (d:\\users\\abrantes\\anaconda3\\lib\\site-packages)\n",
      "WARNING: Ignoring invalid distribution -pencv-python (d:\\users\\abrantes\\anaconda3\\lib\\site-packages)\n",
      "WARNING: Ignoring invalid distribution -pencv-python (d:\\users\\abrantes\\anaconda3\\lib\\site-packages)\n",
      "WARNING: Ignoring invalid distribution -pencv-python (d:\\users\\abrantes\\anaconda3\\lib\\site-packages)\n"
     ]
    }
   ],
   "source": [
    "!pip install opencv-python"
   ]
  },
  {
   "cell_type": "code",
   "execution_count": null,
   "id": "e2372172",
   "metadata": {},
   "outputs": [],
   "source": [
    "!pip uninstall opencv-python"
   ]
  },
  {
   "cell_type": "code",
   "execution_count": 8,
   "id": "abafc1eb",
   "metadata": {},
   "outputs": [
    {
     "name": "stdout",
     "output_type": "stream",
     "text": [
      "4.5.5\n"
     ]
    }
   ],
   "source": [
    "import cv2 as cv\n",
    "print( cv.__version__ )"
   ]
  },
  {
   "cell_type": "code",
   "execution_count": 9,
   "id": "2c5b17e4",
   "metadata": {},
   "outputs": [
    {
     "name": "stdout",
     "output_type": "stream",
     "text": [
      "4.5.5\n"
     ]
    }
   ],
   "source": [
    "import cv2\n",
    "print( cv2.__version__ )"
   ]
  },
  {
   "cell_type": "code",
   "execution_count": 5,
   "id": "c1da4219",
   "metadata": {},
   "outputs": [
    {
     "name": "stdout",
     "output_type": "stream",
     "text": [
      "Package                       Version\n",
      "----------------------------- --------------------\n",
      "absl-py                       1.4.0\n",
      "aiohttp                       3.8.1\n",
      "aiosignal                     1.2.0\n",
      "alabaster                     0.7.12\n",
      "altair                        4.2.0\n",
      "anaconda-client               1.9.0\n",
      "anaconda-navigator            2.1.4\n",
      "anaconda-project              0.10.2\n",
      "anyio                         3.5.0\n",
      "appdirs                       1.4.4\n",
      "argon2-cffi                   21.3.0\n",
      "argon2-cffi-bindings          21.2.0\n",
      "arrow                         1.2.2\n",
      "astroid                       2.6.6\n",
      "astropy                       5.0.4\n",
      "asttokens                     2.0.5\n",
      "astunparse                    1.6.3\n",
      "async-generator               1.10\n",
      "async-timeout                 4.0.1\n",
      "atomicwrites                  1.4.0\n",
      "attrs                         21.4.0\n",
      "Automat                       20.2.0\n",
      "autopep8                      1.6.0\n",
      "Babel                         2.9.1\n",
      "backcall                      0.2.0\n",
      "backports.functools-lru-cache 1.6.4\n",
      "backports.tempfile            1.0\n",
      "backports.weakref             1.0.post1\n",
      "bcrypt                        3.2.0\n",
      "beautifulsoup4                4.11.1\n",
      "binaryornot                   0.4.4\n",
      "bitarray                      2.4.1\n",
      "bkcharts                      0.2\n",
      "black                         19.10b0\n",
      "bleach                        4.1.0\n",
      "blinker                       1.5\n",
      "blis                          0.7.9\n",
      "bokeh                         2.4.2\n",
      "boto3                         1.21.32\n",
      "botocore                      1.24.32\n",
      "Bottleneck                    1.3.4\n",
      "brotlipy                      0.7.0\n",
      "bs4                           0.0.1\n",
      "cachetools                    4.2.2\n",
      "catalogue                     2.0.8\n",
      "cattrs                        22.2.0\n",
      "certifi                       2021.10.8\n",
      "cffi                          1.15.0\n",
      "chardet                       4.0.0\n",
      "charset-normalizer            2.0.4\n",
      "click                         8.0.4\n",
      "cloudpickle                   2.0.0\n",
      "clyent                        1.2.2\n",
      "colorama                      0.4.6\n",
      "colorcet                      2.0.6\n",
      "colorlog                      6.7.0\n",
      "commonmark                    0.9.1\n",
      "comtypes                      1.1.10\n",
      "conda                         4.12.0\n",
      "conda-build                   3.21.8\n",
      "conda-content-trust           0+unknown\n",
      "conda-pack                    0.6.0\n",
      "conda-package-handling        1.8.1\n",
      "conda-repo-cli                1.0.4\n",
      "conda-token                   0.3.0\n"
     ]
    },
    {
     "name": "stderr",
     "output_type": "stream",
     "text": [
      "WARNING: Ignoring invalid distribution -pencv-python (d:\\users\\abrantes\\anaconda3\\lib\\site-packages)\n",
      "WARNING: Ignoring invalid distribution -pencv-python (d:\\users\\abrantes\\anaconda3\\lib\\site-packages)\n",
      "WARNING: Ignoring invalid distribution -pencv-python (d:\\users\\abrantes\\anaconda3\\lib\\site-packages)\n",
      "WARNING: Ignoring invalid distribution -pencv-python (d:\\users\\abrantes\\anaconda3\\lib\\site-packages)\n"
     ]
    },
    {
     "name": "stdout",
     "output_type": "stream",
     "text": [
      "conda-verify                  3.4.2\n",
      "confection                    0.0.4\n",
      "constantly                    15.1.0\n",
      "cookiecutter                  1.7.3\n",
      "cryptography                  3.4.8\n",
      "cssselect                     1.2.0\n",
      "cycler                        0.11.0\n",
      "cymem                         2.0.7\n",
      "Cython                        0.29.28\n",
      "cytoolz                       0.11.0\n",
      "daal4py                       2021.5.0\n",
      "dask                          2022.2.1\n",
      "datashader                    0.13.0\n",
      "datashape                     0.5.4\n",
      "debugpy                       1.5.1\n",
      "decorator                     5.1.1\n",
      "defusedxml                    0.7.1\n",
      "diff-match-patch              20200713\n",
      "distributed                   2022.2.1\n",
      "docutils                      0.17.1\n",
      "entrypoints                   0.4\n",
      "et-xmlfile                    1.1.0\n",
      "exceptiongroup                1.0.0rc9\n",
      "executing                     0.8.3\n",
      "fake-useragent                1.1.1\n",
      "fastjsonschema                2.15.1\n",
      "filelock                      3.6.0\n",
      "flake8                        3.9.2\n",
      "Flask                         1.1.2\n",
      "flatbuffers                   23.1.21\n",
      "fonttools                     4.25.0\n",
      "frozenlist                    1.2.0\n",
      "fsspec                        2022.2.0\n",
      "future                        0.18.2\n",
      "gast                          0.4.0\n",
      "gensim                        4.1.2\n",
      "gitdb                         4.0.9\n",
      "GitPython                     3.1.29\n",
      "glob2                         0.7\n",
      "google-api-core               1.25.1\n",
      "google-auth                   1.33.0\n",
      "google-auth-oauthlib          0.4.6\n",
      "google-cloud-core             1.7.1\n",
      "google-cloud-storage          1.31.0\n",
      "google-crc32c                 1.1.2\n",
      "google-pasta                  0.2.0\n",
      "google-resumable-media        1.3.1\n",
      "googleapis-common-protos      1.53.0\n",
      "greenlet                      1.1.1\n",
      "grpcio                        1.42.0\n",
      "h11                           0.13.0\n",
      "h5py                          3.6.0\n",
      "HeapDict                      1.0.1\n",
      "holoviews                     1.14.8\n",
      "html5lib                      1.1\n",
      "hvplot                        0.7.3\n",
      "hyperlink                     21.0.0\n",
      "idna                          3.3\n",
      "imagecodecs                   2021.8.26\n",
      "imageio                       2.9.0\n",
      "imagesize                     1.3.0\n",
      "importlib-metadata            4.11.3\n",
      "importlib-resources           5.10.2\n",
      "imshow                        0.0.3\n",
      "imutils                       0.5.4\n",
      "incremental                   21.3.0\n",
      "inflection                    0.5.1\n",
      "iniconfig                     1.1.1\n",
      "intake                        0.6.5\n",
      "intervaltree                  3.1.0\n",
      "ipykernel                     6.9.1\n",
      "ipython                       8.2.0\n",
      "ipython-genutils              0.2.0\n",
      "ipywidgets                    7.6.5\n",
      "isort                         5.9.3\n",
      "itemadapter                   0.3.0\n",
      "itemloaders                   1.0.4\n",
      "itsdangerous                  2.0.1\n",
      "jdcal                         1.4.1\n",
      "jedi                          0.18.1\n",
      "Jinja2                        2.11.3\n",
      "jinja2-time                   0.2.0\n",
      "jmespath                      0.10.0\n",
      "joblib                        1.1.0\n",
      "json5                         0.9.6\n",
      "jsonpath-ng                   1.5.3\n",
      "jsonschema                    4.4.0\n",
      "jupyter                       1.0.0\n",
      "jupyter-client                6.1.12\n",
      "jupyter-console               6.4.0\n",
      "jupyter-core                  4.9.2\n",
      "jupyter-server                1.13.5\n",
      "jupyterlab                    3.3.2\n",
      "jupyterlab-pygments           0.1.2\n",
      "jupyterlab-server             2.10.3\n",
      "jupyterlab-widgets            1.0.0\n",
      "keras                         2.11.0\n",
      "keyring                       23.4.0\n",
      "kiwisolver                    1.3.2\n",
      "langcodes                     3.3.0\n",
      "lazy-object-proxy             1.6.0\n",
      "libarchive-c                  2.9\n",
      "libclang                      15.0.6.1\n",
      "llvmlite                      0.38.0\n",
      "locket                        0.2.1\n",
      "lxml                          4.9.1\n",
      "Markdown                      3.3.4\n",
      "MarkupSafe                    2.0.1\n",
      "matplotlib                    3.5.1\n",
      "matplotlib-inline             0.1.2\n",
      "mccabe                        0.6.1\n",
      "menuinst                      1.4.18\n",
      "mistune                       0.8.4\n",
      "mkl-fft                       1.3.1\n",
      "mkl-random                    1.2.2\n",
      "mkl-service                   2.4.0\n",
      "mock                          4.0.3\n",
      "MouseInfo                     0.1.3\n",
      "mpmath                        1.2.1\n",
      "msgpack                       1.0.2\n",
      "multidict                     5.1.0\n",
      "multimethod                   1.8\n",
      "multipledispatch              0.6.0\n",
      "munkres                       1.1.4\n",
      "murmurhash                    1.0.9\n",
      "mypy-extensions               0.4.3\n",
      "mysql-connector-python        8.0.31\n",
      "navigator-updater             0.2.1\n",
      "nbclassic                     0.3.5\n",
      "nbclient                      0.5.13\n",
      "nbconvert                     6.4.4\n",
      "nbformat                      5.3.0\n",
      "nest-asyncio                  1.5.5\n",
      "networkx                      2.7.1\n",
      "ninja                         1.11.1\n",
      "nltk                          3.7\n",
      "nose                          1.3.7\n",
      "notebook                      6.4.8\n",
      "numba                         0.55.1\n",
      "numexpr                       2.8.1\n",
      "numpy                         1.21.5\n",
      "numpydoc                      1.2\n",
      "oauthlib                      3.2.2\n",
      "olefile                       0.46\n",
      "opencv-contrib-python         4.5.5.64\n",
      "opencv-python                 4.5.5.64\n",
      "opencv-python-headless        4.5.5.64\n",
      "openpyxl                      3.0.10\n",
      "opt-einsum                    3.3.0\n",
      "outcome                       1.2.0\n",
      "packaging                     21.3\n",
      "pandas                        1.4.2\n",
      "pandocfilters                 1.5.0\n",
      "panel                         0.13.0\n",
      "param                         1.12.0\n",
      "paramiko                      2.8.1\n",
      "parse                         1.19.0\n",
      "parsel                        1.6.0\n",
      "parso                         0.8.3\n",
      "partd                         1.2.0\n",
      "patent-client                 3.2.2\n",
      "pathspec                      0.7.0\n",
      "pathy                         0.10.1\n",
      "patsy                         0.5.2\n",
      "pep8                          1.7.1\n",
      "pexpect                       4.8.0\n",
      "pickleshare                   0.7.5\n",
      "Pillow                        9.0.1\n",
      "pip                           21.2.4\n",
      "pkginfo                       1.8.2\n",
      "plotly                        5.13.0\n",
      "pluggy                        1.0.0\n",
      "ply                           3.11\n",
      "poyo                          0.5.0\n",
      "preshed                       3.0.8\n",
      "prometheus-client             0.13.1\n",
      "prompt-toolkit                3.0.20\n",
      "Protego                       0.1.16\n",
      "protobuf                      3.19.1\n",
      "psutil                        5.8.0\n",
      "pt-core-news-sm               3.5.0\n",
      "ptyprocess                    0.7.0\n",
      "pure-eval                     0.2.2\n",
      "py                            1.11.0\n",
      "pyarrow                       10.0.0\n",
      "pyasn1                        0.4.8\n",
      "pyasn1-modules                0.2.8\n",
      "PyAutoGUI                     0.9.53\n",
      "pyclipper                     1.3.0.post4\n",
      "pycodestyle                   2.7.0\n",
      "pycosat                       0.6.3\n",
      "pycparser                     2.21\n",
      "pyct                          0.4.6\n",
      "pycurl                        7.44.1\n",
      "pydantic                      1.10.5\n",
      "pydeck                        0.8.0\n",
      "PyDispatcher                  2.0.5\n",
      "pydocstyle                    6.1.1\n",
      "pyee                          8.2.2\n",
      "pyerfa                        2.0.0\n",
      "pyflakes                      2.3.1\n",
      "PyGetWindow                   0.0.9\n",
      "Pygments                      2.11.2\n",
      "PyHamcrest                    2.0.2\n",
      "PyJWT                         2.1.0\n",
      "pylint                        2.9.6\n",
      "pyls-spyder                   0.4.0\n",
      "Pympler                       1.0.1\n",
      "PyMsgBox                      1.0.9\n",
      "PyNaCl                        1.4.0\n",
      "pyodbc                        4.0.32\n",
      "pyOpenSSL                     21.0.0\n",
      "pyparsing                     3.0.9\n",
      "pypatent                      1.2.0\n",
      "PyPDF2                        2.12.1\n",
      "pyperclip                     1.8.2\n",
      "pyppeteer                     1.0.2\n",
      "pyquery                       2.0.0\n",
      "pyreadline                    2.1\n",
      "PyRect                        0.2.0\n",
      "pyrsistent                    0.18.0\n",
      "PyScreeze                     0.1.28\n",
      "PySocks                       1.7.1\n",
      "pytesseract                   0.3.10\n",
      "pytest                        7.1.1\n",
      "python-bidi                   0.4.2\n",
      "python-dateutil               2.8.2\n",
      "python-epo-ops-client         4.0.0\n",
      "python-lsp-black              1.0.0\n",
      "python-lsp-jsonrpc            1.0.0\n",
      "python-lsp-server             1.2.4\n",
      "python-slugify                5.0.2\n",
      "python-snappy                 0.6.0\n",
      "pytweening                    1.0.4\n",
      "pytz                          2021.3\n",
      "pytz-deprecation-shim         0.1.0.post0\n",
      "pyviz-comms                   2.0.2\n",
      "PyWavelets                    1.3.0\n",
      "pywin32                       302\n",
      "pywin32-ctypes                0.2.0\n",
      "pywinpty                      2.0.2\n",
      "PyYAML                        6.0\n",
      "pyzmq                         22.3.0\n",
      "QDarkStyle                    3.0.2\n",
      "qstylizer                     0.1.10\n",
      "QtAwesome                     1.0.3\n",
      "qtconsole                     5.3.0\n",
      "QtPy                          2.0.1\n",
      "queuelib                      1.5.0\n",
      "regex                         2022.3.15\n",
      "requests                      2.28.1\n",
      "requests-cache                0.9.8\n",
      "requests-file                 1.5.1\n",
      "requests-html                 0.10.0\n",
      "requests-oauthlib             1.3.1\n",
      "rich                          12.6.0\n",
      "rope                          0.22.0\n",
      "rsa                           4.7.2\n",
      "Rtree                         0.9.7\n",
      "ruamel-yaml-conda             0.15.100\n",
      "s3transfer                    0.5.0\n",
      "scikit-image                  0.19.2\n",
      "scikit-learn                  1.0.2\n",
      "scikit-learn-intelex          2021.20220215.102710\n",
      "scipy                         1.7.3\n",
      "Scrapy                        2.6.1\n",
      "seaborn                       0.11.2\n",
      "selenium                      4.3.0\n",
      "semver                        2.13.0\n",
      "Send2Trash                    1.8.0\n",
      "service-identity              18.1.0\n",
      "setuptools                    61.2.0\n",
      "shapely                       2.0.1\n",
      "sip                           4.19.13\n",
      "six                           1.16.0\n",
      "smart-open                    6.3.0\n",
      "smmap                         5.0.0\n",
      "sniffio                       1.2.0\n",
      "snowballstemmer               2.2.0\n",
      "sortedcollections             2.1.0\n",
      "sortedcontainers              2.4.0\n",
      "soupsieve                     2.3.1\n",
      "spacy                         3.5.0\n",
      "spacy-legacy                  3.0.12\n",
      "spacy-loggers                 1.0.4\n",
      "Sphinx                        4.4.0\n",
      "sphinx-copybutton             0.5.1\n",
      "sphinxcontrib-applehelp       1.0.2\n",
      "sphinxcontrib-devhelp         1.0.2\n",
      "sphinxcontrib-htmlhelp        2.0.0\n",
      "sphinxcontrib-jsmath          1.0.1\n",
      "sphinxcontrib-qthelp          1.0.3\n",
      "sphinxcontrib-serializinghtml 1.1.5\n",
      "spyder                        5.1.5\n",
      "spyder-kernels                2.1.3\n",
      "SQLAlchemy                    1.4.32\n",
      "srsly                         2.4.6\n",
      "stack-data                    0.2.0\n",
      "statsmodels                   0.13.2\n",
      "streamlit                     1.15.1\n",
      "sympy                         1.10.1\n",
      "tables                        3.6.1\n",
      "tabulate                      0.8.9\n",
      "tangled-up-in-unicode         0.2.0\n",
      "TBB                           0.2\n",
      "tblib                         1.7.0\n",
      "tenacity                      8.0.1\n",
      "tensorboard                   2.11.2\n",
      "tensorboard-data-server       0.6.1\n",
      "tensorboard-plugin-wit        1.8.1\n",
      "tensorflow                    2.11.0\n",
      "tensorflow-estimator          2.11.0\n",
      "tensorflow-intel              2.11.0\n",
      "tensorflow-io-gcs-filesystem  0.30.0\n",
      "termcolor                     2.2.0\n",
      "terminado                     0.13.1\n",
      "testpath                      0.5.0\n",
      "text-unidecode                1.3\n",
      "textdistance                  4.2.1\n",
      "thinc                         8.1.8\n",
      "threadpoolctl                 2.2.0\n",
      "three-merge                   0.1.1\n",
      "tifffile                      2021.7.2\n",
      "tinycss                       0.4\n",
      "tldextract                    3.2.0\n",
      "toml                          0.10.2\n",
      "tomli                         1.2.2\n",
      "toolz                         0.12.0\n",
      "torch                         1.13.1\n",
      "torchvision                   0.14.1\n",
      "tornado                       6.1\n",
      "tqdm                          4.64.0\n",
      "traitlets                     5.1.1\n",
      "trio                          0.21.0\n",
      "trio-websocket                0.9.2\n",
      "Twisted                       22.2.0\n",
      "twisted-iocpsupport           1.0.2\n",
      "typed-ast                     1.4.3\n",
      "typer                         0.7.0\n",
      "typing_extensions             4.5.0\n",
      "tzdata                        2022.6\n",
      "tzlocal                       4.2\n",
      "ujson                         5.7.0\n",
      "Unidecode                     1.2.0\n",
      "url-normalize                 1.4.3\n",
      "urllib3                       1.26.9\n",
      "validators                    0.20.0\n",
      "visions                       0.7.4\n",
      "w3lib                         1.21.0\n",
      "wasabi                        1.1.1\n",
      "watchdog                      2.1.6\n",
      "wcwidth                       0.2.5\n",
      "webencodings                  0.5.1\n",
      "websocket-client              0.58.0\n",
      "websockets                    10.4\n",
      "Werkzeug                      2.0.3\n",
      "wget                          3.2\n",
      "wheel                         0.37.1\n",
      "widgetsnbextension            3.5.2\n",
      "win-inet-pton                 1.1.0\n",
      "win-unicode-console           0.5\n",
      "wincertstore                  0.2\n",
      "wordcloud                     1.8.2.2\n",
      "wrapt                         1.12.1\n",
      "wsproto                       1.1.0\n",
      "xarray                        0.20.1\n",
      "xlrd                          2.0.1\n",
      "XlsxWriter                    3.0.3\n",
      "xlwings                       0.24.9\n",
      "yankee                        0.1.40\n",
      "yapf                          0.31.0\n",
      "yarl                          1.6.3\n",
      "yellowbrick                   1.5\n",
      "zict                          2.0.0\n",
      "zipp                          3.12.0\n",
      "zope.interface                5.4.0\n"
     ]
    }
   ],
   "source": [
    "!pip list\n",
    "\n"
   ]
  },
  {
   "cell_type": "code",
   "execution_count": 4,
   "id": "f72774d1",
   "metadata": {},
   "outputs": [
    {
     "name": "stdout",
     "output_type": "stream",
     "text": [
      "Requirement already satisfied: imshow in d:\\users\\abrantes\\anaconda3\\lib\\site-packages (0.0.3)\n",
      "Requirement already satisfied: numpy in d:\\users\\abrantes\\anaconda3\\lib\\site-packages (from imshow) (1.21.5)\n",
      "Requirement already satisfied: matplotlib in d:\\users\\abrantes\\anaconda3\\lib\\site-packages (from imshow) (3.5.1)\n",
      "Requirement already satisfied: pillow>=6.2.0 in d:\\users\\abrantes\\anaconda3\\lib\\site-packages (from matplotlib->imshow) (9.0.1)\n",
      "Requirement already satisfied: python-dateutil>=2.7 in d:\\users\\abrantes\\anaconda3\\lib\\site-packages (from matplotlib->imshow) (2.8.2)\n",
      "Requirement already satisfied: fonttools>=4.22.0 in d:\\users\\abrantes\\anaconda3\\lib\\site-packages (from matplotlib->imshow) (4.25.0)\n",
      "Requirement already satisfied: cycler>=0.10 in d:\\users\\abrantes\\anaconda3\\lib\\site-packages (from matplotlib->imshow) (0.11.0)\n",
      "Requirement already satisfied: kiwisolver>=1.0.1 in d:\\users\\abrantes\\anaconda3\\lib\\site-packages (from matplotlib->imshow) (1.3.2)\n",
      "Requirement already satisfied: pyparsing>=2.2.1 in d:\\users\\abrantes\\anaconda3\\lib\\site-packages (from matplotlib->imshow) (3.0.9)\n",
      "Requirement already satisfied: packaging>=20.0 in d:\\users\\abrantes\\anaconda3\\lib\\site-packages (from matplotlib->imshow) (21.3)\n",
      "Requirement already satisfied: six>=1.5 in d:\\users\\abrantes\\anaconda3\\lib\\site-packages (from python-dateutil>=2.7->matplotlib->imshow) (1.16.0)\n"
     ]
    },
    {
     "name": "stderr",
     "output_type": "stream",
     "text": [
      "WARNING: Ignoring invalid distribution -pencv-python (d:\\users\\abrantes\\anaconda3\\lib\\site-packages)\n",
      "WARNING: Ignoring invalid distribution -pencv-python (d:\\users\\abrantes\\anaconda3\\lib\\site-packages)\n",
      "WARNING: Ignoring invalid distribution -pencv-python (d:\\users\\abrantes\\anaconda3\\lib\\site-packages)\n",
      "WARNING: Ignoring invalid distribution -pencv-python (d:\\users\\abrantes\\anaconda3\\lib\\site-packages)\n",
      "WARNING: Ignoring invalid distribution -pencv-python (d:\\users\\abrantes\\anaconda3\\lib\\site-packages)\n",
      "WARNING: Ignoring invalid distribution -pencv-python (d:\\users\\abrantes\\anaconda3\\lib\\site-packages)\n"
     ]
    }
   ],
   "source": [
    "!pip install imshow"
   ]
  },
  {
   "cell_type": "code",
   "execution_count": 10,
   "id": "d9961733",
   "metadata": {},
   "outputs": [],
   "source": [
    "import pytesseract\n",
    "import numpy as np\n",
    "#from cv2 import cv2\n",
    "import imshow as cv2_imshow\n",
    "import cv2 as cv\n"
   ]
  },
  {
   "cell_type": "code",
   "execution_count": 11,
   "id": "0d8e848a",
   "metadata": {},
   "outputs": [],
   "source": [
    "img = cv.imread('Imagens/teste01.jpg')\n",
    "cv.imshow('image',img)\n",
    "cv.waitKey(0)\n",
    "cv.destroyAllWindows()"
   ]
  },
  {
   "cell_type": "code",
   "execution_count": 9,
   "id": "132075c0",
   "metadata": {},
   "outputs": [],
   "source": [
    "rgb = cv.cvtColor(img, cv.COLOR_BGR2RGB)\n",
    "cv.imshow('image',rgb)\n",
    "cv.waitKey(0)\n",
    "cv.destroyAllWindows()"
   ]
  },
  {
   "cell_type": "code",
   "execution_count": 10,
   "id": "cbaf420f",
   "metadata": {},
   "outputs": [
    {
     "name": "stdout",
     "output_type": "stream",
     "text": [
      "testando o\n",
      "OCR...\n",
      "\n"
     ]
    }
   ],
   "source": [
    "pytesseract.pytesseract.tesseract_cmd = 'D:/Tesseract-OCR/tesseract.exe'\n",
    "texto = pytesseract.image_to_string(rgb)\n",
    "print(texto)"
   ]
  },
  {
   "cell_type": "code",
   "execution_count": 18,
   "id": "c8aeb3cc",
   "metadata": {},
   "outputs": [],
   "source": [
    "img = cv.imread('imagens/teste02.jpg')\n",
    "cv.imshow('image',img)\n",
    "cv.waitKey(0)\n",
    "cv.destroyAllWindows()"
   ]
  },
  {
   "cell_type": "code",
   "execution_count": 20,
   "id": "3171b7c9",
   "metadata": {},
   "outputs": [],
   "source": [
    "rgb = cv.cvtColor(img, cv.COLOR_BGR2RGB)\n",
    "cv.imshow('image',rgb)\n",
    "cv.waitKey(0)\n",
    "cv.destroyAllWindows()"
   ]
  },
  {
   "cell_type": "code",
   "execution_count": 21,
   "id": "9fc3394c",
   "metadata": {},
   "outputs": [
    {
     "name": "stdout",
     "output_type": "stream",
     "text": [
      "inteligéncia\n",
      "artificial e visao\n",
      "computacional\n",
      "\n"
     ]
    }
   ],
   "source": [
    "texto = pytesseract.image_to_string(rgb)\n",
    "print(texto)"
   ]
  },
  {
   "cell_type": "code",
   "execution_count": 20,
   "id": "97237ea1",
   "metadata": {},
   "outputs": [
    {
     "name": "stderr",
     "output_type": "stream",
     "text": [
      "'tesseract' nÆo ‚ reconhecido como um comando interno\n",
      "ou externo, um programa oper vel ou um arquivo em lotes.\n"
     ]
    }
   ],
   "source": [
    "# na pasta c:\\Programa Files/Tesseract-OCR/tesseract --list-langs\n",
    "# resposta eng osd\n",
    "# tesseract --version resposta: 5.0\n",
    "# idiomas https://github.com/tesseract-ocr/tessdata\n",
    "# copie por.traineddata para a pasta tessdata\n",
    "# na pasta c:\\Programa Files/Tesseract-OCR/tesseract --list-langs\n",
    "# resposta eng osd por"
   ]
  },
  {
   "cell_type": "code",
   "execution_count": 23,
   "id": "5161699c",
   "metadata": {},
   "outputs": [
    {
     "name": "stdout",
     "output_type": "stream",
     "text": [
      "inteligência\n",
      "artificial e visão\n",
      "computacional\n",
      "\n"
     ]
    }
   ],
   "source": [
    "config_tesseract = '--tessdata-dir D:/Tesseract-OCR/tessdata'\n",
    "texto = pytesseract.image_to_string(rgb, lang='por', config=config_tesseract)\n",
    "print(texto)"
   ]
  },
  {
   "cell_type": "code",
   "execution_count": null,
   "id": "a4d9caa4",
   "metadata": {},
   "outputs": [],
   "source": [
    "C:\\Program Files\\Tesseract-OCR>tesseract --help-psm\n",
    "Page segmentation modes:\n",
    "  0    Orientation and script detection (OSD) only.\n",
    "  1    Automatic page segmentation with OSD.\n",
    "  2    Automatic page segmentation, but no OSD, or OCR. (not implemented)\n",
    "  3    Fully automatic page segmentation, but no OSD. (Default)\n",
    "  4    Assume a single column of text of variable sizes.\n",
    "  5    Assume a single uniform block of vertically aligned text.\n",
    "  6    Assume a single uniform block of text.\n",
    "  7    Treat the image as a single text line.\n",
    "  8    Treat the image as a single word.\n",
    "  9    Treat the image as a single word in a circle.\n",
    " 10    Treat the image as a single character.\n",
    " 11    Sparse text. Find as much text as possible in no particular order.\n",
    " 12    Sparse text with OSD.\n",
    " 13    Raw line. Treat the image as a single text line,\n",
    "       bypassing hacks that are Tesseract-specific."
   ]
  },
  {
   "cell_type": "code",
   "execution_count": 24,
   "id": "e80a2bf7",
   "metadata": {},
   "outputs": [],
   "source": [
    "img = cv.imread('imagens/trecho-livro.jpg')\n",
    "rgb = cv.cvtColor(img, cv.COLOR_BGR2RGB)\n",
    "cv.imshow('image',rgb)\n",
    "cv.waitKey(0)\n",
    "cv.destroyAllWindows()"
   ]
  },
  {
   "cell_type": "code",
   "execution_count": 25,
   "id": "53bd3ced",
   "metadata": {},
   "outputs": [
    {
     "name": "stdout",
     "output_type": "stream",
     "text": [
      "A inteligência humana é caracterizada pela capacidade de se\n",
      "adaptar a mudanças. É resultado de gerações de seleção natural\n",
      "Sobre indivíduos com capacidade para lidar com as novas ciruns-\n",
      "tâncias. Não devemos, portanto, temer as transformações. Preci-\n",
      "samos apenas fazer com que elas operem em nosso benefício.\n",
      "\n"
     ]
    }
   ],
   "source": [
    "config_tesseract = '--tessdata-dir D:/Tesseract-OCR/tessdata --psm 6'\n",
    "texto = pytesseract.image_to_string(rgb, lang='por', config=config_tesseract)\n",
    "print(texto)"
   ]
  },
  {
   "cell_type": "code",
   "execution_count": 26,
   "id": "0def7003",
   "metadata": {},
   "outputs": [],
   "source": [
    "img = cv.imread('imagens/saida.jpg')\n",
    "rgb = cv.cvtColor(img, cv.COLOR_BGR2RGB)\n",
    "cv.imshow('image',rgb)\n",
    "cv.waitKey(0)\n",
    "cv.destroyAllWindows()"
   ]
  },
  {
   "cell_type": "code",
   "execution_count": 27,
   "id": "12faf7ad",
   "metadata": {},
   "outputs": [
    {
     "name": "stdout",
     "output_type": "stream",
     "text": [
      "SAÍDA>\n",
      "\n"
     ]
    }
   ],
   "source": [
    "config_tesseract = '--tessdata-dir D:/Tesseract-OCR/tessdata --psm 7'\n",
    "texto = pytesseract.image_to_string(rgb, lang='por', config=config_tesseract)\n",
    "print(texto)"
   ]
  },
  {
   "cell_type": "code",
   "execution_count": 28,
   "id": "1e46c42c",
   "metadata": {},
   "outputs": [],
   "source": [
    "from PIL import Image\n",
    "import matplotlib.pyplot as plt\n",
    "import pytesseract"
   ]
  },
  {
   "cell_type": "code",
   "execution_count": 29,
   "id": "a5c39bb9",
   "metadata": {},
   "outputs": [
    {
     "data": {
      "image/png": "[encoded data removed]",
      "text/plain": [
       "<Figure size 432x288 with 1 Axes>"
      ]
     },
     "metadata": {
      "needs_background": "light"
     },
     "output_type": "display_data"
    }
   ],
   "source": [
    "img = Image.open('imagens/livro01.jpg')\n",
    "plt.imshow(img);\n"
   ]
  },
  {
   "cell_type": "code",
   "execution_count": 30,
   "id": "c1e90609",
   "metadata": {},
   "outputs": [
    {
     "name": "stdout",
     "output_type": "stream",
     "text": [
      "Page number: 0\n",
      "Orientation in degrees: 0\n",
      "Rotate: 0\n",
      "Orientation confidence: 1.77\n",
      "Script: Latin\n",
      "Script confidence: 13.33\n",
      "\n"
     ]
    }
   ],
   "source": [
    "pytesseract.pytesseract.tesseract_cmd = 'D:/Tesseract-OCR/tesseract.exe'\n",
    "print(pytesseract.image_to_osd(img))"
   ]
  },
  {
   "cell_type": "code",
   "execution_count": 21,
   "id": "22fa810d",
   "metadata": {},
   "outputs": [],
   "source": [
    "import cv2 as cv\n",
    "import imshow as cv2_imshow\n",
    "from pytesseract import Output"
   ]
  },
  {
   "cell_type": "code",
   "execution_count": 92,
   "id": "41919cf9",
   "metadata": {},
   "outputs": [],
   "source": [
    "img = cv.imread('Imagens/teste_manuscrito_01.jpg')\n",
    "rgb = cv.cvtColor(img, cv.COLOR_BGR2RGB)\n",
    "cv.imshow('image',rgb)\n",
    "cv.waitKey(0)\n",
    "cv.destroyAllWindows()"
   ]
  },
  {
   "cell_type": "code",
   "execution_count": 33,
   "id": "686a60fd",
   "metadata": {},
   "outputs": [
    {
     "data": {
      "text/plain": [
       "{'level': [1, 2, 3, 4, 5, 4, 5, 5],\n",
       " 'page_num': [1, 1, 1, 1, 1, 1, 1, 1],\n",
       " 'block_num': [0, 1, 1, 1, 1, 1, 1, 1],\n",
       " 'par_num': [0, 0, 1, 1, 1, 1, 1, 1],\n",
       " 'line_num': [0, 0, 0, 1, 1, 2, 2, 2],\n",
       " 'word_num': [0, 0, 0, 0, 1, 0, 1, 2],\n",
       " 'left': [0, 38, 38, 38, 38, 102, 102, 307],\n",
       " 'top': [0, 79, 79, 79, 79, 228, 233, 228],\n",
       " 'width': [700, 607, 607, 607, 607, 532, 77, 327],\n",
       " 'height': [400, 236, 236, 92, 92, 87, 76, 87],\n",
       " 'conf': [-1, -1, -1, -1, 90, -1, 77, 61],\n",
       " 'text': ['', '', '', '', 'TESTANDO', '', 'O', 'OCR...']}"
      ]
     },
     "execution_count": 33,
     "metadata": {},
     "output_type": "execute_result"
    }
   ],
   "source": [
    "config_tesseract = '--tessdata-dir D:/Tesseract-OCR/tessdata'\n",
    "resultado = pytesseract.image_to_data(rgb, config=config_tesseract, lang='por', output_type=Output.DICT)\n",
    "resultado"
   ]
  },
  {
   "cell_type": "code",
   "execution_count": 35,
   "id": "ff741528",
   "metadata": {},
   "outputs": [],
   "source": [
    "min_conf = 40 #@param (type:'slider', min:0, max:100)\n",
    "def caixa_texto(resultado, img, cor=(255,100,0)):\n",
    "    x = resultado['left'][i]\n",
    "    y =resultado['top'][i]\n",
    "    w = resultado['width'][i]\n",
    "    h = resultado['height'][i]\n",
    "    cv.rectangle(img,(x,y), (x+w,y+h), cor, 2) # tamanho da borda = 2\n",
    "    return x,y,img"
   ]
  },
  {
   "cell_type": "code",
   "execution_count": 40,
   "id": "944625d2",
   "metadata": {},
   "outputs": [],
   "source": [
    "#caixa_texto(resultado,rgb)"
   ]
  },
  {
   "cell_type": "code",
   "execution_count": 37,
   "id": "c4f1b3cb",
   "metadata": {},
   "outputs": [],
   "source": [
    "img_copia = rgb.copy()\n",
    "for i in range(0, len(resultado['text'])):\n",
    "    confianca = resultado['conf'][i]\n",
    "    #print(confianca)\n",
    "    if confianca > min_conf:\n",
    "        x,y,img = caixa_texto(resultado,img_copia)\n",
    "        #print(x,y)\n",
    "        texto = resultado['text'][i]\n",
    "        cv.putText(img_copia, texto, (x,y-10), cv.FONT_HERSHEY_SIMPLEX, 1.1, (0,0,255))\n",
    "        \n",
    "cv.imshow('image',img_copia)\n",
    "cv.waitKey(0)\n",
    "cv.destroyAllWindows()"
   ]
  },
  {
   "cell_type": "code",
   "execution_count": 39,
   "id": "2b8dceb5",
   "metadata": {},
   "outputs": [],
   "source": [
    "# https://stackoverflow.com/questions/74940582/pytesseract-wont-read-the-number-in-the-image/75373222#75373222\n",
    "img = cv.imread('Imagens/w7Neo.jpg')\n",
    "img2 = cv.resize(img, (0, 0), fx=2, fy=2)\n",
    "gry = cv.cvtColor(img2, cv.COLOR_BGR2GRAY)\n",
    "cv.imshow('image',gry)\n",
    "cv.waitKey(0)\n",
    "cv.destroyAllWindows()"
   ]
  },
  {
   "cell_type": "code",
   "execution_count": 43,
   "id": "855858b3",
   "metadata": {},
   "outputs": [
    {
     "name": "stdout",
     "output_type": "stream",
     "text": [
      "1\n",
      "\n"
     ]
    }
   ],
   "source": [
    "# https://stackoverflow.com/questions/74940582/pytesseract-wont-read-the-number-in-the-image/75373222#75373222\n",
    "config_tesseract = '--tessdata-dir D:/Tesseract-OCR/tessdata --psm 7'\n",
    "thr = cv.threshold(gry, 0, 255, cv.THRESH_BINARY + cv.THRESH_OTSU)[1]\n",
    "texto = pytesseract.image_to_string(thr, lang='por', config=config_tesseract)\n",
    "print(texto)"
   ]
  },
  {
   "cell_type": "code",
   "execution_count": 44,
   "id": "3fb6262a",
   "metadata": {},
   "outputs": [],
   "source": [
    "img = cv.imread('Imagens/teste02.jpg')\n",
    "rgb = cv.cvtColor(img, cv.COLOR_BGR2RGB)\n",
    "cv.imshow('image',rgb)\n",
    "cv.waitKey(0)\n",
    "cv.destroyAllWindows()"
   ]
  },
  {
   "cell_type": "code",
   "execution_count": 45,
   "id": "e13dc124",
   "metadata": {},
   "outputs": [],
   "source": [
    "config_tesseract = '--tessdata-dir D:/Tesseract-OCR/tessdata'\n",
    "resultado = pytesseract.image_to_data(rgb, config=config_tesseract, lang='por', output_type=Output.DICT)"
   ]
  },
  {
   "cell_type": "code",
   "execution_count": 46,
   "id": "a6a9cbc4",
   "metadata": {},
   "outputs": [],
   "source": [
    "import numpy as np\n",
    "from PIL import ImageFont, ImageDraw, Image\n",
    "fonte = 'content/calibri.ttf'\n",
    "def escreve_texto(texto,x,y, img, fonte, tamanho_texto=32):\n",
    "    fonte = ImageFont.truetype(fonte, tamanho_texto)\n",
    "    img_pil = Image.fromarray(img)\n",
    "    draw = ImageDraw.Draw(img_pil)\n",
    "    img = np.array(img_pil)\n",
    "    return img"
   ]
  },
  {
   "cell_type": "code",
   "execution_count": 47,
   "id": "1fc179ed",
   "metadata": {},
   "outputs": [],
   "source": [
    "img_copia = rgb.copy()\n",
    "for i in range(0, len(resultado['text'])):\n",
    "    confianca = resultado['conf'][i]\n",
    "    #print(confianca)\n",
    "    if confianca > min_conf:\n",
    "        x,y,img = caixa_texto(resultado,img_copia)\n",
    "        #print(x,y)\n",
    "        texto = resultado['text'][i]\n",
    "        cv.putText(img_copia, texto, (x,y-10), cv.FONT_HERSHEY_SIMPLEX, 1.1, (0,0,255))\n",
    "        img_copia = escreve_texto(texto,x,y,img,fonte)\n",
    "        \n",
    "cv.imshow('image',img_copia)\n",
    "cv.waitKey(0)\n",
    "cv.destroyAllWindows()"
   ]
  },
  {
   "cell_type": "code",
   "execution_count": 21,
   "id": "aba1dba7",
   "metadata": {},
   "outputs": [],
   "source": []
  },
  {
   "cell_type": "code",
   "execution_count": 48,
   "id": "fcd1fe04",
   "metadata": {},
   "outputs": [],
   "source": [
    "import numpy as np\n",
    "from PIL import ImageFont, ImageDraw, Image\n",
    "def escreve_texto(texto,x,y, img, fonte, tamanho_texto=32):\n",
    "    fonte = ImageFont.truetype(fonte, tamanho_texto)\n",
    "    img_pil = Image.fromarray(img)\n",
    "    draw = ImageDraw.Draw(img_pil)\n",
    "    draw.text((x,y-tamanho_texto),texto, font=fonte)\n",
    "    img = np.array(img_pil)\n",
    "    return img"
   ]
  },
  {
   "cell_type": "code",
   "execution_count": 49,
   "id": "68bca7b8",
   "metadata": {},
   "outputs": [],
   "source": [
    "img_copia = rgb.copy()\n",
    "for i in range(0, len(resultado['text'])):\n",
    "    confianca = resultado['conf'][i]\n",
    "    #print(confianca)\n",
    "    if confianca > min_conf:\n",
    "        x,y,img = caixa_texto(resultado,img_copia)\n",
    "        #print(x,y)\n",
    "        texto = resultado['text'][i]\n",
    "        #cv2.putText(img_copia, texto, (x,y-10), cv2.FONT_HERSHEY_SIMPLEX, 1.1, (0,0,255))\n",
    "        img_copia = escreve_texto(texto,x,y,img_copia,fonte)\n",
    "cv.imshow('image',img_copia)\n",
    "cv.waitKey(0)\n",
    "cv.destroyAllWindows()"
   ]
  },
  {
   "cell_type": "code",
   "execution_count": 50,
   "id": "fdd42c6d",
   "metadata": {},
   "outputs": [],
   "source": [
    "import re"
   ]
  },
  {
   "cell_type": "code",
   "execution_count": 51,
   "id": "7541634d",
   "metadata": {},
   "outputs": [],
   "source": [
    "img = cv.imread('Imagens/tabela_teste.jpg')\n",
    "rgb = cv.cvtColor(img, cv.COLOR_BGR2RGB)\n",
    "cv.imshow('image',rgb)\n",
    "cv.waitKey(0)\n",
    "cv.destroyAllWindows()"
   ]
  },
  {
   "cell_type": "code",
   "execution_count": 52,
   "id": "3a08da05",
   "metadata": {},
   "outputs": [],
   "source": [
    "config_tesseract = '--tessdata-dir D:/Tesseract-OCR/tessdata'\n",
    "resultado = pytesseract.image_to_data(rgb, config=config_tesseract, lang='por', output_type=Output.DICT)"
   ]
  },
  {
   "cell_type": "code",
   "execution_count": 53,
   "id": "3d7de1a1",
   "metadata": {},
   "outputs": [],
   "source": [
    "# regexr.com\n",
    "# https://hkotsubo.github.io/blog/2019-04-05/posso-usar-regex-para-validar-datas\n",
    "padrao_data='^(0[1-9]|[12][0-9]|3[01])/(0[1-9]|1[012])/(19|20)\\d{2}'"
   ]
  },
  {
   "cell_type": "code",
   "execution_count": 57,
   "id": "0dcbc8d6",
   "metadata": {},
   "outputs": [],
   "source": [
    "datas=[]\n",
    "img_copia = rgb.copy()\n",
    "for i in range(0, len(resultado['text'])):\n",
    "    confianca = resultado['conf'][i]\n",
    "    #print(confianca)\n",
    "    if confianca > min_conf:\n",
    "        texto = resultado['text'][i]\n",
    "        if re.match(padrao_data,texto):\n",
    "            x,y,img = caixa_texto(resultado,img_copia,(0,0,255))\n",
    "            img_copia = escreve_texto(texto,x,y,img_copia,fonte,12)\n",
    "            datas.append(texto)\n",
    "        else:\n",
    "            x,y,img_copia = caixa_texto(resultado,img_copia)\n",
    "            \n",
    "cv.imshow('image',img_copia)\n",
    "cv.waitKey(0)\n",
    "cv.destroyAllWindows()"
   ]
  },
  {
   "cell_type": "code",
   "execution_count": 56,
   "id": "898bd0ad",
   "metadata": {},
   "outputs": [
    {
     "data": {
      "text/plain": [
       "['10/02/2021', '04/02/2021']"
      ]
     },
     "execution_count": 56,
     "metadata": {},
     "output_type": "execute_result"
    }
   ],
   "source": [
    "datas"
   ]
  },
  {
   "cell_type": "code",
   "execution_count": 29,
   "id": "9c376071",
   "metadata": {},
   "outputs": [],
   "source": [
    "img = cv.imread('Imagens/caneca.jpg')\n",
    "rgb = cv.cvtColor(img, cv.COLOR_BGR2RGB)\n",
    "cv.imshow('image',rgb)\n",
    "cv.waitKey(0)\n",
    "cv.destroyAllWindows()"
   ]
  },
  {
   "cell_type": "code",
   "execution_count": 33,
   "id": "ac532b98",
   "metadata": {},
   "outputs": [
    {
     "data": {
      "text/plain": [
       "{'level': [1, 2, 3, 4, 5, 5, 2, 3, 4, 5],\n",
       " 'page_num': [1, 1, 1, 1, 1, 1, 1, 1, 1, 1],\n",
       " 'block_num': [0, 1, 1, 1, 1, 1, 2, 2, 2, 2],\n",
       " 'par_num': [0, 0, 1, 1, 1, 1, 0, 1, 1, 1],\n",
       " 'line_num': [0, 0, 0, 1, 1, 1, 0, 0, 1, 1],\n",
       " 'word_num': [0, 0, 0, 0, 1, 2, 0, 0, 0, 1],\n",
       " 'left': [0, 0, 0, 0, 0, 145, 374, 374, 374, 374],\n",
       " 'top': [0, 0, 0, 0, 25, 0, 316, 316, 316, 316],\n",
       " 'width': [750, 642, 642, 642, 54, 497, 58, 58, 58, 58],\n",
       " 'height': [480, 161, 161, 161, 64, 161, 13, 13, 13, 13],\n",
       " 'conf': [-1, -1, -1, -1, 88, 0, -1, -1, -1, 76],\n",
       " 'text': ['', '', '', '', '\"', 'en', '', '', '', 'BEGIN.']}"
      ]
     },
     "execution_count": 33,
     "metadata": {},
     "output_type": "execute_result"
    }
   ],
   "source": [
    "from pytesseract import Output\n",
    "pytesseract.pytesseract.tesseract_cmd = 'D:/Tesseract-OCR/tesseract.exe'\n",
    "config_tesseract = '--tessdata-dir D:/Tesseract-OCR/tessdata --psm 11'\n",
    "resultado = pytesseract.image_to_data(rgb, config=config_tesseract, lang='por', output_type=Output.DICT)\n",
    "resultado"
   ]
  },
  {
   "cell_type": "code",
   "execution_count": 85,
   "id": "49ce994a",
   "metadata": {},
   "outputs": [],
   "source": [
    "img_copia = rgb.copy()\n",
    "for i in range(0, len(resultado['text'])):\n",
    "    confianca = resultado['conf'][i]\n",
    "    #print(confianca)\n",
    "    if confianca > min_conf:\n",
    "        if not texto.isspace() and len(texto)>0:\n",
    "            x,y,img = caixa_texto(resultado,img_copia)\n",
    "            texto = resultado['text'][i]\n",
    "            img_copia = escreve_texto(texto,x,y,img_copia,fonte)\n",
    "cv.imshow('image',img_copia)\n",
    "cv.waitKey(0)\n",
    "cv.destroyAllWindows()"
   ]
  },
  {
   "cell_type": "code",
   "execution_count": 65,
   "id": "411b4af3",
   "metadata": {},
   "outputs": [
    {
     "data": {
      "text/plain": [
       "[-1, -1, -1, -1, 50, 86, -1, 43]"
      ]
     },
     "execution_count": 65,
     "metadata": {},
     "output_type": "execute_result"
    }
   ],
   "source": [
    "resultado['conf']"
   ]
  },
  {
   "cell_type": "code",
   "execution_count": 66,
   "id": "d26c2212",
   "metadata": {},
   "outputs": [
    {
     "data": {
      "text/plain": [
       "['', '', '', '', 'm', '/', '', 'mo']"
      ]
     },
     "execution_count": 66,
     "metadata": {},
     "output_type": "execute_result"
    }
   ],
   "source": [
    "resultado['text']"
   ]
  },
  {
   "cell_type": "code",
   "execution_count": null,
   "id": "0132c80f",
   "metadata": {},
   "outputs": [],
   "source": [
    "####################\n",
    "# Seção 3: Pré processamento\n",
    "####################\n",
    "# https://colab.research.google.com/drive/1Cc9dsi6Ni_YI8GwkA9N44IzgTIUuorOJ?usp=sharing"
   ]
  },
  {
   "cell_type": "code",
   "execution_count": 1,
   "id": "f9e9dd43",
   "metadata": {},
   "outputs": [],
   "source": [
    "import numpy as np\n",
    "import cv2 as cv\n",
    "import imshow as cv2_imshow"
   ]
  },
  {
   "cell_type": "code",
   "execution_count": 2,
   "id": "fe862628",
   "metadata": {},
   "outputs": [],
   "source": [
    "img = cv.imread('Imagens/img-process.jpg')\n",
    "cv.imshow('image',img)\n",
    "cv.waitKey(0)\n",
    "cv.destroyAllWindows()"
   ]
  },
  {
   "cell_type": "code",
   "execution_count": 3,
   "id": "e59d0d1f",
   "metadata": {},
   "outputs": [],
   "source": [
    "gray = cv.cvtColor(img, cv.COLOR_BGR2GRAY)\n",
    "cv.imshow('image',gray)\n",
    "cv.waitKey(0)\n",
    "cv.destroyAllWindows()\n",
    "# a escala de cinza é colocar em RGB a media de (R+G+B)/3\n",
    "# Limiarização Simples - Thresholding"
   ]
  },
  {
   "cell_type": "code",
   "execution_count": 4,
   "id": "00273245",
   "metadata": {},
   "outputs": [],
   "source": [
    "img = cv.imread('Imagens/trecho-livro.jpg')\n",
    "cv.imshow('image',img)\n",
    "cv.waitKey(0)\n",
    "cv.destroyAllWindows()"
   ]
  },
  {
   "cell_type": "code",
   "execution_count": 5,
   "id": "96c89244",
   "metadata": {},
   "outputs": [],
   "source": [
    "gray = cv.cvtColor(img, cv.COLOR_BGR2GRAY)\n",
    "cv.imshow('image',gray)\n",
    "cv.waitKey(0)\n",
    "cv.destroyAllWindows()"
   ]
  },
  {
   "cell_type": "code",
   "execution_count": 8,
   "id": "5d561536",
   "metadata": {},
   "outputs": [],
   "source": [
    "val, thresh = cv.threshold(gray, 127, 255, cv.THRESH_BINARY) # se < 127 sera zerado,\n",
    "cv.imshow('image',thresh)\n",
    "cv.waitKey(0)\n",
    "cv.destroyAllWindows()"
   ]
  },
  {
   "cell_type": "code",
   "execution_count": 9,
   "id": "a746d547",
   "metadata": {},
   "outputs": [
    {
     "data": {
      "text/plain": [
       "127.0"
      ]
     },
     "execution_count": 9,
     "metadata": {},
     "output_type": "execute_result"
    }
   ],
   "source": [
    "val"
   ]
  },
  {
   "cell_type": "code",
   "execution_count": 10,
   "id": "365d6db0",
   "metadata": {},
   "outputs": [],
   "source": [
    "val, thresh = cv.threshold(gray, 180, 255, cv.THRESH_BINARY) # se < 127 sera zerado,\n",
    "cv.imshow('image',thresh)\n",
    "cv.waitKey(0)\n",
    "cv.destroyAllWindows()"
   ]
  },
  {
   "cell_type": "code",
   "execution_count": 11,
   "id": "557e8b71",
   "metadata": {},
   "outputs": [],
   "source": [
    "val, thresh = cv.threshold(gray, 140, 255, cv.THRESH_BINARY) # se < 127 sera zerado,\n",
    "cv.imshow('image',thresh)\n",
    "cv.waitKey(0)\n",
    "cv.destroyAllWindows()"
   ]
  },
  {
   "cell_type": "code",
   "execution_count": 13,
   "id": "e3e49d37",
   "metadata": {},
   "outputs": [
    {
     "name": "stdout",
     "output_type": "stream",
     "text": [
      "138.0\n"
     ]
    }
   ],
   "source": [
    "# Método de OTSU\n",
    "val, otsu = cv.threshold(gray, 0, 255, cv.THRESH_OTSU) # \n",
    "cv.imshow('image',otsu)\n",
    "cv.waitKey(0)\n",
    "cv.destroyAllWindows()\n",
    "print(val)"
   ]
  },
  {
   "cell_type": "code",
   "execution_count": 15,
   "id": "785304b3",
   "metadata": {},
   "outputs": [
    {
     "name": "stdout",
     "output_type": "stream",
     "text": [
      "138.0\n"
     ]
    }
   ],
   "source": [
    "img = cv.imread('Imagens/receita01.jpg')\n",
    "gray = cv.cvtColor(img, cv.COLOR_BGR2GRAY)\n",
    "val, otsu = cv.threshold(gray, 138, 255, cv.THRESH_BINARY) # \n",
    "cv.imshow('image',otsu)\n",
    "cv.waitKey(0)\n",
    "cv.destroyAllWindows()\n",
    "print(val)"
   ]
  },
  {
   "cell_type": "code",
   "execution_count": 16,
   "id": "3bef1171",
   "metadata": {},
   "outputs": [
    {
     "name": "stdout",
     "output_type": "stream",
     "text": [
      "119.0\n"
     ]
    }
   ],
   "source": [
    "img = cv.imread('Imagens/receita01.jpg')\n",
    "gray = cv.cvtColor(img, cv.COLOR_BGR2GRAY)\n",
    "val, otsu = cv.threshold(gray, 0, 255, cv.THRESH_BINARY | cv.THRESH_OTSU) # \n",
    "cv.imshow('image',otsu)\n",
    "cv.waitKey(0)\n",
    "cv.destroyAllWindows()\n",
    "print(val)"
   ]
  },
  {
   "cell_type": "code",
   "execution_count": 18,
   "id": "e8c4106b",
   "metadata": {},
   "outputs": [
    {
     "name": "stdout",
     "output_type": "stream",
     "text": [
      "147.0\n"
     ]
    }
   ],
   "source": [
    "# Limiarização adaptativa, uma mesma imagem tem areas claras e escuras que exigem doois limiares\n",
    "img = cv.imread('Imagens/livro02.jpg')\n",
    "gray = cv.cvtColor(img, cv.COLOR_BGR2GRAY)\n",
    "val, otsu = cv.threshold(gray, 0, 255, cv.THRESH_BINARY | cv.THRESH_OTSU) # \n",
    "cv.imshow('image',otsu)\n",
    "cv.waitKey(0)\n",
    "cv.destroyAllWindows()\n",
    "print(val)"
   ]
  },
  {
   "cell_type": "code",
   "execution_count": 21,
   "id": "559fb83c",
   "metadata": {},
   "outputs": [
    {
     "name": "stdout",
     "output_type": "stream",
     "text": [
      "147.0\n"
     ]
    }
   ],
   "source": [
    "adapt_media = cv.adaptiveThreshold(gray, 255, cv.ADAPTIVE_THRESH_MEAN_C, cv.THRESH_BINARY, 11, 9) # 11 pixels para calcular threshold\n",
    "cv.imshow('image',adapt_media)\n",
    "cv.waitKey(0)\n",
    "cv.destroyAllWindows()\n",
    "print(val)"
   ]
  },
  {
   "cell_type": "code",
   "execution_count": 27,
   "id": "a1e3fb73",
   "metadata": {},
   "outputs": [
    {
     "name": "stdout",
     "output_type": "stream",
     "text": [
      "175.0\n"
     ]
    }
   ],
   "source": [
    "# Limiarização adaptativa gaussiana\n",
    "img = cv.imread('Imagens/livro_adaptativa.jpg')\n",
    "gray = cv.cvtColor(img, cv.COLOR_BGR2GRAY)\n",
    "adapt_media_gauss = cv.adaptiveThreshold(gray, 255, cv.ADAPTIVE_THRESH_GAUSSIAN_C, cv.THRESH_BINARY, 11, 9) \n",
    "adapt_media = cv.adaptiveThreshold(gray, 255, cv.ADAPTIVE_THRESH_MEAN_C, cv.THRESH_BINARY, 11, 9) # 11 pixels para calcular threshold\n",
    "cv.imshow('image',adapt_media_gauss)\n",
    "cv.waitKey(0)\n",
    "cv.destroyAllWindows()\n",
    "print(val)"
   ]
  },
  {
   "cell_type": "code",
   "execution_count": 33,
   "id": "e5f830d3",
   "metadata": {},
   "outputs": [
    {
     "name": "stdout",
     "output_type": "stream",
     "text": [
      "175.0\n"
     ]
    }
   ],
   "source": [
    "# Inversão de cores ideal em imagens com textos brancos e fundo preto\n",
    "img = cv.imread('Imagens/img-process.jpg')\n",
    "gray = cv.cvtColor(img, cv.COLOR_BGR2GRAY)\n",
    "adapt_media_gauss = cv.adaptiveThreshold(gray, 255, cv.ADAPTIVE_THRESH_GAUSSIAN_C, cv.THRESH_BINARY, 11, 9) \n",
    "adapt_media = cv.adaptiveThreshold(gray, 255, cv.ADAPTIVE_THRESH_MEAN_C, cv.THRESH_BINARY, 11, 9) # 11 pixels para calcular threshold\n",
    "cv.imshow('image',adapt_media_gauss)\n",
    "cv.waitKey(0)\n",
    "cv.destroyAllWindows()\n",
    "print(val)"
   ]
  },
  {
   "cell_type": "code",
   "execution_count": 30,
   "id": "1d42c733",
   "metadata": {},
   "outputs": [
    {
     "data": {
      "text/plain": [
       "array([[ 68,  70,  72, ...,  76,  74,  74],\n",
       "       [ 68,  70,  73, ...,  75,  74,  77],\n",
       "       [ 70,  70,  72, ...,  74,  73,  76],\n",
       "       ...,\n",
       "       [ 67,  69,  82, ..., 123, 123, 124],\n",
       "       [ 70,  76,  92, ..., 124, 124, 125],\n",
       "       [ 70,  70,  80, ..., 123, 122, 123]], dtype=uint8)"
      ]
     },
     "execution_count": 30,
     "metadata": {},
     "output_type": "execute_result"
    }
   ],
   "source": [
    "gray"
   ]
  },
  {
   "cell_type": "code",
   "execution_count": 34,
   "id": "27bf7284",
   "metadata": {},
   "outputs": [
    {
     "name": "stdout",
     "output_type": "stream",
     "text": [
      "175.0\n"
     ]
    }
   ],
   "source": [
    "invert = 255 - gray\n",
    "cv.imshow('image',invert)\n",
    "cv.waitKey(0)\n",
    "cv.destroyAllWindows()\n",
    "print(val)"
   ]
  },
  {
   "cell_type": "code",
   "execution_count": 2,
   "id": "36ba0a94",
   "metadata": {},
   "outputs": [],
   "source": [
    "# Redimensionamento da imagem\n",
    "import numpy as np\n",
    "import cv2 as cv\n",
    "import imshow as cv2_imshow\n",
    "img = cv.imread('Imagens/img-process.jpg')\n",
    "gray = cv.cvtColor(img, cv.COLOR_BGR2GRAY)\n",
    "cv.imshow('image',gray)\n",
    "cv.waitKey(0)\n",
    "cv.destroyAllWindows()"
   ]
  },
  {
   "cell_type": "code",
   "execution_count": 3,
   "id": "0eb5329b",
   "metadata": {},
   "outputs": [],
   "source": [
    "maior = cv.resize(gray,None,fx=1.5,fy=1.5,interpolation=cv.INTER_CUBIC) # testar INTER_NEAREST, INTER_LINEAR, INTER_AREA, INTER_CUBIC, INTER_LANCZOS4\n",
    "cv.imshow('image',maior)\n",
    "cv.waitKey(0)\n",
    "cv.destroyAllWindows()"
   ]
  },
  {
   "cell_type": "code",
   "execution_count": 4,
   "id": "a27f384c",
   "metadata": {},
   "outputs": [],
   "source": [
    "menor = cv.resize(gray,None,fx=0.5,fy=0.5,interpolation=cv.INTER_AREA) # testar INTER_NEAREST, INTER_LINEAR, INTER_AREA, INTER_CUBIC, INTER_LANCZOS4\n",
    "cv.imshow('image',menor)\n",
    "cv.waitKey(0)\n",
    "cv.destroyAllWindows()"
   ]
  },
  {
   "cell_type": "code",
   "execution_count": 8,
   "id": "9fbb176a",
   "metadata": {},
   "outputs": [],
   "source": [
    "# Operações morfológicas\n",
    "# Erosao : eliminar ruido disperso na imagem\n",
    "img = cv.imread('Imagens/texto-opencv.jpg')\n",
    "gray = cv.cvtColor(img, cv.COLOR_BGR2GRAY)\n",
    "cv.imshow('image',gray)\n",
    "cv.waitKey(0)\n",
    "cv.destroyAllWindows()"
   ]
  },
  {
   "cell_type": "code",
   "execution_count": 9,
   "id": "c7f33214",
   "metadata": {},
   "outputs": [],
   "source": [
    "erosao = cv.erode(gray, np.ones((3,3),np.uint8))\n",
    "cv.imshow('image',erosao)\n",
    "cv.waitKey(0)\n",
    "cv.destroyAllWindows()"
   ]
  },
  {
   "cell_type": "code",
   "execution_count": 10,
   "id": "100d3e8e",
   "metadata": {},
   "outputs": [],
   "source": [
    "#dilatação - o ruído interno some\n",
    "dilatacao = cv.dilate(gray, np.ones((3,3),np.uint8))\n",
    "cv.imshow('image',dilatacao)\n",
    "cv.waitKey(0)\n",
    "cv.destroyAllWindows()"
   ]
  },
  {
   "cell_type": "code",
   "execution_count": 12,
   "id": "b8c6d166",
   "metadata": {},
   "outputs": [],
   "source": [
    "# abertura : erosao seguida de dilatação\n",
    "erosao = cv.erode(gray, np.ones((5,5),np.uint8))\n",
    "dilatacao = cv.dilate(erosao, np.ones((5,5),np.uint8))\n",
    "cv.imshow('image',dilatacao)\n",
    "cv.waitKey(0)\n",
    "cv.destroyAllWindows()"
   ]
  },
  {
   "cell_type": "code",
   "execution_count": 14,
   "id": "acec25b0",
   "metadata": {},
   "outputs": [],
   "source": [
    "# fechamento : dilatação seguida de erosão\n",
    "img = cv.imread('Imagens/texto-opencv2.jpg')\n",
    "gray = cv.cvtColor(img, cv.COLOR_BGR2GRAY)\n",
    "dilatacao = cv.dilate(gray, np.ones((5,5),np.uint8))\n",
    "erosao = cv.erode(dilatacao, np.ones((5,5),np.uint8))\n",
    "cv.imshow('image',erosao)\n",
    "cv.waitKey(0)\n",
    "cv.destroyAllWindows()"
   ]
  },
  {
   "cell_type": "code",
   "execution_count": 17,
   "id": "da2d81ab",
   "metadata": {},
   "outputs": [],
   "source": [
    "# Remoção de ruído; desfoque da imagem (blur)\n",
    "# Desfoque com média\n",
    "img = cv.imread('Imagens/teste_ruido.jpg')\n",
    "gray = cv.cvtColor(img, cv.COLOR_BGR2GRAY)\n",
    "cv.imshow('image',gray)\n",
    "cv.waitKey(0)\n",
    "cv.destroyAllWindows()"
   ]
  },
  {
   "cell_type": "code",
   "execution_count": 21,
   "id": "684f6934",
   "metadata": {},
   "outputs": [],
   "source": [
    "#desfoque gaussiano\n",
    "desfoque_gaussiano = cv.GaussianBlur(gray,(5,5),0)\n",
    "cv.imshow('image',desfoque_gaussiano)\n",
    "cv.waitKey(0)\n",
    "cv.destroyAllWindows()"
   ]
  },
  {
   "cell_type": "code",
   "execution_count": 22,
   "id": "3e8b532e",
   "metadata": {},
   "outputs": [],
   "source": [
    "#desfoque mediana : bom para textos\n",
    "desfoque_mediana = cv.medianBlur(gray,3)\n",
    "cv.imshow('image',desfoque_mediana)\n",
    "cv.waitKey(0)\n",
    "cv.destroyAllWindows()"
   ]
  },
  {
   "cell_type": "code",
   "execution_count": 24,
   "id": "79f42aa9",
   "metadata": {},
   "outputs": [],
   "source": [
    "#filtro bilateral : bom para textos\n",
    "desfoque_bilateral = cv.bilateralFilter(gray,15,55,45)\n",
    "cv.imshow('image',desfoque_bilateral)\n",
    "cv.waitKey(0)\n",
    "cv.destroyAllWindows()"
   ]
  },
  {
   "cell_type": "code",
   "execution_count": 25,
   "id": "d4137328",
   "metadata": {},
   "outputs": [],
   "source": [
    "# Detecção dos textos\n",
    "import pytesseract"
   ]
  },
  {
   "cell_type": "code",
   "execution_count": 27,
   "id": "983da7c2",
   "metadata": {},
   "outputs": [],
   "source": [
    "img = cv.imread('Imagens/livro02.jpg')\n",
    "gray = cv.cvtColor(img, cv.COLOR_BGR2GRAY)\n",
    "val, otsu = cv.threshold(gray, 0, 255, cv.THRESH_BINARY | cv.THRESH_OTSU) # \n",
    "cv.imshow('image',otsu)\n",
    "cv.waitKey(0)\n",
    "cv.destroyAllWindows()"
   ]
  },
  {
   "cell_type": "code",
   "execution_count": 35,
   "id": "6fe1346b",
   "metadata": {},
   "outputs": [
    {
     "name": "stdout",
     "output_type": "stream",
     "text": [
      "é caracterizada pela capacidade de se\n",
      "É resultado de gerações de seleção natural\n",
      "capacidade para lidar com as novas circuns-\n",
      "\n",
      "portanto, temer as transformações. Preci-\n",
      "\n",
      ".com que elas apercm em nosso benefício.\n",
      "\n"
     ]
    }
   ],
   "source": [
    "pytesseract.pytesseract.tesseract_cmd = 'D:/Tesseract-OCR/tesseract.exe'\n",
    "config_tesseract = '--tessdata-dir D:/Tesseract-OCR/tessdata'\n",
    "texto = pytesseract.image_to_string(otsu, lang='por', config=config_tesseract)\n",
    "print(texto)"
   ]
  },
  {
   "cell_type": "code",
   "execution_count": 37,
   "id": "559b6c3c",
   "metadata": {},
   "outputs": [
    {
     "name": "stdout",
     "output_type": "stream",
     "text": [
      "processamento\n",
      "de imagem\n",
      "\n"
     ]
    }
   ],
   "source": [
    "img = cv.imread('Imagens/img-process.jpg')\n",
    "gray = cv.cvtColor(img, cv.COLOR_BGR2GRAY)\n",
    "val, thresh = cv.threshold(gray, 180, 255, cv.THRESH_BINARY)\n",
    "config_tesseract = '--tessdata-dir D:/Tesseract-OCR/tessdata'\n",
    "texto = pytesseract.image_to_string(thresh, lang='por', config=config_tesseract)\n",
    "print(texto)"
   ]
  },
  {
   "cell_type": "code",
   "execution_count": 32,
   "id": "6027b88e",
   "metadata": {},
   "outputs": [],
   "source": [
    "# Exercício de pré processamento\n",
    "import pytesseract\n",
    "import numpy as np\n",
    "import imshow as cv2_imshow\n",
    "import cv2 as cv\n",
    "\n",
    "img = cv.imread('Imagens/frase.jpg')\n",
    "gray = cv.cvtColor(img, cv.COLOR_BGR2GRAY)\n",
    "cv.imshow('image',gray)\n",
    "cv.waitKey(0)\n",
    "cv.destroyAllWindows()"
   ]
  },
  {
   "cell_type": "code",
   "execution_count": 33,
   "id": "ee48c197",
   "metadata": {},
   "outputs": [],
   "source": [
    "val, thresh = cv.threshold(gray, 180, 255, cv.THRESH_BINARY)\n",
    "cv.imshow('image',thresh)\n",
    "cv.waitKey(0)\n",
    "cv.destroyAllWindows()"
   ]
  },
  {
   "cell_type": "code",
   "execution_count": 34,
   "id": "4f31bf9f",
   "metadata": {},
   "outputs": [],
   "source": [
    "invert = 255 - thresh\n",
    "cv.imshow('image',invert)\n",
    "cv.waitKey(0)\n",
    "cv.destroyAllWindows()"
   ]
  },
  {
   "cell_type": "code",
   "execution_count": 35,
   "id": "57ddecba",
   "metadata": {},
   "outputs": [
    {
     "name": "stdout",
     "output_type": "stream",
     "text": [
      "O SUCESSO É A SOMA\n",
      "DE PEQUENOS ESFORÇOS\n",
      "REPETIDOS DIA APÓS DIA.\n",
      "\n",
      "Robert Collier\n",
      "\n"
     ]
    }
   ],
   "source": [
    "config_tesseract = '--tessdata-dir D:/Tesseract-OCR/tessdata'\n",
    "pytesseract.pytesseract.tesseract_cmd = 'D:/Tesseract-OCR/tesseract.exe'\n",
    "print(pytesseract.image_to_string(thresh, lang='por', config=config_tesseract))"
   ]
  },
  {
   "cell_type": "code",
   "execution_count": null,
   "id": "68b80bef",
   "metadata": {},
   "outputs": [],
   "source": [
    "####################\n",
    "# Seção 4: OCR com EAST\n",
    "####################\n",
    "# google ccolab https://colab.research.google.com/drive/1X4kCWsWPa07WnMKuRE1gMBaCttWad28V?usp=sharing\n",
    "\n",
    "# para fotos em ambienes naturais o teseract pode nao funcionar bem. o EAST pode resolver, ele detecta textos mas não faz o OCR\n"
   ]
  },
  {
   "cell_type": "code",
   "execution_count": 46,
   "id": "4478ac94",
   "metadata": {},
   "outputs": [
    {
     "name": "stdout",
     "output_type": "stream",
     "text": [
      "Collecting imutils"
     ]
    },
    {
     "name": "stderr",
     "output_type": "stream",
     "text": [
      "WARNING: Ignoring invalid distribution -pencv-python (d:\\users\\abrantes\\anaconda3\\lib\\site-packages)\n",
      "WARNING: Ignoring invalid distribution -pencv-python (d:\\users\\abrantes\\anaconda3\\lib\\site-packages)\n",
      "WARNING: Ignoring invalid distribution -pencv-python (d:\\users\\abrantes\\anaconda3\\lib\\site-packages)\n",
      "WARNING: Ignoring invalid distribution -pencv-python (d:\\users\\abrantes\\anaconda3\\lib\\site-packages)\n",
      "WARNING: Ignoring invalid distribution -pencv-python (d:\\users\\abrantes\\anaconda3\\lib\\site-packages)\n",
      "WARNING: Ignoring invalid distribution -pencv-python (d:\\users\\abrantes\\anaconda3\\lib\\site-packages)\n",
      "WARNING: Ignoring invalid distribution -pencv-python (d:\\users\\abrantes\\anaconda3\\lib\\site-packages)\n"
     ]
    },
    {
     "name": "stdout",
     "output_type": "stream",
     "text": [
      "\n",
      "  Downloading imutils-0.5.4.tar.gz (17 kB)\n",
      "Building wheels for collected packages: imutils\n",
      "  Building wheel for imutils (setup.py): started\n",
      "  Building wheel for imutils (setup.py): finished with status 'done'\n",
      "  Created wheel for imutils: filename=imutils-0.5.4-py3-none-any.whl size=25872 sha256=22a6e79f55d2128a77a7120ab00dc239f63752473d575c1bc6ef660deeac662e\n",
      "  Stored in directory: d:\\users\\abrantes\\appdata\\local\\pip\\cache\\wheels\\4b\\a5\\2d\\4a070a801d3a3d93f033d3ee9728f470f514826e89952df3ea\n",
      "Successfully built imutils\n",
      "Installing collected packages: imutils\n",
      "Successfully installed imutils-0.5.4\n"
     ]
    }
   ],
   "source": [
    "!pip install imutils"
   ]
  },
  {
   "cell_type": "code",
   "execution_count": 12,
   "id": "98136f2f",
   "metadata": {},
   "outputs": [],
   "source": [
    "import cv2 as cv\n",
    "import numpy as np\n",
    "import imshow as cv2_imshow\n",
    "from imutils.object_detection import non_max_suppression\n",
    "import pytesseract\n"
   ]
  },
  {
   "cell_type": "code",
   "execution_count": 27,
   "id": "0470165f",
   "metadata": {},
   "outputs": [],
   "source": [
    "detector = 'D:/Users/abrantes/Modelos/frozen_east_text_detection.pb'\n",
    "largura, altura = 320, 320\n",
    "imagem = 'Imagens/caneca.jpg'\n",
    "min_confianca = 0.9"
   ]
  },
  {
   "cell_type": "code",
   "execution_count": 20,
   "id": "7d07d38a",
   "metadata": {},
   "outputs": [],
   "source": [
    "img = cv.imread('Imagens/caneca.jpg')\n",
    "cv.imshow('image',img)\n",
    "cv.waitKey(0)\n",
    "cv.destroyAllWindows()"
   ]
  },
  {
   "cell_type": "code",
   "execution_count": 16,
   "id": "5997c691",
   "metadata": {},
   "outputs": [
    {
     "name": "stdout",
     "output_type": "stream",
     "text": [
      "480 750\n"
     ]
    }
   ],
   "source": [
    "original = img.copy()\n",
    "img.shape\n",
    "H = img.shape[0]\n",
    "W = img.shape[1]\n",
    "print(H,W)"
   ]
  },
  {
   "cell_type": "code",
   "execution_count": 18,
   "id": "a0a6209f",
   "metadata": {},
   "outputs": [
    {
     "name": "stdout",
     "output_type": "stream",
     "text": [
      "2.34375 1.5\n"
     ]
    }
   ],
   "source": [
    "proporcao_W = W / float(largura)\n",
    "proporcao_H = H / float(altura)\n",
    "print(proporcao_W, proporcao_H)"
   ]
  },
  {
   "cell_type": "code",
   "execution_count": 22,
   "id": "3738e402",
   "metadata": {},
   "outputs": [
    {
     "name": "stdout",
     "output_type": "stream",
     "text": [
      "320 320\n"
     ]
    }
   ],
   "source": [
    "img = cv.resize(img,(largura,altura))\n",
    "H = img.shape[0]\n",
    "W = img.shape[1]\n",
    "print(H,W)"
   ]
  },
  {
   "cell_type": "code",
   "execution_count": 23,
   "id": "6411589f",
   "metadata": {},
   "outputs": [],
   "source": [
    "cv.imshow('image',img)\n",
    "cv.waitKey(0)\n",
    "cv.destroyAllWindows()"
   ]
  },
  {
   "cell_type": "code",
   "execution_count": 28,
   "id": "ed4796e4",
   "metadata": {},
   "outputs": [],
   "source": [
    "nome_camadas = ['feature_fusion/Conv_7/Sigmoid','feature_fusion/concat_3']\n",
    "rede_neural = cv.dnn.readNet(detector)"
   ]
  },
  {
   "cell_type": "code",
   "execution_count": 31,
   "id": "6fea245f",
   "metadata": {},
   "outputs": [
    {
     "data": {
      "text/plain": [
       "(1, 3, 320, 320)"
      ]
     },
     "execution_count": 31,
     "metadata": {},
     "output_type": "execute_result"
    }
   ],
   "source": [
    "blob = cv.dnn.blobFromImage(img,1.0,(W,H),swapRB=True, crop=False)\n",
    "blob.shape # numero de imagen, numerode canais"
   ]
  },
  {
   "cell_type": "code",
   "execution_count": 32,
   "id": "8c82b56a",
   "metadata": {},
   "outputs": [
    {
     "data": {
      "text/plain": [
       "array([[[[1.47752658e-07, 5.33552225e-07, 6.18313607e-07, ...,\n",
       "          2.38875805e-06, 2.14221203e-07, 1.97413192e-06],\n",
       "         [2.21553137e-07, 8.22968431e-08, 1.52692223e-07, ...,\n",
       "          3.80215215e-06, 2.49682756e-07, 2.09745986e-06],\n",
       "         [2.41076435e-07, 2.56505615e-07, 6.74969783e-07, ...,\n",
       "          4.48432320e-06, 6.08905850e-08, 2.51588995e-06],\n",
       "         ...,\n",
       "         [5.19031801e-07, 1.34708017e-07, 3.80787064e-08, ...,\n",
       "          1.79544293e-06, 7.75354067e-07, 5.47007994e-06],\n",
       "         [2.85662964e-07, 8.55802398e-08, 1.12898711e-07, ...,\n",
       "          1.13547924e-06, 9.01570672e-07, 5.07820823e-06],\n",
       "         [7.21995193e-08, 8.43331449e-09, 5.46041168e-09, ...,\n",
       "          1.91422529e-07, 3.16591411e-07, 1.02402694e-07]]]],\n",
       "      dtype=float32)"
      ]
     },
     "execution_count": 32,
     "metadata": {},
     "output_type": "execute_result"
    }
   ],
   "source": [
    "rede_neural.setInput(blob)\n",
    "scores, geometry = rede_neural.forward(nome_camadas)\n",
    "scores"
   ]
  },
  {
   "cell_type": "code",
   "execution_count": 33,
   "id": "3a038e5e",
   "metadata": {},
   "outputs": [
    {
     "data": {
      "text/plain": [
       "array([[[[ 1.54848877e+02,  1.01938644e+02,  1.08211067e+02, ...,\n",
       "           1.33965775e+02,  1.27577362e+02,  1.46967865e+02],\n",
       "         [ 1.19407852e+02,  6.46941910e+01,  7.18581467e+01, ...,\n",
       "           9.02676010e+01,  8.52865677e+01,  1.03320190e+02],\n",
       "         [ 1.22548698e+02,  6.90612030e+01,  7.86800232e+01, ...,\n",
       "           1.06370026e+02,  1.01670219e+02,  1.14973595e+02],\n",
       "         ...,\n",
       "         [ 1.16457390e+02,  4.99967613e+01,  3.75177765e+01, ...,\n",
       "           8.21259613e+01,  8.12639771e+01,  1.21695587e+02],\n",
       "         [ 1.27623505e+02,  5.88200645e+01,  4.84034538e+01, ...,\n",
       "           8.31772385e+01,  8.09340057e+01,  1.11183853e+02],\n",
       "         [ 1.26661575e+02,  7.53630524e+01,  6.93249512e+01, ...,\n",
       "           1.27025375e+02,  1.18697945e+02,  1.47223694e+02]],\n",
       "\n",
       "        [[ 1.09559792e+02,  9.52129440e+01,  9.08699493e+01, ...,\n",
       "           1.00495552e+02,  9.43882065e+01,  1.12618568e+02],\n",
       "         [ 8.27181778e+01,  5.77866974e+01,  5.62353096e+01, ...,\n",
       "           6.53349457e+01,  5.78645172e+01,  8.25853958e+01],\n",
       "         [ 8.28831253e+01,  5.74390793e+01,  5.57291069e+01, ...,\n",
       "           6.71492691e+01,  5.90494804e+01,  8.50817947e+01],\n",
       "         ...,\n",
       "         [ 6.44663696e+01,  3.39888153e+01,  2.99582310e+01, ...,\n",
       "           6.00454750e+01,  5.66133385e+01,  9.02197800e+01],\n",
       "         [ 7.39354477e+01,  4.26852989e+01,  3.48347130e+01, ...,\n",
       "           6.33570290e+01,  5.91880264e+01,  9.02698212e+01],\n",
       "         [ 8.64313812e+01,  6.14679222e+01,  5.44256020e+01, ...,\n",
       "           9.61757584e+01,  9.25789719e+01,  1.13490692e+02]],\n",
       "\n",
       "        [[ 8.59015503e+01,  8.48275833e+01,  8.40552521e+01, ...,\n",
       "           9.90848160e+01,  9.13576965e+01,  1.01809998e+02],\n",
       "         [ 8.01797485e+01,  5.16589470e+01,  5.67269478e+01, ...,\n",
       "           7.78348999e+01,  6.83267441e+01,  9.25379791e+01],\n",
       "         [ 7.90953140e+01,  4.98526726e+01,  5.72138824e+01, ...,\n",
       "           8.29658356e+01,  7.44206696e+01,  9.96823502e+01],\n",
       "         ...,\n",
       "         [ 5.71242714e+01,  2.63170795e+01,  2.11051369e+01, ...,\n",
       "           6.00127182e+01,  6.19300117e+01,  9.90848541e+01],\n",
       "         [ 7.19074860e+01,  4.03640823e+01,  3.61403236e+01, ...,\n",
       "           5.91128349e+01,  5.93439255e+01,  8.84010391e+01],\n",
       "         [ 9.66942978e+01,  7.96642685e+01,  6.84385300e+01, ...,\n",
       "           1.13774933e+02,  1.10461678e+02,  1.36449020e+02]],\n",
       "\n",
       "        [[ 1.55224838e+02,  1.42254593e+02,  1.25691154e+02, ...,\n",
       "           1.41807571e+02,  1.33358444e+02,  1.63978668e+02],\n",
       "         [ 1.16146393e+02,  7.99790726e+01,  7.47872849e+01, ...,\n",
       "           9.28986740e+01,  8.47086105e+01,  1.33037201e+02],\n",
       "         [ 1.13278290e+02,  7.99751205e+01,  7.68410645e+01, ...,\n",
       "           9.39272156e+01,  8.60717087e+01,  1.37719498e+02],\n",
       "         ...,\n",
       "         [ 1.14271523e+02,  6.35555077e+01,  4.32907257e+01, ...,\n",
       "           7.45655441e+01,  7.36414719e+01,  1.32746597e+02],\n",
       "         [ 1.19805649e+02,  7.75902939e+01,  5.18555565e+01, ...,\n",
       "           7.32145538e+01,  7.12843094e+01,  1.20034401e+02],\n",
       "         [ 1.56270920e+02,  1.08380470e+02,  8.11181412e+01, ...,\n",
       "           9.34993439e+01,  9.73849030e+01,  1.54867691e+02]],\n",
       "\n",
       "        [[ 1.57442093e-02,  2.91850567e-02,  3.18701863e-02, ...,\n",
       "          -5.02645969e-04,  1.38773322e-02,  5.68414330e-02],\n",
       "         [-3.83337140e-02,  6.48236275e-03,  4.69255447e-03, ...,\n",
       "          -6.25432730e-02, -3.13662887e-02, -8.02922249e-03],\n",
       "         [-3.22697759e-02,  1.59596205e-02,  1.20918751e-02, ...,\n",
       "          -2.41341591e-02, -6.08009100e-03,  4.52041626e-04],\n",
       "         ...,\n",
       "         [-4.54726219e-02,  2.47733593e-02,  3.51732969e-02, ...,\n",
       "           2.35739350e-02,  3.62186432e-02,  1.70466304e-02],\n",
       "         [-5.39323688e-02, -2.12965012e-02, -3.98123264e-02, ...,\n",
       "           1.02322102e-02,  1.90262794e-02,  3.24279070e-02],\n",
       "         [-4.49285507e-02, -1.12830102e-01, -1.14262402e-01, ...,\n",
       "          -5.31206727e-02, -5.57300448e-02, -2.03258395e-02]]]],\n",
       "      dtype=float32)"
      ]
     },
     "execution_count": 33,
     "metadata": {},
     "output_type": "execute_result"
    }
   ],
   "source": [
    "geometry"
   ]
  },
  {
   "cell_type": "code",
   "execution_count": 34,
   "id": "cfe884aa",
   "metadata": {},
   "outputs": [
    {
     "data": {
      "text/plain": [
       "(1, 1, 80, 80)"
      ]
     },
     "execution_count": 34,
     "metadata": {},
     "output_type": "execute_result"
    }
   ],
   "source": [
    "scores.shape"
   ]
  },
  {
   "cell_type": "code",
   "execution_count": 36,
   "id": "f38263ee",
   "metadata": {},
   "outputs": [],
   "source": [
    "linhas, colunas = scores.shape[2:4]"
   ]
  },
  {
   "cell_type": "code",
   "execution_count": 45,
   "id": "bca5f356",
   "metadata": {},
   "outputs": [],
   "source": [
    "caixas = []\n",
    "confiancas = []\n",
    "def dados_geometricos(geometry, y):\n",
    "    xData0 = geometry[0,0,y]\n",
    "    xData1 = geometry[0,1,y]\n",
    "    xData2 = geometry[0,2,y]\n",
    "    xData3 = geometry[0,3,y]\n",
    "    data_angulos = geometry[0,4,y]\n",
    "    return data_angulos,xData0,xData1,xData2,xData3\n",
    "\n",
    "def calculos_geometria(data_angulos,xData0,xData1,xData2,xData3):\n",
    "    (offsetX,offsetY)=(x*4.0,y*4.0)\n",
    "    angulo = data_angulos[x]\n",
    "    cos = np.cos(angulo)\n",
    "    sin = np.sin(angulo)\n",
    "    h = xData0[x] + xData2[x]\n",
    "    w = xData1[x] + xData3[x]\n",
    "    \n",
    "    fimX = int(offsetX + (cos * xData1[x])+(sin * xData2[x]))\n",
    "    fimY = int(offsetY - (sin * xData1[x])+(cos * xData2[x]))\n",
    "    inicioX = int(fimX - w)\n",
    "    inicioY = int(fimY - h)\n",
    "    return inicioX, inicioY, fimX, fimY"
   ]
  },
  {
   "cell_type": "code",
   "execution_count": 53,
   "id": "37bb88ee",
   "metadata": {},
   "outputs": [],
   "source": [
    "for y in range(0,linhas):\n",
    "    data_scores = scores[0,0,y]\n",
    "    data_angulos, xData0, xData1, xData2, xData3 = dados_geometricos(geometry,y)\n",
    "    for x in range(0,colunas):\n",
    "        if data_scores[x] < min_confianca:\n",
    "            continue\n",
    "        inicioX, inicioY, fimX, fimY = calculos_geometria(data_angulos, xData0, xData1, xData2, xData3)\n",
    "        confiancas.append(data_scores[x])\n",
    "        caixas.append((inicioX,inicioY,fimX, fimY))\n",
    "        \n",
    "     "
   ]
  },
  {
   "cell_type": "code",
   "execution_count": 54,
   "id": "8afc8c2b",
   "metadata": {},
   "outputs": [
    {
     "data": {
      "text/plain": [
       "[0.9995617,\n",
       " 0.99982554,\n",
       " 0.9997718,\n",
       " 0.9994678,\n",
       " 0.9662514,\n",
       " 0.9642107,\n",
       " 0.9993309,\n",
       " 0.99968016,\n",
       " 0.99951243,\n",
       " 0.9995617,\n",
       " 0.99982554,\n",
       " 0.9997718,\n",
       " 0.9994678,\n",
       " 0.9662514,\n",
       " 0.9642107,\n",
       " 0.9993309,\n",
       " 0.99968016,\n",
       " 0.99951243]"
      ]
     },
     "execution_count": 54,
     "metadata": {},
     "output_type": "execute_result"
    }
   ],
   "source": [
    "confiancas"
   ]
  },
  {
   "cell_type": "code",
   "execution_count": 55,
   "id": "cd852b6f",
   "metadata": {},
   "outputs": [
    {
     "data": {
      "text/plain": [
       "[(156, 208, 190, 220),\n",
       " (157, 208, 187, 220),\n",
       " (157, 208, 186, 220),\n",
       " (158, 207, 186, 220),\n",
       " (156, 207, 187, 221),\n",
       " (157, 207, 188, 220),\n",
       " (158, 208, 187, 221),\n",
       " (158, 208, 187, 221),\n",
       " (157, 208, 188, 221),\n",
       " (156, 208, 190, 220),\n",
       " (157, 208, 187, 220),\n",
       " (157, 208, 186, 220),\n",
       " (158, 207, 186, 220),\n",
       " (156, 207, 187, 221),\n",
       " (157, 207, 188, 220),\n",
       " (158, 208, 187, 221),\n",
       " (158, 208, 187, 221),\n",
       " (157, 208, 188, 221)]"
      ]
     },
     "execution_count": 55,
     "metadata": {},
     "output_type": "execute_result"
    }
   ],
   "source": [
    "caixas"
   ]
  },
  {
   "cell_type": "code",
   "execution_count": 56,
   "id": "58b00314",
   "metadata": {},
   "outputs": [],
   "source": [
    "deteccoes = non_max_suppression(np.array(caixas),probs=confiancas)"
   ]
  },
  {
   "cell_type": "code",
   "execution_count": 57,
   "id": "d428cd19",
   "metadata": {},
   "outputs": [
    {
     "data": {
      "text/plain": [
       "array([[157, 208, 187, 220]])"
      ]
     },
     "execution_count": 57,
     "metadata": {},
     "output_type": "execute_result"
    }
   ],
   "source": [
    "deteccoes"
   ]
  },
  {
   "cell_type": "code",
   "execution_count": 58,
   "id": "d590d94a",
   "metadata": {},
   "outputs": [],
   "source": [
    "copia = original.copy()\n",
    "for (inicioX, inicioY, fimX, fimY) in deteccoes:\n",
    "    inicioX = int(inicioX * proporcao_W)\n",
    "    inicioY = int(inicioY * proporcao_H)\n",
    "    fimX = int(fimX * proporcao_W)\n",
    "    fimY = int(fimY * proporcao_H)\n",
    "    roi = copia[inicioY:fimY, inicioX:fimX]\n",
    "    cv.rectangle(original,(inicioX,inicioY),(fimX,fimY),(0,255,0),2)\n",
    "\n",
    "cv.imshow('image',original)\n",
    "cv.waitKey(0)\n",
    "cv.destroyAllWindows()  "
   ]
  },
  {
   "cell_type": "code",
   "execution_count": 62,
   "id": "d5358334",
   "metadata": {},
   "outputs": [],
   "source": [
    "cv.imshow('image',roi)\n",
    "cv.waitKey(0)\n",
    "cv.destroyAllWindows() "
   ]
  },
  {
   "cell_type": "code",
   "execution_count": 61,
   "id": "f803887b",
   "metadata": {},
   "outputs": [],
   "source": [
    "roi = cv.resize(roi, None, fx=1.5, fy=1.5, interpolation=cv.INTER_CUBIC )\n",
    "cv.imshow('image',roi)\n",
    "cv.waitKey(0)\n",
    "cv.destroyAllWindows() "
   ]
  },
  {
   "cell_type": "code",
   "execution_count": 66,
   "id": "4f29253b",
   "metadata": {},
   "outputs": [
    {
     "name": "stdout",
     "output_type": "stream",
     "text": [
      "BEGIN,\n",
      "\n"
     ]
    }
   ],
   "source": [
    "margem = 3\n",
    "config_tesseract = '--tessdata-dir D:/Tesseract-OCR/tessdata --psm 7'\n",
    "pytesseract.pytesseract.tesseract_cmd = 'D:/Tesseract-OCR/tesseract.exe'\n",
    "copia = original.copy()\n",
    "for (inicioX, inicioY, fimX, fimY) in deteccoes:\n",
    "    inicioX = int(inicioX * proporcao_W)\n",
    "    inicioY = int(inicioY * proporcao_H)\n",
    "    fimX = int(fimX * proporcao_W)\n",
    "    fimY = int(fimY * proporcao_H)\n",
    "    roi = copia[inicioY - margem :fimY + margem, inicioX - margem:fimX +margem]\n",
    "    texto = pytesseract.image_to_string(roi, lang='por', config=config_tesseract)\n",
    "    print(texto)\n",
    "    cv.rectangle(copia,(inicioX-margem,inicioY-margem),(fimX+margem,fimY+margem),(0,255,0),2)\n",
    "\n",
    "cv.imshow('image',original)\n",
    "cv.waitKey(0)\n",
    "cv.destroyAllWindows()  \n"
   ]
  },
  {
   "cell_type": "code",
   "execution_count": null,
   "id": "06d98c94",
   "metadata": {},
   "outputs": [],
   "source": [
    "####################\n",
    "# Seção 5: Treinamento OCR personalizadoo\n",
    "####################\n",
    "\n",
    "# https://colab.research.google.com/drive/1B8iTwfEm2ALRLfbYc5ILrNB2JeETCDP6?usp=sharing\n",
    "# https://colab.research.google.com/drive/11aOxCRQegn6GbpOzoHeO6pVq5K7bRzHc?usp=sharing\n"
   ]
  },
  {
   "cell_type": "code",
   "execution_count": 68,
   "id": "03c1dd50",
   "metadata": {},
   "outputs": [
    {
     "name": "stdout",
     "output_type": "stream",
     "text": [
      "Collecting tensorflow\n",
      "  Downloading tensorflow-2.11.0-cp39-cp39-win_amd64.whl (1.9 kB)\n",
      "Collecting tensorflow-intel==2.11.0\n",
      "  Downloading tensorflow_intel-2.11.0-cp39-cp39-win_amd64.whl (266.3 MB)\n",
      "Collecting absl-py>=1.0.0\n",
      "  Downloading absl_py-1.4.0-py3-none-any.whl (126 kB)\n",
      "Collecting google-pasta>=0.1.1\n",
      "  Downloading google_pasta-0.2.0-py3-none-any.whl (57 kB)\n",
      "Requirement already satisfied: protobuf<3.20,>=3.9.2 in d:\\users\\abrantes\\anaconda3\\lib\\site-packages (from tensorflow-intel==2.11.0->tensorflow) (3.19.1)\n",
      "Collecting gast<=0.4.0,>=0.2.1\n",
      "  Downloading gast-0.4.0-py3-none-any.whl (9.8 kB)\n",
      "Collecting tensorflow-estimator<2.12,>=2.11.0\n",
      "  Downloading tensorflow_estimator-2.11.0-py2.py3-none-any.whl (439 kB)\n",
      "Collecting keras<2.12,>=2.11.0\n",
      "  Downloading keras-2.11.0-py2.py3-none-any.whl (1.7 MB)\n",
      "Collecting tensorflow-io-gcs-filesystem>=0.23.1\n",
      "  Downloading tensorflow_io_gcs_filesystem-0.30.0-cp39-cp39-win_amd64.whl (1.5 MB)\n",
      "Requirement already satisfied: wrapt>=1.11.0 in d:\\users\\abrantes\\anaconda3\\lib\\site-packages (from tensorflow-intel==2.11.0->tensorflow) (1.12.1)\n",
      "Requirement already satisfied: six>=1.12.0 in d:\\users\\abrantes\\anaconda3\\lib\\site-packages (from tensorflow-intel==2.11.0->tensorflow) (1.16.0)\n",
      "Requirement already satisfied: packaging in d:\\users\\abrantes\\anaconda3\\lib\\site-packages (from tensorflow-intel==2.11.0->tensorflow) (21.3)\n",
      "Collecting flatbuffers>=2.0\n",
      "  Downloading flatbuffers-23.1.21-py2.py3-none-any.whl (26 kB)\n",
      "Requirement already satisfied: setuptools in d:\\users\\abrantes\\anaconda3\\lib\\site-packages (from tensorflow-intel==2.11.0->tensorflow) (61.2.0)\n",
      "Requirement already satisfied: grpcio<2.0,>=1.24.3 in d:\\users\\abrantes\\anaconda3\\lib\\site-packages (from tensorflow-intel==2.11.0->tensorflow) (1.42.0)\n",
      "Collecting opt-einsum>=2.3.2\n",
      "  Downloading opt_einsum-3.3.0-py3-none-any.whl (65 kB)\n",
      "Requirement already satisfied: h5py>=2.9.0 in d:\\users\\abrantes\\anaconda3\\lib\\site-packages (from tensorflow-intel==2.11.0->tensorflow) (3.6.0)\n",
      "Collecting tensorboard<2.12,>=2.11\n",
      "  Downloading tensorboard-2.11.2-py3-none-any.whl (6.0 MB)\n",
      "Collecting termcolor>=1.1.0\n",
      "  Downloading termcolor-2.2.0-py3-none-any.whl (6.6 kB)\n",
      "Requirement already satisfied: numpy>=1.20 in d:\\users\\abrantes\\anaconda3\\lib\\site-packages (from tensorflow-intel==2.11.0->tensorflow) (1.21.5)\n",
      "Requirement already satisfied: typing-extensions>=3.6.6 in d:\\users\\abrantes\\anaconda3\\lib\\site-packages (from tensorflow-intel==2.11.0->tensorflow) (4.1.1)\n",
      "Collecting libclang>=13.0.0\n",
      "  Downloading libclang-15.0.6.1-py2.py3-none-win_amd64.whl (23.2 MB)\n",
      "Collecting astunparse>=1.6.0\n",
      "  Downloading astunparse-1.6.3-py2.py3-none-any.whl (12 kB)\n",
      "Requirement already satisfied: wheel<1.0,>=0.23.0 in d:\\users\\abrantes\\anaconda3\\lib\\site-packages (from astunparse>=1.6.0->tensorflow-intel==2.11.0->tensorflow) (0.37.1)\n",
      "Collecting google-auth-oauthlib<0.5,>=0.4.1\n",
      "  Downloading google_auth_oauthlib-0.4.6-py2.py3-none-any.whl (18 kB)\n",
      "Collecting tensorboard-plugin-wit>=1.6.0\n",
      "  Downloading tensorboard_plugin_wit-1.8.1-py3-none-any.whl (781 kB)\n",
      "Requirement already satisfied: requests<3,>=2.21.0 in d:\\users\\abrantes\\anaconda3\\lib\\site-packages (from tensorboard<2.12,>=2.11->tensorflow-intel==2.11.0->tensorflow) (2.28.1)\n",
      "Requirement already satisfied: markdown>=2.6.8 in d:\\users\\abrantes\\anaconda3\\lib\\site-packages (from tensorboard<2.12,>=2.11->tensorflow-intel==2.11.0->tensorflow) (3.3.4)\n",
      "Requirement already satisfied: google-auth<3,>=1.6.3 in d:\\users\\abrantes\\anaconda3\\lib\\site-packages (from tensorboard<2.12,>=2.11->tensorflow-intel==2.11.0->tensorflow) (1.33.0)\n",
      "Collecting tensorboard-data-server<0.7.0,>=0.6.0\n",
      "  Downloading tensorboard_data_server-0.6.1-py3-none-any.whl (2.4 kB)\n",
      "Requirement already satisfied: werkzeug>=1.0.1 in d:\\users\\abrantes\\anaconda3\\lib\\site-packages (from tensorboard<2.12,>=2.11->tensorflow-intel==2.11.0->tensorflow) (2.0.3)\n",
      "Requirement already satisfied: cachetools<5.0,>=2.0.0 in d:\\users\\abrantes\\anaconda3\\lib\\site-packages (from google-auth<3,>=1.6.3->tensorboard<2.12,>=2.11->tensorflow-intel==2.11.0->tensorflow) (4.2.2)\n",
      "Requirement already satisfied: rsa<5,>=3.1.4 in d:\\users\\abrantes\\anaconda3\\lib\\site-packages (from google-auth<3,>=1.6.3->tensorboard<2.12,>=2.11->tensorflow-intel==2.11.0->tensorflow) (4.7.2)\n",
      "Requirement already satisfied: pyasn1-modules>=0.2.1 in d:\\users\\abrantes\\anaconda3\\lib\\site-packages (from google-auth<3,>=1.6.3->tensorboard<2.12,>=2.11->tensorflow-intel==2.11.0->tensorflow) (0.2.8)\n",
      "Collecting requests-oauthlib>=0.7.0\n",
      "  Downloading requests_oauthlib-1.3.1-py2.py3-none-any.whl (23 kB)\n",
      "Requirement already satisfied: pyasn1<0.5.0,>=0.4.6 in d:\\users\\abrantes\\anaconda3\\lib\\site-packages (from pyasn1-modules>=0.2.1->google-auth<3,>=1.6.3->tensorboard<2.12,>=2.11->tensorflow-intel==2.11.0->tensorflow) (0.4.8)\n",
      "Requirement already satisfied: charset-normalizer<3,>=2 in d:\\users\\abrantes\\anaconda3\\lib\\site-packages (from requests<3,>=2.21.0->tensorboard<2.12,>=2.11->tensorflow-intel==2.11.0->tensorflow) (2.0.4)\n",
      "Requirement already satisfied: idna<4,>=2.5 in d:\\users\\abrantes\\anaconda3\\lib\\site-packages (from requests<3,>=2.21.0->tensorboard<2.12,>=2.11->tensorflow-intel==2.11.0->tensorflow) (3.3)\n",
      "Requirement already satisfied: certifi>=2017.4.17 in d:\\users\\abrantes\\anaconda3\\lib\\site-packages (from requests<3,>=2.21.0->tensorboard<2.12,>=2.11->tensorflow-intel==2.11.0->tensorflow) (2021.10.8)\n",
      "Requirement already satisfied: urllib3<1.27,>=1.21.1 in d:\\users\\abrantes\\anaconda3\\lib\\site-packages (from requests<3,>=2.21.0->tensorboard<2.12,>=2.11->tensorflow-intel==2.11.0->tensorflow) (1.26.9)\n",
      "Collecting oauthlib>=3.0.0\n",
      "  Downloading oauthlib-3.2.2-py3-none-any.whl (151 kB)\n",
      "Requirement already satisfied: pyparsing!=3.0.5,>=2.0.2 in d:\\users\\abrantes\\anaconda3\\lib\\site-packages (from packaging->tensorflow-intel==2.11.0->tensorflow) (3.0.9)\n",
      "Installing collected packages: oauthlib, requests-oauthlib, tensorboard-plugin-wit, tensorboard-data-server, google-auth-oauthlib, absl-py, termcolor, tensorflow-io-gcs-filesystem, tensorflow-estimator, tensorboard, opt-einsum, libclang, keras, google-pasta, gast, flatbuffers, astunparse, tensorflow-intel, tensorflow\n",
      "Successfully installed absl-py-1.4.0 astunparse-1.6.3 flatbuffers-23.1.21 gast-0.4.0 google-auth-oauthlib-0.4.6 google-pasta-0.2.0 keras-2.11.0 libclang-15.0.6.1 oauthlib-3.2.2 opt-einsum-3.3.0 requests-oauthlib-1.3.1 tensorboard-2.11.2 tensorboard-data-server-0.6.1 tensorboard-plugin-wit-1.8.1 tensorflow-2.11.0 tensorflow-estimator-2.11.0 tensorflow-intel-2.11.0 tensorflow-io-gcs-filesystem-0.30.0 termcolor-2.2.0\n"
     ]
    },
    {
     "name": "stderr",
     "output_type": "stream",
     "text": [
      "WARNING: Ignoring invalid distribution -pencv-python (d:\\users\\abrantes\\anaconda3\\lib\\site-packages)\n",
      "WARNING: Ignoring invalid distribution -pencv-python (d:\\users\\abrantes\\anaconda3\\lib\\site-packages)\n",
      "WARNING: Ignoring invalid distribution -pencv-python (d:\\users\\abrantes\\anaconda3\\lib\\site-packages)\n",
      "WARNING: Ignoring invalid distribution -pencv-python (d:\\users\\abrantes\\anaconda3\\lib\\site-packages)\n",
      "WARNING: Ignoring invalid distribution -pencv-python (d:\\users\\abrantes\\anaconda3\\lib\\site-packages)\n",
      "WARNING: Ignoring invalid distribution -pencv-python (d:\\users\\abrantes\\anaconda3\\lib\\site-packages)\n",
      "WARNING: Ignoring invalid distribution -pencv-python (d:\\users\\abrantes\\anaconda3\\lib\\site-packages)\n",
      "WARNING: Ignoring invalid distribution -pencv-python (d:\\users\\abrantes\\anaconda3\\lib\\site-packages)\n",
      "WARNING: Ignoring invalid distribution -pencv-python (d:\\users\\abrantes\\anaconda3\\lib\\site-packages)\n",
      "WARNING: Ignoring invalid distribution -pencv-python (d:\\users\\abrantes\\anaconda3\\lib\\site-packages)\n",
      "WARNING: Ignoring invalid distribution -pencv-python (d:\\users\\abrantes\\anaconda3\\lib\\site-packages)\n",
      "WARNING: Ignoring invalid distribution -pencv-python (d:\\users\\abrantes\\anaconda3\\lib\\site-packages)\n",
      "WARNING: Ignoring invalid distribution -pencv-python (d:\\users\\abrantes\\anaconda3\\lib\\site-packages)\n",
      "WARNING: Ignoring invalid distribution -pencv-python (d:\\users\\abrantes\\anaconda3\\lib\\site-packages)\n",
      "WARNING: Ignoring invalid distribution -pencv-python (d:\\users\\abrantes\\anaconda3\\lib\\site-packages)\n",
      "WARNING: Ignoring invalid distribution -pencv-python (d:\\users\\abrantes\\anaconda3\\lib\\site-packages)\n",
      "WARNING: Ignoring invalid distribution -pencv-python (d:\\users\\abrantes\\anaconda3\\lib\\site-packages)\n",
      "WARNING: Ignoring invalid distribution -pencv-python (d:\\users\\abrantes\\anaconda3\\lib\\site-packages)\n",
      "WARNING: Ignoring invalid distribution -pencv-python (d:\\users\\abrantes\\anaconda3\\lib\\site-packages)\n",
      "WARNING: Ignoring invalid distribution -pencv-python (d:\\users\\abrantes\\anaconda3\\lib\\site-packages)\n",
      "WARNING: Ignoring invalid distribution -pencv-python (d:\\users\\abrantes\\anaconda3\\lib\\site-packages)\n",
      "WARNING: Ignoring invalid distribution -pencv-python (d:\\users\\abrantes\\anaconda3\\lib\\site-packages)\n",
      "WARNING: Ignoring invalid distribution -pencv-python (d:\\users\\abrantes\\anaconda3\\lib\\site-packages)\n",
      "WARNING: Ignoring invalid distribution -pencv-python (d:\\users\\abrantes\\anaconda3\\lib\\site-packages)\n",
      "WARNING: Ignoring invalid distribution -pencv-python (d:\\users\\abrantes\\anaconda3\\lib\\site-packages)\n"
     ]
    }
   ],
   "source": [
    "!pip install tensorflow"
   ]
  },
  {
   "cell_type": "code",
   "execution_count": 4,
   "id": "3a11b2b1",
   "metadata": {},
   "outputs": [
    {
     "data": {
      "text/plain": [
       "'2.11.0'"
      ]
     },
     "execution_count": 4,
     "metadata": {},
     "output_type": "execute_result"
    }
   ],
   "source": [
    "import tensorflow\n",
    "tensorflow.__version__"
   ]
  },
  {
   "cell_type": "code",
   "execution_count": 5,
   "id": "3a62f253",
   "metadata": {},
   "outputs": [],
   "source": [
    "import numpy as np\n",
    "import zipfile\n",
    "import pandas as pd\n",
    "import matplotlib.pyplot as plt\n",
    "import seaborn as sns\n",
    "import cv2 as cv\n",
    "import numpy as np\n",
    "import imshow as cv2_imshow\n",
    "import pytesseract\n",
    "from sklearn.preprocessing import LabelBinarizer\n",
    "from sklearn.model_selection import train_test_split\n",
    "from sklearn.metrics import classification_report\n",
    "from tensorflow.keras.datasets import mnist"
   ]
  },
  {
   "cell_type": "code",
   "execution_count": 6,
   "id": "a21d39f5",
   "metadata": {},
   "outputs": [],
   "source": [
    "from tensorflow.keras.datasets import mnist"
   ]
  },
  {
   "cell_type": "code",
   "execution_count": 7,
   "id": "38d39628",
   "metadata": {},
   "outputs": [],
   "source": [
    "(train_data, train_labels), (test_data, test_labels) = mnist.load_data()"
   ]
  },
  {
   "cell_type": "code",
   "execution_count": 8,
   "id": "f3a90a0a",
   "metadata": {},
   "outputs": [
    {
     "data": {
      "text/plain": [
       "((60000, 28, 28), (10000, 28, 28))"
      ]
     },
     "execution_count": 8,
     "metadata": {},
     "output_type": "execute_result"
    }
   ],
   "source": [
    "train_data.shape, test_data.shape # 60 mil imagens para treinar e 10 mil para testar\n",
    "# 28 * 28 = 784 28 ppixels e largura por 28 piels de altura ou seja cada imagem possui 784 pixels"
   ]
  },
  {
   "cell_type": "code",
   "execution_count": 9,
   "id": "335db1eb",
   "metadata": {},
   "outputs": [
    {
     "data": {
      "text/plain": [
       "((60000,), (10000,))"
      ]
     },
     "execution_count": 9,
     "metadata": {},
     "output_type": "execute_result"
    }
   ],
   "source": [
    "train_labels.shape, test_labels.shape"
   ]
  },
  {
   "cell_type": "code",
   "execution_count": 7,
   "id": "14c27ee9",
   "metadata": {},
   "outputs": [
    {
     "data": {
      "text/plain": [
       "array([[  0,   0,   0,   0,   0,   0,   0,   0,   0,   0,   0,   0,   0,\n",
       "          0,   0,   0,   0,   0,   0,   0,   0,   0,   0,   0,   0,   0,\n",
       "          0,   0],\n",
       "       [  0,   0,   0,   0,   0,   0,   0,   0,   0,   0,   0,   0,   0,\n",
       "          0,   0,   0,   0,   0,   0,   0,   0,   0,   0,   0,   0,   0,\n",
       "          0,   0],\n",
       "       [  0,   0,   0,   0,   0,   0,   0,   0,   0,   0,   0,   0,   0,\n",
       "          0,   0,   0,   0,   0,   0,   0,   0,   0,   0,   0,   0,   0,\n",
       "          0,   0],\n",
       "       [  0,   0,   0,   0,   0,   0,   0,   0,   0,   0,   0,   0,   0,\n",
       "          0,   0,   0,   0,   0,   0,   0,   0,   0,   0,   0,   0,   0,\n",
       "          0,   0],\n",
       "       [  0,   0,   0,   0,   0,   0,   0,   0,   0,   0,   0,   0,   0,\n",
       "          0,   0,   0,   0,   0,   0,   0,   0,   0,   0,   0,   0,   0,\n",
       "          0,   0],\n",
       "       [  0,   0,   0,   0,   0,   0,   0,   0,   0,   0,   0,   0,   3,\n",
       "         18,  18,  18, 126, 136, 175,  26, 166, 255, 247, 127,   0,   0,\n",
       "          0,   0],\n",
       "       [  0,   0,   0,   0,   0,   0,   0,   0,  30,  36,  94, 154, 170,\n",
       "        253, 253, 253, 253, 253, 225, 172, 253, 242, 195,  64,   0,   0,\n",
       "          0,   0],\n",
       "       [  0,   0,   0,   0,   0,   0,   0,  49, 238, 253, 253, 253, 253,\n",
       "        253, 253, 253, 253, 251,  93,  82,  82,  56,  39,   0,   0,   0,\n",
       "          0,   0],\n",
       "       [  0,   0,   0,   0,   0,   0,   0,  18, 219, 253, 253, 253, 253,\n",
       "        253, 198, 182, 247, 241,   0,   0,   0,   0,   0,   0,   0,   0,\n",
       "          0,   0],\n",
       "       [  0,   0,   0,   0,   0,   0,   0,   0,  80, 156, 107, 253, 253,\n",
       "        205,  11,   0,  43, 154,   0,   0,   0,   0,   0,   0,   0,   0,\n",
       "          0,   0],\n",
       "       [  0,   0,   0,   0,   0,   0,   0,   0,   0,  14,   1, 154, 253,\n",
       "         90,   0,   0,   0,   0,   0,   0,   0,   0,   0,   0,   0,   0,\n",
       "          0,   0],\n",
       "       [  0,   0,   0,   0,   0,   0,   0,   0,   0,   0,   0, 139, 253,\n",
       "        190,   2,   0,   0,   0,   0,   0,   0,   0,   0,   0,   0,   0,\n",
       "          0,   0],\n",
       "       [  0,   0,   0,   0,   0,   0,   0,   0,   0,   0,   0,  11, 190,\n",
       "        253,  70,   0,   0,   0,   0,   0,   0,   0,   0,   0,   0,   0,\n",
       "          0,   0],\n",
       "       [  0,   0,   0,   0,   0,   0,   0,   0,   0,   0,   0,   0,  35,\n",
       "        241, 225, 160, 108,   1,   0,   0,   0,   0,   0,   0,   0,   0,\n",
       "          0,   0],\n",
       "       [  0,   0,   0,   0,   0,   0,   0,   0,   0,   0,   0,   0,   0,\n",
       "         81, 240, 253, 253, 119,  25,   0,   0,   0,   0,   0,   0,   0,\n",
       "          0,   0],\n",
       "       [  0,   0,   0,   0,   0,   0,   0,   0,   0,   0,   0,   0,   0,\n",
       "          0,  45, 186, 253, 253, 150,  27,   0,   0,   0,   0,   0,   0,\n",
       "          0,   0],\n",
       "       [  0,   0,   0,   0,   0,   0,   0,   0,   0,   0,   0,   0,   0,\n",
       "          0,   0,  16,  93, 252, 253, 187,   0,   0,   0,   0,   0,   0,\n",
       "          0,   0],\n",
       "       [  0,   0,   0,   0,   0,   0,   0,   0,   0,   0,   0,   0,   0,\n",
       "          0,   0,   0,   0, 249, 253, 249,  64,   0,   0,   0,   0,   0,\n",
       "          0,   0],\n",
       "       [  0,   0,   0,   0,   0,   0,   0,   0,   0,   0,   0,   0,   0,\n",
       "          0,  46, 130, 183, 253, 253, 207,   2,   0,   0,   0,   0,   0,\n",
       "          0,   0],\n",
       "       [  0,   0,   0,   0,   0,   0,   0,   0,   0,   0,   0,   0,  39,\n",
       "        148, 229, 253, 253, 253, 250, 182,   0,   0,   0,   0,   0,   0,\n",
       "          0,   0],\n",
       "       [  0,   0,   0,   0,   0,   0,   0,   0,   0,   0,  24, 114, 221,\n",
       "        253, 253, 253, 253, 201,  78,   0,   0,   0,   0,   0,   0,   0,\n",
       "          0,   0],\n",
       "       [  0,   0,   0,   0,   0,   0,   0,   0,  23,  66, 213, 253, 253,\n",
       "        253, 253, 198,  81,   2,   0,   0,   0,   0,   0,   0,   0,   0,\n",
       "          0,   0],\n",
       "       [  0,   0,   0,   0,   0,   0,  18, 171, 219, 253, 253, 253, 253,\n",
       "        195,  80,   9,   0,   0,   0,   0,   0,   0,   0,   0,   0,   0,\n",
       "          0,   0],\n",
       "       [  0,   0,   0,   0,  55, 172, 226, 253, 253, 253, 253, 244, 133,\n",
       "         11,   0,   0,   0,   0,   0,   0,   0,   0,   0,   0,   0,   0,\n",
       "          0,   0],\n",
       "       [  0,   0,   0,   0, 136, 253, 253, 253, 212, 135, 132,  16,   0,\n",
       "          0,   0,   0,   0,   0,   0,   0,   0,   0,   0,   0,   0,   0,\n",
       "          0,   0],\n",
       "       [  0,   0,   0,   0,   0,   0,   0,   0,   0,   0,   0,   0,   0,\n",
       "          0,   0,   0,   0,   0,   0,   0,   0,   0,   0,   0,   0,   0,\n",
       "          0,   0],\n",
       "       [  0,   0,   0,   0,   0,   0,   0,   0,   0,   0,   0,   0,   0,\n",
       "          0,   0,   0,   0,   0,   0,   0,   0,   0,   0,   0,   0,   0,\n",
       "          0,   0],\n",
       "       [  0,   0,   0,   0,   0,   0,   0,   0,   0,   0,   0,   0,   0,\n",
       "          0,   0,   0,   0,   0,   0,   0,   0,   0,   0,   0,   0,   0,\n",
       "          0,   0]], dtype=uint8)"
      ]
     },
     "execution_count": 7,
     "metadata": {},
     "output_type": "execute_result"
    }
   ],
   "source": [
    "train_data[0]"
   ]
  },
  {
   "cell_type": "code",
   "execution_count": 10,
   "id": "73c20c35",
   "metadata": {},
   "outputs": [
    {
     "data": {
      "text/plain": [
       "(28, 28)"
      ]
     },
     "execution_count": 10,
     "metadata": {},
     "output_type": "execute_result"
    }
   ],
   "source": [
    "train_data[0].shape"
   ]
  },
  {
   "cell_type": "code",
   "execution_count": 11,
   "id": "822af963",
   "metadata": {},
   "outputs": [
    {
     "data": {
      "text/plain": [
       "5"
      ]
     },
     "execution_count": 11,
     "metadata": {},
     "output_type": "execute_result"
    }
   ],
   "source": [
    "train_labels[0] # imagem digito numero 5"
   ]
  },
  {
   "cell_type": "code",
   "execution_count": 12,
   "id": "e89eb2eb",
   "metadata": {},
   "outputs": [],
   "source": [
    "digitos_data = np.vstack([train_data, test_data])\n",
    "digitos_labels = np.hstack([train_labels, test_labels])"
   ]
  },
  {
   "cell_type": "code",
   "execution_count": 13,
   "id": "d5bd7dc4",
   "metadata": {},
   "outputs": [
    {
     "data": {
      "text/plain": [
       "(70000, 28, 28)"
      ]
     },
     "execution_count": 13,
     "metadata": {},
     "output_type": "execute_result"
    }
   ],
   "source": [
    "digitos_data.shape # 70 mil digitos"
   ]
  },
  {
   "cell_type": "code",
   "execution_count": 14,
   "id": "1a2e1c8e",
   "metadata": {},
   "outputs": [
    {
     "data": {
      "text/plain": [
       "(70000,)"
      ]
     },
     "execution_count": 14,
     "metadata": {},
     "output_type": "execute_result"
    }
   ],
   "source": [
    "digitos_labels.shape"
   ]
  },
  {
   "cell_type": "code",
   "execution_count": 15,
   "id": "930108f4",
   "metadata": {},
   "outputs": [
    {
     "data": {
      "text/plain": [
       "array([5, 0, 4, ..., 4, 5, 6], dtype=uint8)"
      ]
     },
     "execution_count": 15,
     "metadata": {},
     "output_type": "execute_result"
    }
   ],
   "source": [
    "digitos_labels"
   ]
  },
  {
   "cell_type": "code",
   "execution_count": 16,
   "id": "125db238",
   "metadata": {},
   "outputs": [
    {
     "data": {
      "image/png": "[encoded data removed]",
      "text/plain": [
       "<Figure size 432x288 with 1 Axes>"
      ]
     },
     "metadata": {
      "needs_background": "light"
     },
     "output_type": "display_data"
    }
   ],
   "source": [
    "plt.imshow(digitos_data[0], cmap='gray')\n",
    "plt.title('Classe: ' + str(digitos_labels[0]));"
   ]
  },
  {
   "cell_type": "code",
   "execution_count": 17,
   "id": "63684974",
   "metadata": {},
   "outputs": [
    {
     "data": {
      "text/plain": [
       "33632"
      ]
     },
     "execution_count": 17,
     "metadata": {},
     "output_type": "execute_result"
    }
   ],
   "source": [
    "np.random.randint(0, digitos_data.shape[0])"
   ]
  },
  {
   "cell_type": "code",
   "execution_count": 18,
   "id": "747d8d79",
   "metadata": {},
   "outputs": [
    {
     "data": {
      "image/png": "[encoded data removed]",
      "text/plain": [
       "<Figure size 432x288 with 1 Axes>"
      ]
     },
     "metadata": {
      "needs_background": "light"
     },
     "output_type": "display_data"
    }
   ],
   "source": [
    "indice = np.random.randint(0, digitos_data.shape[0])\n",
    "plt.imshow(digitos_data[indice], cmap='gray')\n",
    "plt.title('Classe: ' + str(digitos_labels[indice]));"
   ]
  },
  {
   "cell_type": "code",
   "execution_count": 19,
   "id": "0cd5d884",
   "metadata": {},
   "outputs": [
    {
     "name": "stderr",
     "output_type": "stream",
     "text": [
      "d:\\Users\\abrantes\\Anaconda3\\lib\\site-packages\\seaborn\\_decorators.py:36: FutureWarning: Pass the following variable as a keyword arg: x. From version 0.12, the only valid positional argument will be `data`, and passing other arguments without an explicit keyword will result in an error or misinterpretation.\n",
      "  warnings.warn(\n"
     ]
    },
    {
     "data": {
      "image/png": "[encoded data removed]",
      "text/plain": [
       "<Figure size 432x288 with 1 Axes>"
      ]
     },
     "metadata": {
      "needs_background": "light"
     },
     "output_type": "display_data"
    }
   ],
   "source": [
    "sns.countplot(digitos_labels);"
   ]
  },
  {
   "cell_type": "code",
   "execution_count": 20,
   "id": "6dcd4def",
   "metadata": {},
   "outputs": [],
   "source": [
    "# https://iaexpert.academy/arquivos/alfabeto_A-Z.zip\n",
    "# copie na pasta d:/users/otimi\n",
    "zip_object = zipfile.ZipFile(file='content/alfabeto_A-Z.zip', mode = 'r')\n",
    "zip_object.extractall('./')\n",
    "zip_object.close()"
   ]
  },
  {
   "cell_type": "code",
   "execution_count": 21,
   "id": "5c3317f7",
   "metadata": {},
   "outputs": [],
   "source": [
    "dataset_az = pd.read_csv('content/A_ZHandwrittenData.csv').astype('float32')"
   ]
  },
  {
   "cell_type": "code",
   "execution_count": 22,
   "id": "b1b9b4b9",
   "metadata": {},
   "outputs": [
    {
     "data": {
      "text/html": [
       "<div>\n",
       "<style scoped>\n",
       "    .dataframe tbody tr th:only-of-type {\n",
       "        vertical-align: middle;\n",
       "    }\n",
       "\n",
       "    .dataframe tbody tr th {\n",
       "        vertical-align: top;\n",
       "    }\n",
       "\n",
       "    .dataframe thead th {\n",
       "        text-align: right;\n",
       "    }\n",
       "</style>\n",
       "<table border=\"1\" class=\"dataframe\">\n",
       "  <thead>\n",
       "    <tr style=\"text-align: right;\">\n",
       "      <th></th>\n",
       "      <th>0</th>\n",
       "      <th>0.1</th>\n",
       "      <th>0.2</th>\n",
       "      <th>0.3</th>\n",
       "      <th>0.4</th>\n",
       "      <th>0.5</th>\n",
       "      <th>0.6</th>\n",
       "      <th>0.7</th>\n",
       "      <th>0.8</th>\n",
       "      <th>0.9</th>\n",
       "      <th>...</th>\n",
       "      <th>0.639</th>\n",
       "      <th>0.640</th>\n",
       "      <th>0.641</th>\n",
       "      <th>0.642</th>\n",
       "      <th>0.643</th>\n",
       "      <th>0.644</th>\n",
       "      <th>0.645</th>\n",
       "      <th>0.646</th>\n",
       "      <th>0.647</th>\n",
       "      <th>0.648</th>\n",
       "    </tr>\n",
       "  </thead>\n",
       "  <tbody>\n",
       "    <tr>\n",
       "      <th>0</th>\n",
       "      <td>0.0</td>\n",
       "      <td>0.0</td>\n",
       "      <td>0.0</td>\n",
       "      <td>0.0</td>\n",
       "      <td>0.0</td>\n",
       "      <td>0.0</td>\n",
       "      <td>0.0</td>\n",
       "      <td>0.0</td>\n",
       "      <td>0.0</td>\n",
       "      <td>0.0</td>\n",
       "      <td>...</td>\n",
       "      <td>0.0</td>\n",
       "      <td>0.0</td>\n",
       "      <td>0.0</td>\n",
       "      <td>0.0</td>\n",
       "      <td>0.0</td>\n",
       "      <td>0.0</td>\n",
       "      <td>0.0</td>\n",
       "      <td>0.0</td>\n",
       "      <td>0.0</td>\n",
       "      <td>0.0</td>\n",
       "    </tr>\n",
       "    <tr>\n",
       "      <th>1</th>\n",
       "      <td>0.0</td>\n",
       "      <td>0.0</td>\n",
       "      <td>0.0</td>\n",
       "      <td>0.0</td>\n",
       "      <td>0.0</td>\n",
       "      <td>0.0</td>\n",
       "      <td>0.0</td>\n",
       "      <td>0.0</td>\n",
       "      <td>0.0</td>\n",
       "      <td>0.0</td>\n",
       "      <td>...</td>\n",
       "      <td>0.0</td>\n",
       "      <td>0.0</td>\n",
       "      <td>0.0</td>\n",
       "      <td>0.0</td>\n",
       "      <td>0.0</td>\n",
       "      <td>0.0</td>\n",
       "      <td>0.0</td>\n",
       "      <td>0.0</td>\n",
       "      <td>0.0</td>\n",
       "      <td>0.0</td>\n",
       "    </tr>\n",
       "    <tr>\n",
       "      <th>2</th>\n",
       "      <td>0.0</td>\n",
       "      <td>0.0</td>\n",
       "      <td>0.0</td>\n",
       "      <td>0.0</td>\n",
       "      <td>0.0</td>\n",
       "      <td>0.0</td>\n",
       "      <td>0.0</td>\n",
       "      <td>0.0</td>\n",
       "      <td>0.0</td>\n",
       "      <td>0.0</td>\n",
       "      <td>...</td>\n",
       "      <td>0.0</td>\n",
       "      <td>0.0</td>\n",
       "      <td>0.0</td>\n",
       "      <td>0.0</td>\n",
       "      <td>0.0</td>\n",
       "      <td>0.0</td>\n",
       "      <td>0.0</td>\n",
       "      <td>0.0</td>\n",
       "      <td>0.0</td>\n",
       "      <td>0.0</td>\n",
       "    </tr>\n",
       "    <tr>\n",
       "      <th>3</th>\n",
       "      <td>0.0</td>\n",
       "      <td>0.0</td>\n",
       "      <td>0.0</td>\n",
       "      <td>0.0</td>\n",
       "      <td>0.0</td>\n",
       "      <td>0.0</td>\n",
       "      <td>0.0</td>\n",
       "      <td>0.0</td>\n",
       "      <td>0.0</td>\n",
       "      <td>0.0</td>\n",
       "      <td>...</td>\n",
       "      <td>0.0</td>\n",
       "      <td>0.0</td>\n",
       "      <td>0.0</td>\n",
       "      <td>0.0</td>\n",
       "      <td>0.0</td>\n",
       "      <td>0.0</td>\n",
       "      <td>0.0</td>\n",
       "      <td>0.0</td>\n",
       "      <td>0.0</td>\n",
       "      <td>0.0</td>\n",
       "    </tr>\n",
       "    <tr>\n",
       "      <th>4</th>\n",
       "      <td>0.0</td>\n",
       "      <td>0.0</td>\n",
       "      <td>0.0</td>\n",
       "      <td>0.0</td>\n",
       "      <td>0.0</td>\n",
       "      <td>0.0</td>\n",
       "      <td>0.0</td>\n",
       "      <td>0.0</td>\n",
       "      <td>0.0</td>\n",
       "      <td>0.0</td>\n",
       "      <td>...</td>\n",
       "      <td>0.0</td>\n",
       "      <td>0.0</td>\n",
       "      <td>0.0</td>\n",
       "      <td>0.0</td>\n",
       "      <td>0.0</td>\n",
       "      <td>0.0</td>\n",
       "      <td>0.0</td>\n",
       "      <td>0.0</td>\n",
       "      <td>0.0</td>\n",
       "      <td>0.0</td>\n",
       "    </tr>\n",
       "    <tr>\n",
       "      <th>...</th>\n",
       "      <td>...</td>\n",
       "      <td>...</td>\n",
       "      <td>...</td>\n",
       "      <td>...</td>\n",
       "      <td>...</td>\n",
       "      <td>...</td>\n",
       "      <td>...</td>\n",
       "      <td>...</td>\n",
       "      <td>...</td>\n",
       "      <td>...</td>\n",
       "      <td>...</td>\n",
       "      <td>...</td>\n",
       "      <td>...</td>\n",
       "      <td>...</td>\n",
       "      <td>...</td>\n",
       "      <td>...</td>\n",
       "      <td>...</td>\n",
       "      <td>...</td>\n",
       "      <td>...</td>\n",
       "      <td>...</td>\n",
       "      <td>...</td>\n",
       "    </tr>\n",
       "    <tr>\n",
       "      <th>372445</th>\n",
       "      <td>25.0</td>\n",
       "      <td>0.0</td>\n",
       "      <td>0.0</td>\n",
       "      <td>0.0</td>\n",
       "      <td>0.0</td>\n",
       "      <td>0.0</td>\n",
       "      <td>0.0</td>\n",
       "      <td>0.0</td>\n",
       "      <td>0.0</td>\n",
       "      <td>0.0</td>\n",
       "      <td>...</td>\n",
       "      <td>0.0</td>\n",
       "      <td>0.0</td>\n",
       "      <td>0.0</td>\n",
       "      <td>0.0</td>\n",
       "      <td>0.0</td>\n",
       "      <td>0.0</td>\n",
       "      <td>0.0</td>\n",
       "      <td>0.0</td>\n",
       "      <td>0.0</td>\n",
       "      <td>0.0</td>\n",
       "    </tr>\n",
       "    <tr>\n",
       "      <th>372446</th>\n",
       "      <td>25.0</td>\n",
       "      <td>0.0</td>\n",
       "      <td>0.0</td>\n",
       "      <td>0.0</td>\n",
       "      <td>0.0</td>\n",
       "      <td>0.0</td>\n",
       "      <td>0.0</td>\n",
       "      <td>0.0</td>\n",
       "      <td>0.0</td>\n",
       "      <td>0.0</td>\n",
       "      <td>...</td>\n",
       "      <td>0.0</td>\n",
       "      <td>0.0</td>\n",
       "      <td>0.0</td>\n",
       "      <td>0.0</td>\n",
       "      <td>0.0</td>\n",
       "      <td>0.0</td>\n",
       "      <td>0.0</td>\n",
       "      <td>0.0</td>\n",
       "      <td>0.0</td>\n",
       "      <td>0.0</td>\n",
       "    </tr>\n",
       "    <tr>\n",
       "      <th>372447</th>\n",
       "      <td>25.0</td>\n",
       "      <td>0.0</td>\n",
       "      <td>0.0</td>\n",
       "      <td>0.0</td>\n",
       "      <td>0.0</td>\n",
       "      <td>0.0</td>\n",
       "      <td>0.0</td>\n",
       "      <td>0.0</td>\n",
       "      <td>0.0</td>\n",
       "      <td>0.0</td>\n",
       "      <td>...</td>\n",
       "      <td>0.0</td>\n",
       "      <td>0.0</td>\n",
       "      <td>0.0</td>\n",
       "      <td>0.0</td>\n",
       "      <td>0.0</td>\n",
       "      <td>0.0</td>\n",
       "      <td>0.0</td>\n",
       "      <td>0.0</td>\n",
       "      <td>0.0</td>\n",
       "      <td>0.0</td>\n",
       "    </tr>\n",
       "    <tr>\n",
       "      <th>372448</th>\n",
       "      <td>25.0</td>\n",
       "      <td>0.0</td>\n",
       "      <td>0.0</td>\n",
       "      <td>0.0</td>\n",
       "      <td>0.0</td>\n",
       "      <td>0.0</td>\n",
       "      <td>0.0</td>\n",
       "      <td>0.0</td>\n",
       "      <td>0.0</td>\n",
       "      <td>0.0</td>\n",
       "      <td>...</td>\n",
       "      <td>0.0</td>\n",
       "      <td>0.0</td>\n",
       "      <td>0.0</td>\n",
       "      <td>0.0</td>\n",
       "      <td>0.0</td>\n",
       "      <td>0.0</td>\n",
       "      <td>0.0</td>\n",
       "      <td>0.0</td>\n",
       "      <td>0.0</td>\n",
       "      <td>0.0</td>\n",
       "    </tr>\n",
       "    <tr>\n",
       "      <th>372449</th>\n",
       "      <td>25.0</td>\n",
       "      <td>0.0</td>\n",
       "      <td>0.0</td>\n",
       "      <td>0.0</td>\n",
       "      <td>0.0</td>\n",
       "      <td>0.0</td>\n",
       "      <td>0.0</td>\n",
       "      <td>0.0</td>\n",
       "      <td>0.0</td>\n",
       "      <td>0.0</td>\n",
       "      <td>...</td>\n",
       "      <td>0.0</td>\n",
       "      <td>0.0</td>\n",
       "      <td>0.0</td>\n",
       "      <td>0.0</td>\n",
       "      <td>0.0</td>\n",
       "      <td>0.0</td>\n",
       "      <td>0.0</td>\n",
       "      <td>0.0</td>\n",
       "      <td>0.0</td>\n",
       "      <td>0.0</td>\n",
       "    </tr>\n",
       "  </tbody>\n",
       "</table>\n",
       "<p>372450 rows × 785 columns</p>\n",
       "</div>"
      ],
      "text/plain": [
       "           0  0.1  0.2  0.3  0.4  0.5  0.6  0.7  0.8  0.9  ...  0.639  0.640  \\\n",
       "0        0.0  0.0  0.0  0.0  0.0  0.0  0.0  0.0  0.0  0.0  ...    0.0    0.0   \n",
       "1        0.0  0.0  0.0  0.0  0.0  0.0  0.0  0.0  0.0  0.0  ...    0.0    0.0   \n",
       "2        0.0  0.0  0.0  0.0  0.0  0.0  0.0  0.0  0.0  0.0  ...    0.0    0.0   \n",
       "3        0.0  0.0  0.0  0.0  0.0  0.0  0.0  0.0  0.0  0.0  ...    0.0    0.0   \n",
       "4        0.0  0.0  0.0  0.0  0.0  0.0  0.0  0.0  0.0  0.0  ...    0.0    0.0   \n",
       "...      ...  ...  ...  ...  ...  ...  ...  ...  ...  ...  ...    ...    ...   \n",
       "372445  25.0  0.0  0.0  0.0  0.0  0.0  0.0  0.0  0.0  0.0  ...    0.0    0.0   \n",
       "372446  25.0  0.0  0.0  0.0  0.0  0.0  0.0  0.0  0.0  0.0  ...    0.0    0.0   \n",
       "372447  25.0  0.0  0.0  0.0  0.0  0.0  0.0  0.0  0.0  0.0  ...    0.0    0.0   \n",
       "372448  25.0  0.0  0.0  0.0  0.0  0.0  0.0  0.0  0.0  0.0  ...    0.0    0.0   \n",
       "372449  25.0  0.0  0.0  0.0  0.0  0.0  0.0  0.0  0.0  0.0  ...    0.0    0.0   \n",
       "\n",
       "        0.641  0.642  0.643  0.644  0.645  0.646  0.647  0.648  \n",
       "0         0.0    0.0    0.0    0.0    0.0    0.0    0.0    0.0  \n",
       "1         0.0    0.0    0.0    0.0    0.0    0.0    0.0    0.0  \n",
       "2         0.0    0.0    0.0    0.0    0.0    0.0    0.0    0.0  \n",
       "3         0.0    0.0    0.0    0.0    0.0    0.0    0.0    0.0  \n",
       "4         0.0    0.0    0.0    0.0    0.0    0.0    0.0    0.0  \n",
       "...       ...    ...    ...    ...    ...    ...    ...    ...  \n",
       "372445    0.0    0.0    0.0    0.0    0.0    0.0    0.0    0.0  \n",
       "372446    0.0    0.0    0.0    0.0    0.0    0.0    0.0    0.0  \n",
       "372447    0.0    0.0    0.0    0.0    0.0    0.0    0.0    0.0  \n",
       "372448    0.0    0.0    0.0    0.0    0.0    0.0    0.0    0.0  \n",
       "372449    0.0    0.0    0.0    0.0    0.0    0.0    0.0    0.0  \n",
       "\n",
       "[372450 rows x 785 columns]"
      ]
     },
     "execution_count": 22,
     "metadata": {},
     "output_type": "execute_result"
    }
   ],
   "source": [
    "dataset_az # classe 25 = letra z cada imagem com 28 x 28 pixels"
   ]
  },
  {
   "cell_type": "code",
   "execution_count": 23,
   "id": "a3d53e7b",
   "metadata": {},
   "outputs": [],
   "source": [
    "alfabeto_data = dataset_az.drop('0', axis = 1) # apaga coluna 0\n",
    "alfabeto_labels = dataset_az['0']"
   ]
  },
  {
   "cell_type": "code",
   "execution_count": 24,
   "id": "5af05f09",
   "metadata": {},
   "outputs": [
    {
     "data": {
      "text/plain": [
       "((372450, 784), (372450,))"
      ]
     },
     "execution_count": 24,
     "metadata": {},
     "output_type": "execute_result"
    }
   ],
   "source": [
    "alfabeto_data.shape, alfabeto_labels.shape"
   ]
  },
  {
   "cell_type": "code",
   "execution_count": 25,
   "id": "bd8f994c",
   "metadata": {},
   "outputs": [
    {
     "data": {
      "text/plain": [
       "0          0.0\n",
       "1          0.0\n",
       "2          0.0\n",
       "3          0.0\n",
       "4          0.0\n",
       "          ... \n",
       "372445    25.0\n",
       "372446    25.0\n",
       "372447    25.0\n",
       "372448    25.0\n",
       "372449    25.0\n",
       "Name: 0, Length: 372450, dtype: float32"
      ]
     },
     "execution_count": 25,
     "metadata": {},
     "output_type": "execute_result"
    }
   ],
   "source": [
    "alfabeto_labels"
   ]
  },
  {
   "cell_type": "code",
   "execution_count": 26,
   "id": "c0b2ab12",
   "metadata": {},
   "outputs": [],
   "source": [
    "alfabeto_data = np.reshape(alfabeto_data.values, (alfabeto_data.shape[0], 28, 28))"
   ]
  },
  {
   "cell_type": "code",
   "execution_count": 27,
   "id": "65d459d5",
   "metadata": {},
   "outputs": [
    {
     "data": {
      "text/plain": [
       "(372450, 28, 28)"
      ]
     },
     "execution_count": 27,
     "metadata": {},
     "output_type": "execute_result"
    }
   ],
   "source": [
    "alfabeto_data.shape # agora sim cada imagem esta na dimensao correta 28x28 com 372 mil imagens"
   ]
  },
  {
   "cell_type": "code",
   "execution_count": 28,
   "id": "1106c9a0",
   "metadata": {},
   "outputs": [
    {
     "data": {
      "image/png": "[encoded data removed]",
      "text/plain": [
       "<Figure size 432x288 with 1 Axes>"
      ]
     },
     "metadata": {
      "needs_background": "light"
     },
     "output_type": "display_data"
    }
   ],
   "source": [
    "indice = np.random.randint(0, alfabeto_data.shape[0])\n",
    "plt.imshow(alfabeto_data[indice], cmap = 'gray')\n",
    "plt.title('Classe ' + str(alfabeto_labels[indice]));"
   ]
  },
  {
   "cell_type": "code",
   "execution_count": 29,
   "id": "6bbd9023",
   "metadata": {},
   "outputs": [
    {
     "name": "stderr",
     "output_type": "stream",
     "text": [
      "d:\\Users\\abrantes\\Anaconda3\\lib\\site-packages\\seaborn\\_decorators.py:36: FutureWarning: Pass the following variable as a keyword arg: x. From version 0.12, the only valid positional argument will be `data`, and passing other arguments without an explicit keyword will result in an error or misinterpretation.\n",
      "  warnings.warn(\n"
     ]
    },
    {
     "data": {
      "image/png": "[encoded data removed]",
      "text/plain": [
       "<Figure size 432x288 with 1 Axes>"
      ]
     },
     "metadata": {
      "needs_background": "light"
     },
     "output_type": "display_data"
    }
   ],
   "source": [
    "sns.countplot(alfabeto_labels);"
   ]
  },
  {
   "cell_type": "code",
   "execution_count": 30,
   "id": "0fa141ed",
   "metadata": {},
   "outputs": [
    {
     "data": {
      "text/plain": [
       "(array([5, 0, 4, ..., 4, 5, 6], dtype=uint8),\n",
       " array([0, 1, 2, 3, 4, 5, 6, 7, 8, 9], dtype=uint8))"
      ]
     },
     "execution_count": 30,
     "metadata": {},
     "output_type": "execute_result"
    }
   ],
   "source": [
    "# juntando as duas bases de dados minist da 0 a 9 e a base do kaggle de a a Z\n",
    "digitos_labels, np.unique(digitos_labels)"
   ]
  },
  {
   "cell_type": "code",
   "execution_count": 31,
   "id": "59587b14",
   "metadata": {},
   "outputs": [
    {
     "data": {
      "text/plain": [
       "(0          0.0\n",
       " 1          0.0\n",
       " 2          0.0\n",
       " 3          0.0\n",
       " 4          0.0\n",
       "           ... \n",
       " 372445    25.0\n",
       " 372446    25.0\n",
       " 372447    25.0\n",
       " 372448    25.0\n",
       " 372449    25.0\n",
       " Name: 0, Length: 372450, dtype: float32,\n",
       " array([ 0.,  1.,  2.,  3.,  4.,  5.,  6.,  7.,  8.,  9., 10., 11., 12.,\n",
       "        13., 14., 15., 16., 17., 18., 19., 20., 21., 22., 23., 24., 25.],\n",
       "       dtype=float32))"
      ]
     },
     "execution_count": 31,
     "metadata": {},
     "output_type": "execute_result"
    }
   ],
   "source": [
    "alfabeto_labels, np.unique(alfabeto_labels)"
   ]
  },
  {
   "cell_type": "code",
   "execution_count": 32,
   "id": "ad3bb08b",
   "metadata": {},
   "outputs": [],
   "source": [
    "alfabeto_labels += 10"
   ]
  },
  {
   "cell_type": "code",
   "execution_count": 33,
   "id": "dfa281dd",
   "metadata": {},
   "outputs": [
    {
     "data": {
      "text/plain": [
       "(0         10.0\n",
       " 1         10.0\n",
       " 2         10.0\n",
       " 3         10.0\n",
       " 4         10.0\n",
       "           ... \n",
       " 372445    35.0\n",
       " 372446    35.0\n",
       " 372447    35.0\n",
       " 372448    35.0\n",
       " 372449    35.0\n",
       " Name: 0, Length: 372450, dtype: float32,\n",
       " array([10., 11., 12., 13., 14., 15., 16., 17., 18., 19., 20., 21., 22.,\n",
       "        23., 24., 25., 26., 27., 28., 29., 30., 31., 32., 33., 34., 35.],\n",
       "       dtype=float32))"
      ]
     },
     "execution_count": 33,
     "metadata": {},
     "output_type": "execute_result"
    }
   ],
   "source": [
    "alfabeto_labels, np.unique(alfabeto_labels)"
   ]
  },
  {
   "cell_type": "code",
   "execution_count": 34,
   "id": "5b30b894",
   "metadata": {},
   "outputs": [
    {
     "data": {
      "text/plain": [
       "((442450, 28, 28), (442450,))"
      ]
     },
     "execution_count": 34,
     "metadata": {},
     "output_type": "execute_result"
    }
   ],
   "source": [
    "data = np.vstack([alfabeto_data, digitos_data])\n",
    "labels = np.hstack([alfabeto_labels, digitos_labels])\n",
    "data.shape, labels.shape"
   ]
  },
  {
   "cell_type": "code",
   "execution_count": 35,
   "id": "f2a937ac",
   "metadata": {},
   "outputs": [
    {
     "data": {
      "text/plain": [
       "(442450, 28, 28)"
      ]
     },
     "execution_count": 35,
     "metadata": {},
     "output_type": "execute_result"
    }
   ],
   "source": [
    "data = np.array(data, dtype='float32')\n",
    "data.shape"
   ]
  },
  {
   "cell_type": "code",
   "execution_count": 36,
   "id": "7a7877e5",
   "metadata": {},
   "outputs": [],
   "source": [
    "data = np.expand_dims(data, axis = -1) # acessamos a última posição (-1)"
   ]
  },
  {
   "cell_type": "code",
   "execution_count": 37,
   "id": "3cc90552",
   "metadata": {},
   "outputs": [
    {
     "data": {
      "text/plain": [
       "(442450, 28, 28, 1)"
      ]
     },
     "execution_count": 37,
     "metadata": {},
     "output_type": "execute_result"
    }
   ],
   "source": [
    "data.shape"
   ]
  },
  {
   "cell_type": "code",
   "execution_count": 38,
   "id": "2ae2724e",
   "metadata": {},
   "outputs": [
    {
     "data": {
      "text/plain": [
       "(0.0, 255.0)"
      ]
     },
     "execution_count": 38,
     "metadata": {},
     "output_type": "execute_result"
    }
   ],
   "source": [
    "# Pré processamento\n",
    "data[0].min(), data[0].max()"
   ]
  },
  {
   "cell_type": "code",
   "execution_count": 39,
   "id": "a93230af",
   "metadata": {},
   "outputs": [],
   "source": [
    "data /= 255.0 # normalização dos dados para 0 a 1"
   ]
  },
  {
   "cell_type": "code",
   "execution_count": 40,
   "id": "34a4a36d",
   "metadata": {},
   "outputs": [
    {
     "data": {
      "text/plain": [
       "(0.0, 1.0)"
      ]
     },
     "execution_count": 40,
     "metadata": {},
     "output_type": "execute_result"
    }
   ],
   "source": [
    "data[0].min(), data[0].max()"
   ]
  },
  {
   "cell_type": "code",
   "execution_count": 41,
   "id": "a988c80e",
   "metadata": {},
   "outputs": [
    {
     "data": {
      "text/plain": [
       "array([ 0.,  1.,  2.,  3.,  4.,  5.,  6.,  7.,  8.,  9., 10., 11., 12.,\n",
       "       13., 14., 15., 16., 17., 18., 19., 20., 21., 22., 23., 24., 25.,\n",
       "       26., 27., 28., 29., 30., 31., 32., 33., 34., 35.], dtype=float32)"
      ]
     },
     "execution_count": 41,
     "metadata": {},
     "output_type": "execute_result"
    }
   ],
   "source": [
    "np.unique(labels) # labels de 0 a 35"
   ]
  },
  {
   "cell_type": "code",
   "execution_count": 42,
   "id": "cf97edbb",
   "metadata": {},
   "outputs": [],
   "source": [
    "le = LabelBinarizer() # OneHotEncoder\n",
    "labels = le.fit_transform(labels)"
   ]
  },
  {
   "cell_type": "code",
   "execution_count": 43,
   "id": "ca4f40c9",
   "metadata": {},
   "outputs": [
    {
     "data": {
      "text/plain": [
       "array([0, 1])"
      ]
     },
     "execution_count": 43,
     "metadata": {},
     "output_type": "execute_result"
    }
   ],
   "source": [
    "np.unique(labels) # agora temos valores 0 e 1 "
   ]
  },
  {
   "cell_type": "code",
   "execution_count": 44,
   "id": "e7654a1e",
   "metadata": {},
   "outputs": [
    {
     "data": {
      "text/plain": [
       "array([0, 0, 0, 0, 0, 0, 0, 0, 0, 0, 1, 0, 0, 0, 0, 0, 0, 0, 0, 0, 0, 0,\n",
       "       0, 0, 0, 0, 0, 0, 0, 0, 0, 0, 0, 0, 0, 0])"
      ]
     },
     "execution_count": 44,
     "metadata": {},
     "output_type": "execute_result"
    }
   ],
   "source": [
    "labels[0] # note que abriu-se 36 = 26 letras + 10 dígitos, novas colunas uma para cada classe"
   ]
  },
  {
   "cell_type": "code",
   "execution_count": 45,
   "id": "74683836",
   "metadata": {},
   "outputs": [
    {
     "data": {
      "text/plain": [
       "(array([0, 0, 0, 0, 0, 0, 0, 0, 0, 0, 0, 0, 1, 0, 0, 0, 0, 0, 0, 0, 0, 0,\n",
       "        0, 0, 0, 0, 0, 0, 0, 0, 0, 0, 0, 0, 0, 0]),\n",
       " 36,\n",
       " 36)"
      ]
     },
     "execution_count": 45,
     "metadata": {},
     "output_type": "execute_result"
    }
   ],
   "source": [
    "labels[30000], len(labels[30000]), 26 + 10 # a imagem 30 mil é a letra M "
   ]
  },
  {
   "cell_type": "code",
   "execution_count": 46,
   "id": "d85c6713",
   "metadata": {},
   "outputs": [
    {
     "data": {
      "text/plain": [
       "array([ 6903,  7877,  6990,  7141,  6824,  6313,  6876,  7293,  6825,\n",
       "        6958, 13869,  8668, 23409, 10134, 11440,  1163,  5762,  7218,\n",
       "        1120,  8493,  5603, 11586, 12336, 19010, 57825, 19341,  5812,\n",
       "       11566, 48419, 22495, 29008,  4182, 10784,  6272, 10859,  6076])"
      ]
     },
     "execution_count": 46,
     "metadata": {},
     "output_type": "execute_result"
    }
   ],
   "source": [
    "classes_total = labels.sum(axis=0) # quantidade de registros por classe\n",
    "classes_total"
   ]
  },
  {
   "cell_type": "code",
   "execution_count": 47,
   "id": "3fc72f3b",
   "metadata": {},
   "outputs": [
    {
     "data": {
      "text/plain": [
       "57825"
      ]
     },
     "execution_count": 47,
     "metadata": {},
     "output_type": "execute_result"
    }
   ],
   "source": [
    "classes_total.max()"
   ]
  },
  {
   "cell_type": "code",
   "execution_count": 48,
   "id": "11c29ac7",
   "metadata": {},
   "outputs": [
    {
     "data": {
      "image/png": "[encoded data removed]",
      "text/plain": [
       "<Figure size 432x288 with 1 Axes>"
      ]
     },
     "metadata": {
      "needs_background": "light"
     },
     "output_type": "display_data"
    }
   ],
   "source": [
    "plt.imshow(data[0].reshape(28,28), cmap='gray') # letra A logo depois do 0-9\n",
    "plt.title(str(labels[0]));"
   ]
  },
  {
   "cell_type": "code",
   "execution_count": 49,
   "id": "c1aa83c6",
   "metadata": {},
   "outputs": [
    {
     "name": "stderr",
     "output_type": "stream",
     "text": [
      "d:\\Users\\abrantes\\Anaconda3\\lib\\site-packages\\seaborn\\_decorators.py:36: FutureWarning: Pass the following variable as a keyword arg: x. From version 0.12, the only valid positional argument will be `data`, and passing other arguments without an explicit keyword will result in an error or misinterpretation.\n",
      "  warnings.warn(\n"
     ]
    },
    {
     "data": {
      "text/plain": [
       "<AxesSubplot:xlabel='0', ylabel='count'>"
      ]
     },
     "execution_count": 49,
     "metadata": {},
     "output_type": "execute_result"
    },
    {
     "data": {
      "image/png": "[encoded data removed]",
      "text/plain": [
       "<Figure size 432x288 with 1 Axes>"
      ]
     },
     "metadata": {
      "needs_background": "light"
     },
     "output_type": "display_data"
    }
   ],
   "source": [
    "sns.countplot(alfabeto_labels) # letra O  é a que mais aparece, F e I temos poucos"
   ]
  },
  {
   "cell_type": "code",
   "execution_count": 50,
   "id": "198b50f7",
   "metadata": {},
   "outputs": [
    {
     "data": {
      "text/plain": [
       "{0: 8.376792698826597,\n",
       " 1: 7.340992763742541,\n",
       " 2: 8.272532188841202,\n",
       " 3: 8.097605377398123,\n",
       " 4: 8.473769050410317,\n",
       " 5: 9.15967052114684,\n",
       " 6: 8.409685863874346,\n",
       " 7: 7.928835870012341,\n",
       " 8: 8.472527472527473,\n",
       " 9: 8.310577752227651,\n",
       " 10: 4.169370538611291,\n",
       " 11: 6.671089063221043,\n",
       " 12: 2.4702037677816224,\n",
       " 13: 5.7060390763765545,\n",
       " 14: 5.0546328671328675,\n",
       " 15: 49.72055030094583,\n",
       " 16: 10.035577924331829,\n",
       " 17: 8.011221945137157,\n",
       " 18: 51.629464285714285,\n",
       " 19: 6.808548216178029,\n",
       " 20: 10.320364090665715,\n",
       " 21: 4.990937338166753,\n",
       " 22: 4.6875,\n",
       " 23: 3.0418200946870066,\n",
       " 24: 1.0,\n",
       " 25: 2.989762680316426,\n",
       " 26: 9.94924294562973,\n",
       " 27: 4.999567698426422,\n",
       " 28: 1.1942625828703608,\n",
       " 29: 2.5705712380529007,\n",
       " 30: 1.993415609487038,\n",
       " 31: 13.827116212338593,\n",
       " 32: 5.362110534124629,\n",
       " 33: 9.21954719387755,\n",
       " 34: 5.3250759738465785,\n",
       " 35: 9.51695194206715}"
      ]
     },
     "execution_count": 50,
     "metadata": {},
     "output_type": "execute_result"
    }
   ],
   "source": [
    "# como classe esta desbalanceada vamos dar psos, letra O = classe 24 tera peso menrr = 1\n",
    "classes_peso = {}\n",
    "for i in range(0, len(classes_total)):\n",
    "  #print(i)\n",
    "  classes_peso[i] = classes_total.max() / classes_total[i]\n",
    "classes_peso"
   ]
  },
  {
   "cell_type": "code",
   "execution_count": 51,
   "id": "c76ab205",
   "metadata": {},
   "outputs": [],
   "source": [
    "# teste com 20% dos dados\n",
    "X_train, X_test, y_train, y_test = train_test_split(data, labels, test_size=0.2, stratify=labels, random_state = 1)"
   ]
  },
  {
   "cell_type": "code",
   "execution_count": 52,
   "id": "60b659da",
   "metadata": {},
   "outputs": [
    {
     "data": {
      "text/plain": [
       "((353960, 28, 28, 1), (88490, 28, 28, 1))"
      ]
     },
     "execution_count": 52,
     "metadata": {},
     "output_type": "execute_result"
    }
   ],
   "source": [
    "X_train.shape, X_test.shape"
   ]
  },
  {
   "cell_type": "code",
   "execution_count": 53,
   "id": "20ef3b76",
   "metadata": {},
   "outputs": [
    {
     "data": {
      "text/plain": [
       "((353960, 36), (88490, 36))"
      ]
     },
     "execution_count": 53,
     "metadata": {},
     "output_type": "execute_result"
    }
   ],
   "source": [
    "y_train.shape, y_test.shape"
   ]
  },
  {
   "cell_type": "code",
   "execution_count": 54,
   "id": "5c2e4a9e",
   "metadata": {},
   "outputs": [],
   "source": [
    "from tensorflow.keras.preprocessing.image import ImageDataGenerator"
   ]
  },
  {
   "cell_type": "code",
   "execution_count": 55,
   "id": "c0f1f6f7",
   "metadata": {},
   "outputs": [],
   "source": [
    "augmentation = ImageDataGenerator(rotation_range=10, zoom_range=0.05, width_shift_range=0.1,\n",
    "                                  height_shift_range=0.1, horizontal_flip = False)"
   ]
  },
  {
   "cell_type": "code",
   "execution_count": 56,
   "id": "ced3045c",
   "metadata": {},
   "outputs": [],
   "source": [
    "#Criação da estrutura da rede neural\n",
    "from tensorflow.keras.models import Sequential\n",
    "from tensorflow.keras.layers import Conv2D, MaxPool2D, Flatten, Dense\n",
    "from tensorflow.keras.callbacks import ModelCheckpoint"
   ]
  },
  {
   "cell_type": "code",
   "execution_count": 57,
   "id": "8339a54a",
   "metadata": {},
   "outputs": [],
   "source": [
    "rede_neural = Sequential()\n",
    "\n",
    "rede_neural.add(Conv2D(filters=32, kernel_size=(3,3), activation='relu', input_shape=(28,28,1)))\n",
    "rede_neural.add(MaxPool2D(pool_size=(2,2)))\n",
    "\n",
    "#Padding: https://www.pico.net/kb/what-is-the-difference-between-same-and-valid-padding-in-tf-nn-max-pool-of-tensorflow\n",
    "rede_neural.add(Conv2D(filters=64, kernel_size=(3,3), activation='relu', padding='same'))\n",
    "rede_neural.add(MaxPool2D(pool_size=(2,2)))\n",
    "\n",
    "rede_neural.add(Conv2D(filters=128, kernel_size=(3,3), activation='relu', padding='valid'))\n",
    "rede_neural.add(MaxPool2D(pool_size=(2,2)))\n",
    "\n",
    "rede_neural.add(Flatten()) # camada que transforma matriz em vetor\n",
    "\n",
    "rede_neural.add(Dense(64, activation='relu'))\n",
    "rede_neural.add(Dense(128, activation='relu'))\n",
    "\n",
    "rede_neural.add(Dense(36, activation='softmax')) # camada de saída\n",
    "\n",
    "rede_neural.compile(loss = 'categorical_crossentropy', optimizer = 'adam', metrics = ['accuracy'])"
   ]
  },
  {
   "cell_type": "code",
   "execution_count": 58,
   "id": "6e9fe33e",
   "metadata": {},
   "outputs": [
    {
     "name": "stdout",
     "output_type": "stream",
     "text": [
      "Model: \"sequential\"\n",
      "_________________________________________________________________\n",
      " Layer (type)                Output Shape              Param #   \n",
      "=================================================================\n",
      " conv2d (Conv2D)             (None, 26, 26, 32)        320       \n",
      "                                                                 \n",
      " max_pooling2d (MaxPooling2D  (None, 13, 13, 32)       0         \n",
      " )                                                               \n",
      "                                                                 \n",
      " conv2d_1 (Conv2D)           (None, 13, 13, 64)        18496     \n",
      "                                                                 \n",
      " max_pooling2d_1 (MaxPooling  (None, 6, 6, 64)         0         \n",
      " 2D)                                                             \n",
      "                                                                 \n",
      " conv2d_2 (Conv2D)           (None, 4, 4, 128)         73856     \n",
      "                                                                 \n",
      " max_pooling2d_2 (MaxPooling  (None, 2, 2, 128)        0         \n",
      " 2D)                                                             \n",
      "                                                                 \n",
      " flatten (Flatten)           (None, 512)               0         \n",
      "                                                                 \n",
      " dense (Dense)               (None, 64)                32832     \n",
      "                                                                 \n",
      " dense_1 (Dense)             (None, 128)               8320      \n",
      "                                                                 \n",
      " dense_2 (Dense)             (None, 36)                4644      \n",
      "                                                                 \n",
      "=================================================================\n",
      "Total params: 138,468\n",
      "Trainable params: 138,468\n",
      "Non-trainable params: 0\n",
      "_________________________________________________________________\n"
     ]
    }
   ],
   "source": [
    "rede_neural.summary()"
   ]
  },
  {
   "cell_type": "code",
   "execution_count": 59,
   "id": "f6044cde",
   "metadata": {},
   "outputs": [],
   "source": [
    "nomes_labels = '0123456789'\n",
    "nomes_labels += 'ABCDEFGHIJKLMNOPQRSTUVWXYZ'\n",
    "nomes_labels = [l for l in nomes_labels]"
   ]
  },
  {
   "cell_type": "code",
   "execution_count": 60,
   "id": "b86f4f47",
   "metadata": {},
   "outputs": [
    {
     "name": "stdout",
     "output_type": "stream",
     "text": [
      "['0', '1', '2', '3', '4', '5', '6', '7', '8', '9', 'A', 'B', 'C', 'D', 'E', 'F', 'G', 'H', 'I', 'J', 'K', 'L', 'M', 'N', 'O', 'P', 'Q', 'R', 'S', 'T', 'U', 'V', 'W', 'X', 'Y', 'Z']\n"
     ]
    }
   ],
   "source": [
    "print(nomes_labels)"
   ]
  },
  {
   "cell_type": "code",
   "execution_count": 61,
   "id": "98fdde18",
   "metadata": {},
   "outputs": [],
   "source": [
    "# Treinamento da rede neural\n",
    "arquivo_modelo = 'manuscrito.model'\n",
    "epochs = 20\n",
    "batch_size = 128"
   ]
  },
  {
   "cell_type": "code",
   "execution_count": 62,
   "id": "24fc67ff",
   "metadata": {},
   "outputs": [],
   "source": [
    "checkpointer = ModelCheckpoint(arquivo_modelo, monitor='val_loss', verbose=1, save_best_only=True)"
   ]
  },
  {
   "cell_type": "code",
   "execution_count": 63,
   "id": "643de62d",
   "metadata": {},
   "outputs": [
    {
     "data": {
      "text/plain": [
       "2765"
      ]
     },
     "execution_count": 63,
     "metadata": {},
     "output_type": "execute_result"
    }
   ],
   "source": [
    "len(X_train) // batch_size"
   ]
  },
  {
   "cell_type": "code",
   "execution_count": 64,
   "id": "e0f87e30",
   "metadata": {},
   "outputs": [
    {
     "name": "stdout",
     "output_type": "stream",
     "text": [
      "Epoch 1/20\n",
      "2765/2765 [==============================] - ETA: 0s - loss: 2.1669 - accuracy: 0.8280\n",
      "Epoch 1: val_loss improved from inf to 0.25098, saving model to manuscrito.model\n"
     ]
    },
    {
     "name": "stderr",
     "output_type": "stream",
     "text": [
      "WARNING:absl:Found untraced functions such as _jit_compiled_convolution_op, _jit_compiled_convolution_op, _jit_compiled_convolution_op, _update_step_xla while saving (showing 4 of 4). These functions will not be directly callable after loading.\n"
     ]
    },
    {
     "name": "stdout",
     "output_type": "stream",
     "text": [
      "INFO:tensorflow:Assets written to: manuscrito.model\\assets\n"
     ]
    },
    {
     "name": "stderr",
     "output_type": "stream",
     "text": [
      "INFO:tensorflow:Assets written to: manuscrito.model\\assets\n"
     ]
    },
    {
     "name": "stdout",
     "output_type": "stream",
     "text": [
      "2765/2765 [==============================] - 226s 81ms/step - loss: 2.1669 - accuracy: 0.8280 - val_loss: 0.2510 - val_accuracy: 0.9000\n",
      "Epoch 2/20\n",
      "2765/2765 [==============================] - ETA: 0s - loss: 0.9609 - accuracy: 0.9020\n",
      "Epoch 2: val_loss did not improve from 0.25098\n",
      "2765/2765 [==============================] - 222s 80ms/step - loss: 0.9609 - accuracy: 0.9020 - val_loss: 0.2992 - val_accuracy: 0.8705\n",
      "Epoch 3/20\n",
      "2765/2765 [==============================] - ETA: 0s - loss: 0.8001 - accuracy: 0.9146\n",
      "Epoch 3: val_loss improved from 0.25098 to 0.24533, saving model to manuscrito.model\n"
     ]
    },
    {
     "name": "stderr",
     "output_type": "stream",
     "text": [
      "WARNING:absl:Found untraced functions such as _jit_compiled_convolution_op, _jit_compiled_convolution_op, _jit_compiled_convolution_op, _update_step_xla while saving (showing 4 of 4). These functions will not be directly callable after loading.\n"
     ]
    },
    {
     "name": "stdout",
     "output_type": "stream",
     "text": [
      "INFO:tensorflow:Assets written to: manuscrito.model\\assets\n"
     ]
    },
    {
     "name": "stderr",
     "output_type": "stream",
     "text": [
      "INFO:tensorflow:Assets written to: manuscrito.model\\assets\n"
     ]
    },
    {
     "name": "stdout",
     "output_type": "stream",
     "text": [
      "2765/2765 [==============================] - 218s 79ms/step - loss: 0.8001 - accuracy: 0.9146 - val_loss: 0.2453 - val_accuracy: 0.9015\n",
      "Epoch 4/20\n",
      "2765/2765 [==============================] - ETA: 0s - loss: 0.6980 - accuracy: 0.9229\n",
      "Epoch 4: val_loss did not improve from 0.24533\n",
      "2765/2765 [==============================] - 208s 75ms/step - loss: 0.6980 - accuracy: 0.9229 - val_loss: 0.2706 - val_accuracy: 0.8797\n",
      "Epoch 5/20\n",
      "2765/2765 [==============================] - ETA: 0s - loss: 0.6443 - accuracy: 0.9275\n",
      "Epoch 5: val_loss did not improve from 0.24533\n",
      "2765/2765 [==============================] - 200s 72ms/step - loss: 0.6443 - accuracy: 0.9275 - val_loss: 0.2926 - val_accuracy: 0.8778\n",
      "Epoch 6/20\n",
      "2765/2765 [==============================] - ETA: 0s - loss: 0.6069 - accuracy: 0.9308\n",
      "Epoch 6: val_loss did not improve from 0.24533\n",
      "2765/2765 [==============================] - 196s 71ms/step - loss: 0.6069 - accuracy: 0.9308 - val_loss: 0.2830 - val_accuracy: 0.8846\n",
      "Epoch 7/20\n",
      "2765/2765 [==============================] - ETA: 0s - loss: 0.5685 - accuracy: 0.9344\n",
      "Epoch 7: val_loss did not improve from 0.24533\n",
      "2765/2765 [==============================] - 192s 69ms/step - loss: 0.5685 - accuracy: 0.9344 - val_loss: 0.3604 - val_accuracy: 0.8578\n",
      "Epoch 8/20\n",
      "2765/2765 [==============================] - ETA: 0s - loss: 0.5390 - accuracy: 0.9350\n",
      "Epoch 8: val_loss did not improve from 0.24533\n",
      "2765/2765 [==============================] - 191s 69ms/step - loss: 0.5390 - accuracy: 0.9350 - val_loss: 0.2584 - val_accuracy: 0.8849\n",
      "Epoch 9/20\n",
      "2765/2765 [==============================] - ETA: 0s - loss: 0.5263 - accuracy: 0.9373\n",
      "Epoch 9: val_loss improved from 0.24533 to 0.15879, saving model to manuscrito.model\n"
     ]
    },
    {
     "name": "stderr",
     "output_type": "stream",
     "text": [
      "WARNING:absl:Found untraced functions such as _jit_compiled_convolution_op, _jit_compiled_convolution_op, _jit_compiled_convolution_op, _update_step_xla while saving (showing 4 of 4). These functions will not be directly callable after loading.\n"
     ]
    },
    {
     "name": "stdout",
     "output_type": "stream",
     "text": [
      "INFO:tensorflow:Assets written to: manuscrito.model\\assets\n"
     ]
    },
    {
     "name": "stderr",
     "output_type": "stream",
     "text": [
      "INFO:tensorflow:Assets written to: manuscrito.model\\assets\n"
     ]
    },
    {
     "name": "stdout",
     "output_type": "stream",
     "text": [
      "2765/2765 [==============================] - 192s 69ms/step - loss: 0.5263 - accuracy: 0.9373 - val_loss: 0.1588 - val_accuracy: 0.9404\n",
      "Epoch 10/20\n",
      "2765/2765 [==============================] - ETA: 0s - loss: 0.4999 - accuracy: 0.9392\n",
      "Epoch 10: val_loss did not improve from 0.15879\n",
      "2765/2765 [==============================] - 190s 69ms/step - loss: 0.4999 - accuracy: 0.9392 - val_loss: 0.2142 - val_accuracy: 0.9134\n",
      "Epoch 11/20\n",
      "2765/2765 [==============================] - ETA: 0s - loss: 0.4901 - accuracy: 0.9399\n",
      "Epoch 11: val_loss did not improve from 0.15879\n",
      "2765/2765 [==============================] - 192s 69ms/step - loss: 0.4901 - accuracy: 0.9399 - val_loss: 0.2457 - val_accuracy: 0.8998\n",
      "Epoch 12/20\n",
      "2765/2765 [==============================] - ETA: 0s - loss: 0.4792 - accuracy: 0.9414\n",
      "Epoch 12: val_loss did not improve from 0.15879\n",
      "2765/2765 [==============================] - 192s 69ms/step - loss: 0.4792 - accuracy: 0.9414 - val_loss: 0.2691 - val_accuracy: 0.8876\n",
      "Epoch 13/20\n",
      "2765/2765 [==============================] - ETA: 0s - loss: 0.4586 - accuracy: 0.9436\n",
      "Epoch 13: val_loss did not improve from 0.15879\n",
      "2765/2765 [==============================] - 192s 70ms/step - loss: 0.4586 - accuracy: 0.9436 - val_loss: 0.2338 - val_accuracy: 0.9022\n",
      "Epoch 14/20\n",
      "2765/2765 [==============================] - ETA: 0s - loss: 0.4537 - accuracy: 0.9444\n",
      "Epoch 14: val_loss did not improve from 0.15879\n",
      "2765/2765 [==============================] - 188s 68ms/step - loss: 0.4537 - accuracy: 0.9444 - val_loss: 0.1936 - val_accuracy: 0.9164\n",
      "Epoch 15/20\n",
      "2765/2765 [==============================] - ETA: 0s - loss: 0.4415 - accuracy: 0.9454\n",
      "Epoch 15: val_loss did not improve from 0.15879\n",
      "2765/2765 [==============================] - 190s 69ms/step - loss: 0.4415 - accuracy: 0.9454 - val_loss: 0.2302 - val_accuracy: 0.8880\n",
      "Epoch 16/20\n",
      "2765/2765 [==============================] - ETA: 0s - loss: 0.4386 - accuracy: 0.9458\n",
      "Epoch 16: val_loss did not improve from 0.15879\n",
      "2765/2765 [==============================] - 193s 70ms/step - loss: 0.4386 - accuracy: 0.9458 - val_loss: 0.1889 - val_accuracy: 0.9313\n",
      "Epoch 17/20\n",
      "2765/2765 [==============================] - ETA: 0s - loss: 0.4237 - accuracy: 0.9475\n",
      "Epoch 17: val_loss did not improve from 0.15879\n",
      "2765/2765 [==============================] - 194s 70ms/step - loss: 0.4237 - accuracy: 0.9475 - val_loss: 0.1650 - val_accuracy: 0.9337\n",
      "Epoch 18/20\n",
      "2765/2765 [==============================] - ETA: 0s - loss: 0.4148 - accuracy: 0.9484\n",
      "Epoch 18: val_loss improved from 0.15879 to 0.15714, saving model to manuscrito.model\n"
     ]
    },
    {
     "name": "stderr",
     "output_type": "stream",
     "text": [
      "WARNING:absl:Found untraced functions such as _jit_compiled_convolution_op, _jit_compiled_convolution_op, _jit_compiled_convolution_op, _update_step_xla while saving (showing 4 of 4). These functions will not be directly callable after loading.\n"
     ]
    },
    {
     "name": "stdout",
     "output_type": "stream",
     "text": [
      "INFO:tensorflow:Assets written to: manuscrito.model\\assets\n"
     ]
    },
    {
     "name": "stderr",
     "output_type": "stream",
     "text": [
      "INFO:tensorflow:Assets written to: manuscrito.model\\assets\n"
     ]
    },
    {
     "name": "stdout",
     "output_type": "stream",
     "text": [
      "2765/2765 [==============================] - 196s 71ms/step - loss: 0.4148 - accuracy: 0.9484 - val_loss: 0.1571 - val_accuracy: 0.9383\n",
      "Epoch 19/20\n",
      "2765/2765 [==============================] - ETA: 0s - loss: 0.4114 - accuracy: 0.9489\n",
      "Epoch 19: val_loss did not improve from 0.15714\n",
      "2765/2765 [==============================] - 194s 70ms/step - loss: 0.4114 - accuracy: 0.9489 - val_loss: 0.2052 - val_accuracy: 0.9125\n",
      "Epoch 20/20\n",
      "2765/2765 [==============================] - ETA: 0s - loss: 0.4037 - accuracy: 0.9501\n",
      "Epoch 20: val_loss improved from 0.15714 to 0.12042, saving model to manuscrito.model\n"
     ]
    },
    {
     "name": "stderr",
     "output_type": "stream",
     "text": [
      "WARNING:absl:Found untraced functions such as _jit_compiled_convolution_op, _jit_compiled_convolution_op, _jit_compiled_convolution_op, _update_step_xla while saving (showing 4 of 4). These functions will not be directly callable after loading.\n"
     ]
    },
    {
     "name": "stdout",
     "output_type": "stream",
     "text": [
      "INFO:tensorflow:Assets written to: manuscrito.model\\assets\n"
     ]
    },
    {
     "name": "stderr",
     "output_type": "stream",
     "text": [
      "INFO:tensorflow:Assets written to: manuscrito.model\\assets\n"
     ]
    },
    {
     "name": "stdout",
     "output_type": "stream",
     "text": [
      "2765/2765 [==============================] - 194s 70ms/step - loss: 0.4037 - accuracy: 0.9501 - val_loss: 0.1204 - val_accuracy: 0.9623\n"
     ]
    }
   ],
   "source": [
    "history = rede_neural.fit(augmentation.flow(X_train, y_train, batch_size=batch_size),\n",
    "                                            validation_data = (X_test, y_test),\n",
    "                                            steps_per_epoch = len(X_train) // batch_size,\n",
    "                                            epochs = epochs,\n",
    "                                            class_weight = classes_peso,\n",
    "                                            verbose=1, callbacks=[checkpointer])"
   ]
  },
  {
   "cell_type": "code",
   "execution_count": 65,
   "id": "2e254b03",
   "metadata": {},
   "outputs": [
    {
     "data": {
      "text/plain": [
       "(88490, 28, 28, 1)"
      ]
     },
     "execution_count": 65,
     "metadata": {},
     "output_type": "execute_result"
    }
   ],
   "source": [
    "X_test.shape"
   ]
  },
  {
   "cell_type": "code",
   "execution_count": 66,
   "id": "c8f00168",
   "metadata": {},
   "outputs": [
    {
     "name": "stdout",
     "output_type": "stream",
     "text": [
      "692/692 [==============================] - 10s 15ms/step\n"
     ]
    }
   ],
   "source": [
    "previsoes = rede_neural.predict(X_test, batch_size=batch_size)"
   ]
  },
  {
   "cell_type": "code",
   "execution_count": 67,
   "id": "dbce9f26",
   "metadata": {},
   "outputs": [
    {
     "data": {
      "text/plain": [
       "array([[2.7291074e-01, 1.4711177e-10, 5.8298730e-09, ..., 2.4321357e-16,\n",
       "        2.5898290e-09, 4.0816450e-13],\n",
       "       [3.1354876e-26, 1.2530980e-11, 5.5520575e-12, ..., 4.2943516e-15,\n",
       "        3.8681579e-14, 3.3427785e-12],\n",
       "       [1.0121894e-10, 7.4642363e-09, 4.0415147e-11, ..., 1.8102686e-11,\n",
       "        3.6062189e-10, 6.0769738e-13],\n",
       "       ...,\n",
       "       [2.2593354e-01, 2.2499667e-07, 3.0655381e-06, ..., 1.5033072e-11,\n",
       "        1.0810897e-06, 1.1586839e-09],\n",
       "       [1.9953711e-20, 1.4524712e-12, 1.6648473e-08, ..., 9.9998713e-01,\n",
       "        5.5625264e-06, 8.0829826e-10],\n",
       "       [3.6995303e-12, 4.1713848e-17, 5.2837038e-14, ..., 2.2073683e-23,\n",
       "        4.5646500e-13, 2.5874452e-13]], dtype=float32)"
      ]
     },
     "execution_count": 67,
     "metadata": {},
     "output_type": "execute_result"
    }
   ],
   "source": [
    "previsoes"
   ]
  },
  {
   "cell_type": "code",
   "execution_count": 68,
   "id": "1bb0fdc8",
   "metadata": {},
   "outputs": [
    {
     "data": {
      "text/plain": [
       "array([2.7291074e-01, 1.4711177e-10, 5.8298730e-09, 6.3219444e-13,\n",
       "       3.2414277e-10, 4.2373967e-09, 4.8353379e-09, 2.3451505e-11,\n",
       "       3.8599438e-10, 6.1530647e-09, 1.9982030e-08, 5.3750068e-08,\n",
       "       3.4676543e-07, 8.8429321e-03, 2.7835843e-09, 2.7232381e-17,\n",
       "       3.4776653e-09, 9.1887531e-12, 3.1238073e-15, 3.9291422e-07,\n",
       "       1.1256792e-11, 5.0583587e-10, 8.1637697e-11, 7.1418167e-06,\n",
       "       7.1794075e-01, 1.1136318e-05, 2.8022251e-04, 5.3291195e-12,\n",
       "       2.8022033e-08, 6.8443029e-09, 6.1822720e-06, 3.1217916e-13,\n",
       "       1.6100541e-08, 2.4321357e-16, 2.5898290e-09, 4.0816450e-13],\n",
       "      dtype=float32)"
      ]
     },
     "execution_count": 68,
     "metadata": {},
     "output_type": "execute_result"
    }
   ],
   "source": [
    "previsoes[0]"
   ]
  },
  {
   "cell_type": "code",
   "execution_count": 69,
   "id": "fe3a1349",
   "metadata": {},
   "outputs": [
    {
     "data": {
      "text/plain": [
       "36"
      ]
     },
     "execution_count": 69,
     "metadata": {},
     "output_type": "execute_result"
    }
   ],
   "source": [
    "len(previsoes[0])"
   ]
  },
  {
   "cell_type": "code",
   "execution_count": 70,
   "id": "7c136d97",
   "metadata": {},
   "outputs": [
    {
     "data": {
      "text/plain": [
       "24"
      ]
     },
     "execution_count": 70,
     "metadata": {},
     "output_type": "execute_result"
    }
   ],
   "source": [
    "np.argmax(previsoes[0])"
   ]
  },
  {
   "cell_type": "code",
   "execution_count": 71,
   "id": "044b4080",
   "metadata": {},
   "outputs": [
    {
     "data": {
      "text/plain": [
       "'O'"
      ]
     },
     "execution_count": 71,
     "metadata": {},
     "output_type": "execute_result"
    }
   ],
   "source": [
    "nomes_labels[24]"
   ]
  },
  {
   "cell_type": "code",
   "execution_count": 72,
   "id": "30538759",
   "metadata": {},
   "outputs": [
    {
     "data": {
      "text/plain": [
       "array([0, 0, 0, 0, 0, 0, 0, 0, 0, 0, 0, 0, 0, 0, 0, 0, 0, 0, 0, 0, 0, 0,\n",
       "       0, 0, 1, 0, 0, 0, 0, 0, 0, 0, 0, 0, 0, 0])"
      ]
     },
     "execution_count": 72,
     "metadata": {},
     "output_type": "execute_result"
    }
   ],
   "source": [
    "y_test[0]"
   ]
  },
  {
   "cell_type": "code",
   "execution_count": 73,
   "id": "9d9a3c32",
   "metadata": {},
   "outputs": [
    {
     "data": {
      "text/plain": [
       "24"
      ]
     },
     "execution_count": 73,
     "metadata": {},
     "output_type": "execute_result"
    }
   ],
   "source": [
    "np.argmax(y_test[0])"
   ]
  },
  {
   "cell_type": "code",
   "execution_count": 74,
   "id": "e8829d10",
   "metadata": {},
   "outputs": [
    {
     "data": {
      "text/plain": [
       "'O'"
      ]
     },
     "execution_count": 74,
     "metadata": {},
     "output_type": "execute_result"
    }
   ],
   "source": [
    "nomes_labels[np.argmax(y_test[0])]"
   ]
  },
  {
   "cell_type": "code",
   "execution_count": 75,
   "id": "552f4444",
   "metadata": {},
   "outputs": [
    {
     "name": "stdout",
     "output_type": "stream",
     "text": [
      "2766/2766 [==============================] - 15s 5ms/step - loss: 0.1204 - accuracy: 0.9623\n"
     ]
    },
    {
     "data": {
      "text/plain": [
       "[0.12042209506034851, 0.9623460173606873]"
      ]
     },
     "execution_count": 75,
     "metadata": {},
     "output_type": "execute_result"
    }
   ],
   "source": [
    "rede_neural.evaluate(X_test, y_test)"
   ]
  },
  {
   "cell_type": "code",
   "execution_count": 76,
   "id": "c4ade85e",
   "metadata": {},
   "outputs": [
    {
     "name": "stdout",
     "output_type": "stream",
     "text": [
      "              precision    recall  f1-score   support\n",
      "\n",
      "           0       0.61      0.38      0.47      1381\n",
      "           1       0.98      0.99      0.98      1575\n",
      "           2       0.93      0.96      0.94      1398\n",
      "           3       0.97      0.99      0.98      1428\n",
      "           4       0.86      0.98      0.92      1365\n",
      "           5       0.76      0.93      0.84      1263\n",
      "           6       0.97      0.96      0.97      1375\n",
      "           7       0.96      0.99      0.97      1459\n",
      "           8       0.98      0.98      0.98      1365\n",
      "           9       0.98      0.97      0.98      1392\n",
      "           A       0.99      0.99      0.99      2774\n",
      "           B       0.98      0.99      0.99      1734\n",
      "           C       0.99      0.98      0.99      4682\n",
      "           D       0.89      0.97      0.93      2027\n",
      "           E       0.99      0.99      0.99      2288\n",
      "           F       0.95      1.00      0.97       233\n",
      "           G       0.95      0.97      0.96      1152\n",
      "           H       0.98      0.96      0.97      1444\n",
      "           I       0.98      0.96      0.97       224\n",
      "           J       0.96      0.99      0.97      1698\n",
      "           K       0.97      0.99      0.98      1121\n",
      "           L       0.98      0.98      0.98      2317\n",
      "           M       0.98      1.00      0.99      2467\n",
      "           N       1.00      0.97      0.99      3802\n",
      "           O       0.93      0.95      0.94     11565\n",
      "           P       0.99      0.99      0.99      3868\n",
      "           Q       0.95      0.98      0.97      1162\n",
      "           R       0.98      0.99      0.99      2313\n",
      "           S       0.99      0.95      0.97      9684\n",
      "           T       1.00      0.98      0.99      4499\n",
      "           U       0.99      0.96      0.97      5801\n",
      "           V       0.93      1.00      0.96       836\n",
      "           W       0.97      0.99      0.98      2157\n",
      "           X       0.99      0.99      0.99      1254\n",
      "           Y       0.98      0.95      0.97      2172\n",
      "           Z       0.95      0.94      0.95      1215\n",
      "\n",
      "    accuracy                           0.96     88490\n",
      "   macro avg       0.95      0.96      0.95     88490\n",
      "weighted avg       0.96      0.96      0.96     88490\n",
      "\n"
     ]
    }
   ],
   "source": [
    "print(classification_report(y_test.argmax(axis=1), previsoes.argmax(axis=1), target_names=nomes_labels))"
   ]
  },
  {
   "cell_type": "code",
   "execution_count": 77,
   "id": "3a2984b4",
   "metadata": {},
   "outputs": [
    {
     "data": {
      "text/plain": [
       "dict_keys(['loss', 'accuracy', 'val_loss', 'val_accuracy'])"
      ]
     },
     "execution_count": 77,
     "metadata": {},
     "output_type": "execute_result"
    }
   ],
   "source": [
    "history.history.keys()"
   ]
  },
  {
   "cell_type": "code",
   "execution_count": 78,
   "id": "43d9569d",
   "metadata": {},
   "outputs": [
    {
     "data": {
      "image/png": "[encoded data removed]",
      "text/plain": [
       "<Figure size 432x288 with 1 Axes>"
      ]
     },
     "metadata": {
      "needs_background": "light"
     },
     "output_type": "display_data"
    }
   ],
   "source": [
    "plt.plot(history.history['val_loss']);"
   ]
  },
  {
   "cell_type": "code",
   "execution_count": 79,
   "id": "c38c77a6",
   "metadata": {},
   "outputs": [
    {
     "data": {
      "image/png": "[encoded data removed]",
      "text/plain": [
       "<Figure size 432x288 with 1 Axes>"
      ]
     },
     "metadata": {
      "needs_background": "light"
     },
     "output_type": "display_data"
    }
   ],
   "source": [
    "plt.plot(history.history['val_accuracy']);"
   ]
  },
  {
   "cell_type": "code",
   "execution_count": 80,
   "id": "79476afe",
   "metadata": {},
   "outputs": [],
   "source": [
    "#salvando a rede neural\n",
    "rede_neural.save('rede_neural', save_format='h5')"
   ]
  },
  {
   "cell_type": "code",
   "execution_count": 4,
   "id": "ac75246c",
   "metadata": {},
   "outputs": [],
   "source": [
    "from tensorflow.keras.models import load_model"
   ]
  },
  {
   "cell_type": "code",
   "execution_count": 5,
   "id": "1eb0e323",
   "metadata": {},
   "outputs": [],
   "source": [
    "rede_neural_carregada = load_model('Modelos/rede_neural')"
   ]
  },
  {
   "cell_type": "code",
   "execution_count": 6,
   "id": "01d534f1",
   "metadata": {},
   "outputs": [
    {
     "name": "stdout",
     "output_type": "stream",
     "text": [
      "Model: \"sequential_1\"\n",
      "_________________________________________________________________\n",
      " Layer (type)                Output Shape              Param #   \n",
      "=================================================================\n",
      " conv2d_3 (Conv2D)           (None, 26, 26, 32)        320       \n",
      "                                                                 \n",
      " max_pooling2d_3 (MaxPooling  (None, 13, 13, 32)       0         \n",
      " 2D)                                                             \n",
      "                                                                 \n",
      " conv2d_4 (Conv2D)           (None, 13, 13, 64)        18496     \n",
      "                                                                 \n",
      " max_pooling2d_4 (MaxPooling  (None, 6, 6, 64)         0         \n",
      " 2D)                                                             \n",
      "                                                                 \n",
      " conv2d_5 (Conv2D)           (None, 4, 4, 128)         73856     \n",
      "                                                                 \n",
      " max_pooling2d_5 (MaxPooling  (None, 2, 2, 128)        0         \n",
      " 2D)                                                             \n",
      "                                                                 \n",
      " flatten_1 (Flatten)         (None, 512)               0         \n",
      "                                                                 \n",
      " dense_3 (Dense)             (None, 64)                32832     \n",
      "                                                                 \n",
      " dense_4 (Dense)             (None, 128)               8320      \n",
      "                                                                 \n",
      " dense_5 (Dense)             (None, 36)                4644      \n",
      "                                                                 \n",
      "=================================================================\n",
      "Total params: 138,468\n",
      "Trainable params: 138,468\n",
      "Non-trainable params: 0\n",
      "_________________________________________________________________\n"
     ]
    }
   ],
   "source": [
    "rede_neural_carregada.summary()"
   ]
  },
  {
   "cell_type": "code",
   "execution_count": 7,
   "id": "285ee855",
   "metadata": {},
   "outputs": [],
   "source": [
    "img = cv.imread('Imagens/letra-m.jpg')\n",
    "cv.imshow('image',img)\n",
    "cv.waitKey(0)\n",
    "cv.destroyAllWindows()"
   ]
  },
  {
   "cell_type": "code",
   "execution_count": 8,
   "id": "6b2c69a6",
   "metadata": {},
   "outputs": [
    {
     "data": {
      "text/plain": [
       "(30, 30, 3)"
      ]
     },
     "execution_count": 8,
     "metadata": {},
     "output_type": "execute_result"
    }
   ],
   "source": [
    "img.shape"
   ]
  },
  {
   "cell_type": "code",
   "execution_count": 9,
   "id": "4f80a152",
   "metadata": {},
   "outputs": [
    {
     "data": {
      "text/plain": [
       "(30, 30)"
      ]
     },
     "execution_count": 9,
     "metadata": {},
     "output_type": "execute_result"
    }
   ],
   "source": [
    "gray = cv.cvtColor(img, cv.COLOR_BGR2GRAY)\n",
    "gray.shape"
   ]
  },
  {
   "cell_type": "code",
   "execution_count": 10,
   "id": "6a9a18b2",
   "metadata": {},
   "outputs": [],
   "source": [
    "cv.imshow('image',gray)\n",
    "cv.waitKey(0)\n",
    "cv.destroyAllWindows()"
   ]
  },
  {
   "cell_type": "code",
   "execution_count": 11,
   "id": "4da87779",
   "metadata": {},
   "outputs": [],
   "source": [
    "val, thresh = cv.threshold(gray, 0, 255, cv.THRESH_BINARY_INV | cv.THRESH_OTSU)\n",
    "cv.imshow('image',thresh)\n",
    "cv.waitKey(0)\n",
    "cv.destroyAllWindows()"
   ]
  },
  {
   "cell_type": "code",
   "execution_count": 12,
   "id": "8fbec51d",
   "metadata": {},
   "outputs": [
    {
     "data": {
      "text/plain": [
       "137.0"
      ]
     },
     "execution_count": 12,
     "metadata": {},
     "output_type": "execute_result"
    }
   ],
   "source": [
    "val"
   ]
  },
  {
   "cell_type": "code",
   "execution_count": 13,
   "id": "5d770d8a",
   "metadata": {},
   "outputs": [],
   "source": [
    "img = cv.resize(thresh, (28, 28))\n",
    "cv.imshow('image',img)\n",
    "cv.waitKey(0)\n",
    "cv.destroyAllWindows()"
   ]
  },
  {
   "cell_type": "code",
   "execution_count": 14,
   "id": "21f050e0",
   "metadata": {},
   "outputs": [
    {
     "data": {
      "text/plain": [
       "(28, 28)"
      ]
     },
     "execution_count": 14,
     "metadata": {},
     "output_type": "execute_result"
    }
   ],
   "source": [
    "img.shape"
   ]
  },
  {
   "cell_type": "code",
   "execution_count": 15,
   "id": "4648c583",
   "metadata": {},
   "outputs": [
    {
     "data": {
      "text/plain": [
       "(28, 28, 1)"
      ]
     },
     "execution_count": 15,
     "metadata": {},
     "output_type": "execute_result"
    }
   ],
   "source": [
    "img = img.astype('float32') / 255.0\n",
    "img = np.expand_dims(img, axis = -1)\n",
    "img.shape"
   ]
  },
  {
   "cell_type": "code",
   "execution_count": 16,
   "id": "d062b7a3",
   "metadata": {},
   "outputs": [
    {
     "data": {
      "text/plain": [
       "(1, 28, 28, 1)"
      ]
     },
     "execution_count": 16,
     "metadata": {},
     "output_type": "execute_result"
    }
   ],
   "source": [
    "img = np.reshape(img, (1,28,28,1))\n",
    "img.shape"
   ]
  },
  {
   "cell_type": "code",
   "execution_count": 17,
   "id": "03704ed8",
   "metadata": {},
   "outputs": [
    {
     "name": "stdout",
     "output_type": "stream",
     "text": [
      "1/1 [==============================] - 2s 2s/step\n"
     ]
    }
   ],
   "source": [
    "previsao = rede_neural_carregada.predict(img)"
   ]
  },
  {
   "cell_type": "code",
   "execution_count": 18,
   "id": "030435ac",
   "metadata": {},
   "outputs": [
    {
     "data": {
      "text/plain": [
       "array([[2.0062682e-11, 5.9469883e-08, 1.1156169e-12, 2.1885857e-18,\n",
       "        6.0504095e-07, 3.5318859e-11, 2.6769142e-09, 3.3855874e-10,\n",
       "        1.2069473e-10, 4.0685441e-10, 4.5820725e-06, 2.7296020e-13,\n",
       "        1.1984719e-09, 5.9590042e-07, 1.8497863e-09, 5.7601508e-19,\n",
       "        7.6366668e-08, 9.8061982e-06, 2.1834102e-23, 1.3648973e-12,\n",
       "        8.5764455e-08, 1.9066037e-11, 9.9934083e-01, 4.2395113e-04,\n",
       "        3.6781553e-10, 1.7583849e-09, 6.3283406e-11, 4.1675881e-09,\n",
       "        5.6972677e-08, 1.0581858e-10, 5.4059641e-05, 2.1205737e-15,\n",
       "        1.6522825e-04, 1.0793537e-09, 8.6998231e-10, 5.7425210e-12]],\n",
       "      dtype=float32)"
      ]
     },
     "execution_count": 18,
     "metadata": {},
     "output_type": "execute_result"
    }
   ],
   "source": [
    "previsao"
   ]
  },
  {
   "cell_type": "code",
   "execution_count": 19,
   "id": "1b3cc9fa",
   "metadata": {},
   "outputs": [
    {
     "data": {
      "text/plain": [
       "22"
      ]
     },
     "execution_count": 19,
     "metadata": {},
     "output_type": "execute_result"
    }
   ],
   "source": [
    "np.argmax(previsao)"
   ]
  },
  {
   "cell_type": "code",
   "execution_count": 21,
   "id": "88664e42",
   "metadata": {},
   "outputs": [
    {
     "data": {
      "text/plain": [
       "'M'"
      ]
     },
     "execution_count": 21,
     "metadata": {},
     "output_type": "execute_result"
    }
   ],
   "source": [
    "nomes_labels = '0123456789'\n",
    "nomes_labels += 'ABCDEFGHIJKLMNOPQRSTUVWXYZ'\n",
    "nomes_labels = [l for l in nomes_labels]\n",
    "nomes_labels[22]"
   ]
  },
  {
   "cell_type": "code",
   "execution_count": 22,
   "id": "3ce2fc52",
   "metadata": {},
   "outputs": [],
   "source": [
    "import numpy as np\n",
    "import cv2 as cv\n",
    "from tensorflow.keras.models import load_model\n",
    "from imutils.contours import sort_contours\n",
    "import imutils\n",
    "import zipfile"
   ]
  },
  {
   "cell_type": "code",
   "execution_count": 23,
   "id": "a5a6eefa",
   "metadata": {},
   "outputs": [
    {
     "name": "stdout",
     "output_type": "stream",
     "text": [
      "Model: \"sequential_1\"\n",
      "_________________________________________________________________\n",
      " Layer (type)                Output Shape              Param #   \n",
      "=================================================================\n",
      " conv2d_3 (Conv2D)           (None, 26, 26, 32)        320       \n",
      "                                                                 \n",
      " max_pooling2d_3 (MaxPooling  (None, 13, 13, 32)       0         \n",
      " 2D)                                                             \n",
      "                                                                 \n",
      " conv2d_4 (Conv2D)           (None, 13, 13, 64)        18496     \n",
      "                                                                 \n",
      " max_pooling2d_4 (MaxPooling  (None, 6, 6, 64)         0         \n",
      " 2D)                                                             \n",
      "                                                                 \n",
      " conv2d_5 (Conv2D)           (None, 4, 4, 128)         73856     \n",
      "                                                                 \n",
      " max_pooling2d_5 (MaxPooling  (None, 2, 2, 128)        0         \n",
      " 2D)                                                             \n",
      "                                                                 \n",
      " flatten_1 (Flatten)         (None, 512)               0         \n",
      "                                                                 \n",
      " dense_3 (Dense)             (None, 64)                32832     \n",
      "                                                                 \n",
      " dense_4 (Dense)             (None, 128)               8320      \n",
      "                                                                 \n",
      " dense_5 (Dense)             (None, 36)                4644      \n",
      "                                                                 \n",
      "=================================================================\n",
      "Total params: 138,468\n",
      "Trainable params: 138,468\n",
      "Non-trainable params: 0\n",
      "_________________________________________________________________\n"
     ]
    }
   ],
   "source": [
    "rede_neural = load_model('Modelos/rede_neural')\n",
    "rede_neural.summary()"
   ]
  },
  {
   "cell_type": "code",
   "execution_count": 24,
   "id": "21a4d5e1",
   "metadata": {},
   "outputs": [],
   "source": [
    "img = cv.imread('Imagens/teste-manuscrito01.jpg')\n",
    "cv.imshow('image',img)\n",
    "cv.waitKey(0)\n",
    "cv.destroyAllWindows()\n"
   ]
  },
  {
   "cell_type": "code",
   "execution_count": 25,
   "id": "72a9fea5",
   "metadata": {},
   "outputs": [],
   "source": [
    "gray = cv.cvtColor(img, cv.COLOR_BGR2GRAY)\n",
    "cv.imshow('image',gray)\n",
    "cv.waitKey(0)\n",
    "cv.destroyAllWindows()"
   ]
  },
  {
   "cell_type": "code",
   "execution_count": 26,
   "id": "5aa3dd43",
   "metadata": {},
   "outputs": [],
   "source": [
    "desfoque = cv.GaussianBlur(gray, (3,3), 0)\n",
    "cv.imshow('image',desfoque)\n",
    "cv.waitKey(0)\n",
    "cv.destroyAllWindows()"
   ]
  },
  {
   "cell_type": "code",
   "execution_count": 27,
   "id": "fbeb72e6",
   "metadata": {},
   "outputs": [],
   "source": [
    "adapt_media = cv.adaptiveThreshold(desfoque, 255, cv.ADAPTIVE_THRESH_GAUSSIAN_C, cv.THRESH_BINARY, 11, 9)\n",
    "cv.imshow('image',adapt_media)\n",
    "cv.waitKey(0)\n",
    "cv.destroyAllWindows()"
   ]
  },
  {
   "cell_type": "code",
   "execution_count": 28,
   "id": "f6b79f5e",
   "metadata": {},
   "outputs": [],
   "source": [
    "inv = 255 - adapt_media\n",
    "cv.imshow('image',inv)\n",
    "cv.waitKey(0)\n",
    "cv.destroyAllWindows()"
   ]
  },
  {
   "cell_type": "code",
   "execution_count": 29,
   "id": "bb70573d",
   "metadata": {},
   "outputs": [],
   "source": [
    "dilatado = cv.dilate(inv, np.ones((3,3)))\n",
    "cv.imshow('image',dilatado)\n",
    "cv.waitKey(0)\n",
    "cv.destroyAllWindows()"
   ]
  },
  {
   "cell_type": "code",
   "execution_count": 30,
   "id": "892c8f13",
   "metadata": {},
   "outputs": [],
   "source": [
    "bordas = cv.Canny(desfoque, 40, 150)\n",
    "cv.imshow('image',bordas)\n",
    "cv.waitKey(0)\n",
    "cv.destroyAllWindows()"
   ]
  },
  {
   "cell_type": "code",
   "execution_count": 31,
   "id": "6c987dae",
   "metadata": {},
   "outputs": [],
   "source": [
    "dilatado = cv.dilate(bordas, np.ones((3,3)))\n",
    "cv.imshow('image',dilatado)\n",
    "cv.waitKey(0)\n",
    "cv.destroyAllWindows()"
   ]
  },
  {
   "cell_type": "code",
   "execution_count": 32,
   "id": "a4c127d5",
   "metadata": {},
   "outputs": [],
   "source": [
    "def encontrar_contornos(img):\n",
    "    conts = cv.findContours(img, cv.RETR_EXTERNAL, cv.CHAIN_APPROX_SIMPLE)\n",
    "    conts = imutils.grab_contours(conts)\n",
    "    conts = sort_contours(conts, method='left-to-right')[0]\n",
    "    return conts"
   ]
  },
  {
   "cell_type": "code",
   "execution_count": 33,
   "id": "4a3468e8",
   "metadata": {},
   "outputs": [
    {
     "data": {
      "text/plain": [
       "(array([[[726, 173]],\n",
       " \n",
       "        [[725, 174]],\n",
       " \n",
       "        [[700, 174]],\n",
       " \n",
       "        [[699, 175]],\n",
       " \n",
       "        [[671, 175]],\n",
       " \n",
       "        [[670, 176]],\n",
       " \n",
       "        [[669, 176]],\n",
       " \n",
       "        [[668, 175]],\n",
       " \n",
       "        [[666, 175]],\n",
       " \n",
       "        [[665, 176]],\n",
       " \n",
       "        [[641, 176]],\n",
       " \n",
       "        [[640, 177]],\n",
       " \n",
       "        [[615, 177]],\n",
       " \n",
       "        [[614, 178]],\n",
       " \n",
       "        [[583, 178]],\n",
       " \n",
       "        [[582, 179]],\n",
       " \n",
       "        [[551, 179]],\n",
       " \n",
       "        [[550, 180]],\n",
       " \n",
       "        [[525, 180]],\n",
       " \n",
       "        [[524, 181]],\n",
       " \n",
       "        [[497, 181]],\n",
       " \n",
       "        [[496, 182]],\n",
       " \n",
       "        [[467, 182]],\n",
       " \n",
       "        [[466, 183]],\n",
       " \n",
       "        [[443, 183]],\n",
       " \n",
       "        [[442, 184]],\n",
       " \n",
       "        [[415, 184]],\n",
       " \n",
       "        [[414, 185]],\n",
       " \n",
       "        [[388, 185]],\n",
       " \n",
       "        [[387, 186]],\n",
       " \n",
       "        [[360, 186]],\n",
       " \n",
       "        [[359, 187]],\n",
       " \n",
       "        [[334, 187]],\n",
       " \n",
       "        [[333, 188]],\n",
       " \n",
       "        [[307, 188]],\n",
       " \n",
       "        [[306, 189]],\n",
       " \n",
       "        [[285, 189]],\n",
       " \n",
       "        [[284, 190]],\n",
       " \n",
       "        [[262, 190]],\n",
       " \n",
       "        [[261, 191]],\n",
       " \n",
       "        [[238, 191]],\n",
       " \n",
       "        [[237, 192]],\n",
       " \n",
       "        [[217, 192]],\n",
       " \n",
       "        [[216, 193]],\n",
       " \n",
       "        [[197, 193]],\n",
       " \n",
       "        [[196, 194]],\n",
       " \n",
       "        [[173, 194]],\n",
       " \n",
       "        [[172, 195]],\n",
       " \n",
       "        [[153, 195]],\n",
       " \n",
       "        [[152, 196]],\n",
       " \n",
       "        [[130, 196]],\n",
       " \n",
       "        [[129, 197]],\n",
       " \n",
       "        [[108, 197]],\n",
       " \n",
       "        [[107, 198]],\n",
       " \n",
       "        [[ 82, 198]],\n",
       " \n",
       "        [[ 81, 199]],\n",
       " \n",
       "        [[ 58, 199]],\n",
       " \n",
       "        [[ 57, 200]],\n",
       " \n",
       "        [[ 30, 200]],\n",
       " \n",
       "        [[ 29, 201]],\n",
       " \n",
       "        [[ 27, 201]],\n",
       " \n",
       "        [[ 27, 205]],\n",
       " \n",
       "        [[ 28, 205]],\n",
       " \n",
       "        [[ 29, 206]],\n",
       " \n",
       "        [[ 36, 206]],\n",
       " \n",
       "        [[ 37, 205]],\n",
       " \n",
       "        [[ 61, 205]],\n",
       " \n",
       "        [[ 62, 204]],\n",
       " \n",
       "        [[ 88, 204]],\n",
       " \n",
       "        [[ 89, 203]],\n",
       " \n",
       "        [[109, 203]],\n",
       " \n",
       "        [[110, 202]],\n",
       " \n",
       "        [[134, 202]],\n",
       " \n",
       "        [[135, 201]],\n",
       " \n",
       "        [[155, 201]],\n",
       " \n",
       "        [[156, 200]],\n",
       " \n",
       "        [[174, 200]],\n",
       " \n",
       "        [[175, 199]],\n",
       " \n",
       "        [[198, 199]],\n",
       " \n",
       "        [[199, 198]],\n",
       " \n",
       "        [[218, 198]],\n",
       " \n",
       "        [[219, 197]],\n",
       " \n",
       "        [[240, 197]],\n",
       " \n",
       "        [[241, 196]],\n",
       " \n",
       "        [[262, 196]],\n",
       " \n",
       "        [[263, 195]],\n",
       " \n",
       "        [[284, 195]],\n",
       " \n",
       "        [[285, 194]],\n",
       " \n",
       "        [[308, 194]],\n",
       " \n",
       "        [[309, 193]],\n",
       " \n",
       "        [[334, 193]],\n",
       " \n",
       "        [[335, 192]],\n",
       " \n",
       "        [[361, 192]],\n",
       " \n",
       "        [[362, 191]],\n",
       " \n",
       "        [[385, 191]],\n",
       " \n",
       "        [[386, 190]],\n",
       " \n",
       "        [[414, 190]],\n",
       " \n",
       "        [[415, 189]],\n",
       " \n",
       "        [[438, 189]],\n",
       " \n",
       "        [[439, 188]],\n",
       " \n",
       "        [[466, 188]],\n",
       " \n",
       "        [[467, 187]],\n",
       " \n",
       "        [[495, 187]],\n",
       " \n",
       "        [[496, 186]],\n",
       " \n",
       "        [[521, 186]],\n",
       " \n",
       "        [[522, 185]],\n",
       " \n",
       "        [[551, 185]],\n",
       " \n",
       "        [[552, 184]],\n",
       " \n",
       "        [[581, 184]],\n",
       " \n",
       "        [[582, 183]],\n",
       " \n",
       "        [[611, 183]],\n",
       " \n",
       "        [[612, 182]],\n",
       " \n",
       "        [[638, 182]],\n",
       " \n",
       "        [[639, 181]],\n",
       " \n",
       "        [[664, 181]],\n",
       " \n",
       "        [[665, 180]],\n",
       " \n",
       "        [[693, 180]],\n",
       " \n",
       "        [[694, 179]],\n",
       " \n",
       "        [[720, 179]],\n",
       " \n",
       "        [[721, 178]],\n",
       " \n",
       "        [[729, 178]],\n",
       " \n",
       "        [[729, 173]]], dtype=int32),\n",
       " array([[[724, 233]],\n",
       " \n",
       "        [[723, 234]],\n",
       " \n",
       "        [[704, 234]],\n",
       " \n",
       "        [[703, 235]],\n",
       " \n",
       "        [[683, 235]],\n",
       " \n",
       "        [[682, 236]],\n",
       " \n",
       "        [[659, 236]],\n",
       " \n",
       "        [[658, 237]],\n",
       " \n",
       "        [[637, 237]],\n",
       " \n",
       "        [[636, 238]],\n",
       " \n",
       "        [[616, 238]],\n",
       " \n",
       "        [[615, 239]],\n",
       " \n",
       "        [[591, 239]],\n",
       " \n",
       "        [[590, 240]],\n",
       " \n",
       "        [[568, 240]],\n",
       " \n",
       "        [[567, 241]],\n",
       " \n",
       "        [[543, 241]],\n",
       " \n",
       "        [[542, 242]],\n",
       " \n",
       "        [[517, 242]],\n",
       " \n",
       "        [[516, 243]],\n",
       " \n",
       "        [[496, 243]],\n",
       " \n",
       "        [[495, 244]],\n",
       " \n",
       "        [[491, 244]],\n",
       " \n",
       "        [[490, 243]],\n",
       " \n",
       "        [[490, 241]],\n",
       " \n",
       "        [[483, 241]],\n",
       " \n",
       "        [[482, 242]],\n",
       " \n",
       "        [[460, 242]],\n",
       " \n",
       "        [[459, 243]],\n",
       " \n",
       "        [[435, 243]],\n",
       " \n",
       "        [[434, 244]],\n",
       " \n",
       "        [[418, 244]],\n",
       " \n",
       "        [[417, 245]],\n",
       " \n",
       "        [[397, 245]],\n",
       " \n",
       "        [[396, 246]],\n",
       " \n",
       "        [[378, 246]],\n",
       " \n",
       "        [[377, 247]],\n",
       " \n",
       "        [[352, 247]],\n",
       " \n",
       "        [[351, 248]],\n",
       " \n",
       "        [[333, 248]],\n",
       " \n",
       "        [[332, 249]],\n",
       " \n",
       "        [[311, 249]],\n",
       " \n",
       "        [[310, 250]],\n",
       " \n",
       "        [[294, 250]],\n",
       " \n",
       "        [[293, 251]],\n",
       " \n",
       "        [[275, 251]],\n",
       " \n",
       "        [[274, 252]],\n",
       " \n",
       "        [[260, 252]],\n",
       " \n",
       "        [[259, 253]],\n",
       " \n",
       "        [[245, 253]],\n",
       " \n",
       "        [[244, 254]],\n",
       " \n",
       "        [[229, 254]],\n",
       " \n",
       "        [[228, 255]],\n",
       " \n",
       "        [[214, 255]],\n",
       " \n",
       "        [[213, 256]],\n",
       " \n",
       "        [[200, 256]],\n",
       " \n",
       "        [[199, 257]],\n",
       " \n",
       "        [[185, 257]],\n",
       " \n",
       "        [[184, 258]],\n",
       " \n",
       "        [[170, 258]],\n",
       " \n",
       "        [[169, 259]],\n",
       " \n",
       "        [[157, 259]],\n",
       " \n",
       "        [[156, 260]],\n",
       " \n",
       "        [[143, 260]],\n",
       " \n",
       "        [[142, 261]],\n",
       " \n",
       "        [[129, 261]],\n",
       " \n",
       "        [[128, 262]],\n",
       " \n",
       "        [[113, 262]],\n",
       " \n",
       "        [[112, 263]],\n",
       " \n",
       "        [[ 98, 263]],\n",
       " \n",
       "        [[ 97, 264]],\n",
       " \n",
       "        [[ 84, 264]],\n",
       " \n",
       "        [[ 83, 265]],\n",
       " \n",
       "        [[ 65, 265]],\n",
       " \n",
       "        [[ 64, 266]],\n",
       " \n",
       "        [[ 47, 266]],\n",
       " \n",
       "        [[ 46, 267]],\n",
       " \n",
       "        [[ 33, 267]],\n",
       " \n",
       "        [[ 32, 268]],\n",
       " \n",
       "        [[ 30, 268]],\n",
       " \n",
       "        [[ 30, 272]],\n",
       " \n",
       "        [[ 43, 272]],\n",
       " \n",
       "        [[ 44, 271]],\n",
       " \n",
       "        [[ 59, 271]],\n",
       " \n",
       "        [[ 60, 270]],\n",
       " \n",
       "        [[ 75, 270]],\n",
       " \n",
       "        [[ 76, 269]],\n",
       " \n",
       "        [[ 94, 269]],\n",
       " \n",
       "        [[ 95, 268]],\n",
       " \n",
       "        [[107, 268]],\n",
       " \n",
       "        [[108, 267]],\n",
       " \n",
       "        [[123, 267]],\n",
       " \n",
       "        [[124, 266]],\n",
       " \n",
       "        [[138, 266]],\n",
       " \n",
       "        [[139, 265]],\n",
       " \n",
       "        [[152, 265]],\n",
       " \n",
       "        [[153, 264]],\n",
       " \n",
       "        [[166, 264]],\n",
       " \n",
       "        [[167, 263]],\n",
       " \n",
       "        [[179, 263]],\n",
       " \n",
       "        [[180, 262]],\n",
       " \n",
       "        [[194, 262]],\n",
       " \n",
       "        [[195, 261]],\n",
       " \n",
       "        [[208, 261]],\n",
       " \n",
       "        [[209, 260]],\n",
       " \n",
       "        [[223, 260]],\n",
       " \n",
       "        [[224, 259]],\n",
       " \n",
       "        [[237, 259]],\n",
       " \n",
       "        [[238, 258]],\n",
       " \n",
       "        [[253, 258]],\n",
       " \n",
       "        [[254, 257]],\n",
       " \n",
       "        [[267, 257]],\n",
       " \n",
       "        [[268, 256]],\n",
       " \n",
       "        [[287, 256]],\n",
       " \n",
       "        [[288, 255]],\n",
       " \n",
       "        [[304, 255]],\n",
       " \n",
       "        [[305, 254]],\n",
       " \n",
       "        [[326, 254]],\n",
       " \n",
       "        [[327, 253]],\n",
       " \n",
       "        [[348, 253]],\n",
       " \n",
       "        [[349, 252]],\n",
       " \n",
       "        [[367, 252]],\n",
       " \n",
       "        [[368, 251]],\n",
       " \n",
       "        [[385, 251]],\n",
       " \n",
       "        [[386, 250]],\n",
       " \n",
       "        [[410, 250]],\n",
       " \n",
       "        [[411, 249]],\n",
       " \n",
       "        [[428, 249]],\n",
       " \n",
       "        [[429, 248]],\n",
       " \n",
       "        [[449, 248]],\n",
       " \n",
       "        [[450, 247]],\n",
       " \n",
       "        [[472, 247]],\n",
       " \n",
       "        [[473, 246]],\n",
       " \n",
       "        [[497, 246]],\n",
       " \n",
       "        [[498, 245]],\n",
       " \n",
       "        [[518, 245]],\n",
       " \n",
       "        [[519, 244]],\n",
       " \n",
       "        [[544, 244]],\n",
       " \n",
       "        [[545, 243]],\n",
       " \n",
       "        [[569, 243]],\n",
       " \n",
       "        [[570, 242]],\n",
       " \n",
       "        [[592, 242]],\n",
       " \n",
       "        [[593, 241]],\n",
       " \n",
       "        [[617, 241]],\n",
       " \n",
       "        [[618, 240]],\n",
       " \n",
       "        [[638, 240]],\n",
       " \n",
       "        [[639, 239]],\n",
       " \n",
       "        [[660, 239]],\n",
       " \n",
       "        [[661, 238]],\n",
       " \n",
       "        [[684, 238]],\n",
       " \n",
       "        [[685, 237]],\n",
       " \n",
       "        [[705, 237]],\n",
       " \n",
       "        [[706, 236]],\n",
       " \n",
       "        [[725, 236]],\n",
       " \n",
       "        [[726, 235]],\n",
       " \n",
       "        [[729, 235]],\n",
       " \n",
       "        [[729, 233]]], dtype=int32),\n",
       " array([[[106, 123]],\n",
       " \n",
       "        [[105, 124]],\n",
       " \n",
       "        [[ 90, 124]],\n",
       " \n",
       "        [[ 90, 129]],\n",
       " \n",
       "        [[ 94, 129]],\n",
       " \n",
       "        [[ 95, 130]],\n",
       " \n",
       "        [[105, 130]],\n",
       " \n",
       "        [[107, 132]],\n",
       " \n",
       "        [[107, 134]],\n",
       " \n",
       "        [[108, 135]],\n",
       " \n",
       "        [[108, 138]],\n",
       " \n",
       "        [[109, 139]],\n",
       " \n",
       "        [[109, 144]],\n",
       " \n",
       "        [[110, 145]],\n",
       " \n",
       "        [[110, 150]],\n",
       " \n",
       "        [[111, 151]],\n",
       " \n",
       "        [[111, 155]],\n",
       " \n",
       "        [[112, 156]],\n",
       " \n",
       "        [[116, 156]],\n",
       " \n",
       "        [[117, 155]],\n",
       " \n",
       "        [[117, 151]],\n",
       " \n",
       "        [[116, 150]],\n",
       " \n",
       "        [[116, 143]],\n",
       " \n",
       "        [[115, 142]],\n",
       " \n",
       "        [[115, 138]],\n",
       " \n",
       "        [[114, 137]],\n",
       " \n",
       "        [[114, 131]],\n",
       " \n",
       "        [[116, 129]],\n",
       " \n",
       "        [[118, 129]],\n",
       " \n",
       "        [[119, 128]],\n",
       " \n",
       "        [[125, 128]],\n",
       " \n",
       "        [[126, 127]],\n",
       " \n",
       "        [[128, 127]],\n",
       " \n",
       "        [[128, 125]],\n",
       " \n",
       "        [[127, 124]],\n",
       " \n",
       "        [[127, 123]]], dtype=int32),\n",
       " array([[[147, 123]],\n",
       " \n",
       "        [[146, 124]],\n",
       " \n",
       "        [[143, 124]],\n",
       " \n",
       "        [[141, 126]],\n",
       " \n",
       "        [[141, 127]],\n",
       " \n",
       "        [[140, 128]],\n",
       " \n",
       "        [[140, 141]],\n",
       " \n",
       "        [[141, 142]],\n",
       " \n",
       "        [[141, 146]],\n",
       " \n",
       "        [[142, 147]],\n",
       " \n",
       "        [[142, 149]],\n",
       " \n",
       "        [[143, 150]],\n",
       " \n",
       "        [[143, 152]],\n",
       " \n",
       "        [[145, 154]],\n",
       " \n",
       "        [[146, 154]],\n",
       " \n",
       "        [[147, 155]],\n",
       " \n",
       "        [[151, 155]],\n",
       " \n",
       "        [[152, 156]],\n",
       " \n",
       "        [[154, 156]],\n",
       " \n",
       "        [[155, 155]],\n",
       " \n",
       "        [[160, 155]],\n",
       " \n",
       "        [[163, 152]],\n",
       " \n",
       "        [[163, 147]],\n",
       " \n",
       "        [[159, 147]],\n",
       " \n",
       "        [[157, 149]],\n",
       " \n",
       "        [[156, 149]],\n",
       " \n",
       "        [[155, 150]],\n",
       " \n",
       "        [[152, 150]],\n",
       " \n",
       "        [[151, 149]],\n",
       " \n",
       "        [[150, 149]],\n",
       " \n",
       "        [[149, 148]],\n",
       " \n",
       "        [[149, 147]],\n",
       " \n",
       "        [[148, 146]],\n",
       " \n",
       "        [[148, 145]],\n",
       " \n",
       "        [[147, 144]],\n",
       " \n",
       "        [[148, 143]],\n",
       " \n",
       "        [[152, 143]],\n",
       " \n",
       "        [[153, 142]],\n",
       " \n",
       "        [[156, 142]],\n",
       " \n",
       "        [[156, 138]],\n",
       " \n",
       "        [[151, 138]],\n",
       " \n",
       "        [[150, 137]],\n",
       " \n",
       "        [[147, 137]],\n",
       " \n",
       "        [[146, 136]],\n",
       " \n",
       "        [[146, 134]],\n",
       " \n",
       "        [[145, 133]],\n",
       " \n",
       "        [[145, 132]],\n",
       " \n",
       "        [[148, 129]],\n",
       " \n",
       "        [[149, 129]],\n",
       " \n",
       "        [[150, 128]],\n",
       " \n",
       "        [[151, 129]],\n",
       " \n",
       "        [[154, 129]],\n",
       " \n",
       "        [[155, 128]],\n",
       " \n",
       "        [[159, 128]],\n",
       " \n",
       "        [[159, 126]],\n",
       " \n",
       "        [[158, 125]],\n",
       " \n",
       "        [[158, 123]],\n",
       " \n",
       "        [[155, 123]],\n",
       " \n",
       "        [[154, 124]],\n",
       " \n",
       "        [[153, 123]]], dtype=int32),\n",
       " array([[[187, 121]],\n",
       " \n",
       "        [[186, 122]],\n",
       " \n",
       "        [[184, 122]],\n",
       " \n",
       "        [[183, 123]],\n",
       " \n",
       "        [[181, 123]],\n",
       " \n",
       "        [[180, 124]],\n",
       " \n",
       "        [[179, 124]],\n",
       " \n",
       "        [[176, 127]],\n",
       " \n",
       "        [[176, 128]],\n",
       " \n",
       "        [[175, 129]],\n",
       " \n",
       "        [[175, 135]],\n",
       " \n",
       "        [[178, 138]],\n",
       " \n",
       "        [[180, 138]],\n",
       " \n",
       "        [[181, 139]],\n",
       " \n",
       "        [[182, 139]],\n",
       " \n",
       "        [[183, 140]],\n",
       " \n",
       "        [[185, 140]],\n",
       " \n",
       "        [[191, 146]],\n",
       " \n",
       "        [[191, 147]],\n",
       " \n",
       "        [[189, 149]],\n",
       " \n",
       "        [[188, 149]],\n",
       " \n",
       "        [[186, 151]],\n",
       " \n",
       "        [[183, 151]],\n",
       " \n",
       "        [[181, 149]],\n",
       " \n",
       "        [[181, 147]],\n",
       " \n",
       "        [[180, 147]],\n",
       " \n",
       "        [[179, 146]],\n",
       " \n",
       "        [[176, 146]],\n",
       " \n",
       "        [[176, 152]],\n",
       " \n",
       "        [[177, 153]],\n",
       " \n",
       "        [[177, 154]],\n",
       " \n",
       "        [[179, 156]],\n",
       " \n",
       "        [[189, 156]],\n",
       " \n",
       "        [[190, 155]],\n",
       " \n",
       "        [[192, 155]],\n",
       " \n",
       "        [[193, 154]],\n",
       " \n",
       "        [[194, 154]],\n",
       " \n",
       "        [[196, 152]],\n",
       " \n",
       "        [[196, 150]],\n",
       " \n",
       "        [[197, 149]],\n",
       " \n",
       "        [[197, 143]],\n",
       " \n",
       "        [[196, 142]],\n",
       " \n",
       "        [[196, 141]],\n",
       " \n",
       "        [[193, 138]],\n",
       " \n",
       "        [[192, 138]],\n",
       " \n",
       "        [[190, 136]],\n",
       " \n",
       "        [[189, 136]],\n",
       " \n",
       "        [[188, 135]],\n",
       " \n",
       "        [[186, 135]],\n",
       " \n",
       "        [[185, 134]],\n",
       " \n",
       "        [[184, 134]],\n",
       " \n",
       "        [[181, 131]],\n",
       " \n",
       "        [[182, 130]],\n",
       " \n",
       "        [[183, 130]],\n",
       " \n",
       "        [[185, 128]],\n",
       " \n",
       "        [[186, 128]],\n",
       " \n",
       "        [[187, 127]],\n",
       " \n",
       "        [[190, 127]],\n",
       " \n",
       "        [[192, 129]],\n",
       " \n",
       "        [[192, 130]],\n",
       " \n",
       "        [[197, 130]],\n",
       " \n",
       "        [[197, 124]],\n",
       " \n",
       "        [[194, 121]]], dtype=int32),\n",
       " array([[[212, 121]],\n",
       " \n",
       "        [[211, 122]],\n",
       " \n",
       "        [[207, 122]],\n",
       " \n",
       "        [[207, 126]],\n",
       " \n",
       "        [[208, 127]],\n",
       " \n",
       "        [[211, 127]],\n",
       " \n",
       "        [[212, 126]],\n",
       " \n",
       "        [[216, 126]],\n",
       " \n",
       "        [[217, 127]],\n",
       " \n",
       "        [[219, 127]],\n",
       " \n",
       "        [[220, 128]],\n",
       " \n",
       "        [[219, 129]],\n",
       " \n",
       "        [[219, 139]],\n",
       " \n",
       "        [[220, 140]],\n",
       " \n",
       "        [[220, 144]],\n",
       " \n",
       "        [[221, 145]],\n",
       " \n",
       "        [[221, 147]],\n",
       " \n",
       "        [[222, 148]],\n",
       " \n",
       "        [[228, 148]],\n",
       " \n",
       "        [[228, 144]],\n",
       " \n",
       "        [[225, 141]],\n",
       " \n",
       "        [[225, 129]],\n",
       " \n",
       "        [[227, 127]],\n",
       " \n",
       "        [[231, 127]],\n",
       " \n",
       "        [[232, 126]],\n",
       " \n",
       "        [[233, 126]],\n",
       " \n",
       "        [[234, 125]],\n",
       " \n",
       "        [[234, 121]],\n",
       " \n",
       "        [[228, 121]],\n",
       " \n",
       "        [[227, 122]],\n",
       " \n",
       "        [[221, 122]],\n",
       " \n",
       "        [[220, 121]]], dtype=int32),\n",
       " array([[[251, 121]],\n",
       " \n",
       "        [[251, 122]],\n",
       " \n",
       "        [[250, 123]],\n",
       " \n",
       "        [[250, 124]],\n",
       " \n",
       "        [[249, 125]],\n",
       " \n",
       "        [[249, 127]],\n",
       " \n",
       "        [[248, 128]],\n",
       " \n",
       "        [[248, 135]],\n",
       " \n",
       "        [[247, 136]],\n",
       " \n",
       "        [[247, 146]],\n",
       " \n",
       "        [[251, 146]],\n",
       " \n",
       "        [[251, 143]],\n",
       " \n",
       "        [[252, 142]],\n",
       " \n",
       "        [[252, 139]],\n",
       " \n",
       "        [[254, 137]],\n",
       " \n",
       "        [[255, 137]],\n",
       " \n",
       "        [[256, 138]],\n",
       " \n",
       "        [[257, 138]],\n",
       " \n",
       "        [[258, 139]],\n",
       " \n",
       "        [[258, 140]],\n",
       " \n",
       "        [[259, 141]],\n",
       " \n",
       "        [[259, 146]],\n",
       " \n",
       "        [[260, 147]],\n",
       " \n",
       "        [[260, 150]],\n",
       " \n",
       "        [[261, 151]],\n",
       " \n",
       "        [[265, 151]],\n",
       " \n",
       "        [[265, 145]],\n",
       " \n",
       "        [[264, 144]],\n",
       " \n",
       "        [[264, 137]],\n",
       " \n",
       "        [[263, 136]],\n",
       " \n",
       "        [[263, 132]],\n",
       " \n",
       "        [[262, 131]],\n",
       " \n",
       "        [[262, 130]],\n",
       " \n",
       "        [[261, 129]],\n",
       " \n",
       "        [[261, 128]],\n",
       " \n",
       "        [[260, 127]],\n",
       " \n",
       "        [[260, 125]],\n",
       " \n",
       "        [[259, 124]],\n",
       " \n",
       "        [[259, 123]],\n",
       " \n",
       "        [[257, 121]]], dtype=int32),\n",
       " array([[[289, 115]],\n",
       " \n",
       "        [[289, 135]],\n",
       " \n",
       "        [[288, 136]],\n",
       " \n",
       "        [[284, 132]],\n",
       " \n",
       "        [[284, 131]],\n",
       " \n",
       "        [[282, 129]],\n",
       " \n",
       "        [[282, 128]],\n",
       " \n",
       "        [[280, 126]],\n",
       " \n",
       "        [[280, 123]],\n",
       " \n",
       "        [[279, 122]],\n",
       " \n",
       "        [[278, 122]],\n",
       " \n",
       "        [[277, 121]],\n",
       " \n",
       "        [[273, 121]],\n",
       " \n",
       "        [[273, 135]],\n",
       " \n",
       "        [[274, 136]],\n",
       " \n",
       "        [[274, 140]],\n",
       " \n",
       "        [[275, 141]],\n",
       " \n",
       "        [[275, 144]],\n",
       " \n",
       "        [[276, 145]],\n",
       " \n",
       "        [[276, 147]],\n",
       " \n",
       "        [[277, 148]],\n",
       " \n",
       "        [[281, 148]],\n",
       " \n",
       "        [[281, 140]],\n",
       " \n",
       "        [[282, 139]],\n",
       " \n",
       "        [[287, 144]],\n",
       " \n",
       "        [[293, 144]],\n",
       " \n",
       "        [[293, 143]],\n",
       " \n",
       "        [[294, 142]],\n",
       " \n",
       "        [[294, 116]],\n",
       " \n",
       "        [[293, 115]]], dtype=int32),\n",
       " array([[[308, 115]],\n",
       " \n",
       "        [[308, 120]],\n",
       " \n",
       "        [[309, 120]],\n",
       " \n",
       "        [[310, 121]],\n",
       " \n",
       "        [[311, 121]],\n",
       " \n",
       "        [[313, 123]],\n",
       " \n",
       "        [[313, 135]],\n",
       " \n",
       "        [[312, 136]],\n",
       " \n",
       "        [[312, 138]],\n",
       " \n",
       "        [[313, 139]],\n",
       " \n",
       "        [[311, 141]],\n",
       " \n",
       "        [[306, 141]],\n",
       " \n",
       "        [[305, 142]],\n",
       " \n",
       "        [[305, 146]],\n",
       " \n",
       "        [[313, 146]],\n",
       " \n",
       "        [[314, 145]],\n",
       " \n",
       "        [[317, 145]],\n",
       " \n",
       "        [[318, 144]],\n",
       " \n",
       "        [[320, 144]],\n",
       " \n",
       "        [[321, 143]],\n",
       " \n",
       "        [[322, 143]],\n",
       " \n",
       "        [[327, 138]],\n",
       " \n",
       "        [[327, 136]],\n",
       " \n",
       "        [[328, 135]],\n",
       " \n",
       "        [[328, 127]],\n",
       " \n",
       "        [[327, 126]],\n",
       " \n",
       "        [[327, 125]],\n",
       " \n",
       "        [[326, 124]],\n",
       " \n",
       "        [[326, 123]],\n",
       " \n",
       "        [[324, 121]],\n",
       " \n",
       "        [[323, 121]],\n",
       " \n",
       "        [[321, 119]],\n",
       " \n",
       "        [[320, 119]],\n",
       " \n",
       "        [[318, 117]],\n",
       " \n",
       "        [[317, 117]],\n",
       " \n",
       "        [[316, 116]],\n",
       " \n",
       "        [[313, 116]],\n",
       " \n",
       "        [[312, 115]]], dtype=int32),\n",
       " array([[[340, 117]],\n",
       " \n",
       "        [[339, 118]],\n",
       " \n",
       "        [[338, 118]],\n",
       " \n",
       "        [[336, 120]],\n",
       " \n",
       "        [[336, 122]],\n",
       " \n",
       "        [[335, 123]],\n",
       " \n",
       "        [[335, 127]],\n",
       " \n",
       "        [[336, 128]],\n",
       " \n",
       "        [[336, 137]],\n",
       " \n",
       "        [[337, 138]],\n",
       " \n",
       "        [[337, 139]],\n",
       " \n",
       "        [[339, 141]],\n",
       " \n",
       "        [[341, 141]],\n",
       " \n",
       "        [[342, 142]],\n",
       " \n",
       "        [[347, 142]],\n",
       " \n",
       "        [[348, 141]],\n",
       " \n",
       "        [[350, 141]],\n",
       " \n",
       "        [[353, 138]],\n",
       " \n",
       "        [[353, 136]],\n",
       " \n",
       "        [[354, 135]],\n",
       " \n",
       "        [[354, 127]],\n",
       " \n",
       "        [[353, 126]],\n",
       " \n",
       "        [[353, 125]],\n",
       " \n",
       "        [[352, 124]],\n",
       " \n",
       "        [[352, 122]],\n",
       " \n",
       "        [[351, 121]],\n",
       " \n",
       "        [[351, 120]],\n",
       " \n",
       "        [[348, 117]]], dtype=int32),\n",
       " array([[[392, 115]],\n",
       " \n",
       "        [[389, 118]],\n",
       " \n",
       "        [[389, 131]],\n",
       " \n",
       "        [[390, 132]],\n",
       " \n",
       "        [[390, 134]],\n",
       " \n",
       "        [[391, 135]],\n",
       " \n",
       "        [[391, 136]],\n",
       " \n",
       "        [[394, 139]],\n",
       " \n",
       "        [[404, 139]],\n",
       " \n",
       "        [[407, 136]],\n",
       " \n",
       "        [[407, 135]],\n",
       " \n",
       "        [[408, 134]],\n",
       " \n",
       "        [[408, 133]],\n",
       " \n",
       "        [[409, 132]],\n",
       " \n",
       "        [[409, 126]],\n",
       " \n",
       "        [[408, 125]],\n",
       " \n",
       "        [[408, 123]],\n",
       " \n",
       "        [[406, 121]],\n",
       " \n",
       "        [[406, 120]],\n",
       " \n",
       "        [[403, 117]],\n",
       " \n",
       "        [[402, 117]],\n",
       " \n",
       "        [[401, 116]],\n",
       " \n",
       "        [[400, 116]],\n",
       " \n",
       "        [[399, 115]]], dtype=int32),\n",
       " array([[[446, 111]],\n",
       " \n",
       "        [[446, 113]],\n",
       " \n",
       "        [[445, 114]],\n",
       " \n",
       "        [[445, 130]],\n",
       " \n",
       "        [[446, 131]],\n",
       " \n",
       "        [[446, 134]],\n",
       " \n",
       "        [[450, 134]],\n",
       " \n",
       "        [[450, 126]],\n",
       " \n",
       "        [[451, 125]],\n",
       " \n",
       "        [[452, 126]],\n",
       " \n",
       "        [[452, 127]],\n",
       " \n",
       "        [[453, 128]],\n",
       " \n",
       "        [[453, 131]],\n",
       " \n",
       "        [[458, 131]],\n",
       " \n",
       "        [[458, 123]],\n",
       " \n",
       "        [[460, 121]],\n",
       " \n",
       "        [[461, 122]],\n",
       " \n",
       "        [[461, 123]],\n",
       " \n",
       "        [[462, 124]],\n",
       " \n",
       "        [[462, 125]],\n",
       " \n",
       "        [[463, 126]],\n",
       " \n",
       "        [[463, 127]],\n",
       " \n",
       "        [[464, 128]],\n",
       " \n",
       "        [[464, 130]],\n",
       " \n",
       "        [[465, 131]],\n",
       " \n",
       "        [[465, 132]],\n",
       " \n",
       "        [[466, 133]],\n",
       " \n",
       "        [[466, 134]],\n",
       " \n",
       "        [[467, 135]],\n",
       " \n",
       "        [[471, 135]],\n",
       " \n",
       "        [[471, 129]],\n",
       " \n",
       "        [[469, 127]],\n",
       " \n",
       "        [[469, 126]],\n",
       " \n",
       "        [[468, 125]],\n",
       " \n",
       "        [[468, 123]],\n",
       " \n",
       "        [[467, 122]],\n",
       " \n",
       "        [[467, 121]],\n",
       " \n",
       "        [[466, 120]],\n",
       " \n",
       "        [[466, 119]],\n",
       " \n",
       "        [[465, 118]],\n",
       " \n",
       "        [[465, 117]],\n",
       " \n",
       "        [[464, 116]],\n",
       " \n",
       "        [[464, 114]],\n",
       " \n",
       "        [[461, 111]],\n",
       " \n",
       "        [[457, 111]],\n",
       " \n",
       "        [[455, 113]],\n",
       " \n",
       "        [[455, 115]],\n",
       " \n",
       "        [[454, 116]],\n",
       " \n",
       "        [[453, 116]],\n",
       " \n",
       "        [[452, 115]],\n",
       " \n",
       "        [[452, 113]],\n",
       " \n",
       "        [[450, 111]]], dtype=int32),\n",
       " array([[[479, 111]],\n",
       " \n",
       "        [[478, 112]],\n",
       " \n",
       "        [[477, 112]],\n",
       " \n",
       "        [[475, 114]],\n",
       " \n",
       "        [[475, 115]],\n",
       " \n",
       "        [[474, 116]],\n",
       " \n",
       "        [[474, 118]],\n",
       " \n",
       "        [[473, 119]],\n",
       " \n",
       "        [[473, 128]],\n",
       " \n",
       "        [[474, 129]],\n",
       " \n",
       "        [[474, 130]],\n",
       " \n",
       "        [[476, 132]],\n",
       " \n",
       "        [[479, 132]],\n",
       " \n",
       "        [[480, 133]],\n",
       " \n",
       "        [[483, 133]],\n",
       " \n",
       "        [[484, 132]],\n",
       " \n",
       "        [[486, 132]],\n",
       " \n",
       "        [[488, 130]],\n",
       " \n",
       "        [[488, 129]],\n",
       " \n",
       "        [[489, 128]],\n",
       " \n",
       "        [[489, 117]],\n",
       " \n",
       "        [[488, 116]],\n",
       " \n",
       "        [[488, 114]],\n",
       " \n",
       "        [[485, 111]]], dtype=int32),\n",
       " array([[[501, 109]],\n",
       " \n",
       "        [[501, 121]],\n",
       " \n",
       "        [[500, 122]],\n",
       " \n",
       "        [[500, 125]],\n",
       " \n",
       "        [[501, 126]],\n",
       " \n",
       "        [[501, 129]],\n",
       " \n",
       "        [[503, 129]],\n",
       " \n",
       "        [[504, 130]],\n",
       " \n",
       "        [[503, 131]],\n",
       " \n",
       "        [[498, 131]],\n",
       " \n",
       "        [[498, 136]],\n",
       " \n",
       "        [[504, 136]],\n",
       " \n",
       "        [[505, 135]],\n",
       " \n",
       "        [[507, 135]],\n",
       " \n",
       "        [[508, 134]],\n",
       " \n",
       "        [[510, 134]],\n",
       " \n",
       "        [[512, 132]],\n",
       " \n",
       "        [[512, 131]],\n",
       " \n",
       "        [[514, 129]],\n",
       " \n",
       "        [[514, 126]],\n",
       " \n",
       "        [[515, 125]],\n",
       " \n",
       "        [[515, 117]],\n",
       " \n",
       "        [[514, 116]],\n",
       " \n",
       "        [[514, 114]],\n",
       " \n",
       "        [[510, 110]],\n",
       " \n",
       "        [[508, 110]],\n",
       " \n",
       "        [[507, 109]]], dtype=int32),\n",
       " array([[[527, 108]],\n",
       " \n",
       "        [[526, 109]],\n",
       " \n",
       "        [[525, 109]],\n",
       " \n",
       "        [[522, 112]],\n",
       " \n",
       "        [[522, 113]],\n",
       " \n",
       "        [[521, 114]],\n",
       " \n",
       "        [[521, 123]],\n",
       " \n",
       "        [[522, 124]],\n",
       " \n",
       "        [[522, 126]],\n",
       " \n",
       "        [[523, 127]],\n",
       " \n",
       "        [[523, 128]],\n",
       " \n",
       "        [[524, 129]],\n",
       " \n",
       "        [[524, 130]],\n",
       " \n",
       "        [[527, 133]],\n",
       " \n",
       "        [[533, 133]],\n",
       " \n",
       "        [[537, 129]],\n",
       " \n",
       "        [[538, 129]],\n",
       " \n",
       "        [[538, 124]],\n",
       " \n",
       "        [[534, 124]],\n",
       " \n",
       "        [[533, 125]],\n",
       " \n",
       "        [[532, 124]],\n",
       " \n",
       "        [[532, 120]],\n",
       " \n",
       "        [[527, 120]],\n",
       " \n",
       "        [[526, 119]],\n",
       " \n",
       "        [[526, 118]],\n",
       " \n",
       "        [[527, 117]],\n",
       " \n",
       "        [[527, 116]],\n",
       " \n",
       "        [[530, 113]],\n",
       " \n",
       "        [[537, 113]],\n",
       " \n",
       "        [[537, 109]],\n",
       " \n",
       "        [[536, 108]]], dtype=int32),\n",
       " array([[[552, 105]],\n",
       " \n",
       "        [[552, 130]],\n",
       " \n",
       "        [[553, 131]],\n",
       " \n",
       "        [[565, 131]],\n",
       " \n",
       "        [[566, 130]],\n",
       " \n",
       "        [[568, 130]],\n",
       " \n",
       "        [[569, 129]],\n",
       " \n",
       "        [[569, 125]],\n",
       " \n",
       "        [[563, 125]],\n",
       " \n",
       "        [[562, 126]],\n",
       " \n",
       "        [[558, 126]],\n",
       " \n",
       "        [[557, 125]],\n",
       " \n",
       "        [[557, 105]]], dtype=int32),\n",
       " array([[[586, 106]],\n",
       " \n",
       "        [[585, 107]],\n",
       " \n",
       "        [[584, 107]],\n",
       " \n",
       "        [[584, 108]],\n",
       " \n",
       "        [[582, 110]],\n",
       " \n",
       "        [[582, 111]],\n",
       " \n",
       "        [[581, 112]],\n",
       " \n",
       "        [[581, 115]],\n",
       " \n",
       "        [[580, 116]],\n",
       " \n",
       "        [[580, 119]],\n",
       " \n",
       "        [[581, 120]],\n",
       " \n",
       "        [[581, 125]],\n",
       " \n",
       "        [[585, 129]],\n",
       " \n",
       "        [[595, 129]],\n",
       " \n",
       "        [[599, 125]],\n",
       " \n",
       "        [[599, 124]],\n",
       " \n",
       "        [[601, 122]],\n",
       " \n",
       "        [[601, 113]],\n",
       " \n",
       "        [[599, 111]],\n",
       " \n",
       "        [[599, 110]],\n",
       " \n",
       "        [[596, 107]],\n",
       " \n",
       "        [[595, 107]],\n",
       " \n",
       "        [[594, 106]]], dtype=int32))"
      ]
     },
     "execution_count": 33,
     "metadata": {},
     "output_type": "execute_result"
    }
   ],
   "source": [
    "conts = encontrar_contornos(dilatado.copy())\n",
    "conts"
   ]
  },
  {
   "cell_type": "code",
   "execution_count": 34,
   "id": "b1d6b3ee",
   "metadata": {},
   "outputs": [],
   "source": [
    "l_min, l_max = 4, 160\n",
    "a_min, a_max = 14, 140"
   ]
  },
  {
   "cell_type": "code",
   "execution_count": 35,
   "id": "b1be37ff",
   "metadata": {},
   "outputs": [],
   "source": [
    "caracteres = []\n",
    "img_cp = img.copy()\n",
    "for c in conts:\n",
    "  #print(c)\n",
    "  (x, y, w, h) = cv.boundingRect(c)\n",
    "  #print(x, y, w, h)\n",
    "  if (w >= l_min and w <= l_max) and (h >= a_min and h <= a_max):\n",
    "    roi = gray[y:y+ h, x:x + w]\n",
    "    #cv.imshow('image',roi)\n",
    "    thresh = cv.threshold(roi, 0, 255, cv.THRESH_BINARY_INV | cv.THRESH_OTSU)[1]\n",
    "    cv.imshow('image',thresh)\n",
    "    cv.rectangle(img_cp, (x, y), (x + w, y + h), (255, 100, 0), 2)\n",
    "cv.imshow('image',img_cp)\n",
    "cv.waitKey(0)\n",
    "cv.destroyAllWindows()"
   ]
  },
  {
   "cell_type": "code",
   "execution_count": 36,
   "id": "7a899657",
   "metadata": {},
   "outputs": [],
   "source": [
    "def extra_roi(img):\n",
    "    roi = img[y:y + h, x:x + w]\n",
    "    return roi"
   ]
  },
  {
   "cell_type": "code",
   "execution_count": 37,
   "id": "3e0cb233",
   "metadata": {},
   "outputs": [],
   "source": [
    "def limiarizacao(img):\n",
    "    thresh = cv.threshold(img, 0, 255, cv.THRESH_BINARY_INV | cv.THRESH_OTSU)[1]\n",
    "    return thresh"
   ]
  },
  {
   "cell_type": "code",
   "execution_count": 38,
   "id": "6bf0ca07",
   "metadata": {},
   "outputs": [],
   "source": [
    "def redimensiona_img(img, l, a):\n",
    "    if l > a:\n",
    "        redimensionada = imutils.resize(img, width=28)\n",
    "    else:\n",
    "        redimensionada = imutils.resize(img, height=28)\n",
    "\n",
    "    (a, l) = redimensionada.shape\n",
    "    dX = int(max(0, 28 - l) / 2.0)\n",
    "    dY = int(max(0, 28 - a) / 2.0)\n",
    "\n",
    "    preenchida = cv.copyMakeBorder(redimensionada, top=dY, bottom=dY, right=dX, left=dX, borderType=cv.BORDER_CONSTANT, value=(0,0,0))\n",
    "    preenchida = cv.resize(preenchida, (28, 28))\n",
    "    return preenchida"
   ]
  },
  {
   "cell_type": "code",
   "execution_count": 39,
   "id": "7b88e9b8",
   "metadata": {},
   "outputs": [
    {
     "name": "stdout",
     "output_type": "stream",
     "text": [
      "247 121 19 31\n",
      "31 19\n",
      "31 19\n"
     ]
    }
   ],
   "source": [
    "(x, y, w, h) = cv.boundingRect(conts[6])\n",
    "print(x, y, w, h)\n",
    "img_teste = limiarizacao(gray[y:y+h, x:x+w])\n",
    "cv.imshow('image',img_teste)\n",
    "(a, l) = img_teste.shape\n",
    "print(a, l)\n",
    "img_teste2 = redimensiona_img(img_teste, l, a)\n",
    "cv.imshow('image',img_teste2)\n",
    "img_teste2.shape\n",
    "(a, l) = img_teste.shape\n",
    "print(a, l)\n",
    "cv.waitKey(0)\n",
    "cv.destroyAllWindows()"
   ]
  },
  {
   "cell_type": "code",
   "execution_count": 40,
   "id": "2efb2536",
   "metadata": {},
   "outputs": [],
   "source": [
    "img_teste3 = cv.resize(img_teste,(28,28)) # note que aqui o resize distorce a imagem\n",
    "cv.imshow('image',img_teste3)\n",
    "cv.waitKey(0)\n",
    "cv.destroyAllWindows()"
   ]
  },
  {
   "cell_type": "code",
   "execution_count": 41,
   "id": "0ba22d9a",
   "metadata": {},
   "outputs": [],
   "source": [
    "#Normalização imagens\n",
    "# https://colab.research.google.com/drive/11aOxCRQegn6GbpOzoHeO6pVq5K7bRzHc?usp=sharing\n",
    "def normalizacao(img):\n",
    "    img = img.astype('float32') / 255.0\n",
    "    img = np.expand_dims(img, axis=-1) # imagens em escala de cinza tem apenas 1 canal\n",
    "    return img"
   ]
  },
  {
   "cell_type": "code",
   "execution_count": 42,
   "id": "b435ab79",
   "metadata": {},
   "outputs": [
    {
     "data": {
      "text/plain": [
       "((28, 28), (28, 28, 1))"
      ]
     },
     "execution_count": 42,
     "metadata": {},
     "output_type": "execute_result"
    }
   ],
   "source": [
    "img_teste2.shape, normalizacao(img_teste2).shape"
   ]
  },
  {
   "cell_type": "code",
   "execution_count": 43,
   "id": "1a753523",
   "metadata": {},
   "outputs": [],
   "source": [
    "def processa_caixa(gray, x, y, w, h):\n",
    "    roi = extra_roi(gray)\n",
    "    limiar = limiarizacao(roi)\n",
    "    (a, l) = limiar.shape\n",
    "    redimensionada = redimensiona_img(limiar, l, a)\n",
    "    cv.imshow('image',redimensionada)\n",
    "    cv.waitKey(0)\n",
    "    cv.destroyAllWindows()\n",
    "    normalizada = normalizacao(redimensionada)\n",
    "    caracteres.append((normalizada, (x, y, w, h)))"
   ]
  },
  {
   "cell_type": "code",
   "execution_count": 44,
   "id": "c8c3787c",
   "metadata": {},
   "outputs": [],
   "source": [
    "for c in conts:\n",
    "    #print(c)\n",
    "    (x, y, w, h) = cv.boundingRect(c)\n",
    "    if (w >= l_min and w <= l_max) and (h >= a_min and h <= a_max):\n",
    "        processa_caixa(gray, x, y, w, h)"
   ]
  },
  {
   "cell_type": "code",
   "execution_count": 88,
   "id": "b7d7e8ca",
   "metadata": {},
   "outputs": [
    {
     "data": {
      "text/plain": [
       "(array([[[0.        ],\n",
       "         [0.        ],\n",
       "         [0.        ],\n",
       "         [0.        ],\n",
       "         [0.        ],\n",
       "         [0.        ],\n",
       "         [0.        ],\n",
       "         [0.        ],\n",
       "         [0.        ],\n",
       "         [0.        ],\n",
       "         [0.        ],\n",
       "         [0.        ],\n",
       "         [0.        ],\n",
       "         [0.        ],\n",
       "         [0.        ],\n",
       "         [0.        ],\n",
       "         [0.        ],\n",
       "         [0.        ],\n",
       "         [0.        ],\n",
       "         [0.        ],\n",
       "         [0.        ],\n",
       "         [0.        ],\n",
       "         [0.        ],\n",
       "         [0.        ],\n",
       "         [0.        ],\n",
       "         [0.        ],\n",
       "         [0.        ],\n",
       "         [0.        ]],\n",
       " \n",
       "        [[0.        ],\n",
       "         [0.        ],\n",
       "         [0.        ],\n",
       "         [0.        ],\n",
       "         [0.        ],\n",
       "         [0.        ],\n",
       "         [0.        ],\n",
       "         [0.        ],\n",
       "         [0.        ],\n",
       "         [0.        ],\n",
       "         [0.        ],\n",
       "         [0.        ],\n",
       "         [0.        ],\n",
       "         [0.        ],\n",
       "         [0.        ],\n",
       "         [0.        ],\n",
       "         [0.        ],\n",
       "         [0.        ],\n",
       "         [0.        ],\n",
       "         [0.        ],\n",
       "         [0.        ],\n",
       "         [0.        ],\n",
       "         [0.        ],\n",
       "         [0.        ],\n",
       "         [0.        ],\n",
       "         [0.        ],\n",
       "         [0.        ],\n",
       "         [0.        ]],\n",
       " \n",
       "        [[0.        ],\n",
       "         [0.        ],\n",
       "         [0.        ],\n",
       "         [0.        ],\n",
       "         [0.        ],\n",
       "         [0.        ],\n",
       "         [0.        ],\n",
       "         [0.        ],\n",
       "         [0.        ],\n",
       "         [0.        ],\n",
       "         [0.        ],\n",
       "         [0.        ],\n",
       "         [0.        ],\n",
       "         [0.10588235],\n",
       "         [0.29411766],\n",
       "         [0.29411766],\n",
       "         [0.29411766],\n",
       "         [0.29411766],\n",
       "         [0.29411766],\n",
       "         [0.29411766],\n",
       "         [0.29411766],\n",
       "         [0.29411766],\n",
       "         [0.07450981],\n",
       "         [0.        ],\n",
       "         [0.        ],\n",
       "         [0.        ],\n",
       "         [0.        ],\n",
       "         [0.        ]],\n",
       " \n",
       "        [[0.        ],\n",
       "         [0.33333334],\n",
       "         [0.5882353 ],\n",
       "         [0.5882353 ],\n",
       "         [0.5882353 ],\n",
       "         [0.5882353 ],\n",
       "         [0.5882353 ],\n",
       "         [0.5882353 ],\n",
       "         [0.5882353 ],\n",
       "         [0.5882353 ],\n",
       "         [0.5882353 ],\n",
       "         [0.5882353 ],\n",
       "         [0.5882353 ],\n",
       "         [0.7372549 ],\n",
       "         [1.        ],\n",
       "         [1.        ],\n",
       "         [1.        ],\n",
       "         [1.        ],\n",
       "         [1.        ],\n",
       "         [1.        ],\n",
       "         [1.        ],\n",
       "         [1.        ],\n",
       "         [0.69411767],\n",
       "         [0.5882353 ],\n",
       "         [0.5882353 ],\n",
       "         [0.49803922],\n",
       "         [0.        ],\n",
       "         [0.        ]],\n",
       " \n",
       "        [[0.24705882],\n",
       "         [0.9490196 ],\n",
       "         [1.        ],\n",
       "         [1.        ],\n",
       "         [1.        ],\n",
       "         [1.        ],\n",
       "         [1.        ],\n",
       "         [1.        ],\n",
       "         [1.        ],\n",
       "         [1.        ],\n",
       "         [1.        ],\n",
       "         [1.        ],\n",
       "         [1.        ],\n",
       "         [1.        ],\n",
       "         [1.        ],\n",
       "         [1.        ],\n",
       "         [1.        ],\n",
       "         [1.        ],\n",
       "         [1.        ],\n",
       "         [1.        ],\n",
       "         [1.        ],\n",
       "         [1.        ],\n",
       "         [1.        ],\n",
       "         [0.94509804],\n",
       "         [0.40784314],\n",
       "         [0.09803922],\n",
       "         [0.        ],\n",
       "         [0.        ]],\n",
       " \n",
       "        [[0.14901961],\n",
       "         [0.79607844],\n",
       "         [1.        ],\n",
       "         [1.        ],\n",
       "         [1.        ],\n",
       "         [1.        ],\n",
       "         [1.        ],\n",
       "         [1.        ],\n",
       "         [1.        ],\n",
       "         [1.        ],\n",
       "         [1.        ],\n",
       "         [1.        ],\n",
       "         [1.        ],\n",
       "         [1.        ],\n",
       "         [1.        ],\n",
       "         [1.        ],\n",
       "         [1.        ],\n",
       "         [1.        ],\n",
       "         [1.        ],\n",
       "         [0.70980394],\n",
       "         [0.5294118 ],\n",
       "         [0.5294118 ],\n",
       "         [0.5294118 ],\n",
       "         [0.3647059 ],\n",
       "         [0.        ],\n",
       "         [0.        ],\n",
       "         [0.        ],\n",
       "         [0.        ]],\n",
       " \n",
       "        [[0.        ],\n",
       "         [0.13333334],\n",
       "         [0.23529412],\n",
       "         [0.23529412],\n",
       "         [0.23529412],\n",
       "         [0.41568628],\n",
       "         [0.9411765 ],\n",
       "         [0.9411765 ],\n",
       "         [0.9411765 ],\n",
       "         [0.9411765 ],\n",
       "         [0.27058825],\n",
       "         [0.23529412],\n",
       "         [0.8       ],\n",
       "         [1.        ],\n",
       "         [1.        ],\n",
       "         [1.        ],\n",
       "         [0.972549  ],\n",
       "         [0.4       ],\n",
       "         [0.23529412],\n",
       "         [0.09019608],\n",
       "         [0.        ],\n",
       "         [0.        ],\n",
       "         [0.        ],\n",
       "         [0.        ],\n",
       "         [0.        ],\n",
       "         [0.        ],\n",
       "         [0.        ],\n",
       "         [0.        ]],\n",
       " \n",
       "        [[0.        ],\n",
       "         [0.        ],\n",
       "         [0.        ],\n",
       "         [0.        ],\n",
       "         [0.        ],\n",
       "         [0.        ],\n",
       "         [0.        ],\n",
       "         [0.        ],\n",
       "         [0.        ],\n",
       "         [0.        ],\n",
       "         [0.        ],\n",
       "         [0.        ],\n",
       "         [0.07843138],\n",
       "         [1.        ],\n",
       "         [1.        ],\n",
       "         [1.        ],\n",
       "         [0.5137255 ],\n",
       "         [0.        ],\n",
       "         [0.        ],\n",
       "         [0.        ],\n",
       "         [0.        ],\n",
       "         [0.        ],\n",
       "         [0.        ],\n",
       "         [0.        ],\n",
       "         [0.        ],\n",
       "         [0.        ],\n",
       "         [0.        ],\n",
       "         [0.        ]],\n",
       " \n",
       "        [[0.        ],\n",
       "         [0.        ],\n",
       "         [0.        ],\n",
       "         [0.        ],\n",
       "         [0.        ],\n",
       "         [0.        ],\n",
       "         [0.        ],\n",
       "         [0.        ],\n",
       "         [0.        ],\n",
       "         [0.        ],\n",
       "         [0.        ],\n",
       "         [0.        ],\n",
       "         [0.07843138],\n",
       "         [1.        ],\n",
       "         [1.        ],\n",
       "         [1.        ],\n",
       "         [0.5137255 ],\n",
       "         [0.        ],\n",
       "         [0.        ],\n",
       "         [0.        ],\n",
       "         [0.        ],\n",
       "         [0.        ],\n",
       "         [0.        ],\n",
       "         [0.        ],\n",
       "         [0.        ],\n",
       "         [0.        ],\n",
       "         [0.        ],\n",
       "         [0.        ]],\n",
       " \n",
       "        [[0.        ],\n",
       "         [0.        ],\n",
       "         [0.        ],\n",
       "         [0.        ],\n",
       "         [0.        ],\n",
       "         [0.        ],\n",
       "         [0.        ],\n",
       "         [0.        ],\n",
       "         [0.        ],\n",
       "         [0.        ],\n",
       "         [0.        ],\n",
       "         [0.        ],\n",
       "         [0.00392157],\n",
       "         [0.39607844],\n",
       "         [1.        ],\n",
       "         [1.        ],\n",
       "         [0.5137255 ],\n",
       "         [0.        ],\n",
       "         [0.        ],\n",
       "         [0.        ],\n",
       "         [0.        ],\n",
       "         [0.        ],\n",
       "         [0.        ],\n",
       "         [0.        ],\n",
       "         [0.        ],\n",
       "         [0.        ],\n",
       "         [0.        ],\n",
       "         [0.        ]],\n",
       " \n",
       "        [[0.        ],\n",
       "         [0.        ],\n",
       "         [0.        ],\n",
       "         [0.        ],\n",
       "         [0.        ],\n",
       "         [0.        ],\n",
       "         [0.        ],\n",
       "         [0.        ],\n",
       "         [0.        ],\n",
       "         [0.        ],\n",
       "         [0.        ],\n",
       "         [0.        ],\n",
       "         [0.        ],\n",
       "         [0.16862746],\n",
       "         [0.8117647 ],\n",
       "         [1.        ],\n",
       "         [0.77254903],\n",
       "         [0.12156863],\n",
       "         [0.        ],\n",
       "         [0.        ],\n",
       "         [0.        ],\n",
       "         [0.        ],\n",
       "         [0.        ],\n",
       "         [0.        ],\n",
       "         [0.        ],\n",
       "         [0.        ],\n",
       "         [0.        ],\n",
       "         [0.        ]],\n",
       " \n",
       "        [[0.        ],\n",
       "         [0.        ],\n",
       "         [0.        ],\n",
       "         [0.        ],\n",
       "         [0.        ],\n",
       "         [0.        ],\n",
       "         [0.        ],\n",
       "         [0.        ],\n",
       "         [0.        ],\n",
       "         [0.        ],\n",
       "         [0.        ],\n",
       "         [0.        ],\n",
       "         [0.        ],\n",
       "         [0.        ],\n",
       "         [0.6392157 ],\n",
       "         [1.        ],\n",
       "         [0.654902  ],\n",
       "         [0.06666667],\n",
       "         [0.        ],\n",
       "         [0.        ],\n",
       "         [0.        ],\n",
       "         [0.        ],\n",
       "         [0.        ],\n",
       "         [0.        ],\n",
       "         [0.        ],\n",
       "         [0.        ],\n",
       "         [0.        ],\n",
       "         [0.        ]],\n",
       " \n",
       "        [[0.        ],\n",
       "         [0.        ],\n",
       "         [0.        ],\n",
       "         [0.        ],\n",
       "         [0.        ],\n",
       "         [0.        ],\n",
       "         [0.        ],\n",
       "         [0.        ],\n",
       "         [0.        ],\n",
       "         [0.        ],\n",
       "         [0.        ],\n",
       "         [0.        ],\n",
       "         [0.        ],\n",
       "         [0.        ],\n",
       "         [0.6392157 ],\n",
       "         [1.        ],\n",
       "         [1.        ],\n",
       "         [0.23137255],\n",
       "         [0.        ],\n",
       "         [0.        ],\n",
       "         [0.        ],\n",
       "         [0.        ],\n",
       "         [0.        ],\n",
       "         [0.        ],\n",
       "         [0.        ],\n",
       "         [0.        ],\n",
       "         [0.        ],\n",
       "         [0.        ]],\n",
       " \n",
       "        [[0.        ],\n",
       "         [0.        ],\n",
       "         [0.        ],\n",
       "         [0.        ],\n",
       "         [0.        ],\n",
       "         [0.        ],\n",
       "         [0.        ],\n",
       "         [0.        ],\n",
       "         [0.        ],\n",
       "         [0.        ],\n",
       "         [0.        ],\n",
       "         [0.        ],\n",
       "         [0.        ],\n",
       "         [0.        ],\n",
       "         [0.1882353 ],\n",
       "         [0.94509804],\n",
       "         [1.        ],\n",
       "         [0.23137255],\n",
       "         [0.        ],\n",
       "         [0.        ],\n",
       "         [0.        ],\n",
       "         [0.        ],\n",
       "         [0.        ],\n",
       "         [0.        ],\n",
       "         [0.        ],\n",
       "         [0.        ],\n",
       "         [0.        ],\n",
       "         [0.        ]],\n",
       " \n",
       "        [[0.        ],\n",
       "         [0.        ],\n",
       "         [0.        ],\n",
       "         [0.        ],\n",
       "         [0.        ],\n",
       "         [0.        ],\n",
       "         [0.        ],\n",
       "         [0.        ],\n",
       "         [0.        ],\n",
       "         [0.        ],\n",
       "         [0.        ],\n",
       "         [0.        ],\n",
       "         [0.        ],\n",
       "         [0.        ],\n",
       "         [0.        ],\n",
       "         [0.92156863],\n",
       "         [1.        ],\n",
       "         [0.9490196 ],\n",
       "         [0.        ],\n",
       "         [0.        ],\n",
       "         [0.        ],\n",
       "         [0.        ],\n",
       "         [0.        ],\n",
       "         [0.        ],\n",
       "         [0.        ],\n",
       "         [0.        ],\n",
       "         [0.        ],\n",
       "         [0.        ]],\n",
       " \n",
       "        [[0.        ],\n",
       "         [0.        ],\n",
       "         [0.        ],\n",
       "         [0.        ],\n",
       "         [0.        ],\n",
       "         [0.        ],\n",
       "         [0.        ],\n",
       "         [0.        ],\n",
       "         [0.        ],\n",
       "         [0.        ],\n",
       "         [0.        ],\n",
       "         [0.        ],\n",
       "         [0.        ],\n",
       "         [0.        ],\n",
       "         [0.        ],\n",
       "         [0.92156863],\n",
       "         [1.        ],\n",
       "         [0.9490196 ],\n",
       "         [0.        ],\n",
       "         [0.        ],\n",
       "         [0.        ],\n",
       "         [0.        ],\n",
       "         [0.        ],\n",
       "         [0.        ],\n",
       "         [0.        ],\n",
       "         [0.        ],\n",
       "         [0.        ],\n",
       "         [0.        ]],\n",
       " \n",
       "        [[0.        ],\n",
       "         [0.        ],\n",
       "         [0.        ],\n",
       "         [0.        ],\n",
       "         [0.        ],\n",
       "         [0.        ],\n",
       "         [0.        ],\n",
       "         [0.        ],\n",
       "         [0.        ],\n",
       "         [0.        ],\n",
       "         [0.        ],\n",
       "         [0.        ],\n",
       "         [0.        ],\n",
       "         [0.        ],\n",
       "         [0.        ],\n",
       "         [0.92156863],\n",
       "         [1.        ],\n",
       "         [0.9490196 ],\n",
       "         [0.        ],\n",
       "         [0.        ],\n",
       "         [0.        ],\n",
       "         [0.        ],\n",
       "         [0.        ],\n",
       "         [0.        ],\n",
       "         [0.        ],\n",
       "         [0.        ],\n",
       "         [0.        ],\n",
       "         [0.        ]],\n",
       " \n",
       "        [[0.        ],\n",
       "         [0.        ],\n",
       "         [0.        ],\n",
       "         [0.        ],\n",
       "         [0.        ],\n",
       "         [0.        ],\n",
       "         [0.        ],\n",
       "         [0.        ],\n",
       "         [0.        ],\n",
       "         [0.        ],\n",
       "         [0.        ],\n",
       "         [0.        ],\n",
       "         [0.        ],\n",
       "         [0.        ],\n",
       "         [0.        ],\n",
       "         [0.92156863],\n",
       "         [1.        ],\n",
       "         [0.9490196 ],\n",
       "         [0.        ],\n",
       "         [0.        ],\n",
       "         [0.        ],\n",
       "         [0.        ],\n",
       "         [0.        ],\n",
       "         [0.        ],\n",
       "         [0.        ],\n",
       "         [0.        ],\n",
       "         [0.        ],\n",
       "         [0.        ]],\n",
       " \n",
       "        [[0.        ],\n",
       "         [0.        ],\n",
       "         [0.        ],\n",
       "         [0.        ],\n",
       "         [0.        ],\n",
       "         [0.        ],\n",
       "         [0.        ],\n",
       "         [0.        ],\n",
       "         [0.        ],\n",
       "         [0.        ],\n",
       "         [0.        ],\n",
       "         [0.        ],\n",
       "         [0.        ],\n",
       "         [0.        ],\n",
       "         [0.        ],\n",
       "         [0.37254903],\n",
       "         [1.        ],\n",
       "         [0.9490196 ],\n",
       "         [0.        ],\n",
       "         [0.        ],\n",
       "         [0.        ],\n",
       "         [0.        ],\n",
       "         [0.        ],\n",
       "         [0.        ],\n",
       "         [0.        ],\n",
       "         [0.        ],\n",
       "         [0.        ],\n",
       "         [0.        ]],\n",
       " \n",
       "        [[0.        ],\n",
       "         [0.        ],\n",
       "         [0.        ],\n",
       "         [0.        ],\n",
       "         [0.        ],\n",
       "         [0.        ],\n",
       "         [0.        ],\n",
       "         [0.        ],\n",
       "         [0.        ],\n",
       "         [0.        ],\n",
       "         [0.        ],\n",
       "         [0.        ],\n",
       "         [0.        ],\n",
       "         [0.        ],\n",
       "         [0.        ],\n",
       "         [0.20392157],\n",
       "         [1.        ],\n",
       "         [0.9490196 ],\n",
       "         [0.        ],\n",
       "         [0.        ],\n",
       "         [0.        ],\n",
       "         [0.        ],\n",
       "         [0.        ],\n",
       "         [0.        ],\n",
       "         [0.        ],\n",
       "         [0.        ],\n",
       "         [0.        ],\n",
       "         [0.        ]],\n",
       " \n",
       "        [[0.        ],\n",
       "         [0.        ],\n",
       "         [0.        ],\n",
       "         [0.        ],\n",
       "         [0.        ],\n",
       "         [0.        ],\n",
       "         [0.        ],\n",
       "         [0.        ],\n",
       "         [0.        ],\n",
       "         [0.        ],\n",
       "         [0.        ],\n",
       "         [0.        ],\n",
       "         [0.        ],\n",
       "         [0.        ],\n",
       "         [0.        ],\n",
       "         [0.20392157],\n",
       "         [1.        ],\n",
       "         [0.98039216],\n",
       "         [0.43137255],\n",
       "         [0.        ],\n",
       "         [0.        ],\n",
       "         [0.        ],\n",
       "         [0.        ],\n",
       "         [0.        ],\n",
       "         [0.        ],\n",
       "         [0.        ],\n",
       "         [0.        ],\n",
       "         [0.        ]],\n",
       " \n",
       "        [[0.        ],\n",
       "         [0.        ],\n",
       "         [0.        ],\n",
       "         [0.        ],\n",
       "         [0.        ],\n",
       "         [0.        ],\n",
       "         [0.        ],\n",
       "         [0.        ],\n",
       "         [0.        ],\n",
       "         [0.        ],\n",
       "         [0.        ],\n",
       "         [0.        ],\n",
       "         [0.        ],\n",
       "         [0.        ],\n",
       "         [0.        ],\n",
       "         [0.20392157],\n",
       "         [1.        ],\n",
       "         [1.        ],\n",
       "         [0.6666667 ],\n",
       "         [0.        ],\n",
       "         [0.        ],\n",
       "         [0.        ],\n",
       "         [0.        ],\n",
       "         [0.        ],\n",
       "         [0.        ],\n",
       "         [0.        ],\n",
       "         [0.        ],\n",
       "         [0.        ]],\n",
       " \n",
       "        [[0.        ],\n",
       "         [0.        ],\n",
       "         [0.        ],\n",
       "         [0.        ],\n",
       "         [0.        ],\n",
       "         [0.        ],\n",
       "         [0.        ],\n",
       "         [0.        ],\n",
       "         [0.        ],\n",
       "         [0.        ],\n",
       "         [0.        ],\n",
       "         [0.        ],\n",
       "         [0.        ],\n",
       "         [0.        ],\n",
       "         [0.        ],\n",
       "         [0.20392157],\n",
       "         [1.        ],\n",
       "         [1.        ],\n",
       "         [0.6666667 ],\n",
       "         [0.        ],\n",
       "         [0.        ],\n",
       "         [0.        ],\n",
       "         [0.        ],\n",
       "         [0.        ],\n",
       "         [0.        ],\n",
       "         [0.        ],\n",
       "         [0.        ],\n",
       "         [0.        ]],\n",
       " \n",
       "        [[0.        ],\n",
       "         [0.        ],\n",
       "         [0.        ],\n",
       "         [0.        ],\n",
       "         [0.        ],\n",
       "         [0.        ],\n",
       "         [0.        ],\n",
       "         [0.        ],\n",
       "         [0.        ],\n",
       "         [0.        ],\n",
       "         [0.        ],\n",
       "         [0.        ],\n",
       "         [0.        ],\n",
       "         [0.        ],\n",
       "         [0.        ],\n",
       "         [0.03529412],\n",
       "         [0.5764706 ],\n",
       "         [1.        ],\n",
       "         [0.6666667 ],\n",
       "         [0.        ],\n",
       "         [0.        ],\n",
       "         [0.        ],\n",
       "         [0.        ],\n",
       "         [0.        ],\n",
       "         [0.        ],\n",
       "         [0.        ],\n",
       "         [0.        ],\n",
       "         [0.        ]],\n",
       " \n",
       "        [[0.        ],\n",
       "         [0.        ],\n",
       "         [0.        ],\n",
       "         [0.        ],\n",
       "         [0.        ],\n",
       "         [0.        ],\n",
       "         [0.        ],\n",
       "         [0.        ],\n",
       "         [0.        ],\n",
       "         [0.        ],\n",
       "         [0.        ],\n",
       "         [0.        ],\n",
       "         [0.        ],\n",
       "         [0.        ],\n",
       "         [0.        ],\n",
       "         [0.        ],\n",
       "         [0.28627452],\n",
       "         [0.5882353 ],\n",
       "         [0.39215687],\n",
       "         [0.        ],\n",
       "         [0.        ],\n",
       "         [0.        ],\n",
       "         [0.        ],\n",
       "         [0.        ],\n",
       "         [0.        ],\n",
       "         [0.        ],\n",
       "         [0.        ],\n",
       "         [0.        ]],\n",
       " \n",
       "        [[0.        ],\n",
       "         [0.        ],\n",
       "         [0.        ],\n",
       "         [0.        ],\n",
       "         [0.        ],\n",
       "         [0.        ],\n",
       "         [0.        ],\n",
       "         [0.        ],\n",
       "         [0.        ],\n",
       "         [0.        ],\n",
       "         [0.        ],\n",
       "         [0.        ],\n",
       "         [0.        ],\n",
       "         [0.        ],\n",
       "         [0.        ],\n",
       "         [0.        ],\n",
       "         [0.        ],\n",
       "         [0.        ],\n",
       "         [0.        ],\n",
       "         [0.        ],\n",
       "         [0.        ],\n",
       "         [0.        ],\n",
       "         [0.        ],\n",
       "         [0.        ],\n",
       "         [0.        ],\n",
       "         [0.        ],\n",
       "         [0.        ],\n",
       "         [0.        ]],\n",
       " \n",
       "        [[0.        ],\n",
       "         [0.        ],\n",
       "         [0.        ],\n",
       "         [0.        ],\n",
       "         [0.        ],\n",
       "         [0.        ],\n",
       "         [0.        ],\n",
       "         [0.        ],\n",
       "         [0.        ],\n",
       "         [0.        ],\n",
       "         [0.        ],\n",
       "         [0.        ],\n",
       "         [0.        ],\n",
       "         [0.        ],\n",
       "         [0.        ],\n",
       "         [0.        ],\n",
       "         [0.        ],\n",
       "         [0.        ],\n",
       "         [0.        ],\n",
       "         [0.        ],\n",
       "         [0.        ],\n",
       "         [0.        ],\n",
       "         [0.        ],\n",
       "         [0.        ],\n",
       "         [0.        ],\n",
       "         [0.        ],\n",
       "         [0.        ],\n",
       "         [0.        ]],\n",
       " \n",
       "        [[0.        ],\n",
       "         [0.        ],\n",
       "         [0.        ],\n",
       "         [0.        ],\n",
       "         [0.        ],\n",
       "         [0.        ],\n",
       "         [0.        ],\n",
       "         [0.        ],\n",
       "         [0.        ],\n",
       "         [0.        ],\n",
       "         [0.        ],\n",
       "         [0.        ],\n",
       "         [0.        ],\n",
       "         [0.        ],\n",
       "         [0.        ],\n",
       "         [0.        ],\n",
       "         [0.        ],\n",
       "         [0.        ],\n",
       "         [0.        ],\n",
       "         [0.        ],\n",
       "         [0.        ],\n",
       "         [0.        ],\n",
       "         [0.        ],\n",
       "         [0.        ],\n",
       "         [0.        ],\n",
       "         [0.        ],\n",
       "         [0.        ],\n",
       "         [0.        ]]], dtype=float32),\n",
       " (90, 123, 39, 34))"
      ]
     },
     "execution_count": 88,
     "metadata": {},
     "output_type": "execute_result"
    }
   ],
   "source": [
    "caracteres[0]"
   ]
  },
  {
   "cell_type": "code",
   "execution_count": 45,
   "id": "19248380",
   "metadata": {},
   "outputs": [
    {
     "data": {
      "text/plain": [
       "[(90, 123, 39, 34),\n",
       " (140, 123, 24, 34),\n",
       " (175, 121, 23, 36),\n",
       " (207, 121, 28, 28),\n",
       " (247, 121, 19, 31),\n",
       " (273, 115, 22, 34),\n",
       " (305, 115, 24, 32),\n",
       " (335, 117, 20, 26),\n",
       " (389, 115, 21, 25),\n",
       " (445, 111, 27, 25),\n",
       " (473, 111, 17, 23),\n",
       " (498, 109, 18, 28),\n",
       " (521, 108, 18, 26),\n",
       " (552, 105, 18, 27),\n",
       " (580, 106, 22, 24)]"
      ]
     },
     "execution_count": 45,
     "metadata": {},
     "output_type": "execute_result"
    }
   ],
   "source": [
    "caixas = [caixa[1] for caixa in caracteres]\n",
    "caixas"
   ]
  },
  {
   "cell_type": "code",
   "execution_count": 46,
   "id": "192ea8c9",
   "metadata": {},
   "outputs": [],
   "source": [
    "caracteres = np.array([c[0] for c in caracteres], dtype='float32')"
   ]
  },
  {
   "cell_type": "code",
   "execution_count": 47,
   "id": "5701a93c",
   "metadata": {},
   "outputs": [
    {
     "data": {
      "text/plain": [
       "[array([[0.],\n",
       "        [0.],\n",
       "        [0.],\n",
       "        [0.],\n",
       "        [0.],\n",
       "        [0.],\n",
       "        [0.],\n",
       "        [0.],\n",
       "        [0.],\n",
       "        [0.],\n",
       "        [0.],\n",
       "        [0.],\n",
       "        [0.],\n",
       "        [0.],\n",
       "        [0.],\n",
       "        [0.],\n",
       "        [0.],\n",
       "        [0.],\n",
       "        [0.],\n",
       "        [0.],\n",
       "        [0.],\n",
       "        [0.],\n",
       "        [0.],\n",
       "        [0.],\n",
       "        [0.],\n",
       "        [0.],\n",
       "        [0.],\n",
       "        [0.]], dtype=float32),\n",
       " array([[0.        ],\n",
       "        [0.        ],\n",
       "        [0.        ],\n",
       "        [0.        ],\n",
       "        [0.        ],\n",
       "        [0.        ],\n",
       "        [0.        ],\n",
       "        [0.        ],\n",
       "        [0.05882353],\n",
       "        [0.2627451 ],\n",
       "        [0.3529412 ],\n",
       "        [0.3529412 ],\n",
       "        [0.3529412 ],\n",
       "        [0.3529412 ],\n",
       "        [0.3529412 ],\n",
       "        [0.3529412 ],\n",
       "        [0.3529412 ],\n",
       "        [0.3529412 ],\n",
       "        [0.2627451 ],\n",
       "        [0.05882353],\n",
       "        [0.        ],\n",
       "        [0.        ],\n",
       "        [0.        ],\n",
       "        [0.        ],\n",
       "        [0.        ],\n",
       "        [0.        ],\n",
       "        [0.        ],\n",
       "        [0.        ]], dtype=float32),\n",
       " array([[0.        ],\n",
       "        [0.        ],\n",
       "        [0.        ],\n",
       "        [0.        ],\n",
       "        [0.        ],\n",
       "        [0.        ],\n",
       "        [0.        ],\n",
       "        [0.        ],\n",
       "        [0.        ],\n",
       "        [0.        ],\n",
       "        [0.        ],\n",
       "        [0.        ],\n",
       "        [0.        ],\n",
       "        [0.2       ],\n",
       "        [0.41568628],\n",
       "        [0.44313726],\n",
       "        [0.44313726],\n",
       "        [0.44313726],\n",
       "        [0.44313726],\n",
       "        [0.3137255 ],\n",
       "        [0.01568628],\n",
       "        [0.        ],\n",
       "        [0.        ],\n",
       "        [0.        ],\n",
       "        [0.        ],\n",
       "        [0.        ],\n",
       "        [0.        ],\n",
       "        [0.        ]], dtype=float32),\n",
       " array([[0.],\n",
       "        [0.],\n",
       "        [0.],\n",
       "        [0.],\n",
       "        [0.],\n",
       "        [0.],\n",
       "        [0.],\n",
       "        [0.],\n",
       "        [1.],\n",
       "        [1.],\n",
       "        [1.],\n",
       "        [0.],\n",
       "        [0.],\n",
       "        [0.],\n",
       "        [0.],\n",
       "        [0.],\n",
       "        [0.],\n",
       "        [0.],\n",
       "        [0.],\n",
       "        [0.],\n",
       "        [0.],\n",
       "        [0.],\n",
       "        [0.],\n",
       "        [1.],\n",
       "        [1.],\n",
       "        [1.],\n",
       "        [1.],\n",
       "        [0.]], dtype=float32),\n",
       " array([[0.        ],\n",
       "        [0.        ],\n",
       "        [0.        ],\n",
       "        [0.        ],\n",
       "        [0.        ],\n",
       "        [0.        ],\n",
       "        [0.        ],\n",
       "        [0.        ],\n",
       "        [0.        ],\n",
       "        [0.06666667],\n",
       "        [0.47843137],\n",
       "        [0.8784314 ],\n",
       "        [1.        ],\n",
       "        [0.6       ],\n",
       "        [0.11764706],\n",
       "        [0.        ],\n",
       "        [0.        ],\n",
       "        [0.        ],\n",
       "        [0.        ],\n",
       "        [0.        ],\n",
       "        [0.        ],\n",
       "        [0.        ],\n",
       "        [0.        ],\n",
       "        [0.        ],\n",
       "        [0.        ],\n",
       "        [0.        ],\n",
       "        [0.        ],\n",
       "        [0.        ]], dtype=float32),\n",
       " array([[0.        ],\n",
       "        [0.        ],\n",
       "        [0.        ],\n",
       "        [0.        ],\n",
       "        [0.        ],\n",
       "        [0.        ],\n",
       "        [0.        ],\n",
       "        [0.        ],\n",
       "        [0.        ],\n",
       "        [0.        ],\n",
       "        [0.        ],\n",
       "        [0.        ],\n",
       "        [0.        ],\n",
       "        [0.        ],\n",
       "        [0.        ],\n",
       "        [0.        ],\n",
       "        [0.        ],\n",
       "        [0.        ],\n",
       "        [0.03137255],\n",
       "        [0.5294118 ],\n",
       "        [0.7058824 ],\n",
       "        [0.12941177],\n",
       "        [0.        ],\n",
       "        [0.        ],\n",
       "        [0.        ],\n",
       "        [0.        ],\n",
       "        [0.        ],\n",
       "        [0.        ]], dtype=float32),\n",
       " array([[0.        ],\n",
       "        [0.        ],\n",
       "        [0.        ],\n",
       "        [0.        ],\n",
       "        [0.        ],\n",
       "        [0.        ],\n",
       "        [0.09803922],\n",
       "        [0.21568628],\n",
       "        [0.2509804 ],\n",
       "        [0.2509804 ],\n",
       "        [0.23137255],\n",
       "        [0.09019608],\n",
       "        [0.05098039],\n",
       "        [0.10980392],\n",
       "        [0.06666667],\n",
       "        [0.        ],\n",
       "        [0.        ],\n",
       "        [0.        ],\n",
       "        [0.        ],\n",
       "        [0.        ],\n",
       "        [0.        ],\n",
       "        [0.        ],\n",
       "        [0.        ],\n",
       "        [0.        ],\n",
       "        [0.        ],\n",
       "        [0.        ],\n",
       "        [0.        ],\n",
       "        [0.        ]], dtype=float32),\n",
       " array([[0.        ],\n",
       "        [0.        ],\n",
       "        [0.        ],\n",
       "        [0.        ],\n",
       "        [0.        ],\n",
       "        [0.        ],\n",
       "        [0.        ],\n",
       "        [0.        ],\n",
       "        [0.        ],\n",
       "        [0.        ],\n",
       "        [0.        ],\n",
       "        [0.3254902 ],\n",
       "        [0.75686276],\n",
       "        [0.92156863],\n",
       "        [0.92156863],\n",
       "        [0.75686276],\n",
       "        [0.3254902 ],\n",
       "        [0.        ],\n",
       "        [0.        ],\n",
       "        [0.        ],\n",
       "        [0.        ],\n",
       "        [0.        ],\n",
       "        [0.        ],\n",
       "        [0.        ],\n",
       "        [0.        ],\n",
       "        [0.        ],\n",
       "        [0.        ],\n",
       "        [0.        ]], dtype=float32),\n",
       " array([[0.        ],\n",
       "        [0.        ],\n",
       "        [0.        ],\n",
       "        [0.        ],\n",
       "        [0.        ],\n",
       "        [0.        ],\n",
       "        [0.        ],\n",
       "        [0.        ],\n",
       "        [0.        ],\n",
       "        [0.19607843],\n",
       "        [0.65882355],\n",
       "        [0.8039216 ],\n",
       "        [0.3372549 ],\n",
       "        [0.        ],\n",
       "        [0.        ],\n",
       "        [0.        ],\n",
       "        [0.        ],\n",
       "        [0.        ],\n",
       "        [0.        ],\n",
       "        [0.        ],\n",
       "        [0.        ],\n",
       "        [0.        ],\n",
       "        [0.        ],\n",
       "        [0.        ],\n",
       "        [0.        ],\n",
       "        [0.        ],\n",
       "        [0.        ],\n",
       "        [0.        ]], dtype=float32),\n",
       " array([[0.],\n",
       "        [0.],\n",
       "        [0.],\n",
       "        [0.],\n",
       "        [0.],\n",
       "        [0.],\n",
       "        [0.],\n",
       "        [0.],\n",
       "        [0.],\n",
       "        [0.],\n",
       "        [0.],\n",
       "        [0.],\n",
       "        [0.],\n",
       "        [0.],\n",
       "        [0.],\n",
       "        [0.],\n",
       "        [0.],\n",
       "        [0.],\n",
       "        [0.],\n",
       "        [0.],\n",
       "        [0.],\n",
       "        [0.],\n",
       "        [0.],\n",
       "        [0.],\n",
       "        [0.],\n",
       "        [0.],\n",
       "        [0.],\n",
       "        [0.]], dtype=float32),\n",
       " array([[0.],\n",
       "        [0.],\n",
       "        [0.],\n",
       "        [0.],\n",
       "        [0.],\n",
       "        [0.],\n",
       "        [0.],\n",
       "        [0.],\n",
       "        [0.],\n",
       "        [0.],\n",
       "        [0.],\n",
       "        [0.],\n",
       "        [0.],\n",
       "        [0.],\n",
       "        [0.],\n",
       "        [0.],\n",
       "        [0.],\n",
       "        [0.],\n",
       "        [0.],\n",
       "        [0.],\n",
       "        [0.],\n",
       "        [0.],\n",
       "        [0.],\n",
       "        [0.],\n",
       "        [0.],\n",
       "        [0.],\n",
       "        [0.],\n",
       "        [0.]], dtype=float32),\n",
       " array([[0.],\n",
       "        [0.],\n",
       "        [0.],\n",
       "        [0.],\n",
       "        [0.],\n",
       "        [0.],\n",
       "        [0.],\n",
       "        [0.],\n",
       "        [0.],\n",
       "        [1.],\n",
       "        [1.],\n",
       "        [1.],\n",
       "        [1.],\n",
       "        [0.],\n",
       "        [0.],\n",
       "        [0.],\n",
       "        [0.],\n",
       "        [0.],\n",
       "        [0.],\n",
       "        [0.],\n",
       "        [0.],\n",
       "        [0.],\n",
       "        [0.],\n",
       "        [0.],\n",
       "        [0.],\n",
       "        [0.],\n",
       "        [0.],\n",
       "        [0.]], dtype=float32),\n",
       " array([[0.],\n",
       "        [0.],\n",
       "        [0.],\n",
       "        [0.],\n",
       "        [0.],\n",
       "        [0.],\n",
       "        [0.],\n",
       "        [0.],\n",
       "        [0.],\n",
       "        [0.],\n",
       "        [0.],\n",
       "        [0.],\n",
       "        [0.],\n",
       "        [0.],\n",
       "        [0.],\n",
       "        [0.],\n",
       "        [0.],\n",
       "        [0.],\n",
       "        [0.],\n",
       "        [0.],\n",
       "        [0.],\n",
       "        [0.],\n",
       "        [0.],\n",
       "        [0.],\n",
       "        [0.],\n",
       "        [0.],\n",
       "        [0.],\n",
       "        [0.]], dtype=float32),\n",
       " array([[0.       ],\n",
       "        [0.       ],\n",
       "        [0.       ],\n",
       "        [0.       ],\n",
       "        [0.       ],\n",
       "        [0.       ],\n",
       "        [0.       ],\n",
       "        [0.9647059],\n",
       "        [0.9647059],\n",
       "        [0.       ],\n",
       "        [0.       ],\n",
       "        [0.       ],\n",
       "        [0.       ],\n",
       "        [0.       ],\n",
       "        [0.       ],\n",
       "        [0.       ],\n",
       "        [0.       ],\n",
       "        [0.       ],\n",
       "        [0.       ],\n",
       "        [0.       ],\n",
       "        [0.       ],\n",
       "        [0.       ],\n",
       "        [0.       ],\n",
       "        [0.       ],\n",
       "        [0.       ],\n",
       "        [0.       ],\n",
       "        [0.       ],\n",
       "        [0.       ]], dtype=float32),\n",
       " array([[0.        ],\n",
       "        [0.        ],\n",
       "        [0.        ],\n",
       "        [0.        ],\n",
       "        [0.        ],\n",
       "        [0.        ],\n",
       "        [0.        ],\n",
       "        [0.        ],\n",
       "        [0.        ],\n",
       "        [0.        ],\n",
       "        [0.        ],\n",
       "        [0.38039216],\n",
       "        [0.7490196 ],\n",
       "        [0.8352941 ],\n",
       "        [0.8352941 ],\n",
       "        [0.7490196 ],\n",
       "        [0.38039216],\n",
       "        [0.        ],\n",
       "        [0.        ],\n",
       "        [0.        ],\n",
       "        [0.        ],\n",
       "        [0.        ],\n",
       "        [0.        ],\n",
       "        [0.        ],\n",
       "        [0.        ],\n",
       "        [0.        ],\n",
       "        [0.        ],\n",
       "        [0.        ]], dtype=float32)]"
      ]
     },
     "execution_count": 47,
     "metadata": {},
     "output_type": "execute_result"
    }
   ],
   "source": [
    "caixas = [caixa[1] for caixa in caracteres]\n",
    "caixas"
   ]
  },
  {
   "cell_type": "code",
   "execution_count": 48,
   "id": "a9736660",
   "metadata": {},
   "outputs": [
    {
     "name": "stdout",
     "output_type": "stream",
     "text": [
      "['0', '1', '2', '3', '4', '5', '6', '7', '8', '9', 'A', 'B', 'C', 'D', 'E', 'F', 'G', 'H', 'I', 'J', 'K', 'L', 'M', 'N', 'O', 'P', 'Q', 'R', 'S', 'T', 'U', 'V', 'W', 'X', 'Y', 'Z']\n"
     ]
    }
   ],
   "source": [
    "numeros = \"0123456789\"\n",
    "letras = \"ABCDEFGHIJKLMNOPQRSTUVWXYZ\"\n",
    "lista_caracteres = numeros + letras\n",
    "lista_caracteres = [l for l in lista_caracteres]\n",
    "print(lista_caracteres)"
   ]
  },
  {
   "cell_type": "code",
   "execution_count": 49,
   "id": "29fc40b3",
   "metadata": {},
   "outputs": [
    {
     "data": {
      "text/plain": [
       "(28, 28, 1)"
      ]
     },
     "execution_count": 49,
     "metadata": {},
     "output_type": "execute_result"
    }
   ],
   "source": [
    "caracteres[0].shape"
   ]
  },
  {
   "cell_type": "code",
   "execution_count": 50,
   "id": "a4f7142c",
   "metadata": {},
   "outputs": [
    {
     "data": {
      "text/plain": [
       "(15, 28, 28, 1)"
      ]
     },
     "execution_count": 50,
     "metadata": {},
     "output_type": "execute_result"
    }
   ],
   "source": [
    "caracteres.shape"
   ]
  },
  {
   "cell_type": "code",
   "execution_count": 51,
   "id": "a89ce1b3",
   "metadata": {},
   "outputs": [
    {
     "name": "stdout",
     "output_type": "stream",
     "text": [
      "1/1 [==============================] - 0s 101ms/step\n"
     ]
    }
   ],
   "source": [
    "previsoes = rede_neural.predict(caracteres)"
   ]
  },
  {
   "cell_type": "code",
   "execution_count": 34,
   "id": "d63d690a",
   "metadata": {},
   "outputs": [
    {
     "data": {
      "text/plain": [
       "array([[6.10228217e-14, 1.75956589e-15, 3.37843472e-27, 5.81623280e-18,\n",
       "        7.11928346e-14, 8.91850205e-10, 9.53975820e-19, 6.79564360e-09,\n",
       "        2.10923479e-17, 1.75364402e-13, 1.40590118e-16, 6.68404395e-22,\n",
       "        2.90406089e-12, 2.52006765e-15, 1.34290588e-19, 1.85691824e-17,\n",
       "        2.11307583e-10, 1.96981509e-16, 1.83617011e-21, 1.15764877e-07,\n",
       "        6.09761408e-11, 7.35139206e-12, 4.00378922e-15, 7.20365539e-18,\n",
       "        2.66052944e-11, 8.46188484e-12, 1.31131842e-17, 5.88549197e-17,\n",
       "        2.34907805e-11, 9.99999881e-01, 3.94276244e-11, 3.36902864e-26,\n",
       "        2.09096418e-22, 4.55968974e-21, 3.54739155e-11, 8.61472318e-15],\n",
       "       [7.44485654e-21, 2.09512834e-18, 5.87287330e-22, 0.00000000e+00,\n",
       "        1.68068701e-16, 7.05415688e-15, 1.41004139e-10, 3.04080063e-24,\n",
       "        3.71923697e-15, 5.13713217e-20, 1.86481019e-19, 6.33249878e-16,\n",
       "        4.30758857e-12, 8.51644560e-21, 1.00000000e+00, 3.23370841e-08,\n",
       "        4.77394686e-11, 1.98438254e-20, 5.77024786e-32, 1.92907364e-22,\n",
       "        1.75100207e-15, 3.55470492e-12, 2.78073060e-28, 1.53455156e-22,\n",
       "        1.06208808e-17, 1.23121863e-14, 9.47102742e-23, 2.54625383e-16,\n",
       "        3.26833221e-16, 1.41143880e-20, 2.46001591e-18, 9.68956495e-30,\n",
       "        6.06230735e-21, 5.89607213e-26, 1.66845825e-11, 7.41762117e-19],\n",
       "       [3.86066540e-06, 1.46781309e-10, 2.39725136e-06, 8.86824055e-05,\n",
       "        2.48646916e-06, 5.54490834e-02, 3.19453511e-06, 4.70335149e-09,\n",
       "        1.20573554e-06, 9.53000737e-04, 2.39516684e-10, 4.12539265e-07,\n",
       "        2.27497803e-05, 8.12820872e-06, 7.15672641e-08, 8.28324787e-09,\n",
       "        1.31814450e-03, 8.97920849e-10, 2.95328831e-11, 2.17329420e-04,\n",
       "        1.85270196e-07, 5.69999600e-07, 1.31911437e-09, 3.60305101e-08,\n",
       "        6.13533030e-06, 2.52270183e-05, 1.38289819e-04, 3.91391808e-08,\n",
       "        9.41740811e-01, 4.37766994e-06, 1.63206028e-06, 3.16080712e-13,\n",
       "        4.48968564e-07, 1.76004818e-11, 4.52390441e-06, 6.90619390e-06],\n",
       "       [2.03452188e-09, 6.19564566e-10, 4.86325119e-13, 9.96297977e-09,\n",
       "        3.59668451e-09, 1.25499297e-04, 8.49205359e-11, 2.01856687e-06,\n",
       "        2.36433984e-09, 2.42961740e-09, 3.56730340e-11, 8.35525919e-12,\n",
       "        1.74139416e-07, 2.01707273e-09, 3.21756749e-12, 1.42105128e-09,\n",
       "        1.70143358e-06, 1.95557195e-10, 7.58350605e-11, 6.44336222e-04,\n",
       "        5.05363460e-06, 2.65222411e-07, 2.07001447e-11, 6.26867447e-11,\n",
       "        3.48522548e-07, 5.71775104e-07, 5.24381372e-10, 8.94840035e-10,\n",
       "        4.53255097e-06, 9.99213696e-01, 3.86862439e-07, 1.75946497e-14,\n",
       "        1.04011396e-12, 3.76354260e-11, 1.13007275e-06, 1.52630264e-07],\n",
       "       [2.69656397e-07, 2.25756502e-09, 1.18055397e-07, 1.18031522e-11,\n",
       "        3.83394251e-07, 6.03328609e-10, 2.51776287e-15, 3.83892802e-06,\n",
       "        8.34729050e-08, 3.16081213e-07, 9.99992728e-01, 4.96307329e-10,\n",
       "        1.87238398e-12, 9.81794415e-07, 6.23674978e-09, 9.91101803e-17,\n",
       "        2.67977569e-08, 4.60868606e-08, 6.09336353e-18, 3.91370991e-10,\n",
       "        3.17376264e-10, 3.31574655e-12, 4.74957886e-08, 8.72532269e-08,\n",
       "        5.46129151e-08, 1.30223254e-08, 6.99622206e-07, 2.73445607e-07,\n",
       "        4.13357543e-10, 4.71413699e-08, 2.03114272e-13, 6.57954725e-28,\n",
       "        3.28221228e-10, 5.79210764e-16, 3.78386385e-12, 2.01768158e-10],\n",
       "       [1.72241263e-13, 2.09712391e-12, 6.18082807e-11, 7.53636114e-20,\n",
       "        6.87152835e-11, 2.60996558e-10, 9.08115705e-13, 7.35037192e-17,\n",
       "        1.97218422e-10, 5.33390495e-32, 3.31252278e-13, 5.74268443e-13,\n",
       "        3.70395853e-10, 6.90956251e-11, 1.06733070e-13, 1.10631757e-15,\n",
       "        4.32126904e-12, 3.51951940e-06, 5.66012218e-22, 1.05202375e-07,\n",
       "        5.87724531e-12, 5.29150161e-12, 2.02229586e-07, 9.99981880e-01,\n",
       "        5.81598242e-11, 1.73608816e-12, 1.33150754e-10, 1.00865988e-14,\n",
       "        9.17071397e-09, 2.47770918e-11, 1.77829037e-07, 4.98227109e-07,\n",
       "        1.35866640e-05, 2.71948783e-11, 1.17233348e-10, 1.03077200e-24],\n",
       "       [3.20831646e-06, 4.98998204e-11, 6.74015865e-08, 8.50139295e-13,\n",
       "        1.30166516e-18, 1.18750149e-10, 1.21935212e-14, 1.08972575e-09,\n",
       "        2.54181745e-11, 2.02953834e-11, 1.65780492e-14, 6.14029450e-09,\n",
       "        8.53945387e-13, 9.99989271e-01, 1.07204393e-12, 1.69526063e-15,\n",
       "        2.31926370e-12, 2.07098845e-19, 1.29188152e-07, 2.86970817e-06,\n",
       "        3.99492435e-17, 2.81808337e-08, 5.49171228e-15, 7.40890474e-11,\n",
       "        3.68038059e-06, 6.31150328e-07, 5.37630340e-09, 6.91487937e-13,\n",
       "        1.85415616e-09, 3.02707082e-09, 2.56258659e-09, 2.22846940e-17,\n",
       "        1.30491497e-13, 8.14113899e-19, 1.91493863e-15, 5.45573352e-12],\n",
       "       [9.56342090e-03, 4.63515976e-10, 2.47409588e-07, 8.17963405e-12,\n",
       "        2.59010614e-13, 7.76250508e-10, 4.82906337e-09, 1.76673301e-10,\n",
       "        3.98370581e-09, 2.46250522e-07, 5.56100872e-08, 2.22207547e-07,\n",
       "        7.81735821e-07, 2.45424341e-02, 1.87117610e-08, 1.01365551e-14,\n",
       "        2.62908429e-07, 1.24096764e-13, 1.13697907e-09, 2.97833731e-06,\n",
       "        1.24276197e-11, 3.50803703e-06, 1.33387545e-09, 2.88514866e-06,\n",
       "        9.65271831e-01, 1.79116469e-04, 4.21407749e-04, 3.50497089e-08,\n",
       "        2.51122106e-06, 4.29660787e-08, 7.95890628e-06, 9.12915780e-14,\n",
       "        3.35091205e-10, 7.68797171e-19, 1.08432492e-10, 1.00130182e-10],\n",
       "       [2.09588721e-01, 7.45416473e-05, 8.61334138e-06, 1.49017262e-06,\n",
       "        3.11192480e-07, 2.21328310e-06, 6.59767807e-07, 4.09281929e-05,\n",
       "        3.07847877e-05, 5.81923341e-05, 2.41008742e-08, 3.07997175e-06,\n",
       "        3.44413206e-06, 3.10427062e-02, 3.18893925e-08, 4.44728184e-13,\n",
       "        1.06648054e-06, 2.33188330e-10, 4.97774488e-10, 7.88244943e-04,\n",
       "        1.47972690e-10, 2.71863464e-05, 1.91845601e-07, 3.55067634e-04,\n",
       "        7.52474725e-01, 1.24283484e-03, 5.18063962e-06, 4.92265013e-11,\n",
       "        7.29848762e-05, 2.61135301e-05, 4.14471328e-03, 2.59132037e-07,\n",
       "        2.81255517e-08, 3.73881481e-16, 5.67405050e-06, 1.15573462e-09],\n",
       "       [4.66044314e-09, 1.68112965e-05, 6.66899938e-11, 8.04521793e-16,\n",
       "        2.90488117e-07, 1.44685236e-10, 5.01725328e-10, 8.88488394e-09,\n",
       "        3.07671266e-09, 1.23036881e-09, 1.29152008e-03, 2.26537174e-11,\n",
       "        1.78047888e-08, 1.93246760e-05, 3.01228908e-08, 1.70831966e-15,\n",
       "        1.79678693e-07, 2.17837834e-04, 6.93035368e-18, 2.25676370e-11,\n",
       "        1.15433956e-07, 4.56049476e-10, 9.97248828e-01, 1.17148692e-03,\n",
       "        1.20717104e-07, 3.95530861e-07, 1.24627668e-08, 6.30181916e-08,\n",
       "        4.53918830e-07, 2.73880318e-09, 1.12238431e-05, 4.56952564e-13,\n",
       "        2.11885726e-05, 3.95359301e-09, 1.60194276e-08, 1.58286426e-10],\n",
       "       [8.52580190e-01, 4.01766465e-06, 1.79208996e-07, 3.82798873e-07,\n",
       "        1.46101627e-07, 1.66561258e-05, 6.40802114e-07, 1.05905792e-05,\n",
       "        5.96617883e-06, 1.79347431e-03, 1.39509773e-08, 3.43221814e-07,\n",
       "        9.01058115e-07, 2.86534894e-04, 4.18166017e-08, 6.99119649e-14,\n",
       "        1.01253920e-06, 2.43275669e-12, 7.11911472e-17, 1.06760439e-07,\n",
       "        4.58236293e-09, 6.73618672e-08, 1.56153845e-08, 6.98630345e-07,\n",
       "        1.45171925e-01, 7.99860063e-05, 2.37446657e-05, 1.80471138e-09,\n",
       "        1.20252271e-05, 9.86158710e-08, 1.02560525e-05, 3.38092374e-13,\n",
       "        2.81677858e-11, 3.35136523e-20, 2.26232988e-08, 2.73601253e-10],\n",
       "       [1.17971506e-02, 2.64591363e-04, 6.69585355e-03, 2.54016876e-01,\n",
       "        7.51499218e-09, 7.24205002e-03, 1.76055991e-07, 1.19577274e-02,\n",
       "        1.98251146e-05, 9.02709144e-06, 4.61751921e-11, 2.99137682e-05,\n",
       "        1.91141609e-07, 6.34985387e-01, 1.86146547e-08, 7.26150206e-13,\n",
       "        1.26813154e-06, 3.51355556e-10, 3.15753391e-06, 6.74788058e-02,\n",
       "        1.34144187e-07, 3.95021800e-07, 5.16687813e-08, 1.02228955e-06,\n",
       "        4.22584219e-03, 7.47745100e-04, 5.65336950e-06, 2.13777707e-09,\n",
       "        3.82802013e-04, 6.84864935e-05, 5.79158477e-05, 7.60319169e-11,\n",
       "        3.51477691e-09, 2.98158118e-13, 3.00131205e-07, 7.61440833e-06],\n",
       "       [2.05305359e-18, 6.11485949e-16, 1.11813999e-17, 6.82195748e-31,\n",
       "        1.27484137e-13, 3.55496925e-12, 2.93088860e-08, 1.55812948e-21,\n",
       "        3.85244267e-11, 9.95197433e-16, 9.78464720e-16, 1.48077319e-12,\n",
       "        6.57656873e-10, 5.71613435e-17, 1.00000000e+00, 9.29052923e-09,\n",
       "        9.36993505e-09, 1.75547463e-17, 1.71912994e-27, 1.06276082e-17,\n",
       "        1.90724888e-12, 2.83280821e-09, 1.87456436e-22, 1.65360653e-18,\n",
       "        7.29266992e-15, 8.68727312e-12, 6.87823973e-17, 2.11141413e-12,\n",
       "        5.83632101e-12, 1.13623845e-16, 3.73025260e-13, 6.58065610e-26,\n",
       "        1.21280904e-16, 1.50735992e-20, 9.16973775e-10, 1.63768365e-14],\n",
       "       [4.57012822e-18, 1.17136150e-08, 2.18746905e-08, 1.24235915e-27,\n",
       "        9.33100559e-12, 2.19241444e-12, 3.57217145e-09, 1.41313132e-19,\n",
       "        4.16358923e-13, 5.10667727e-18, 4.93911498e-13, 1.28888762e-13,\n",
       "        9.60056141e-08, 3.45648857e-12, 2.72707121e-06, 9.80273779e-11,\n",
       "        2.92609381e-10, 2.79710866e-10, 3.76276070e-16, 3.50891128e-16,\n",
       "        1.70835328e-08, 9.99996305e-01, 1.68937943e-14, 1.56886212e-10,\n",
       "        6.04426872e-15, 6.54074184e-10, 2.45395908e-20, 1.00134663e-13,\n",
       "        7.39795204e-12, 6.94890380e-14, 1.19762811e-09, 3.80627469e-15,\n",
       "        3.53564539e-11, 1.49974933e-12, 8.85149348e-07, 5.11139753e-09],\n",
       "       [6.71721160e-01, 4.64985933e-05, 1.43669055e-07, 1.25502870e-08,\n",
       "        4.04312281e-08, 3.75102104e-06, 3.88642604e-07, 4.17624797e-05,\n",
       "        1.92130571e-07, 2.45476665e-04, 8.39566805e-10, 1.92297125e-06,\n",
       "        3.78231221e-06, 2.11666897e-02, 2.92478376e-07, 1.09345118e-12,\n",
       "        3.51024937e-07, 1.23672096e-13, 7.44316588e-12, 3.54231787e-07,\n",
       "        3.35001760e-09, 2.08406755e-06, 1.86479046e-08, 2.50274184e-06,\n",
       "        3.06607902e-01, 3.34524193e-05, 6.00146404e-06, 2.98985436e-09,\n",
       "        4.21410141e-06, 6.11342443e-07, 1.10376823e-04, 1.23367483e-09,\n",
       "        2.12755660e-10, 3.29251359e-19, 1.57317093e-08, 2.33179309e-10]],\n",
       "      dtype=float32)"
      ]
     },
     "execution_count": 34,
     "metadata": {},
     "output_type": "execute_result"
    }
   ],
   "source": [
    "previsoes"
   ]
  },
  {
   "cell_type": "code",
   "execution_count": 52,
   "id": "0da8a193",
   "metadata": {
    "scrolled": true
   },
   "outputs": [
    {
     "data": {
      "text/plain": [
       "(15, 36)"
      ]
     },
     "execution_count": 52,
     "metadata": {},
     "output_type": "execute_result"
    }
   ],
   "source": [
    "previsoes.shape"
   ]
  },
  {
   "cell_type": "code",
   "execution_count": 53,
   "id": "cfffdfcb",
   "metadata": {},
   "outputs": [
    {
     "ename": "ValueError",
     "evalue": "too many values to unpack (expected 4)",
     "output_type": "error",
     "traceback": [
      "\u001b[1;31m---------------------------------------------------------------------------\u001b[0m",
      "\u001b[1;31mValueError\u001b[0m                                Traceback (most recent call last)",
      "Input \u001b[1;32mIn [53]\u001b[0m, in \u001b[0;36m<cell line: 1>\u001b[1;34m()\u001b[0m\n\u001b[1;32m----> 1\u001b[0m \u001b[38;5;28;01mfor\u001b[39;00m (previsoes,(x, y, w, h)) \u001b[38;5;129;01min\u001b[39;00m \u001b[38;5;28mzip\u001b[39m(previsoes,caixas):\n\u001b[0;32m      2\u001b[0m     i \u001b[38;5;241m=\u001b[39m np\u001b[38;5;241m.\u001b[39margmax(previsoes)\n\u001b[0;32m      3\u001b[0m     \u001b[38;5;28mprint\u001b[39m(i)\n",
      "\u001b[1;31mValueError\u001b[0m: too many values to unpack (expected 4)"
     ]
    }
   ],
   "source": [
    "for (previsoes,(x, y, w, h)) in zip(previsoes,caixas):\n",
    "    i = np.argmax(previsoes)\n",
    "    print(i)"
   ]
  },
  {
   "cell_type": "code",
   "execution_count": 54,
   "id": "698e2b2c",
   "metadata": {},
   "outputs": [
    {
     "name": "stdout",
     "output_type": "stream",
     "text": [
      "[6.1022822e-14 1.7595659e-15 3.3784347e-27 5.8162328e-18 7.1192835e-14\n",
      " 8.9185020e-10 9.5397582e-19 6.7956436e-09 2.1092348e-17 1.7536440e-13\n",
      " 1.4059012e-16 6.6840439e-22 2.9040609e-12 2.5200676e-15 1.3429059e-19\n",
      " 1.8569182e-17 2.1130758e-10 1.9698151e-16 1.8361701e-21 1.1576488e-07\n",
      " 6.0976141e-11 7.3513921e-12 4.0037892e-15 7.2036554e-18 2.6605294e-11\n",
      " 8.4618848e-12 1.3113184e-17 5.8854920e-17 2.3490781e-11 9.9999988e-01\n",
      " 3.9427624e-11 3.3690286e-26 2.0909642e-22 4.5596897e-21 3.5473915e-11\n",
      " 8.6147232e-15]\n"
     ]
    }
   ],
   "source": [
    "print(previsoes)"
   ]
  },
  {
   "cell_type": "code",
   "execution_count": 55,
   "id": "b64a9c79",
   "metadata": {},
   "outputs": [
    {
     "data": {
      "text/plain": [
       "(36,)"
      ]
     },
     "execution_count": 55,
     "metadata": {},
     "output_type": "execute_result"
    }
   ],
   "source": [
    "previsoes.shape"
   ]
  },
  {
   "cell_type": "code",
   "execution_count": 56,
   "id": "93065e79",
   "metadata": {},
   "outputs": [
    {
     "name": "stdout",
     "output_type": "stream",
     "text": [
      "0\n",
      "0\n",
      "0\n",
      "0\n",
      "0\n",
      "0\n",
      "0\n",
      "0\n",
      "0\n",
      "0\n",
      "0\n",
      "0\n",
      "0\n",
      "0\n",
      "0\n",
      "0\n",
      "0\n",
      "0\n",
      "0\n",
      "0\n",
      "0\n",
      "0\n",
      "0\n",
      "0\n",
      "0\n",
      "0\n",
      "0\n",
      "0\n",
      "0\n",
      "0\n",
      "0\n",
      "0\n",
      "0\n",
      "0\n",
      "0\n",
      "0\n"
     ]
    }
   ],
   "source": [
    "for (previsoes) in zip(previsoes):\n",
    "    i = np.argmax(previsoes)\n",
    "    caractere = lista_caracteres[i]\n",
    "    #print(caractere)\n",
    "    cv.rectangle(img_cp, (x, y), (x + w, y + h), (255,100,0), 2)\n",
    "    cv.putText(img_cp, caractere, (x - 10, y - 10), cv.FONT_HERSHEY_SIMPLEX, 1.1, (0,0,255), 2)\n",
    "    #print(caractere, ' -> ', probabilidade * 100)\n",
    "    print(caractere)\n",
    "\n",
    "    cv.imshow('image',img_cp)\n",
    "    cv.waitKey(0)\n",
    "    cv.destroyAllWindows()"
   ]
  },
  {
   "cell_type": "code",
   "execution_count": 39,
   "id": "fa924ca4",
   "metadata": {},
   "outputs": [
    {
     "ename": "ValueError",
     "evalue": "too many values to unpack (expected 4)",
     "output_type": "error",
     "traceback": [
      "\u001b[1;31m---------------------------------------------------------------------------\u001b[0m",
      "\u001b[1;31mValueError\u001b[0m                                Traceback (most recent call last)",
      "Input \u001b[1;32mIn [39]\u001b[0m, in \u001b[0;36m<cell line: 2>\u001b[1;34m()\u001b[0m\n\u001b[0;32m      1\u001b[0m img_cp \u001b[38;5;241m=\u001b[39m img\u001b[38;5;241m.\u001b[39mcopy()\n\u001b[1;32m----> 2\u001b[0m \u001b[38;5;28;01mfor\u001b[39;00m (previsoes,(x, y, w, h)) \u001b[38;5;129;01min\u001b[39;00m \u001b[38;5;28mzip\u001b[39m(previsoes,caixas):\n\u001b[0;32m      3\u001b[0m     i \u001b[38;5;241m=\u001b[39m np\u001b[38;5;241m.\u001b[39margmax(previsoes)\n\u001b[0;32m      4\u001b[0m     \u001b[38;5;66;03m#print(i)\u001b[39;00m\n",
      "\u001b[1;31mValueError\u001b[0m: too many values to unpack (expected 4)"
     ]
    }
   ],
   "source": [
    "img_cp = img.copy()\n",
    "for (previsoes,(x, y, w, h)) in zip(previsoes,caixas):\n",
    "    i = np.argmax(previsoes)\n",
    "    #print(i)\n",
    "    probabilidade = previsoes[i]\n",
    "    #print(probabilidade)\n",
    "    caractere = lista_caracteres[i]\n",
    "    #print(caractere)\n",
    "\n",
    "    cv.rectangle(img_cp, (x, y), (x + w, y + h), (255,100,0), 2)\n",
    "    cv.putText(img_cp, caractere, (x - 10, y - 10), cv2.FONT_HERSHEY_SIMPLEX, 1.1, (0,0,255), 2)\n",
    "    print(caractere, ' -> ', probabilidade * 100)\n",
    "\n",
    "    cv.imshow('image',img_cp)\n",
    "    cv.waitKey(0)\n",
    "    cv.destroyAllWindows()"
   ]
  },
  {
   "cell_type": "code",
   "execution_count": 57,
   "id": "c59c1871",
   "metadata": {},
   "outputs": [],
   "source": [
    "def extrai_roi(img, margem=2):\n",
    "    roi = img[y - margem:y + h + margem, x - margem:x + w + margem]\n",
    "    return roi"
   ]
  },
  {
   "cell_type": "code",
   "execution_count": 58,
   "id": "9fc4641c",
   "metadata": {},
   "outputs": [],
   "source": [
    "conts = encontrar_contornos(dilatado.copy())\n",
    "caracteres = []\n",
    "for c in conts:\n",
    "    (x, y, w, h) = cv.boundingRect(c)\n",
    "    if (w >= l_min and w <= l_max) and (h >= a_min and h <= a_max):\n",
    "        processa_caixa(gray, x, y, w, h)"
   ]
  },
  {
   "cell_type": "code",
   "execution_count": 59,
   "id": "37067c09",
   "metadata": {},
   "outputs": [
    {
     "name": "stdout",
     "output_type": "stream",
     "text": [
      "1/1 [==============================] - 0s 25ms/step\n"
     ]
    }
   ],
   "source": [
    "caixas = [b[1] for b in caracteres]\n",
    "caracteres = np.array([c[0] for c in caracteres], dtype=\"float32\")\n",
    "previsoes = rede_neural.predict(caracteres)"
   ]
  },
  {
   "cell_type": "code",
   "execution_count": 60,
   "id": "e119e4e8",
   "metadata": {},
   "outputs": [
    {
     "name": "stdout",
     "output_type": "stream",
     "text": [
      "T  ->  99.99998807907104\n",
      "E  ->  100.0\n",
      "S  ->  94.17408108711243\n",
      "T  ->  99.9213695526123\n",
      "A  ->  99.99927282333374\n",
      "N  ->  99.99818801879883\n",
      "D  ->  99.99892711639404\n",
      "O  ->  96.52718305587769\n",
      "O  ->  75.24747252464294\n",
      "M  ->  99.72488284111023\n",
      "0  ->  85.2580189704895\n",
      "D  ->  63.49853873252869\n",
      "E  ->  100.0\n",
      "L  ->  99.99963045120239\n",
      "0  ->  67.17211604118347\n"
     ]
    }
   ],
   "source": [
    "img_cp = img.copy()\n",
    "for (previsoes, (x, y, w, h)) in zip(previsoes, caixas):\n",
    "    i = np.argmax(previsoes)\n",
    "    probabilidade = previsoes[i]\n",
    "    caractere = lista_caracteres[i]\n",
    "\n",
    "    cv.rectangle(img_cp, (x, y), (x + w, y + h), (255,100,0), 2)\n",
    "    cv.putText(img_cp, caractere, (x - 10, y - 10), cv.FONT_HERSHEY_SIMPLEX, 1.1, (0,0,255), 2)\n",
    "    print(caractere, ' -> ', probabilidade * 100)\n",
    "\n",
    "    cv.imshow('image',img_cp)\n",
    "    cv.waitKey(0)\n",
    "    cv.destroyAllWindows()"
   ]
  },
  {
   "cell_type": "code",
   "execution_count": 61,
   "id": "f15e5cec",
   "metadata": {},
   "outputs": [],
   "source": [
    "def preprocessar_img(img):\n",
    "    gray = cv.cvtColor(img, cv.COLOR_BGR2GRAY)\n",
    "    desfoque = cv.GaussianBlur(gray, (3, 3), 7)\n",
    "    bordas = cv.Canny(desfoque, 40, 150)\n",
    "    dilatado = cv.dilate(bordas, np.ones((3,3)))  \n",
    "    return gray, dilatado"
   ]
  },
  {
   "cell_type": "code",
   "execution_count": 62,
   "id": "eef9816e",
   "metadata": {},
   "outputs": [],
   "source": [
    "def predicao(previsoes, lista_caracteres):\n",
    "    i = np.argmax(previsoes)\n",
    "    probabilidade = previsoes[i]\n",
    "    caractere = lista_caracteres[i]\n",
    "    return i, probabilidade, caractere"
   ]
  },
  {
   "cell_type": "code",
   "execution_count": 63,
   "id": "70de5e0f",
   "metadata": {},
   "outputs": [],
   "source": [
    "def desenhar_na_img(img_cp, caractere):\n",
    "    cv.rectangle(img_cp, (x, y), (x + w, y + h), (255, 100, 0), 2)\n",
    "    cv.putText(img_cp, caractere, (x - 10, y - 10),cv.FONT_HERSHEY_SIMPLEX, 1.1, (0, 0, 255), 2)"
   ]
  },
  {
   "cell_type": "code",
   "execution_count": 64,
   "id": "e5776186",
   "metadata": {},
   "outputs": [],
   "source": [
    "img = cv.imread('Imagens/teste_manuscrito02.jpg')\n",
    "cv.imshow('image',img)\n",
    "cv.waitKey(0)\n",
    "cv.destroyAllWindows()"
   ]
  },
  {
   "cell_type": "code",
   "execution_count": 65,
   "id": "dcec739c",
   "metadata": {},
   "outputs": [],
   "source": [
    "gray, img_processada = preprocessar_img(img)\n",
    "cv.imshow('image',gray)\n",
    "cv.imshow('image',img_processada)\n",
    "cv.waitKey(0)\n",
    "cv.destroyAllWindows()"
   ]
  },
  {
   "cell_type": "code",
   "execution_count": 55,
   "id": "bb899cdd",
   "metadata": {},
   "outputs": [
    {
     "name": "stdout",
     "output_type": "stream",
     "text": [
      "1/1 [==============================] - 0s 16ms/step\n"
     ]
    }
   ],
   "source": [
    "conts = encontrar_contornos(img_processada.copy())\n",
    "caracteres = []\n",
    "for c in conts:\n",
    "  (x, y, w, h) = cv.boundingRect(c)\n",
    "  if (w >= l_min and w <= l_max) and (h >= a_min and h <= a_max):\n",
    "    processa_caixa(gray, x, y, w, h)\n",
    "\n",
    "caixas = [b[1] for b in caracteres]\n",
    "caracteres = np.array([c[0] for c in caracteres], dtype=\"float32\")\n",
    "previsoes = rede_neural.predict(caracteres)"
   ]
  },
  {
   "cell_type": "code",
   "execution_count": 56,
   "id": "0490a3d5",
   "metadata": {},
   "outputs": [],
   "source": [
    "numeros_2 = \"OI234S6789\" # para não confundir o I com 1 force \n",
    "letras_2 = \"ABCDEFGHIJKLMNOPQRSTUVWXYZ\"\n",
    "lista_caracteres_2 = numeros_2 + letras_2\n",
    "lista_caracteres_2 = [l for l in lista_caracteres_2]"
   ]
  },
  {
   "cell_type": "code",
   "execution_count": 57,
   "id": "79e47a58",
   "metadata": {},
   "outputs": [],
   "source": [
    "img_cp = img.copy()\n",
    "for (previsoes, (x, y, w, h)) in zip(previsoes, caixas):\n",
    "    i, probabilidade, caractere = predicao(previsoes, lista_caracteres_2)\n",
    "    desenhar_na_img(img_cp, caractere)\n",
    "cv.imshow('image',img_cp)\n",
    "cv.waitKey(0)\n",
    "cv.destroyAllWindows()"
   ]
  },
  {
   "cell_type": "code",
   "execution_count": 59,
   "id": "6fdcb9fe",
   "metadata": {},
   "outputs": [],
   "source": [
    "# O problema do texto não detectado\n",
    "img = cv.imread('Imagens/teste_manuscrito03.jpg')\n",
    "cv.imshow('image',img)\n",
    "cv.waitKey(0)\n",
    "cv.destroyAllWindows()"
   ]
  },
  {
   "cell_type": "code",
   "execution_count": 60,
   "id": "366fb266",
   "metadata": {},
   "outputs": [],
   "source": [
    "gray, img_processada = preprocessar_img(img)\n",
    "cv.imshow('image',img_processada)\n",
    "cv.waitKey(0)\n",
    "cv.destroyAllWindows()"
   ]
  },
  {
   "cell_type": "code",
   "execution_count": 61,
   "id": "c727436d",
   "metadata": {},
   "outputs": [],
   "source": [
    "conts = encontrar_contornos(img_processada.copy())\n",
    "img_cp = img.copy()\n",
    "for c in conts:\n",
    "    (x, y, w, h) = cv.boundingRect(c)\n",
    "    #if (w >= l_min and w <= l_max) and (h >= a_min and h <= a_max):\n",
    "    roi = gray[y:y + h, x:x + w]\n",
    "    thresh = cv.threshold(roi, 0, 255, cv.THRESH_BINARY_INV | cv.THRESH_OTSU)[1]\n",
    "    cv.rectangle(img_cp, (x, y), (x + w, y + h), (255, 100, 0), 2)\n",
    "cv.imshow('image',img_cp)\n",
    "cv.waitKey(0)\n",
    "cv.destroyAllWindows()"
   ]
  },
  {
   "cell_type": "code",
   "execution_count": 62,
   "id": "5b758492",
   "metadata": {},
   "outputs": [
    {
     "data": {
      "text/plain": [
       "(563, 700, 3)"
      ]
     },
     "execution_count": 62,
     "metadata": {},
     "output_type": "execute_result"
    }
   ],
   "source": [
    "img.shape"
   ]
  },
  {
   "cell_type": "code",
   "execution_count": 63,
   "id": "f3114fed",
   "metadata": {},
   "outputs": [
    {
     "name": "stdout",
     "output_type": "stream",
     "text": [
      "563 700\n"
     ]
    }
   ],
   "source": [
    "altura, largura = img.shape[:2]\n",
    "print(altura, largura)"
   ]
  },
  {
   "cell_type": "code",
   "execution_count": 65,
   "id": "0db19b2d",
   "metadata": {},
   "outputs": [
    {
     "data": {
      "text/plain": [
       "[array([[[500,  66]],\n",
       " \n",
       "        [[499,  67]],\n",
       " \n",
       "        [[435,  67]],\n",
       " \n",
       "        [[434,  68]],\n",
       " \n",
       "        [[397,  68]],\n",
       " \n",
       "        [[396,  69]],\n",
       " \n",
       "        [[363,  69]],\n",
       " \n",
       "        [[362,  70]],\n",
       " \n",
       "        [[321,  70]],\n",
       " \n",
       "        [[320,  71]],\n",
       " \n",
       "        [[292,  71]],\n",
       " \n",
       "        [[291,  72]],\n",
       " \n",
       "        [[256,  72]],\n",
       " \n",
       "        [[255,  73]],\n",
       " \n",
       "        [[234,  73]],\n",
       " \n",
       "        [[233,  74]],\n",
       " \n",
       "        [[203,  74]],\n",
       " \n",
       "        [[202,  75]],\n",
       " \n",
       "        [[167,  75]],\n",
       " \n",
       "        [[166,  76]],\n",
       " \n",
       "        [[138,  76]],\n",
       " \n",
       "        [[137,  77]],\n",
       " \n",
       "        [[ 98,  77]],\n",
       " \n",
       "        [[ 97,  78]],\n",
       " \n",
       "        [[ 68,  78]],\n",
       " \n",
       "        [[ 67,  79]],\n",
       " \n",
       "        [[ 63,  79]],\n",
       " \n",
       "        [[ 63, 101]],\n",
       " \n",
       "        [[ 64, 102]],\n",
       " \n",
       "        [[ 64, 122]],\n",
       " \n",
       "        [[ 65, 123]],\n",
       " \n",
       "        [[ 65, 156]],\n",
       " \n",
       "        [[ 66, 157]],\n",
       " \n",
       "        [[ 66, 184]],\n",
       " \n",
       "        [[ 67, 185]],\n",
       " \n",
       "        [[ 67, 208]],\n",
       " \n",
       "        [[ 68, 209]],\n",
       " \n",
       "        [[ 68, 287]],\n",
       " \n",
       "        [[ 67, 288]],\n",
       " \n",
       "        [[ 67, 304]],\n",
       " \n",
       "        [[ 66, 305]],\n",
       " \n",
       "        [[ 66, 322]],\n",
       " \n",
       "        [[ 65, 323]],\n",
       " \n",
       "        [[ 65, 338]],\n",
       " \n",
       "        [[ 64, 339]],\n",
       " \n",
       "        [[ 64, 356]],\n",
       " \n",
       "        [[ 63, 357]],\n",
       " \n",
       "        [[ 63, 371]],\n",
       " \n",
       "        [[ 62, 372]],\n",
       " \n",
       "        [[ 62, 386]],\n",
       " \n",
       "        [[ 61, 387]],\n",
       " \n",
       "        [[ 61, 398]],\n",
       " \n",
       "        [[ 60, 399]],\n",
       " \n",
       "        [[ 55, 399]],\n",
       " \n",
       "        [[ 54, 400]],\n",
       " \n",
       "        [[ 54, 401]],\n",
       " \n",
       "        [[ 53, 402]],\n",
       " \n",
       "        [[ 53, 405]],\n",
       " \n",
       "        [[ 55, 407]],\n",
       " \n",
       "        [[ 59, 407]],\n",
       " \n",
       "        [[ 60, 408]],\n",
       " \n",
       "        [[ 60, 426]],\n",
       " \n",
       "        [[ 59, 427]],\n",
       " \n",
       "        [[ 59, 443]],\n",
       " \n",
       "        [[ 58, 444]],\n",
       " \n",
       "        [[ 58, 462]],\n",
       " \n",
       "        [[ 57, 463]],\n",
       " \n",
       "        [[ 57, 479]],\n",
       " \n",
       "        [[ 56, 480]],\n",
       " \n",
       "        [[ 56, 495]],\n",
       " \n",
       "        [[ 55, 496]],\n",
       " \n",
       "        [[ 55, 520]],\n",
       " \n",
       "        [[ 56, 521]],\n",
       " \n",
       "        [[ 58, 521]],\n",
       " \n",
       "        [[ 59, 522]],\n",
       " \n",
       "        [[328, 522]],\n",
       " \n",
       "        [[329, 521]],\n",
       " \n",
       "        [[345, 521]],\n",
       " \n",
       "        [[346, 522]],\n",
       " \n",
       "        [[352, 522]],\n",
       " \n",
       "        [[353, 521]],\n",
       " \n",
       "        [[391, 521]],\n",
       " \n",
       "        [[392, 522]],\n",
       " \n",
       "        [[395, 522]],\n",
       " \n",
       "        [[396, 521]],\n",
       " \n",
       "        [[455, 521]],\n",
       " \n",
       "        [[456, 520]],\n",
       " \n",
       "        [[458, 520]],\n",
       " \n",
       "        [[459, 521]],\n",
       " \n",
       "        [[463, 521]],\n",
       " \n",
       "        [[464, 520]],\n",
       " \n",
       "        [[471, 520]],\n",
       " \n",
       "        [[472, 521]],\n",
       " \n",
       "        [[480, 521]],\n",
       " \n",
       "        [[481, 520]],\n",
       " \n",
       "        [[497, 520]],\n",
       " \n",
       "        [[498, 521]],\n",
       " \n",
       "        [[504, 521]],\n",
       " \n",
       "        [[505, 520]],\n",
       " \n",
       "        [[514, 520]],\n",
       " \n",
       "        [[515, 521]],\n",
       " \n",
       "        [[515, 524]],\n",
       " \n",
       "        [[516, 525]],\n",
       " \n",
       "        [[516, 527]],\n",
       " \n",
       "        [[515, 528]],\n",
       " \n",
       "        [[515, 539]],\n",
       " \n",
       "        [[516, 540]],\n",
       " \n",
       "        [[516, 545]],\n",
       " \n",
       "        [[515, 546]],\n",
       " \n",
       "        [[515, 551]],\n",
       " \n",
       "        [[516, 552]],\n",
       " \n",
       "        [[516, 562]],\n",
       " \n",
       "        [[518, 562]],\n",
       " \n",
       "        [[518, 550]],\n",
       " \n",
       "        [[517, 549]],\n",
       " \n",
       "        [[517, 548]],\n",
       " \n",
       "        [[518, 547]],\n",
       " \n",
       "        [[518, 538]],\n",
       " \n",
       "        [[517, 537]],\n",
       " \n",
       "        [[517, 530]],\n",
       " \n",
       "        [[518, 529]],\n",
       " \n",
       "        [[518, 521]],\n",
       " \n",
       "        [[519, 520]],\n",
       " \n",
       "        [[603, 520]],\n",
       " \n",
       "        [[604, 519]],\n",
       " \n",
       "        [[659, 519]],\n",
       " \n",
       "        [[660, 518]],\n",
       " \n",
       "        [[688, 518]],\n",
       " \n",
       "        [[689, 517]],\n",
       " \n",
       "        [[689, 509]],\n",
       " \n",
       "        [[688, 508]],\n",
       " \n",
       "        [[688, 498]],\n",
       " \n",
       "        [[687, 497]],\n",
       " \n",
       "        [[687, 488]],\n",
       " \n",
       "        [[686, 487]],\n",
       " \n",
       "        [[686, 480]],\n",
       " \n",
       "        [[685, 479]],\n",
       " \n",
       "        [[685, 470]],\n",
       " \n",
       "        [[684, 469]],\n",
       " \n",
       "        [[684, 459]],\n",
       " \n",
       "        [[683, 458]],\n",
       " \n",
       "        [[683, 449]],\n",
       " \n",
       "        [[682, 448]],\n",
       " \n",
       "        [[682, 436]],\n",
       " \n",
       "        [[681, 435]],\n",
       " \n",
       "        [[681, 423]],\n",
       " \n",
       "        [[680, 422]],\n",
       " \n",
       "        [[680, 411]],\n",
       " \n",
       "        [[679, 410]],\n",
       " \n",
       "        [[679, 399]],\n",
       " \n",
       "        [[678, 398]],\n",
       " \n",
       "        [[678, 384]],\n",
       " \n",
       "        [[677, 383]],\n",
       " \n",
       "        [[677, 369]],\n",
       " \n",
       "        [[676, 368]],\n",
       " \n",
       "        [[676, 355]],\n",
       " \n",
       "        [[675, 354]],\n",
       " \n",
       "        [[675, 340]],\n",
       " \n",
       "        [[674, 339]],\n",
       " \n",
       "        [[674, 325]],\n",
       " \n",
       "        [[673, 324]],\n",
       " \n",
       "        [[673, 311]],\n",
       " \n",
       "        [[672, 310]],\n",
       " \n",
       "        [[672, 288]],\n",
       " \n",
       "        [[671, 287]],\n",
       " \n",
       "        [[671, 206]],\n",
       " \n",
       "        [[672, 205]],\n",
       " \n",
       "        [[672, 155]],\n",
       " \n",
       "        [[673, 154]],\n",
       " \n",
       "        [[673, 137]],\n",
       " \n",
       "        [[674, 136]],\n",
       " \n",
       "        [[674, 123]],\n",
       " \n",
       "        [[675, 122]],\n",
       " \n",
       "        [[675, 113]],\n",
       " \n",
       "        [[676, 112]],\n",
       " \n",
       "        [[676, 101]],\n",
       " \n",
       "        [[677, 100]],\n",
       " \n",
       "        [[677,  90]],\n",
       " \n",
       "        [[678,  89]],\n",
       " \n",
       "        [[678,  79]],\n",
       " \n",
       "        [[679,  78]],\n",
       " \n",
       "        [[679,  72]],\n",
       " \n",
       "        [[678,  71]],\n",
       " \n",
       "        [[678,  70]],\n",
       " \n",
       "        [[677,  70]],\n",
       " \n",
       "        [[676,  69]],\n",
       " \n",
       "        [[643,  69]],\n",
       " \n",
       "        [[642,  68]],\n",
       " \n",
       "        [[628,  68]],\n",
       " \n",
       "        [[627,  67]],\n",
       " \n",
       "        [[610,  67]],\n",
       " \n",
       "        [[609,  66]]], dtype=int32),\n",
       " array([[[442,   0]],\n",
       " \n",
       "        [[441,   1]],\n",
       " \n",
       "        [[366,   1]],\n",
       " \n",
       "        [[365,   2]],\n",
       " \n",
       "        [[326,   2]],\n",
       " \n",
       "        [[325,   3]],\n",
       " \n",
       "        [[285,   3]],\n",
       " \n",
       "        [[284,   4]],\n",
       " \n",
       "        [[280,   4]],\n",
       " \n",
       "        [[279,   3]],\n",
       " \n",
       "        [[277,   3]],\n",
       " \n",
       "        [[276,   4]],\n",
       " \n",
       "        [[241,   4]],\n",
       " \n",
       "        [[240,   5]],\n",
       " \n",
       "        [[182,   5]],\n",
       " \n",
       "        [[181,   6]],\n",
       " \n",
       "        [[138,   6]],\n",
       " \n",
       "        [[137,   7]],\n",
       " \n",
       "        [[ 84,   7]],\n",
       " \n",
       "        [[ 83,   8]],\n",
       " \n",
       "        [[ 79,   8]],\n",
       " \n",
       "        [[ 78,   7]],\n",
       " \n",
       "        [[ 73,   7]],\n",
       " \n",
       "        [[ 72,   8]],\n",
       " \n",
       "        [[ 17,   8]],\n",
       " \n",
       "        [[ 16,   9]],\n",
       " \n",
       "        [[ 14,   9]],\n",
       " \n",
       "        [[ 13,   8]],\n",
       " \n",
       "        [[ 11,   8]],\n",
       " \n",
       "        [[ 10,   9]],\n",
       " \n",
       "        [[  0,   9]],\n",
       " \n",
       "        [[  0,  11]],\n",
       " \n",
       "        [[ 18,  11]],\n",
       " \n",
       "        [[ 19,  10]],\n",
       " \n",
       "        [[ 85,  10]],\n",
       " \n",
       "        [[ 86,   9]],\n",
       " \n",
       "        [[139,   9]],\n",
       " \n",
       "        [[140,   8]],\n",
       " \n",
       "        [[183,   8]],\n",
       " \n",
       "        [[184,   7]],\n",
       " \n",
       "        [[185,   8]],\n",
       " \n",
       "        [[190,   8]],\n",
       " \n",
       "        [[191,   7]],\n",
       " \n",
       "        [[242,   7]],\n",
       " \n",
       "        [[243,   6]],\n",
       " \n",
       "        [[286,   6]],\n",
       " \n",
       "        [[287,   5]],\n",
       " \n",
       "        [[327,   5]],\n",
       " \n",
       "        [[328,   4]],\n",
       " \n",
       "        [[331,   4]],\n",
       " \n",
       "        [[332,   5]],\n",
       " \n",
       "        [[334,   5]],\n",
       " \n",
       "        [[335,   4]],\n",
       " \n",
       "        [[367,   4]],\n",
       " \n",
       "        [[368,   3]],\n",
       " \n",
       "        [[443,   3]],\n",
       " \n",
       "        [[444,   2]],\n",
       " \n",
       "        [[447,   2]],\n",
       " \n",
       "        [[448,   3]],\n",
       " \n",
       "        [[454,   3]],\n",
       " \n",
       "        [[455,   2]],\n",
       " \n",
       "        [[458,   2]],\n",
       " \n",
       "        [[459,   3]],\n",
       " \n",
       "        [[461,   3]],\n",
       " \n",
       "        [[462,   2]],\n",
       " \n",
       "        [[472,   2]],\n",
       " \n",
       "        [[473,   3]],\n",
       " \n",
       "        [[479,   3]],\n",
       " \n",
       "        [[480,   2]],\n",
       " \n",
       "        [[481,   2]],\n",
       " \n",
       "        [[483,   4]],\n",
       " \n",
       "        [[483,   5]],\n",
       " \n",
       "        [[490,   5]],\n",
       " \n",
       "        [[491,   4]],\n",
       " \n",
       "        [[491,   3]],\n",
       " \n",
       "        [[492,   2]],\n",
       " \n",
       "        [[499,   2]],\n",
       " \n",
       "        [[500,   3]],\n",
       " \n",
       "        [[505,   3]],\n",
       " \n",
       "        [[506,   2]],\n",
       " \n",
       "        [[508,   2]],\n",
       " \n",
       "        [[509,   3]],\n",
       " \n",
       "        [[511,   3]],\n",
       " \n",
       "        [[512,   2]],\n",
       " \n",
       "        [[513,   2]],\n",
       " \n",
       "        [[514,   3]],\n",
       " \n",
       "        [[517,   3]],\n",
       " \n",
       "        [[518,   2]],\n",
       " \n",
       "        [[521,   2]],\n",
       " \n",
       "        [[522,   3]],\n",
       " \n",
       "        [[526,   3]],\n",
       " \n",
       "        [[527,   2]],\n",
       " \n",
       "        [[529,   2]],\n",
       " \n",
       "        [[530,   3]],\n",
       " \n",
       "        [[533,   3]],\n",
       " \n",
       "        [[534,   2]],\n",
       " \n",
       "        [[535,   2]],\n",
       " \n",
       "        [[536,   3]],\n",
       " \n",
       "        [[552,   3]],\n",
       " \n",
       "        [[553,   4]],\n",
       " \n",
       "        [[563,   4]],\n",
       " \n",
       "        [[564,   5]],\n",
       " \n",
       "        [[572,   5]],\n",
       " \n",
       "        [[573,   6]],\n",
       " \n",
       "        [[578,   6]],\n",
       " \n",
       "        [[579,   7]],\n",
       " \n",
       "        [[584,   7]],\n",
       " \n",
       "        [[585,   8]],\n",
       " \n",
       "        [[588,   8]],\n",
       " \n",
       "        [[589,   9]],\n",
       " \n",
       "        [[593,   9]],\n",
       " \n",
       "        [[594,  10]],\n",
       " \n",
       "        [[599,  10]],\n",
       " \n",
       "        [[600,  11]],\n",
       " \n",
       "        [[603,  11]],\n",
       " \n",
       "        [[604,  12]],\n",
       " \n",
       "        [[606,  12]],\n",
       " \n",
       "        [[607,  13]],\n",
       " \n",
       "        [[611,  13]],\n",
       " \n",
       "        [[612,  14]],\n",
       " \n",
       "        [[614,  14]],\n",
       " \n",
       "        [[615,  15]],\n",
       " \n",
       "        [[618,  15]],\n",
       " \n",
       "        [[619,  16]],\n",
       " \n",
       "        [[621,  16]],\n",
       " \n",
       "        [[622,  17]],\n",
       " \n",
       "        [[624,  17]],\n",
       " \n",
       "        [[625,  18]],\n",
       " \n",
       "        [[628,  18]],\n",
       " \n",
       "        [[629,  19]],\n",
       " \n",
       "        [[630,  19]],\n",
       " \n",
       "        [[631,  20]],\n",
       " \n",
       "        [[633,  20]],\n",
       " \n",
       "        [[634,  21]],\n",
       " \n",
       "        [[635,  21]],\n",
       " \n",
       "        [[636,  22]],\n",
       " \n",
       "        [[638,  22]],\n",
       " \n",
       "        [[639,  23]],\n",
       " \n",
       "        [[640,  23]],\n",
       " \n",
       "        [[641,  24]],\n",
       " \n",
       "        [[644,  24]],\n",
       " \n",
       "        [[646,  26]],\n",
       " \n",
       "        [[647,  26]],\n",
       " \n",
       "        [[648,  27]],\n",
       " \n",
       "        [[651,  27]],\n",
       " \n",
       "        [[652,  28]],\n",
       " \n",
       "        [[653,  28]],\n",
       " \n",
       "        [[654,  29]],\n",
       " \n",
       "        [[655,  29]],\n",
       " \n",
       "        [[657,  31]],\n",
       " \n",
       "        [[658,  31]],\n",
       " \n",
       "        [[659,  32]],\n",
       " \n",
       "        [[660,  32]],\n",
       " \n",
       "        [[661,  33]],\n",
       " \n",
       "        [[662,  33]],\n",
       " \n",
       "        [[663,  34]],\n",
       " \n",
       "        [[664,  34]],\n",
       " \n",
       "        [[665,  35]],\n",
       " \n",
       "        [[666,  35]],\n",
       " \n",
       "        [[667,  36]],\n",
       " \n",
       "        [[668,  36]],\n",
       " \n",
       "        [[670,  38]],\n",
       " \n",
       "        [[671,  38]],\n",
       " \n",
       "        [[674,  41]],\n",
       " \n",
       "        [[675,  41]],\n",
       " \n",
       "        [[676,  42]],\n",
       " \n",
       "        [[677,  42]],\n",
       " \n",
       "        [[678,  43]],\n",
       " \n",
       "        [[679,  43]],\n",
       " \n",
       "        [[683,  47]],\n",
       " \n",
       "        [[684,  47]],\n",
       " \n",
       "        [[687,  50]],\n",
       " \n",
       "        [[688,  50]],\n",
       " \n",
       "        [[692,  54]],\n",
       " \n",
       "        [[693,  54]],\n",
       " \n",
       "        [[696,  57]],\n",
       " \n",
       "        [[696,  58]],\n",
       " \n",
       "        [[697,  59]],\n",
       " \n",
       "        [[699,  59]],\n",
       " \n",
       "        [[699,  56]],\n",
       " \n",
       "        [[698,  55]],\n",
       " \n",
       "        [[698,  54]],\n",
       " \n",
       "        [[696,  52]],\n",
       " \n",
       "        [[695,  52]],\n",
       " \n",
       "        [[691,  48]],\n",
       " \n",
       "        [[690,  48]],\n",
       " \n",
       "        [[687,  45]],\n",
       " \n",
       "        [[686,  45]],\n",
       " \n",
       "        [[682,  41]],\n",
       " \n",
       "        [[681,  41]],\n",
       " \n",
       "        [[680,  40]],\n",
       " \n",
       "        [[679,  40]],\n",
       " \n",
       "        [[678,  39]],\n",
       " \n",
       "        [[677,  39]],\n",
       " \n",
       "        [[674,  36]],\n",
       " \n",
       "        [[673,  36]],\n",
       " \n",
       "        [[671,  34]],\n",
       " \n",
       "        [[670,  34]],\n",
       " \n",
       "        [[669,  33]],\n",
       " \n",
       "        [[668,  33]],\n",
       " \n",
       "        [[667,  32]],\n",
       " \n",
       "        [[666,  32]],\n",
       " \n",
       "        [[665,  31]],\n",
       " \n",
       "        [[664,  31]],\n",
       " \n",
       "        [[663,  30]],\n",
       " \n",
       "        [[662,  30]],\n",
       " \n",
       "        [[661,  29]],\n",
       " \n",
       "        [[660,  29]],\n",
       " \n",
       "        [[658,  27]],\n",
       " \n",
       "        [[656,  27]],\n",
       " \n",
       "        [[655,  26]],\n",
       " \n",
       "        [[654,  26]],\n",
       " \n",
       "        [[653,  25]],\n",
       " \n",
       "        [[651,  25]],\n",
       " \n",
       "        [[650,  24]],\n",
       " \n",
       "        [[649,  24]],\n",
       " \n",
       "        [[648,  23]],\n",
       " \n",
       "        [[647,  23]],\n",
       " \n",
       "        [[646,  22]],\n",
       " \n",
       "        [[644,  22]],\n",
       " \n",
       "        [[643,  21]],\n",
       " \n",
       "        [[641,  21]],\n",
       " \n",
       "        [[640,  20]],\n",
       " \n",
       "        [[639,  20]],\n",
       " \n",
       "        [[638,  19]],\n",
       " \n",
       "        [[636,  19]],\n",
       " \n",
       "        [[635,  18]],\n",
       " \n",
       "        [[634,  18]],\n",
       " \n",
       "        [[633,  17]],\n",
       " \n",
       "        [[631,  17]],\n",
       " \n",
       "        [[630,  16]],\n",
       " \n",
       "        [[627,  16]],\n",
       " \n",
       "        [[626,  15]],\n",
       " \n",
       "        [[624,  15]],\n",
       " \n",
       "        [[623,  14]],\n",
       " \n",
       "        [[621,  14]],\n",
       " \n",
       "        [[620,  13]],\n",
       " \n",
       "        [[617,  13]],\n",
       " \n",
       "        [[616,  12]],\n",
       " \n",
       "        [[614,  12]],\n",
       " \n",
       "        [[613,  11]],\n",
       " \n",
       "        [[609,  11]],\n",
       " \n",
       "        [[608,  10]],\n",
       " \n",
       "        [[606,  10]],\n",
       " \n",
       "        [[605,   9]],\n",
       " \n",
       "        [[602,   9]],\n",
       " \n",
       "        [[601,   8]],\n",
       " \n",
       "        [[596,   8]],\n",
       " \n",
       "        [[595,   7]],\n",
       " \n",
       "        [[591,   7]],\n",
       " \n",
       "        [[590,   6]],\n",
       " \n",
       "        [[587,   6]],\n",
       " \n",
       "        [[586,   5]],\n",
       " \n",
       "        [[581,   5]],\n",
       " \n",
       "        [[580,   4]],\n",
       " \n",
       "        [[575,   4]],\n",
       " \n",
       "        [[574,   3]],\n",
       " \n",
       "        [[566,   3]],\n",
       " \n",
       "        [[565,   2]],\n",
       " \n",
       "        [[555,   2]],\n",
       " \n",
       "        [[554,   1]],\n",
       " \n",
       "        [[540,   1]],\n",
       " \n",
       "        [[539,   0]],\n",
       " \n",
       "        [[504,   0]],\n",
       " \n",
       "        [[503,   1]],\n",
       " \n",
       "        [[502,   1]],\n",
       " \n",
       "        [[501,   0]],\n",
       " \n",
       "        [[478,   0]],\n",
       " \n",
       "        [[477,   1]],\n",
       " \n",
       "        [[476,   0]],\n",
       " \n",
       "        [[453,   0]],\n",
       " \n",
       "        [[452,   1]],\n",
       " \n",
       "        [[450,   1]],\n",
       " \n",
       "        [[449,   0]]], dtype=int32),\n",
       " array([[[472,  12]],\n",
       " \n",
       "        [[471,  13]],\n",
       " \n",
       "        [[435,  13]],\n",
       " \n",
       "        [[434,  14]],\n",
       " \n",
       "        [[401,  14]],\n",
       " \n",
       "        [[400,  15]],\n",
       " \n",
       "        [[394,  15]],\n",
       " \n",
       "        [[393,  14]],\n",
       " \n",
       "        [[388,  14]],\n",
       " \n",
       "        [[387,  15]],\n",
       " \n",
       "        [[335,  15]],\n",
       " \n",
       "        [[334,  16]],\n",
       " \n",
       "        [[279,  16]],\n",
       " \n",
       "        [[278,  17]],\n",
       " \n",
       "        [[231,  17]],\n",
       " \n",
       "        [[230,  18]],\n",
       " \n",
       "        [[229,  18]],\n",
       " \n",
       "        [[228,  17]],\n",
       " \n",
       "        [[214,  17]],\n",
       " \n",
       "        [[213,  18]],\n",
       " \n",
       "        [[173,  18]],\n",
       " \n",
       "        [[172,  19]],\n",
       " \n",
       "        [[137,  19]],\n",
       " \n",
       "        [[136,  20]],\n",
       " \n",
       "        [[101,  20]],\n",
       " \n",
       "        [[100,  21]],\n",
       " \n",
       "        [[ 67,  21]],\n",
       " \n",
       "        [[ 66,  22]],\n",
       " \n",
       "        [[ 65,  21]],\n",
       " \n",
       "        [[ 62,  21]],\n",
       " \n",
       "        [[ 61,  22]],\n",
       " \n",
       "        [[ 49,  22]],\n",
       " \n",
       "        [[ 48,  21]],\n",
       " \n",
       "        [[ 45,  21]],\n",
       " \n",
       "        [[ 44,  22]],\n",
       " \n",
       "        [[  0,  22]],\n",
       " \n",
       "        [[  0,  24]],\n",
       " \n",
       "        [[ 68,  24]],\n",
       " \n",
       "        [[ 69,  23]],\n",
       " \n",
       "        [[102,  23]],\n",
       " \n",
       "        [[103,  22]],\n",
       " \n",
       "        [[138,  22]],\n",
       " \n",
       "        [[139,  21]],\n",
       " \n",
       "        [[174,  21]],\n",
       " \n",
       "        [[175,  20]],\n",
       " \n",
       "        [[218,  20]],\n",
       " \n",
       "        [[219,  19]],\n",
       " \n",
       "        [[220,  20]],\n",
       " \n",
       "        [[223,  20]],\n",
       " \n",
       "        [[224,  19]],\n",
       " \n",
       "        [[226,  19]],\n",
       " \n",
       "        [[227,  20]],\n",
       " \n",
       "        [[232,  20]],\n",
       " \n",
       "        [[233,  19]],\n",
       " \n",
       "        [[280,  19]],\n",
       " \n",
       "        [[281,  18]],\n",
       " \n",
       "        [[288,  18]],\n",
       " \n",
       "        [[289,  19]],\n",
       " \n",
       "        [[291,  19]],\n",
       " \n",
       "        [[292,  18]],\n",
       " \n",
       "        [[336,  18]],\n",
       " \n",
       "        [[337,  17]],\n",
       " \n",
       "        [[389,  17]],\n",
       " \n",
       "        [[390,  16]],\n",
       " \n",
       "        [[391,  16]],\n",
       " \n",
       "        [[392,  17]],\n",
       " \n",
       "        [[402,  17]],\n",
       " \n",
       "        [[403,  16]],\n",
       " \n",
       "        [[436,  16]],\n",
       " \n",
       "        [[437,  15]],\n",
       " \n",
       "        [[473,  15]],\n",
       " \n",
       "        [[474,  14]],\n",
       " \n",
       "        [[508,  14]],\n",
       " \n",
       "        [[509,  15]],\n",
       " \n",
       "        [[512,  15]],\n",
       " \n",
       "        [[513,  14]],\n",
       " \n",
       "        [[514,  14]],\n",
       " \n",
       "        [[515,  15]],\n",
       " \n",
       "        [[531,  15]],\n",
       " \n",
       "        [[532,  16]],\n",
       " \n",
       "        [[545,  16]],\n",
       " \n",
       "        [[546,  17]],\n",
       " \n",
       "        [[551,  17]],\n",
       " \n",
       "        [[552,  18]],\n",
       " \n",
       "        [[561,  18]],\n",
       " \n",
       "        [[562,  19]],\n",
       " \n",
       "        [[566,  19]],\n",
       " \n",
       "        [[567,  20]],\n",
       " \n",
       "        [[572,  20]],\n",
       " \n",
       "        [[573,  21]],\n",
       " \n",
       "        [[580,  21]],\n",
       " \n",
       "        [[581,  22]],\n",
       " \n",
       "        [[585,  22]],\n",
       " \n",
       "        [[586,  23]],\n",
       " \n",
       "        [[590,  23]],\n",
       " \n",
       "        [[591,  24]],\n",
       " \n",
       "        [[594,  24]],\n",
       " \n",
       "        [[595,  25]],\n",
       " \n",
       "        [[598,  25]],\n",
       " \n",
       "        [[599,  26]],\n",
       " \n",
       "        [[602,  26]],\n",
       " \n",
       "        [[603,  27]],\n",
       " \n",
       "        [[605,  27]],\n",
       " \n",
       "        [[606,  28]],\n",
       " \n",
       "        [[609,  28]],\n",
       " \n",
       "        [[610,  29]],\n",
       " \n",
       "        [[612,  29]],\n",
       " \n",
       "        [[613,  30]],\n",
       " \n",
       "        [[614,  30]],\n",
       " \n",
       "        [[615,  31]],\n",
       " \n",
       "        [[619,  31]],\n",
       " \n",
       "        [[620,  32]],\n",
       " \n",
       "        [[621,  32]],\n",
       " \n",
       "        [[622,  33]],\n",
       " \n",
       "        [[624,  33]],\n",
       " \n",
       "        [[625,  34]],\n",
       " \n",
       "        [[627,  34]],\n",
       " \n",
       "        [[628,  35]],\n",
       " \n",
       "        [[629,  35]],\n",
       " \n",
       "        [[630,  36]],\n",
       " \n",
       "        [[632,  36]],\n",
       " \n",
       "        [[633,  37]],\n",
       " \n",
       "        [[634,  37]],\n",
       " \n",
       "        [[635,  38]],\n",
       " \n",
       "        [[637,  38]],\n",
       " \n",
       "        [[638,  39]],\n",
       " \n",
       "        [[639,  39]],\n",
       " \n",
       "        [[640,  40]],\n",
       " \n",
       "        [[641,  40]],\n",
       " \n",
       "        [[642,  41]],\n",
       " \n",
       "        [[643,  41]],\n",
       " \n",
       "        [[644,  42]],\n",
       " \n",
       "        [[645,  42]],\n",
       " \n",
       "        [[646,  43]],\n",
       " \n",
       "        [[647,  43]],\n",
       " \n",
       "        [[648,  44]],\n",
       " \n",
       "        [[649,  44]],\n",
       " \n",
       "        [[651,  46]],\n",
       " \n",
       "        [[653,  46]],\n",
       " \n",
       "        [[654,  47]],\n",
       " \n",
       "        [[655,  47]],\n",
       " \n",
       "        [[657,  49]],\n",
       " \n",
       "        [[658,  49]],\n",
       " \n",
       "        [[659,  50]],\n",
       " \n",
       "        [[660,  50]],\n",
       " \n",
       "        [[662,  52]],\n",
       " \n",
       "        [[663,  52]],\n",
       " \n",
       "        [[665,  54]],\n",
       " \n",
       "        [[666,  54]],\n",
       " \n",
       "        [[669,  57]],\n",
       " \n",
       "        [[670,  57]],\n",
       " \n",
       "        [[672,  59]],\n",
       " \n",
       "        [[673,  59]],\n",
       " \n",
       "        [[675,  61]],\n",
       " \n",
       "        [[676,  61]],\n",
       " \n",
       "        [[686,  71]],\n",
       " \n",
       "        [[687,  71]],\n",
       " \n",
       "        [[688,  72]],\n",
       " \n",
       "        [[688,  73]],\n",
       " \n",
       "        [[696,  81]],\n",
       " \n",
       "        [[696,  82]],\n",
       " \n",
       "        [[697,  83]],\n",
       " \n",
       "        [[699,  83]],\n",
       " \n",
       "        [[699,  80]],\n",
       " \n",
       "        [[698,  79]],\n",
       " \n",
       "        [[698,  78]],\n",
       " \n",
       "        [[690,  70]],\n",
       " \n",
       "        [[690,  69]],\n",
       " \n",
       "        [[689,  69]],\n",
       " \n",
       "        [[679,  59]],\n",
       " \n",
       "        [[678,  59]],\n",
       " \n",
       "        [[676,  57]],\n",
       " \n",
       "        [[675,  57]],\n",
       " \n",
       "        [[673,  55]],\n",
       " \n",
       "        [[672,  55]],\n",
       " \n",
       "        [[669,  52]],\n",
       " \n",
       "        [[668,  52]],\n",
       " \n",
       "        [[666,  50]],\n",
       " \n",
       "        [[665,  50]],\n",
       " \n",
       "        [[663,  48]],\n",
       " \n",
       "        [[662,  48]],\n",
       " \n",
       "        [[661,  47]],\n",
       " \n",
       "        [[660,  47]],\n",
       " \n",
       "        [[658,  45]],\n",
       " \n",
       "        [[657,  45]],\n",
       " \n",
       "        [[656,  44]],\n",
       " \n",
       "        [[654,  44]],\n",
       " \n",
       "        [[652,  42]],\n",
       " \n",
       "        [[651,  42]],\n",
       " \n",
       "        [[650,  41]],\n",
       " \n",
       "        [[649,  41]],\n",
       " \n",
       "        [[648,  40]],\n",
       " \n",
       "        [[647,  40]],\n",
       " \n",
       "        [[646,  39]],\n",
       " \n",
       "        [[644,  39]],\n",
       " \n",
       "        [[642,  37]],\n",
       " \n",
       "        [[640,  37]],\n",
       " \n",
       "        [[639,  36]],\n",
       " \n",
       "        [[638,  36]],\n",
       " \n",
       "        [[637,  35]],\n",
       " \n",
       "        [[635,  35]],\n",
       " \n",
       "        [[634,  34]],\n",
       " \n",
       "        [[633,  34]],\n",
       " \n",
       "        [[632,  33]],\n",
       " \n",
       "        [[630,  33]],\n",
       " \n",
       "        [[629,  32]],\n",
       " \n",
       "        [[627,  32]],\n",
       " \n",
       "        [[626,  31]],\n",
       " \n",
       "        [[625,  31]],\n",
       " \n",
       "        [[624,  30]],\n",
       " \n",
       "        [[622,  30]],\n",
       " \n",
       "        [[621,  29]],\n",
       " \n",
       "        [[617,  29]],\n",
       " \n",
       "        [[616,  28]],\n",
       " \n",
       "        [[615,  28]],\n",
       " \n",
       "        [[614,  27]],\n",
       " \n",
       "        [[612,  27]],\n",
       " \n",
       "        [[611,  26]],\n",
       " \n",
       "        [[608,  26]],\n",
       " \n",
       "        [[607,  25]],\n",
       " \n",
       "        [[605,  25]],\n",
       " \n",
       "        [[604,  24]],\n",
       " \n",
       "        [[601,  24]],\n",
       " \n",
       "        [[600,  23]],\n",
       " \n",
       "        [[597,  23]],\n",
       " \n",
       "        [[596,  22]],\n",
       " \n",
       "        [[593,  22]],\n",
       " \n",
       "        [[592,  21]],\n",
       " \n",
       "        [[588,  21]],\n",
       " \n",
       "        [[587,  20]],\n",
       " \n",
       "        [[583,  20]],\n",
       " \n",
       "        [[582,  19]],\n",
       " \n",
       "        [[575,  19]],\n",
       " \n",
       "        [[574,  18]],\n",
       " \n",
       "        [[569,  18]],\n",
       " \n",
       "        [[568,  17]],\n",
       " \n",
       "        [[564,  17]],\n",
       " \n",
       "        [[563,  16]],\n",
       " \n",
       "        [[554,  16]],\n",
       " \n",
       "        [[553,  15]],\n",
       " \n",
       "        [[548,  15]],\n",
       " \n",
       "        [[547,  14]],\n",
       " \n",
       "        [[536,  14]],\n",
       " \n",
       "        [[535,  13]],\n",
       " \n",
       "        [[517,  13]],\n",
       " \n",
       "        [[516,  12]]], dtype=int32),\n",
       " array([[[200,  47]],\n",
       " \n",
       "        [[199,  48]],\n",
       " \n",
       "        [[171,  48]],\n",
       " \n",
       "        [[170,  49]],\n",
       " \n",
       "        [[170,  51]],\n",
       " \n",
       "        [[172,  51]],\n",
       " \n",
       "        [[173,  50]],\n",
       " \n",
       "        [[201,  50]],\n",
       " \n",
       "        [[202,  49]],\n",
       " \n",
       "        [[215,  49]],\n",
       " \n",
       "        [[215,  47]]], dtype=int32),\n",
       " array([[[275, 553]],\n",
       " \n",
       "        [[274, 554]],\n",
       " \n",
       "        [[274, 560]],\n",
       " \n",
       "        [[275, 561]],\n",
       " \n",
       "        [[282, 561]],\n",
       " \n",
       "        [[282, 559]],\n",
       " \n",
       "        [[283, 558]],\n",
       " \n",
       "        [[283, 556]],\n",
       " \n",
       "        [[282, 555]],\n",
       " \n",
       "        [[282, 553]]], dtype=int32),\n",
       " array([[[ 51, 314]],\n",
       " \n",
       "        [[ 50, 315]],\n",
       " \n",
       "        [[ 47, 315]],\n",
       " \n",
       "        [[ 46, 316]],\n",
       " \n",
       "        [[ 46, 321]],\n",
       " \n",
       "        [[ 47, 321]],\n",
       " \n",
       "        [[ 48, 322]],\n",
       " \n",
       "        [[ 53, 322]],\n",
       " \n",
       "        [[ 54, 321]],\n",
       " \n",
       "        [[ 55, 321]],\n",
       " \n",
       "        [[ 55, 316]],\n",
       " \n",
       "        [[ 53, 314]]], dtype=int32),\n",
       " array([[[501, 547]],\n",
       " \n",
       "        [[501, 549]],\n",
       " \n",
       "        [[500, 550]],\n",
       " \n",
       "        [[500, 552]],\n",
       " \n",
       "        [[501, 553]],\n",
       " \n",
       "        [[501, 554]],\n",
       " \n",
       "        [[502, 555]],\n",
       " \n",
       "        [[505, 555]],\n",
       " \n",
       "        [[506, 554]],\n",
       " \n",
       "        [[507, 554]],\n",
       " \n",
       "        [[507, 553]],\n",
       " \n",
       "        [[508, 552]],\n",
       " \n",
       "        [[508, 549]],\n",
       " \n",
       "        [[506, 547]]], dtype=int32),\n",
       " array([[[336, 558]],\n",
       " \n",
       "        [[334, 560]],\n",
       " \n",
       "        [[334, 562]],\n",
       " \n",
       "        [[337, 562]],\n",
       " \n",
       "        [[338, 561]],\n",
       " \n",
       "        [[339, 562]],\n",
       " \n",
       "        [[342, 562]],\n",
       " \n",
       "        [[342, 560]],\n",
       " \n",
       "        [[341, 559]],\n",
       " \n",
       "        [[339, 559]],\n",
       " \n",
       "        [[338, 558]]], dtype=int32)]"
      ]
     },
     "execution_count": 65,
     "metadata": {},
     "output_type": "execute_result"
    }
   ],
   "source": [
    "contornos_tamanho = sorted(conts, key=cv.contourArea, reverse=True)\n",
    "contornos_tamanho"
   ]
  },
  {
   "cell_type": "code",
   "execution_count": 66,
   "id": "3a301f0e",
   "metadata": {},
   "outputs": [],
   "source": [
    "for c in contornos_tamanho:\n",
    "    (x, y, w, h) = cv.boundingRect(c)\n",
    "    if (w >= (largura / 2)) and (h >= altura / 2):\n",
    "        corta = 8\n",
    "        img_cortada = img[y+corta:y + h - corta, x+corta:x + w - corta]\n",
    "        cv.imshow('image',img_cortada)\n",
    "        cv.waitKey(0)\n",
    "        cv.destroyAllWindows()"
   ]
  },
  {
   "cell_type": "code",
   "execution_count": 67,
   "id": "7df90bde",
   "metadata": {},
   "outputs": [],
   "source": [
    "gray, img_processada = preprocessar_img(img_cortada)\n",
    "cv.imshow('image',img_processada)\n",
    "cv.waitKey(0)\n",
    "cv.destroyAllWindows()"
   ]
  },
  {
   "cell_type": "code",
   "execution_count": 69,
   "id": "df561b6e",
   "metadata": {},
   "outputs": [
    {
     "name": "stdout",
     "output_type": "stream",
     "text": [
      "1/1 [==============================] - 0s 16ms/step\n"
     ]
    }
   ],
   "source": [
    "conts = encontrar_contornos(img_processada.copy())\n",
    "caracteres = []\n",
    "for c in conts:\n",
    "    (x, y, w, h) = cv.boundingRect(c)\n",
    "    if (w >= l_min and w <= l_max) and (h >= a_min and h <= a_max):\n",
    "        processa_caixa(gray, x, y, w, h)\n",
    "\n",
    "caixas = [b[1] for b in caracteres]\n",
    "caracteres = np.array([c[0] for c in caracteres], dtype=\"float32\")\n",
    "\n",
    "previsoes = rede_neural.predict(caracteres)\n",
    "\n",
    "img_cp = img_cortada.copy()\n",
    "\n",
    "# percorre todas as predições e caixas delimitadoras\n",
    "for (previsoes, (x, y, w, h)) in zip(previsoes, caixas): \n",
    "    i, probabilidade, caractere = predicao(previsoes, lista_caracteres)\n",
    "    desenhar_na_img(img_cp, caractere)\n",
    "cv.imshow('image',img_cp)\n",
    "cv.waitKey(0)\n",
    "cv.destroyAllWindows()"
   ]
  },
  {
   "cell_type": "code",
   "execution_count": 70,
   "id": "2f22d23c",
   "metadata": {},
   "outputs": [
    {
     "name": "stdout",
     "output_type": "stream",
     "text": [
      "Collecting easyocr\n",
      "  Downloading easyocr-1.6.2-py3-none-any.whl (2.9 MB)\n",
      "Collecting ninja\n",
      "  Downloading ninja-1.11.1-py2.py3-none-win_amd64.whl (313 kB)\n",
      "Collecting pyclipper\n",
      "  Downloading pyclipper-1.3.0.post4-cp39-cp39-win_amd64.whl (95 kB)\n",
      "Requirement already satisfied: numpy in d:\\users\\abrantes\\anaconda3\\lib\\site-packages (from easyocr) (1.21.5)\n",
      "Collecting opencv-python-headless<=4.5.4.60\n",
      "  Downloading opencv_python_headless-4.5.4.60-cp39-cp39-win_amd64.whl (35.0 MB)\n",
      "Collecting torch\n",
      "  Downloading torch-1.13.1-cp39-cp39-win_amd64.whl (162.5 MB)\n",
      "Collecting torchvision>=0.5\n",
      "  Downloading torchvision-0.14.1-cp39-cp39-win_amd64.whl (1.1 MB)\n",
      "Requirement already satisfied: scipy in d:\\users\\abrantes\\anaconda3\\lib\\site-packages (from easyocr) (1.7.3)\n",
      "Collecting Shapely\n",
      "  Downloading shapely-2.0.1-cp39-cp39-win_amd64.whl (1.4 MB)\n",
      "Requirement already satisfied: Pillow in d:\\users\\abrantes\\anaconda3\\lib\\site-packages (from easyocr) (9.0.1)\n",
      "Requirement already satisfied: scikit-image in d:\\users\\abrantes\\anaconda3\\lib\\site-packages (from easyocr) (0.19.2)\n",
      "Requirement already satisfied: PyYAML in d:\\users\\abrantes\\anaconda3\\lib\\site-packages (from easyocr) (6.0)\n",
      "Collecting python-bidi\n",
      "  Downloading python_bidi-0.4.2-py2.py3-none-any.whl (30 kB)\n",
      "Requirement already satisfied: requests in d:\\users\\abrantes\\anaconda3\\lib\\site-packages (from torchvision>=0.5->easyocr) (2.28.1)\n",
      "Requirement already satisfied: typing-extensions in d:\\users\\abrantes\\anaconda3\\lib\\site-packages (from torchvision>=0.5->easyocr) (4.1.1)\n"
     ]
    },
    {
     "name": "stderr",
     "output_type": "stream",
     "text": [
      "WARNING: Ignoring invalid distribution -pencv-python (d:\\users\\abrantes\\anaconda3\\lib\\site-packages)\n",
      "WARNING: Ignoring invalid distribution -pencv-python (d:\\users\\abrantes\\anaconda3\\lib\\site-packages)\n",
      "WARNING: Ignoring invalid distribution -pencv-python (d:\\users\\abrantes\\anaconda3\\lib\\site-packages)\n",
      "WARNING: Ignoring invalid distribution -pencv-python (d:\\users\\abrantes\\anaconda3\\lib\\site-packages)\n",
      "WARNING: Ignoring invalid distribution -pencv-python (d:\\users\\abrantes\\anaconda3\\lib\\site-packages)\n",
      "WARNING: Ignoring invalid distribution -pencv-python (d:\\users\\abrantes\\anaconda3\\lib\\site-packages)\n",
      "WARNING: Ignoring invalid distribution -pencv-python (d:\\users\\abrantes\\anaconda3\\lib\\site-packages)\n",
      "WARNING: Ignoring invalid distribution -pencv-python (d:\\users\\abrantes\\anaconda3\\lib\\site-packages)\n",
      "WARNING: Ignoring invalid distribution -pencv-python (d:\\users\\abrantes\\anaconda3\\lib\\site-packages)\n",
      "WARNING: Ignoring invalid distribution -pencv-python (d:\\users\\abrantes\\anaconda3\\lib\\site-packages)\n",
      "WARNING: Ignoring invalid distribution -pencv-python (d:\\users\\abrantes\\anaconda3\\lib\\site-packages)\n",
      "WARNING: Ignoring invalid distribution -pencv-python (d:\\users\\abrantes\\anaconda3\\lib\\site-packages)\n",
      "WARNING: Ignoring invalid distribution -pencv-python (d:\\users\\abrantes\\anaconda3\\lib\\site-packages)\n",
      "WARNING: Ignoring invalid distribution -pencv-python (d:\\users\\abrantes\\anaconda3\\lib\\site-packages)\n"
     ]
    },
    {
     "name": "stdout",
     "output_type": "stream",
     "text": [
      "Requirement already satisfied: six in d:\\users\\abrantes\\anaconda3\\lib\\site-packages (from python-bidi->easyocr) (1.16.0)\n",
      "Requirement already satisfied: certifi>=2017.4.17 in d:\\users\\abrantes\\anaconda3\\lib\\site-packages (from requests->torchvision>=0.5->easyocr) (2021.10.8)\n",
      "Requirement already satisfied: charset-normalizer<3,>=2 in d:\\users\\abrantes\\anaconda3\\lib\\site-packages (from requests->torchvision>=0.5->easyocr) (2.0.4)\n",
      "Requirement already satisfied: idna<4,>=2.5 in d:\\users\\abrantes\\anaconda3\\lib\\site-packages (from requests->torchvision>=0.5->easyocr) (3.3)\n",
      "Requirement already satisfied: urllib3<1.27,>=1.21.1 in d:\\users\\abrantes\\anaconda3\\lib\\site-packages (from requests->torchvision>=0.5->easyocr) (1.26.9)\n",
      "Requirement already satisfied: imageio>=2.4.1 in d:\\users\\abrantes\\anaconda3\\lib\\site-packages (from scikit-image->easyocr) (2.9.0)\n",
      "Requirement already satisfied: packaging>=20.0 in d:\\users\\abrantes\\anaconda3\\lib\\site-packages (from scikit-image->easyocr) (21.3)\n",
      "Requirement already satisfied: PyWavelets>=1.1.1 in d:\\users\\abrantes\\anaconda3\\lib\\site-packages (from scikit-image->easyocr) (1.3.0)\n",
      "Requirement already satisfied: tifffile>=2019.7.26 in d:\\users\\abrantes\\anaconda3\\lib\\site-packages (from scikit-image->easyocr) (2021.7.2)\n",
      "Requirement already satisfied: networkx>=2.2 in d:\\users\\abrantes\\anaconda3\\lib\\site-packages (from scikit-image->easyocr) (2.7.1)\n",
      "Requirement already satisfied: pyparsing!=3.0.5,>=2.0.2 in d:\\users\\abrantes\\anaconda3\\lib\\site-packages (from packaging>=20.0->scikit-image->easyocr) (3.0.9)\n",
      "Installing collected packages: torch, torchvision, Shapely, python-bidi, pyclipper, opencv-python-headless, ninja, easyocr\n",
      "Successfully installed Shapely-2.0.1 easyocr-1.6.2 ninja-1.11.1 opencv-python-headless-4.5.4.60 pyclipper-1.3.0.post4 python-bidi-0.4.2 torch-1.13.1 torchvision-0.14.1\n"
     ]
    }
   ],
   "source": [
    "####################\n",
    "# Seção 6: Cenários naturais com EasyOCR\n",
    "####################\n",
    "\n",
    "# https://colab.research.google.com/drive/1OIRqsTYG8I8kx9UPxSkD9Z7MLcqZKQVZ?usp=sharing\n",
    "#!pip install easyocr"
   ]
  },
  {
   "cell_type": "code",
   "execution_count": null,
   "id": "974cf520",
   "metadata": {},
   "outputs": [],
   "source": [
    "#!pip uninstall opencv-python-headless"
   ]
  },
  {
   "cell_type": "code",
   "execution_count": 5,
   "id": "b52e8f46",
   "metadata": {},
   "outputs": [
    {
     "name": "stderr",
     "output_type": "stream",
     "text": [
      "WARNING: Ignoring invalid distribution -pencv-python (d:\\users\\abrantes\\anaconda3\\lib\\site-packages)\n",
      "WARNING: Ignoring invalid distribution -pencv-python (d:\\users\\abrantes\\anaconda3\\lib\\site-packages)\n",
      "ERROR: Could not find a version that satisfies the requirement opencv-python-headless==4.1.2.30 (from versions: 3.4.10.37, 3.4.11.39, 3.4.11.41, 3.4.11.43, 3.4.11.45, 3.4.13.47, 3.4.14.51, 3.4.14.53, 3.4.15.55, 3.4.16.59, 3.4.17.61, 3.4.17.63, 3.4.18.65, 4.3.0.38, 4.4.0.40, 4.4.0.42, 4.4.0.44, 4.4.0.46, 4.5.1.48, 4.5.2.52, 4.5.2.54, 4.5.3.56, 4.5.4.58, 4.5.4.60, 4.5.5.62, 4.5.5.64, 4.6.0.66, 4.7.0.68)\n",
      "ERROR: No matching distribution found for opencv-python-headless==4.1.2.30\n",
      "WARNING: Ignoring invalid distribution -pencv-python (d:\\users\\abrantes\\anaconda3\\lib\\site-packages)\n",
      "WARNING: Ignoring invalid distribution -pencv-python (d:\\users\\abrantes\\anaconda3\\lib\\site-packages)\n",
      "WARNING: Ignoring invalid distribution -pencv-python (d:\\users\\abrantes\\anaconda3\\lib\\site-packages)\n"
     ]
    }
   ],
   "source": [
    "#!pip install opencv-python-headless==4.1.2.30"
   ]
  },
  {
   "cell_type": "code",
   "execution_count": 2,
   "id": "a5956065",
   "metadata": {},
   "outputs": [],
   "source": [
    "####################\n",
    "# Seção 7: OCR em vídeos\n",
    "####################\n",
    "# https://colab.research.google.com/drive/1a8iChq_1_vgbokpk5VXPWzjTe2lhdqJj?usp=sharing\n",
    "import cv2 as cv\n",
    "import imutils\n",
    "import numpy as np\n",
    "from matplotlib import pyplot as plt\n",
    "from imutils.object_detection import non_max_suppression\n",
    "from PIL import Image\n",
    "from PIL import ImageFont, ImageDraw, Image\n",
    "import pytesseract"
   ]
  },
  {
   "cell_type": "code",
   "execution_count": 8,
   "id": "dbe6311c",
   "metadata": {},
   "outputs": [],
   "source": [
    "config_tesseract = '--tessdata-dir D:/Tesseract-OCR/tessdata --psm 7'\n",
    "\n",
    "def tesseract_OCR(img, config_tesseract):\n",
    "    texto = pytesseract.image_to_string(img, lang='por', config=config_tesseract)\n",
    "    return texto"
   ]
  },
  {
   "cell_type": "code",
   "execution_count": 9,
   "id": "55342324",
   "metadata": {},
   "outputs": [],
   "source": [
    "def pre_processamento(img):\n",
    "    gray = cv.cvtColor(img, cv.COLOR_BGR2GRAY)\n",
    "    maior = cv.resize(gray, None, fx=2.0, fy=2.0, interpolation=cv.INTER_CUBIC)\n",
    "    valor, otsu = cv.threshold(maior, 0, 255, cv.THRESH_BINARY_INV | cv.THRESH_OTSU)\n",
    "    return otsu"
   ]
  },
  {
   "cell_type": "code",
   "execution_count": 19,
   "id": "9b488a48",
   "metadata": {},
   "outputs": [],
   "source": [
    "detector = 'D:/Users/abrantes/Modelos/frozen_east_text_detection.pb'\n",
    "largura_EAST, altura_EAST = 640, 640 # 320x320\n",
    "min_conf_EAST = 0.9\n",
    "camadas_EAST = [\n",
    "    \"feature_fusion/Conv_7/Sigmoid\",\n",
    "    \"feature_fusion/concat_3\"]"
   ]
  },
  {
   "cell_type": "code",
   "execution_count": 11,
   "id": "40f1ae71",
   "metadata": {},
   "outputs": [],
   "source": [
    "def dados_geometricos(geometry, y):\n",
    "    x0_data = geometry[0, 0, y]\n",
    "    x1_data = geometry[0, 1, y]\n",
    "    x2_data = geometry[0, 2, y]\n",
    "    x3_data = geometry[0, 3, y]\n",
    "    data_angulos = geometry[0, 4, y]\n",
    "  \n",
    "    return data_angulos, x0_data, x1_data, x2_data, x3_data"
   ]
  },
  {
   "cell_type": "code",
   "execution_count": 12,
   "id": "5247bd5a",
   "metadata": {},
   "outputs": [],
   "source": [
    "def calculos_geometria(data_angulos, x0_data, x1_data, x2_data, x3_data, x, y):\n",
    "    (offsetX, offsetY) = (x * 4.0, y * 4.0)\n",
    "\n",
    "    angulo = data_angulos[x]\n",
    "    cos = np.cos(angulo)\n",
    "    sin = np.sin(angulo)\n",
    "  \n",
    "    h = x0_data[x] + x2_data[x]\n",
    "    w = x1_data[x] + x3_data[x]\n",
    "\n",
    "    fimX = int(offsetX + (cos * x1_data[x]) + (sin * x2_data[x]))\n",
    "    fimY = int(offsetY - (sin * x1_data[x]) + (cos * x2_data[x]))\n",
    "    inicioX = int(fimX - w)\n",
    "    inicioY = int(fimY - h)\n",
    "\n",
    "    return inicioX, inicioY, fimX, fimY"
   ]
  },
  {
   "cell_type": "code",
   "execution_count": 38,
   "id": "06ce51d0",
   "metadata": {},
   "outputs": [],
   "source": [
    "def EAST_processamento(img, largura, altura, net, nomes_camadas, min_confianca):\n",
    "    original = img.copy()\n",
    "    (H, W) = img.shape[:2]\n",
    "\n",
    "    proporcao_W = W / float(largura)\n",
    "    proporcao_H = H / float(altura)\n",
    "\n",
    "    img = cv.resize(img, (largura, altura))\n",
    "    (H, W) = img.shape[:2]\n",
    "\n",
    "    blob = cv.dnn.blobFromImage(img, 1.0, (W, H), swapRB=True, crop=False)\n",
    "\n",
    "    net.setInput(blob)\n",
    "    (scores, geometry) = net.forward(nomes_camadas)\n",
    "\n",
    "    (linhas, colunas) = scores.shape[2:4]\n",
    "\n",
    "    caixas = []\n",
    "    confiancas = []\n",
    "\n",
    "    for y in range(0, linhas):\n",
    "        data_scores = scores[0, 0, y]\n",
    "\n",
    "        data_angulos, x0_data, x1_data, x2_data, x3_data = dados_geometricos(geometry, y)\n",
    "\n",
    "        for x in range(0, colunas):\n",
    "            if data_scores[x] < min_confianca:\n",
    "                continue\n",
    "\n",
    "        inicioX, inicioY, fimX, fimY = calculos_geometria(data_angulos, x0_data, x1_data, x2_data, x3_data, x, y)\n",
    "        confiancas.append(data_scores[x])\n",
    "        caixas.append((inicioX, inicioY, fimX, fimY))\n",
    "\n",
    "    return proporcao_W, proporcao_H, confiancas, caixas"
   ]
  },
  {
   "cell_type": "code",
   "execution_count": 14,
   "id": "6a125aef",
   "metadata": {},
   "outputs": [],
   "source": [
    "fonte = 'content/calibri.ttf'"
   ]
  },
  {
   "cell_type": "code",
   "execution_count": 15,
   "id": "d3058fa2",
   "metadata": {},
   "outputs": [],
   "source": [
    "def escreve_texto(texto, x, y, img, fonte, cor=(50, 50, 255), tamanho=22):\n",
    "    fonte = ImageFont.truetype(fonte, tamanho)\n",
    "    img_pil = Image.fromarray(img) \n",
    "    draw = ImageDraw.Draw(img_pil) \n",
    "    draw.text((x, y-tamanho), texto, font = fonte, fill = cor) \n",
    "    img = np.array(img_pil) \n",
    "\n",
    "    return img"
   ]
  },
  {
   "cell_type": "code",
   "execution_count": 16,
   "id": "c31d5cdc",
   "metadata": {},
   "outputs": [],
   "source": [
    "def fundo_texto(texto, x, y, img, fonte, tamanho=32, cor_fundo=(200, 255, 0)):\n",
    "    fundo = np.full((img.shape), (0,0,0), dtype=np.uint8)\n",
    "    texto_fundo = escreve_texto(texto, x, y, fundo, fonte, (255,255,255), tamanho=tamanho)\n",
    "    texto_fundo = cv.dilate(texto_fundo,(np.ones((3,5),np.uint8)))\n",
    "    fx,fy,fw,fh = cv.boundingRect(texto_fundo[:,:,2])\n",
    "    cv.rectangle(img, (fx, fy), (fx + fw, fy + fh), cor_fundo, -1)\n",
    "\n",
    "    return img"
   ]
  },
  {
   "cell_type": "code",
   "execution_count": 20,
   "id": "4f380025",
   "metadata": {},
   "outputs": [],
   "source": [
    "EASTnet = cv.dnn.readNet(detector)"
   ]
  },
  {
   "cell_type": "code",
   "execution_count": 45,
   "id": "89dd4980",
   "metadata": {},
   "outputs": [
    {
     "name": "stdout",
     "output_type": "stream",
     "text": [
      "True [[[172 109  79]\n",
      "  [172 109  79]\n",
      "  [172 109  79]\n",
      "  ...\n",
      "  [201 209 208]\n",
      "  [199 209 208]\n",
      "  [199 209 208]]\n",
      "\n",
      " [[172 109  79]\n",
      "  [172 109  79]\n",
      "  [172 109  79]\n",
      "  ...\n",
      "  [201 209 208]\n",
      "  [199 209 208]\n",
      "  [199 209 208]]\n",
      "\n",
      " [[173 110  80]\n",
      "  [173 110  80]\n",
      "  [173 110  80]\n",
      "  ...\n",
      "  [201 209 208]\n",
      "  [199 209 208]\n",
      "  [199 209 208]]\n",
      "\n",
      " ...\n",
      "\n",
      " [[101 101  99]\n",
      "  [101 101  99]\n",
      "  [101 101  99]\n",
      "  ...\n",
      "  [ 94  99 105]\n",
      "  [ 94  99 105]\n",
      "  [ 94  99 105]]\n",
      "\n",
      " [[101 101  99]\n",
      "  [101 101  99]\n",
      "  [101 101  99]\n",
      "  ...\n",
      "  [ 34  39  45]\n",
      "  [ 34  39  45]\n",
      "  [ 36  41  47]]\n",
      "\n",
      " [[101 101  99]\n",
      "  [101 101  99]\n",
      "  [101 101  99]\n",
      "  ...\n",
      "  [ 22  27  33]\n",
      "  [ 22  27  33]\n",
      "  [ 22  27  33]]]\n"
     ]
    }
   ],
   "source": [
    "arquivo_video = 'Videos/videoteste02.mp4'\n",
    "cap = cv.VideoCapture(arquivo_video)\n",
    "conectado, video = cap.read()\n",
    "print(conectado, video)"
   ]
  },
  {
   "cell_type": "code",
   "execution_count": 25,
   "id": "e4839e4f",
   "metadata": {},
   "outputs": [
    {
     "data": {
      "text/plain": [
       "(720, 1284, 3)"
      ]
     },
     "execution_count": 25,
     "metadata": {},
     "output_type": "execute_result"
    }
   ],
   "source": [
    "video.shape"
   ]
  },
  {
   "cell_type": "code",
   "execution_count": 26,
   "id": "f3a604ed",
   "metadata": {},
   "outputs": [],
   "source": [
    "video_largura = video.shape[1]\n",
    "video_altura = video.shape[0]"
   ]
  },
  {
   "cell_type": "code",
   "execution_count": 27,
   "id": "a66b6c22",
   "metadata": {},
   "outputs": [],
   "source": [
    "def redimensionar(largura, altura, largura_maxima = 600):\n",
    "    if largura > largura_maxima:\n",
    "        proporcao = largura / altura\n",
    "        video_largura = largura_maxima\n",
    "        video_altura = int(video_largura / proporcao)\n",
    "    else:\n",
    "        video_largura = largura\n",
    "        video_altura = altura\n",
    "    return video_largura, video_altura"
   ]
  },
  {
   "cell_type": "code",
   "execution_count": 28,
   "id": "676334d3",
   "metadata": {},
   "outputs": [
    {
     "name": "stdout",
     "output_type": "stream",
     "text": [
      "800 448\n"
     ]
    }
   ],
   "source": [
    "video_largura, video_altura = redimensionar(video.shape[1], video.shape[0], 800)\n",
    "print(video_largura, video_altura)"
   ]
  },
  {
   "cell_type": "code",
   "execution_count": 36,
   "id": "3d67b053",
   "metadata": {},
   "outputs": [],
   "source": [
    "nome_arquivo = 'resultado_east_tesseract.avi'\n",
    "fourcc = cv.VideoWriter_fourcc(*'XVID')\n",
    "fps = 24\n",
    "saida_video = cv.VideoWriter(nome_arquivo, fourcc, fps, (video_largura, video_altura))\n",
    "amostras_exibir = 20\n",
    "amostra_atual = 0\n",
    "margem = 4\n",
    "\n",
    "# FourCC é um código de 4 bytes usado para especificar o codec de vídeo. A lista de códigos disponíveis pode ser encontrada no site fourcc.org\n",
    "# Codecs mais usados: XVID, MP4V, MJPG, DIVX, X264...\n",
    "# Por exemplo, para salvar em formato mp4 utiliza-se o codec mp4v (o nome do arquivo também precisa possuir a extensão .mp4)\n",
    "# fourcc = cv2.VideoWriter_fourcc(*'mp4v')\n",
    "# Mais exemplos de outras configurações com o fourcc que é possível usar: https://www.programcreek.com/python/example/89348/cv2.VideoWriter_fourcc                               "
   ]
  },
  {
   "cell_type": "code",
   "execution_count": 46,
   "id": "12f99cdf",
   "metadata": {},
   "outputs": [
    {
     "name": "stdout",
     "output_type": "stream",
     "text": [
      "Terminou!\n"
     ]
    }
   ],
   "source": [
    "while (cv.waitKey(1) < 0):\n",
    "    conectado, frame = cap.read()\n",
    "\n",
    "    if not conectado:\n",
    "        break\n",
    "\n",
    "    frame = cv.resize(frame, (video_largura, video_altura))\n",
    "\n",
    "    imagem_cp = frame.copy()\n",
    "\n",
    "    if amostra_atual <= amostras_exibir:\n",
    "        cv.imshow('image',frame)\n",
    "        amostra_atual += 1\n",
    "\n",
    "    saida_video.write(frame)\n",
    "\n",
    "print('Terminou!')\n",
    "saida_video.release()\n",
    "cv.destroyAllWindows()"
   ]
  },
  {
   "cell_type": "code",
   "execution_count": 47,
   "id": "d9ffd8e3",
   "metadata": {},
   "outputs": [
    {
     "name": "stdout",
     "output_type": "stream",
     "text": [
      "Terminou!\n"
     ]
    }
   ],
   "source": [
    "while (cv.waitKey(1) < 0):\n",
    "    conectado, frame = cap.read()\n",
    "\n",
    "    if not conectado:\n",
    "        break\n",
    "\n",
    "    frame = cv.resize(frame, (video_largura, video_altura))\n",
    "\n",
    "    imagem_cp = frame.copy()\n",
    "\n",
    "    proporcao_W, proporcao_H, confiancas, caixas = EAST_processamento(frame, largura_EAST, altura_EAST, EASTnet, camadas_EAST, min_conf_EAST)\n",
    "    deteccoes = non_max_suppression(np.array(caixas), probs=confiancas)\n",
    "    for (inicioX, inicioY, fimX, fimY) in deteccoes:\n",
    "        inicioX = int(inicioX * proporcao_W)\n",
    "        inicioY = int(inicioY * proporcao_H)\n",
    "        fimX = int(fimX * proporcao_W)\n",
    "        fimY = int(fimY * proporcao_H)\n",
    "\n",
    "        cv.rectangle(frame, (inicioX, inicioY), (fimX, fimY), (200,255,0), 2)\n",
    "\n",
    "        roi = imagem_cp[inicioY - margem:fimY + margem, inicioX - margem:fimX + margem]\n",
    "\n",
    "        img_process = pre_processamento(roi)\n",
    "\n",
    "        texto = tesseract_OCR(img_process, config_tesseract)\n",
    "        # http://www.asciitable.com/\n",
    "        texto = ''.join([c if ord(c) < 128 else '' for c in texto]).strip()\n",
    "\n",
    "        frame = fundo_texto(texto, inicioX, inicioY, frame, fonte, 20, (200,255,0))\n",
    "        frame = escreve_texto(texto, inicioX, inicioY, frame, fonte, (0,0,0), 20)\n",
    "\n",
    "    if amostra_atual <= amostras_exibir:\n",
    "        cv_imshow(frame)\n",
    "        amostra_atual += 1\n",
    "\n",
    "    saida_video.write(frame)\n",
    "\n",
    "print('Terminou!')\n",
    "saida_video.release()\n",
    "cv.destroyAllWindows()"
   ]
  },
  {
   "cell_type": "code",
   "execution_count": 3,
   "id": "ffccea59",
   "metadata": {},
   "outputs": [],
   "source": [
    "####################\n",
    "# Seção 8: Busca por termos específicos\n",
    "####################\n",
    "# https://colab.research.google.com/drive/1PFl4HshFwTBSzn5DwbYqzy-3kJjSYUjf?usp=sharing#scrollTo=uM2DNTjYC8q7\n",
    "import pytesseract\n",
    "from pytesseract import Output\n",
    "import numpy as np\n",
    "import os\n",
    "import re\n",
    "import matplotlib.pyplot as plt \n",
    "from PIL import ImageFont, ImageDraw, Image\n",
    "import cv2 as cv\n"
   ]
  },
  {
   "cell_type": "code",
   "execution_count": 5,
   "id": "7fa48514",
   "metadata": {
    "scrolled": true
   },
   "outputs": [
    {
     "name": "stdout",
     "output_type": "stream",
     "text": [
      "['Imagens/.DS_Store', 'Imagens/caneca.jpg', 'Imagens/chines.jpg', 'Imagens/EwJv4.png', 'Imagens/f1.png', 'Imagens/foto-cnh.png', 'Imagens/frances.jpg', 'Imagens/frase.jpg', 'Imagens/google-cloud.jpg', 'Imagens/Imagens Projeto 1', 'Imagens/Imagens Projeto 2', 'Imagens/Imagens Projeto 3', 'Imagens/img-process.jpg', 'Imagens/letra-m.jpg', 'Imagens/livro01.jpg', 'Imagens/livro02.jpg', 'Imagens/livro_adaptativa.jpg', 'Imagens/ocr-test_4-baruch.png', 'Imagens/P._Oxy._20.jpg', 'Imagens/placa-infos.jpg', 'Imagens/placa-rua01.jpg', 'Imagens/poster-filme.jpg', 'Imagens/POxy20.png', 'Imagens/receita01.jpg', 'Imagens/receita02.jpg', 'Imagens/saida.jpg', 'Imagens/tabela_teste.jpg', 'Imagens/tesseract_logo.png', 'Imagens/teste-manuscrito01.jpg', 'Imagens/teste003.jpg', 'Imagens/teste01.jpg', 'Imagens/teste02.jpg', 'Imagens/teste04.jpg', 'Imagens/teste_fundo.jpg', 'Imagens/teste_manuscrito02.jpg', 'Imagens/teste_manuscrito03.jpg', 'Imagens/teste_manuscrito_01.jpg', 'Imagens/teste_ruido.jpg', 'Imagens/texto-opencv.jpg', 'Imagens/texto-opencv2.jpg', 'Imagens/trecho-livro.jpg', 'Imagens/w7Neo.jpg']\n"
     ]
    }
   ],
   "source": [
    "diretorio_imgs = \"Imagens/\"\n",
    "caminhos = [os.path.join(diretorio_imgs, f) for f in os.listdir(diretorio_imgs)]\n",
    "print(caminhos)"
   ]
  },
  {
   "cell_type": "code",
   "execution_count": 6,
   "id": "91605afe",
   "metadata": {},
   "outputs": [
    {
     "name": "stdout",
     "output_type": "stream",
     "text": [
      "Imagens/caneca.jpg\n",
      "Imagens/chines.jpg\n",
      "Imagens/EwJv4.png\n",
      "Imagens/f1.png\n",
      "Imagens/foto-cnh.png\n",
      "Imagens/frances.jpg\n",
      "Imagens/frase.jpg\n",
      "Imagens/google-cloud.jpg\n",
      "Imagens/img-process.jpg\n",
      "Imagens/letra-m.jpg\n",
      "Imagens/livro01.jpg\n",
      "Imagens/livro02.jpg\n",
      "Imagens/livro_adaptativa.jpg\n",
      "Imagens/ocr-test_4-baruch.png\n",
      "Imagens/P._Oxy._20.jpg\n",
      "Imagens/placa-infos.jpg\n",
      "Imagens/placa-rua01.jpg\n",
      "Imagens/poster-filme.jpg\n",
      "Imagens/POxy20.png\n",
      "Imagens/receita01.jpg\n",
      "Imagens/receita02.jpg\n",
      "Imagens/saida.jpg\n",
      "Imagens/tabela_teste.jpg\n",
      "Imagens/tesseract_logo.png\n",
      "Imagens/teste-manuscrito01.jpg\n",
      "Imagens/teste003.jpg\n",
      "Imagens/teste01.jpg\n",
      "Imagens/teste02.jpg\n",
      "Imagens/teste04.jpg\n",
      "Imagens/teste_fundo.jpg\n",
      "Imagens/teste_manuscrito02.jpg\n",
      "Imagens/teste_manuscrito03.jpg\n",
      "Imagens/teste_manuscrito_01.jpg\n",
      "Imagens/teste_ruido.jpg\n",
      "Imagens/texto-opencv.jpg\n",
      "Imagens/texto-opencv2.jpg\n",
      "Imagens/trecho-livro.jpg\n",
      "Imagens/w7Neo.jpg\n"
     ]
    }
   ],
   "source": [
    "def mostrar(img):\n",
    "    fig = plt.gcf()\n",
    "    fig.set_size_inches(20, 10)\n",
    "    plt.axis(\"off\")\n",
    "    bgr = cv.cvtColor(img, cv.COLOR_BGR2RGB)\n",
    "    plt.imshow('image',cv.cvtColor(bgr, cv.COLOR_BGR2RGB))\n",
    "    plt.show()\n",
    "    \n",
    "diretorio_imgs = \"Imagens/\"\n",
    "caminhos = [os.path.join(diretorio_imgs, f) for f in os.listdir(diretorio_imgs)]\n",
    "\n",
    "for imagem in caminhos:\n",
    "    if (os.path.splitext(imagem)[1]=='.png' or os.path.splitext(imagem)[1]=='.jpg'):\n",
    "        print(imagem)\n",
    "        if imagem == 'Imagens/imagens2':\n",
    "            continue\n",
    "        imagem = cv.imread(imagem) \n",
    "        #cv.imshow('image',imagem)\n",
    "        cv.imshow('image',cv.cvtColor(imagem, cv.COLOR_BGR2RGB))\n",
    "        cv.waitKey(0)\n",
    "        cv.destroyAllWindows()\n",
    "        #mostrar(imagem)    "
   ]
  },
  {
   "cell_type": "code",
   "execution_count": 7,
   "id": "366ea9c1",
   "metadata": {},
   "outputs": [],
   "source": [
    "config_tesseract = '--tessdata-dir D:/Tesseract-OCR/tessdata'\n",
    "pytesseract.pytesseract.tesseract_cmd = 'D:/Tesseract-OCR/tesseract.exe'\n",
    "\n",
    "def OCR_processa(img, config_tesseract):\n",
    "    texto = pytesseract.image_to_string(img, lang='por', config=config_tesseract)\n",
    "    return texto"
   ]
  },
  {
   "cell_type": "code",
   "execution_count": 8,
   "id": "514d12fa",
   "metadata": {},
   "outputs": [],
   "source": [
    "texto_completo = ''\n",
    "nome_txt = 'resultados_ocr.txt'\n",
    "for imagem in caminhos:\n",
    "    if (os.path.splitext(imagem)[1]=='.png' or os.path.splitext(imagem)[1]=='.jpg'):\n",
    "        if imagem == 'imagens/imagens2':\n",
    "            continue\n",
    "\n",
    "        img = cv.imread(imagem)\n",
    "        nome_imagem = os.path.split(imagem)[-1]\n",
    "        #print(nome_imagem)\n",
    "        nome_divisao = '===================\\n' + str(nome_imagem)\n",
    "        #print(nome_divisao)\n",
    "        texto_completo = texto_completo + nome_divisao + '\\n'\n",
    "\n",
    "        texto = OCR_processa(img, config_tesseract)\n",
    "        #print(texto)\n",
    "        texto_completo = texto_completo + texto"
   ]
  },
  {
   "cell_type": "code",
   "execution_count": 9,
   "id": "92d30575",
   "metadata": {},
   "outputs": [],
   "source": [
    "#texto_completo\n",
    "arquivo_txt = open(nome_txt, 'w+')\n",
    "arquivo_txt.write(texto_completo + '\\n')\n",
    "arquivo_txt.close()"
   ]
  },
  {
   "cell_type": "code",
   "execution_count": 10,
   "id": "99e946d4",
   "metadata": {},
   "outputs": [],
   "source": [
    "termo_pesquisa = 'resultado'\n",
    "with open(nome_txt) as f:\n",
    "    ocorrencias = [i.start() for i in re.finditer(termo_pesquisa, f.read())]"
   ]
  },
  {
   "cell_type": "code",
   "execution_count": 11,
   "id": "712b7388",
   "metadata": {},
   "outputs": [
    {
     "data": {
      "text/plain": [
       "[921, 1885, 6159]"
      ]
     },
     "execution_count": 11,
     "metadata": {},
     "output_type": "execute_result"
    }
   ],
   "source": [
    "ocorrencias\n"
   ]
  },
  {
   "cell_type": "code",
   "execution_count": 12,
   "id": "0eef8b84",
   "metadata": {},
   "outputs": [
    {
     "data": {
      "text/plain": [
       "3"
      ]
     },
     "execution_count": 12,
     "metadata": {},
     "output_type": "execute_result"
    }
   ],
   "source": [
    "len(ocorrencias)"
   ]
  },
  {
   "cell_type": "code",
   "execution_count": 28,
   "id": "aa830d72",
   "metadata": {},
   "outputs": [
    {
     "name": "stdout",
     "output_type": "stream",
     "text": [
      "====================\n",
      "caneca.jpg\n",
      "Número de ocorrências para o termo: resultado: 0\n",
      "\n",
      "\n",
      "====================\n",
      "chines.jpg\n",
      "Número de ocorrências para o termo: resultado: 0\n",
      "\n",
      "\n",
      "====================\n",
      "EwJv4.png\n",
      "Número de ocorrências para o termo: resultado: 0\n",
      "\n",
      "\n",
      "====================\n",
      "f1.png\n",
      "Número de ocorrências para o termo: resultado: 0\n",
      "\n",
      "\n",
      "====================\n",
      "foto-cnh.png\n",
      "Número de ocorrências para o termo: resultado: 0\n",
      "\n",
      "\n",
      "====================\n",
      "frances.jpg\n",
      "Número de ocorrências para o termo: resultado: 0\n",
      "\n",
      "\n",
      "====================\n",
      "frase.jpg\n",
      "Número de ocorrências para o termo: resultado: 0\n",
      "\n",
      "\n",
      "====================\n",
      "google-cloud.jpg\n",
      "Número de ocorrências para o termo: resultado: 0\n",
      "\n",
      "\n",
      "====================\n",
      "img-process.jpg\n",
      "Número de ocorrências para o termo: resultado: 0\n",
      "\n",
      "\n",
      "====================\n",
      "letra-m.jpg\n",
      "Número de ocorrências para o termo: resultado: 0\n",
      "\n",
      "\n",
      "====================\n",
      "livro01.jpg\n",
      "Número de ocorrências para o termo: resultado: 1\n",
      "\n",
      "\n",
      "====================\n",
      "livro02.jpg\n",
      "Número de ocorrências para o termo: resultado: 1\n",
      "\n",
      "\n",
      "====================\n",
      "livro_adaptativa.jpg\n",
      "Número de ocorrências para o termo: resultado: 0\n",
      "\n",
      "\n",
      "====================\n",
      "ocr-test_4-baruch.png\n",
      "Número de ocorrências para o termo: resultado: 0\n",
      "\n",
      "\n",
      "====================\n",
      "P._Oxy._20.jpg\n",
      "Número de ocorrências para o termo: resultado: 0\n",
      "\n",
      "\n",
      "====================\n",
      "placa-infos.jpg\n",
      "Número de ocorrências para o termo: resultado: 0\n",
      "\n",
      "\n",
      "====================\n",
      "placa-rua01.jpg\n",
      "Número de ocorrências para o termo: resultado: 0\n",
      "\n",
      "\n",
      "====================\n",
      "poster-filme.jpg\n",
      "Número de ocorrências para o termo: resultado: 0\n",
      "\n",
      "\n",
      "====================\n",
      "POxy20.png\n",
      "Número de ocorrências para o termo: resultado: 0\n",
      "\n",
      "\n",
      "====================\n",
      "receita01.jpg\n",
      "Número de ocorrências para o termo: resultado: 0\n",
      "\n",
      "\n",
      "====================\n",
      "receita02.jpg\n",
      "Número de ocorrências para o termo: resultado: 0\n",
      "\n",
      "\n",
      "====================\n",
      "saida.jpg\n",
      "Número de ocorrências para o termo: resultado: 0\n",
      "\n",
      "\n",
      "====================\n",
      "tabela_teste.jpg\n",
      "Número de ocorrências para o termo: resultado: 0\n",
      "\n",
      "\n",
      "====================\n",
      "tesseract_logo.png\n",
      "Número de ocorrências para o termo: resultado: 0\n",
      "\n",
      "\n",
      "====================\n",
      "teste-manuscrito01.jpg\n",
      "Número de ocorrências para o termo: resultado: 0\n",
      "\n",
      "\n",
      "====================\n",
      "teste003.jpg\n",
      "Número de ocorrências para o termo: resultado: 0\n",
      "\n",
      "\n",
      "====================\n",
      "teste01.jpg\n",
      "Número de ocorrências para o termo: resultado: 0\n",
      "\n",
      "\n",
      "====================\n",
      "teste02.jpg\n",
      "Número de ocorrências para o termo: resultado: 0\n",
      "\n",
      "\n",
      "====================\n",
      "teste04.jpg\n",
      "Número de ocorrências para o termo: resultado: 0\n",
      "\n",
      "\n",
      "====================\n",
      "teste_fundo.jpg\n",
      "Número de ocorrências para o termo: resultado: 0\n",
      "\n",
      "\n",
      "====================\n",
      "teste_manuscrito02.jpg\n",
      "Número de ocorrências para o termo: resultado: 0\n",
      "\n",
      "\n",
      "====================\n",
      "teste_manuscrito03.jpg\n",
      "Número de ocorrências para o termo: resultado: 0\n",
      "\n",
      "\n",
      "====================\n",
      "teste_manuscrito_01.jpg\n",
      "Número de ocorrências para o termo: resultado: 0\n",
      "\n",
      "\n",
      "====================\n",
      "teste_ruido.jpg\n",
      "Número de ocorrências para o termo: resultado: 0\n",
      "\n",
      "\n",
      "====================\n",
      "texto-opencv.jpg\n",
      "Número de ocorrências para o termo: resultado: 0\n",
      "\n",
      "\n",
      "====================\n",
      "texto-opencv2.jpg\n",
      "Número de ocorrências para o termo: resultado: 0\n",
      "\n",
      "\n",
      "====================\n",
      "trecho-livro.jpg\n",
      "Número de ocorrências para o termo: resultado: 1\n",
      "\n",
      "\n",
      "====================\n",
      "w7Neo.jpg\n",
      "Número de ocorrências para o termo: resultado: 0\n",
      "\n",
      "\n"
     ]
    }
   ],
   "source": [
    "for imagem in caminhos:\n",
    "    if (os.path.splitext(imagem)[1]=='.png' or os.path.splitext(imagem)[1]=='.jpg'):\n",
    "        if imagem == 'imagens/imagens2':\n",
    "            continue\n",
    "\n",
    "        img = cv.imread(imagem)\n",
    "        nome_imagem = os.path.split(imagem)[-1]\n",
    "        print('====================\\n' + str(nome_imagem))\n",
    "\n",
    "        texto = OCR_processa(img, config_tesseract)\n",
    "\n",
    "        ocorrencias = [i.start() for i in re.finditer(termo_pesquisa, texto)]\n",
    "\n",
    "        print('Número de ocorrências para o termo: {}: {}'.format(termo_pesquisa, len(ocorrencias)))\n",
    "        print('\\n')"
   ]
  },
  {
   "cell_type": "code",
   "execution_count": 31,
   "id": "113ac9b6",
   "metadata": {},
   "outputs": [
    {
     "name": "stdout",
     "output_type": "stream",
     "text": [
      "Collecting wordcloud\n",
      "  Downloading wordcloud-1.8.2.2-cp39-cp39-win_amd64.whl (153 kB)\n",
      "Requirement already satisfied: pillow in d:\\users\\abrantes\\anaconda3\\lib\\site-packages (from wordcloud) (9.0.1)\n",
      "Requirement already satisfied: matplotlib in d:\\users\\abrantes\\anaconda3\\lib\\site-packages (from wordcloud) (3.5.1)\n",
      "Requirement already satisfied: numpy>=1.6.1 in d:\\users\\abrantes\\anaconda3\\lib\\site-packages (from wordcloud) (1.21.5)\n",
      "Requirement already satisfied: pyparsing>=2.2.1 in d:\\users\\abrantes\\anaconda3\\lib\\site-packages (from matplotlib->wordcloud) (3.0.9)\n",
      "Requirement already satisfied: python-dateutil>=2.7 in d:\\users\\abrantes\\anaconda3\\lib\\site-packages (from matplotlib->wordcloud) (2.8.2)\n",
      "Requirement already satisfied: cycler>=0.10 in d:\\users\\abrantes\\anaconda3\\lib\\site-packages (from matplotlib->wordcloud) (0.11.0)\n",
      "Requirement already satisfied: kiwisolver>=1.0.1 in d:\\users\\abrantes\\anaconda3\\lib\\site-packages (from matplotlib->wordcloud) (1.3.2)\n",
      "Requirement already satisfied: packaging>=20.0 in d:\\users\\abrantes\\anaconda3\\lib\\site-packages (from matplotlib->wordcloud) (21.3)\n",
      "Requirement already satisfied: fonttools>=4.22.0 in d:\\users\\abrantes\\anaconda3\\lib\\site-packages (from matplotlib->wordcloud) (4.25.0)\n",
      "Requirement already satisfied: six>=1.5 in d:\\users\\abrantes\\anaconda3\\lib\\site-packages (from python-dateutil>=2.7->matplotlib->wordcloud) (1.16.0)\n",
      "Installing collected packages: wordcloud\n",
      "Successfully installed wordcloud-1.8.2.2\n"
     ]
    },
    {
     "name": "stderr",
     "output_type": "stream",
     "text": [
      "WARNING: Ignoring invalid distribution -pencv-python (d:\\users\\abrantes\\anaconda3\\lib\\site-packages)\n",
      "WARNING: Ignoring invalid distribution -pencv-python (d:\\users\\abrantes\\anaconda3\\lib\\site-packages)\n",
      "WARNING: Ignoring invalid distribution -pencv-python (d:\\users\\abrantes\\anaconda3\\lib\\site-packages)\n",
      "WARNING: Ignoring invalid distribution -pencv-python (d:\\users\\abrantes\\anaconda3\\lib\\site-packages)\n",
      "WARNING: Ignoring invalid distribution -pencv-python (d:\\users\\abrantes\\anaconda3\\lib\\site-packages)\n",
      "WARNING: Ignoring invalid distribution -pencv-python (d:\\users\\abrantes\\anaconda3\\lib\\site-packages)\n",
      "WARNING: Ignoring invalid distribution -pencv-python (d:\\users\\abrantes\\anaconda3\\lib\\site-packages)\n"
     ]
    }
   ],
   "source": [
    "!pip install wordcloud\n"
   ]
  },
  {
   "cell_type": "code",
   "execution_count": 3,
   "id": "535a61bf",
   "metadata": {},
   "outputs": [
    {
     "name": "stdout",
     "output_type": "stream",
     "text": [
      "Collecting pt-core-news-sm==3.5.0\n",
      "  Downloading https://github.com/explosion/spacy-models/releases/download/pt_core_news_sm-3.5.0/pt_core_news_sm-3.5.0-py3-none-any.whl (13.0 MB)\n",
      "Requirement already satisfied: spacy<3.6.0,>=3.5.0 in d:\\users\\abrantes\\anaconda3\\lib\\site-packages (from pt-core-news-sm==3.5.0) (3.5.0)\n",
      "Requirement already satisfied: packaging>=20.0 in d:\\users\\abrantes\\anaconda3\\lib\\site-packages (from spacy<3.6.0,>=3.5.0->pt-core-news-sm==3.5.0) (21.3)\n",
      "Requirement already satisfied: murmurhash<1.1.0,>=0.28.0 in d:\\users\\abrantes\\anaconda3\\lib\\site-packages (from spacy<3.6.0,>=3.5.0->pt-core-news-sm==3.5.0) (1.0.9)\n",
      "Requirement already satisfied: langcodes<4.0.0,>=3.2.0 in d:\\users\\abrantes\\anaconda3\\lib\\site-packages (from spacy<3.6.0,>=3.5.0->pt-core-news-sm==3.5.0) (3.3.0)\n",
      "Requirement already satisfied: setuptools in d:\\users\\abrantes\\anaconda3\\lib\\site-packages (from spacy<3.6.0,>=3.5.0->pt-core-news-sm==3.5.0) (61.2.0)\n",
      "Requirement already satisfied: numpy>=1.15.0 in d:\\users\\abrantes\\anaconda3\\lib\\site-packages (from spacy<3.6.0,>=3.5.0->pt-core-news-sm==3.5.0) (1.21.5)\n",
      "Requirement already satisfied: srsly<3.0.0,>=2.4.3 in d:\\users\\abrantes\\anaconda3\\lib\\site-packages (from spacy<3.6.0,>=3.5.0->pt-core-news-sm==3.5.0) (2.4.6)\n",
      "Requirement already satisfied: tqdm<5.0.0,>=4.38.0 in d:\\users\\abrantes\\anaconda3\\lib\\site-packages (from spacy<3.6.0,>=3.5.0->pt-core-news-sm==3.5.0) (4.64.0)\n",
      "Requirement already satisfied: wasabi<1.2.0,>=0.9.1 in d:\\users\\abrantes\\anaconda3\\lib\\site-packages (from spacy<3.6.0,>=3.5.0->pt-core-news-sm==3.5.0) (1.1.1)\n",
      "Requirement already satisfied: spacy-legacy<3.1.0,>=3.0.11 in d:\\users\\abrantes\\anaconda3\\lib\\site-packages (from spacy<3.6.0,>=3.5.0->pt-core-news-sm==3.5.0) (3.0.12)\n",
      "Requirement already satisfied: pathy>=0.10.0 in d:\\users\\abrantes\\anaconda3\\lib\\site-packages (from spacy<3.6.0,>=3.5.0->pt-core-news-sm==3.5.0) (0.10.1)\n",
      "Requirement already satisfied: preshed<3.1.0,>=3.0.2 in d:\\users\\abrantes\\anaconda3\\lib\\site-packages (from spacy<3.6.0,>=3.5.0->pt-core-news-sm==3.5.0) (3.0.8)\n",
      "Requirement already satisfied: requests<3.0.0,>=2.13.0 in d:\\users\\abrantes\\anaconda3\\lib\\site-packages (from spacy<3.6.0,>=3.5.0->pt-core-news-sm==3.5.0) (2.28.1)\n",
      "Requirement already satisfied: smart-open<7.0.0,>=5.2.1 in d:\\users\\abrantes\\anaconda3\\lib\\site-packages (from spacy<3.6.0,>=3.5.0->pt-core-news-sm==3.5.0) (6.3.0)\n",
      "Requirement already satisfied: pydantic!=1.8,!=1.8.1,<1.11.0,>=1.7.4 in d:\\users\\abrantes\\anaconda3\\lib\\site-packages (from spacy<3.6.0,>=3.5.0->pt-core-news-sm==3.5.0) (1.10.5)\n",
      "Requirement already satisfied: cymem<2.1.0,>=2.0.2 in d:\\users\\abrantes\\anaconda3\\lib\\site-packages (from spacy<3.6.0,>=3.5.0->pt-core-news-sm==3.5.0) (2.0.7)\n",
      "Requirement already satisfied: thinc<8.2.0,>=8.1.0 in d:\\users\\abrantes\\anaconda3\\lib\\site-packages (from spacy<3.6.0,>=3.5.0->pt-core-news-sm==3.5.0) (8.1.8)\n",
      "Requirement already satisfied: typer<0.8.0,>=0.3.0 in d:\\users\\abrantes\\anaconda3\\lib\\site-packages (from spacy<3.6.0,>=3.5.0->pt-core-news-sm==3.5.0) (0.7.0)\n",
      "Requirement already satisfied: spacy-loggers<2.0.0,>=1.0.0 in d:\\users\\abrantes\\anaconda3\\lib\\site-packages (from spacy<3.6.0,>=3.5.0->pt-core-news-sm==3.5.0) (1.0.4)\n",
      "Requirement already satisfied: catalogue<2.1.0,>=2.0.6 in d:\\users\\abrantes\\anaconda3\\lib\\site-packages (from spacy<3.6.0,>=3.5.0->pt-core-news-sm==3.5.0) (2.0.8)\n",
      "Requirement already satisfied: jinja2 in d:\\users\\abrantes\\anaconda3\\lib\\site-packages (from spacy<3.6.0,>=3.5.0->pt-core-news-sm==3.5.0) (2.11.3)\n",
      "Requirement already satisfied: pyparsing!=3.0.5,>=2.0.2 in d:\\users\\abrantes\\anaconda3\\lib\\site-packages (from packaging>=20.0->spacy<3.6.0,>=3.5.0->pt-core-news-sm==3.5.0) (3.0.9)\n",
      "Requirement already satisfied: typing-extensions>=4.2.0 in d:\\users\\abrantes\\anaconda3\\lib\\site-packages (from pydantic!=1.8,!=1.8.1,<1.11.0,>=1.7.4->spacy<3.6.0,>=3.5.0->pt-core-news-sm==3.5.0) (4.5.0)\n",
      "Requirement already satisfied: charset-normalizer<3,>=2 in d:\\users\\abrantes\\anaconda3\\lib\\site-packages (from requests<3.0.0,>=2.13.0->spacy<3.6.0,>=3.5.0->pt-core-news-sm==3.5.0) (2.0.4)\n",
      "Requirement already satisfied: idna<4,>=2.5 in d:\\users\\abrantes\\anaconda3\\lib\\site-packages (from requests<3.0.0,>=2.13.0->spacy<3.6.0,>=3.5.0->pt-core-news-sm==3.5.0) (3.3)\n",
      "Requirement already satisfied: certifi>=2017.4.17 in d:\\users\\abrantes\\anaconda3\\lib\\site-packages (from requests<3.0.0,>=2.13.0->spacy<3.6.0,>=3.5.0->pt-core-news-sm==3.5.0) (2021.10.8)\n",
      "Requirement already satisfied: urllib3<1.27,>=1.21.1 in d:\\users\\abrantes\\anaconda3\\lib\\site-packages (from requests<3.0.0,>=2.13.0->spacy<3.6.0,>=3.5.0->pt-core-news-sm==3.5.0) (1.26.9)\n",
      "Requirement already satisfied: blis<0.8.0,>=0.7.8 in d:\\users\\abrantes\\anaconda3\\lib\\site-packages (from thinc<8.2.0,>=8.1.0->spacy<3.6.0,>=3.5.0->pt-core-news-sm==3.5.0) (0.7.9)\n",
      "Requirement already satisfied: confection<1.0.0,>=0.0.1 in d:\\users\\abrantes\\anaconda3\\lib\\site-packages (from thinc<8.2.0,>=8.1.0->spacy<3.6.0,>=3.5.0->pt-core-news-sm==3.5.0) (0.0.4)\n",
      "Requirement already satisfied: colorama in d:\\users\\abrantes\\anaconda3\\lib\\site-packages (from tqdm<5.0.0,>=4.38.0->spacy<3.6.0,>=3.5.0->pt-core-news-sm==3.5.0) (0.4.6)\n",
      "Requirement already satisfied: click<9.0.0,>=7.1.1 in d:\\users\\abrantes\\anaconda3\\lib\\site-packages (from typer<0.8.0,>=0.3.0->spacy<3.6.0,>=3.5.0->pt-core-news-sm==3.5.0) (8.0.4)\n",
      "Requirement already satisfied: MarkupSafe>=0.23 in d:\\users\\abrantes\\anaconda3\\lib\\site-packages (from jinja2->spacy<3.6.0,>=3.5.0->pt-core-news-sm==3.5.0) (2.0.1)\n",
      "\u001b[38;5;3m[!] As of spaCy v3.0, shortcuts like 'pt' are deprecated. Please use\n",
      "the full pipeline package name 'pt_core_news_sm' instead.\u001b[0m\n",
      "\u001b[38;5;2m[+] Download and installation successful\u001b[0m\n",
      "You can now load the package via spacy.load('pt_core_news_sm')\n"
     ]
    },
    {
     "name": "stderr",
     "output_type": "stream",
     "text": [
      "WARNING: Ignoring invalid distribution -pencv-python (d:\\users\\abrantes\\anaconda3\\lib\\site-packages)\n",
      "WARNING: Ignoring invalid distribution -pencv-python (d:\\users\\abrantes\\anaconda3\\lib\\site-packages)\n",
      "WARNING: Ignoring invalid distribution -pencv-python (d:\\users\\abrantes\\anaconda3\\lib\\site-packages)\n",
      "WARNING: Ignoring invalid distribution -pencv-python (d:\\users\\abrantes\\anaconda3\\lib\\site-packages)\n",
      "WARNING: Ignoring invalid distribution -pencv-python (d:\\users\\abrantes\\anaconda3\\lib\\site-packages)\n",
      "WARNING: Ignoring invalid distribution -pencv-python (d:\\users\\abrantes\\anaconda3\\lib\\site-packages)\n"
     ]
    }
   ],
   "source": [
    "!python -m spacy download pt"
   ]
  },
  {
   "cell_type": "code",
   "execution_count": 2,
   "id": "04de773f",
   "metadata": {},
   "outputs": [],
   "source": [
    "import spacy"
   ]
  },
  {
   "cell_type": "code",
   "execution_count": null,
   "id": "bc3784d7",
   "metadata": {},
   "outputs": [],
   "source": [
    "#!pip install wordcloud\n",
    "from wordcloud import WordCloud\n",
    "plt.figure(figsize=(20,10))\n",
    "plt.imshow(WordCloud().generate(texto_completo));"
   ]
  },
  {
   "cell_type": "code",
   "execution_count": 3,
   "id": "35ee8a06",
   "metadata": {},
   "outputs": [
    {
     "ename": "AttributeError",
     "evalue": "module 'spacy.lang' has no attribute 'en'",
     "output_type": "error",
     "traceback": [
      "\u001b[1;31m---------------------------------------------------------------------------\u001b[0m",
      "\u001b[1;31mAttributeError\u001b[0m                            Traceback (most recent call last)",
      "Input \u001b[1;32mIn [3]\u001b[0m, in \u001b[0;36m<cell line: 1>\u001b[1;34m()\u001b[0m\n\u001b[1;32m----> 1\u001b[0m stop_words \u001b[38;5;241m=\u001b[39m \u001b[43mspacy\u001b[49m\u001b[38;5;241;43m.\u001b[39;49m\u001b[43mlang\u001b[49m\u001b[38;5;241;43m.\u001b[39;49m\u001b[43men\u001b[49m\u001b[38;5;241m.\u001b[39mstop_words\u001b[38;5;241m.\u001b[39mSTOP_WORDS\n\u001b[0;32m      2\u001b[0m \u001b[38;5;28mprint\u001b[39m(stop_words)\n",
      "\u001b[1;31mAttributeError\u001b[0m: module 'spacy.lang' has no attribute 'en'"
     ]
    }
   ],
   "source": [
    "stop_words = spacy.lang.pt.stop_words.STOP_WORDS\n",
    "print(stop_words)\n"
   ]
  },
  {
   "cell_type": "code",
   "execution_count": null,
   "id": "95d51038",
   "metadata": {},
   "outputs": [],
   "source": [
    "def preprocessamento(texto):\n",
    "    texto = texto.lower()\n",
    "\n",
    "    documento = pln(texto)\n",
    "    lista = []\n",
    "    for token in documento:\n",
    "        #print(token)\n",
    "        lista.append(token.text)\n",
    "  \n",
    "    lista = [palavra for palavra in lista if palavra not in stop_words]\n",
    "    lista = ' '.join([str(elemento) for elemento in lista])\n",
    "\n",
    "return lista"
   ]
  },
  {
   "cell_type": "code",
   "execution_count": null,
   "id": "69a26639",
   "metadata": {},
   "outputs": [],
   "source": [
    "preprocessamento('TeSte computador que o de a correlação primeiro')"
   ]
  },
  {
   "cell_type": "code",
   "execution_count": null,
   "id": "01ce0392",
   "metadata": {},
   "outputs": [],
   "source": [
    "texto_completo_processado = preprocessamento(texto_completo)\n",
    "from wordcloud import WordCloud\n",
    "plt.figure(figsize=(20,10))\n",
    "plt.imshow(WordCloud().generate(texto_completo_processado));"
   ]
  },
  {
   "cell_type": "code",
   "execution_count": 36,
   "id": "a43631b3",
   "metadata": {},
   "outputs": [
    {
     "ename": "SyntaxError",
     "evalue": "invalid syntax (3214156449.py, line 1)",
     "output_type": "error",
     "traceback": [
      "\u001b[1;36m  Input \u001b[1;32mIn [36]\u001b[1;36m\u001b[0m\n\u001b[1;33m    Por padrão o Tesseract não tem uma função que retorna a caixa delimitadora para as letras de forma individual,\u001b[0m\n\u001b[1;37m        ^\u001b[0m\n\u001b[1;31mSyntaxError\u001b[0m\u001b[1;31m:\u001b[0m invalid syntax\n"
     ]
    }
   ],
   "source": [
    "Por padrão o Tesseract não tem uma função que retorna a caixa delimitadora para as letras de forma individual, \n",
    "e para fazer isso teria que processar cada letra individualmente e saber a região de interesse (ROI) da letra.\n",
    "\n",
    "A primeira alternativa penso que seria tentar usar o parâmetro tessedit_char_whitelist, que basicamente vai \n",
    "filtrar para que o tesseract leia apenas a letra específica que você passar como parâmetro. Se tiver dúvidas \n",
    "de como usar, veja isso. Usando ele, apenas detecções para a letra determinada seriam retornadas, assim você \n",
    "teria acesso ao ROI delas pois essas coordenadas são fornecidas pela função (lembrando que são a partir \n",
    "dessas coordenadas que conseguimos contornar as palavras sobre a imagem).\n",
    "\n",
    "https://stackoverflow.com/questions/43705481/pytesseract-set-character-whitelist/43710072#43710072\n",
    "\n",
    "Caso não funcione bem para você (alguns relatam que esse parâmetro nem sempre retorna o esperado), você pode \n",
    "tentar fazer com que para cada palavra detectada seja feita uma detecção dentro dessa área para pegar \n",
    "individualmente cada letra, veja aqui o código de como fazer isso exatamente. Em seguida, você teria que \n",
    "ordenar de esquerda para a direita as caixas delimitadoras, pois sabendo exatamente a palavra você consegue \n",
    "determinar a posição onde se encontra a letra.\n",
    "\n",
    "https://stackoverflow.com/questions/65738928/bounding-box-detection-for-characters-digits/65744674#65744674\n",
    "\n",
    "- ex: para a palavra \"carro\" o programa sabe onde está o \"a\" pois é a segunda caixa delimitadora da esquerda \n",
    "    para a direita. portanto, assim você consegue codificar para que ao ler cada palavra ele identifique as \n",
    "    posições onde estão as letras que você deseja detectar. Para \"ordenar\" da esquerda para a direita corretamente \n",
    "    você pode testar essas abordagens aqui.\n",
    "\n",
    "https://stackoverflow.com/questions/38654302/how-can-i-sort-contours-from-left-to-right-and-top-to-bottom\n",
    "\n",
    "E se quiser, veja essa alternativa ao código que te passei ali, pode ser que seja necessário menos adaptações ainda.\n",
    "\n",
    "https://pt.stackoverflow.com/questions/339766/reconhecimento-de-placas-opencv-tesseract/340015#340015"
   ]
  },
  {
   "cell_type": "code",
   "execution_count": null,
   "id": "cd7a7fca",
   "metadata": {},
   "outputs": [],
   "source": []
  },
  {
   "cell_type": "code",
   "execution_count": null,
   "id": "af263d8d",
   "metadata": {},
   "outputs": [],
   "source": []
  },
  {
   "cell_type": "code",
   "execution_count": null,
   "id": "727d83c6",
   "metadata": {},
   "outputs": [],
   "source": []
  },
  {
   "cell_type": "code",
   "execution_count": null,
   "id": "8d5a36c7",
   "metadata": {},
   "outputs": [],
   "source": []
  },
  {
   "cell_type": "code",
   "execution_count": null,
   "id": "51fcd073",
   "metadata": {},
   "outputs": [],
   "source": []
  },
  {
   "cell_type": "code",
   "execution_count": null,
   "id": "7321abcb",
   "metadata": {},
   "outputs": [],
   "source": []
  }
 ],
 "metadata": {
  "kernelspec": {
   "display_name": "Python 3 (ipykernel)",
   "language": "python",
   "name": "python3"
  },
  "language_info": {
   "codemirror_mode": {
    "name": "ipython",
    "version": 3
   },
   "file_extension": ".py",
   "mimetype": "text/x-python",
   "name": "python",
   "nbconvert_exporter": "python",
   "pygments_lexer": "ipython3",
   "version": "3.9.12"
  }
 },
 "nbformat": 4,
 "nbformat_minor": 5
}
