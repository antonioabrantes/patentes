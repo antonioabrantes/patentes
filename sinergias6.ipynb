{
 "cells": [
  {
   "cell_type": "code",
   "execution_count": 15,
   "id": "093071ad",
   "metadata": {},
   "outputs": [],
   "source": [
    "import re\n",
    "import pandas as pd\n",
    "import numpy as np\n",
    "import mysql.connector\n"
   ]
  },
  {
   "cell_type": "code",
   "execution_count": 16,
   "id": "b08f098b",
   "metadata": {},
   "outputs": [],
   "source": [
    "conexao = mysql.connector.connect(host='localhost',user='root',password='',database='producao')\n",
    "cursor = conexao.cursor()"
   ]
  },
  {
   "cell_type": "code",
   "execution_count": 17,
   "id": "86d01534",
   "metadata": {},
   "outputs": [
    {
     "name": "stdout",
     "output_type": "stream",
     "text": [
      "Registros : 1372 1 \n",
      "Registros : 2450 2 \n",
      "Registros : 3450 3 \n",
      "Registros : 2272 4 \n",
      "Registros : 2567 5 \n",
      "Registros : 2460 6 \n",
      "Registros : 2844 7 \n",
      "Registros : 2718 8 \n",
      "Registros : 2798 9 \n",
      "Registros : 2809 10 \n",
      "Registros : 2589 11 \n"
     ]
    }
   ],
   "source": [
    "arq1 = open(\"arquivos/saida.csv\", \"w\")\n",
    "arq1.write(\"numero;despacho;data\\n\")\n",
    "\n",
    "arq2 = open(\"arquivos/saida2.csv\", \"w\")\n",
    "arq2.write(\"mes;total\\n\")\n",
    "\n",
    "meses = np.array(['','jan','fev','mar','abr','mai','jun','jul','ago','set','out','nov','dez'])\n",
    "\n",
    "# calcula produção por mês\n",
    "for mes in range(1, 12, 1):\n",
    "    ano = 2022\n",
    "    total = 0\n",
    "    comando = f'select * from arquivadosxml where year(data)={ano} and month(data)={mes} and despacho in (\"9.1\",\"9.2\",\"11.2\") and anulado=0 order by numero asc'\n",
    "    cursor.execute(comando)\n",
    "    resultado = cursor.fetchall()\n",
    "    for row in resultado:\n",
    "        numero = str(row[2])\n",
    "        #print(numero)\n",
    "        despacho = str(row[1])\n",
    "        data = str(row[3])\n",
    "        total = total + 1\n",
    "        arq1.write(str(numero)+\";\"+str(despacho)+\";\"+str(data)+\"\\n\")\n",
    "        \n",
    "    print(f'Registros : {total} {mes} ')\n",
    "    arq2.write(str(meses[mes])+';'+str(total)+'\\n')\n",
    "    #break\n",
    "    \n",
    "arq1.close()\n",
    "arq2.close()\n"
   ]
  },
  {
   "cell_type": "code",
   "execution_count": null,
   "id": "a6826495",
   "metadata": {},
   "outputs": [],
   "source": [
    "# SELECT year(data),month(data),count(*) FROM `arquivadosxml` WHERE despacho in ('9.1','9.2','11.2') and anulado=0 group by year(data),month(data) order by year(data),month(data) asc;\n",
    "# SELECT * FROM `arquivadosxml` WHERE despacho in ('9.1','9.2','11.2') and anulado=0 and year(data)=2022 and month(data)=1 order by numero asc;\n"
   ]
  },
  {
   "cell_type": "code",
   "execution_count": 31,
   "id": "c552b7d9",
   "metadata": {},
   "outputs": [
    {
     "name": "stdout",
     "output_type": "stream",
     "text": [
      "total Registros 13\n",
      "[['mes', 'total'], ['jan', '1372'], ['fev', '2450'], ['mar', '3450'], ['abr', '2272'], ['mai', '2567'], ['jun', '2460'], ['jul', '2844'], ['ago', '2718'], ['set', '2798'], ['out', '2809'], ['nov', '2589'], ['']]\n"
     ]
    },
    {
     "data": {
      "text/plain": [
       "<function TextIOWrapper.close()>"
      ]
     },
     "execution_count": 31,
     "metadata": {},
     "output_type": "execute_result"
    }
   ],
   "source": [
    "arq1 = open('arquivos/saida2.csv', 'r')\n",
    "data = arq1.read()\n",
    "rows = data.split('\\n')\n",
    "full_data = []\n",
    "for row in rows:\n",
    "    split_row = row.split(\";\")\n",
    "    full_data.append(split_row)\n",
    "\n",
    "count = 0\n",
    "for row in full_data:\n",
    "    count += 1\n",
    "    \n",
    "print(f\"total Registros {count}\")\n",
    "print(full_data)\n",
    "arq1.close"
   ]
  },
  {
   "cell_type": "code",
   "execution_count": 29,
   "id": "cf502ec9",
   "metadata": {},
   "outputs": [
    {
     "name": "stdout",
     "output_type": "stream",
     "text": [
      "jan = 1372\n",
      "fev = 2450\n",
      "mar = 3450\n",
      "abr = 2272\n",
      "mai = 2567\n",
      "jun = 2460\n",
      "jul = 2844\n",
      "ago = 2718\n",
      "set = 2798\n",
      "out = 2809\n",
      "nov = 2589\n"
     ]
    },
    {
     "ename": "IndexError",
     "evalue": "list index out of range",
     "output_type": "error",
     "traceback": [
      "\u001b[1;31m---------------------------------------------------------------------------\u001b[0m",
      "\u001b[1;31mIndexError\u001b[0m                                Traceback (most recent call last)",
      "\u001b[1;32m~\\AppData\\Local\\Temp/ipykernel_124672/713351589.py\u001b[0m in \u001b[0;36m<module>\u001b[1;34m\u001b[0m\n\u001b[0;32m      1\u001b[0m \u001b[1;32mfor\u001b[0m \u001b[0mi\u001b[0m \u001b[1;32min\u001b[0m \u001b[0mrange\u001b[0m\u001b[1;33m(\u001b[0m\u001b[1;36m1\u001b[0m\u001b[1;33m,\u001b[0m \u001b[1;36m13\u001b[0m\u001b[1;33m,\u001b[0m \u001b[1;36m1\u001b[0m\u001b[1;33m)\u001b[0m\u001b[1;33m:\u001b[0m\u001b[1;33m\u001b[0m\u001b[1;33m\u001b[0m\u001b[0m\n\u001b[0;32m      2\u001b[0m     \u001b[0mmes\u001b[0m \u001b[1;33m=\u001b[0m \u001b[0mfull_data\u001b[0m\u001b[1;33m[\u001b[0m\u001b[0mi\u001b[0m\u001b[1;33m]\u001b[0m\u001b[1;33m[\u001b[0m\u001b[1;36m0\u001b[0m\u001b[1;33m]\u001b[0m\u001b[1;33m\u001b[0m\u001b[1;33m\u001b[0m\u001b[0m\n\u001b[1;32m----> 3\u001b[1;33m     \u001b[0mtotal\u001b[0m \u001b[1;33m=\u001b[0m \u001b[0mfull_data\u001b[0m\u001b[1;33m[\u001b[0m\u001b[0mi\u001b[0m\u001b[1;33m]\u001b[0m\u001b[1;33m[\u001b[0m\u001b[1;36m1\u001b[0m\u001b[1;33m]\u001b[0m\u001b[1;33m\u001b[0m\u001b[1;33m\u001b[0m\u001b[0m\n\u001b[0m\u001b[0;32m      4\u001b[0m     \u001b[0mprint\u001b[0m\u001b[1;33m(\u001b[0m\u001b[1;34mf'{mes} = {total}'\u001b[0m\u001b[1;33m)\u001b[0m\u001b[1;33m\u001b[0m\u001b[1;33m\u001b[0m\u001b[0m\n",
      "\u001b[1;31mIndexError\u001b[0m: list index out of range"
     ]
    }
   ],
   "source": [
    "for i in range(1, 13, 1):\n",
    "    mes = full_data[i][0]\n",
    "    total = full_data[i][1]\n",
    "    print(f'{mes} = {total}')"
   ]
  },
  {
   "cell_type": "code",
   "execution_count": null,
   "id": "31ca179a",
   "metadata": {},
   "outputs": [],
   "source": []
  }
 ],
 "metadata": {
  "kernelspec": {
   "display_name": "Python 3 (ipykernel)",
   "language": "python",
   "name": "python3"
  },
  "language_info": {
   "codemirror_mode": {
    "name": "ipython",
    "version": 3
   },
   "file_extension": ".py",
   "mimetype": "text/x-python",
   "name": "python",
   "nbconvert_exporter": "python",
   "pygments_lexer": "ipython3",
   "version": "3.9.7"
  }
 },
 "nbformat": 4,
 "nbformat_minor": 5
}
