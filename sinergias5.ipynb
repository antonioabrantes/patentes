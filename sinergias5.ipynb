{
 "cells": [
  {
   "cell_type": "code",
   "execution_count": 20,
   "id": "093071ad",
   "metadata": {},
   "outputs": [],
   "source": [
    "import re\n",
    "import pandas as pd\n",
    "import datetime\n",
    "import mysql.connector\n",
    "import matplotlib.pyplot as plt \n",
    "import numpy as np\n",
    "%matplotlib inline"
   ]
  },
  {
   "cell_type": "code",
   "execution_count": 21,
   "id": "b08f098b",
   "metadata": {},
   "outputs": [],
   "source": [
    "conexao = mysql.connector.connect(host='localhost',user='root',password='',database='producao')\n",
    "cursor = conexao.cursor()"
   ]
  },
  {
   "cell_type": "code",
   "execution_count": 77,
   "id": "5a68d084",
   "metadata": {},
   "outputs": [
    {
     "data": {
      "image/png": "[encoded data removed]",
      "text/plain": [
       "<Figure size 432x288 with 1 Axes>"
      ]
     },
     "metadata": {
      "needs_background": "light"
     },
     "output_type": "display_data"
    }
   ],
   "source": [
    "def numOfDays(date1, date2):\n",
    "    return (date2-date1).days\n",
    "\n",
    "y = []\n",
    "x = []\n",
    "#confere média de tempo de registro\n",
    "for ano in range(2002, 2023, 1):\n",
    "    soma = 0\n",
    "    total = 0\n",
    "    comando = f'select * from arqpatentes where year(concessao)={ano}'\n",
    "    cursor.execute(comando)\n",
    "    resultado = cursor.fetchall()\n",
    "    for row in resultado:\n",
    "        #print(\"numero= \"+str(row[0]))\n",
    "        #print(\"data deposito= \"+str(row[1]))\n",
    "        d=datetime.datetime.strptime(str(row[1]), \"%Y-%m-%d\")\n",
    "        date1 = datetime.date(d.year, d.month, d.day)\n",
    "        #print(\"data concessao= \"+str(row[4]))\n",
    "        d=datetime.datetime.strptime(str(row[4]), \"%Y-%m-%d\")\n",
    "        date2 = datetime.date(d.year, d.month, d.day)\n",
    "        #print(numOfDays(date1, date2)/365, \"anos\")\n",
    "        soma = soma + numOfDays(date1, date2)\n",
    "        total = total + 1\n",
    "        #print(\"\\n\")\n",
    "    \n",
    "    media = soma/total/365\n",
    "    y.append(media)\n",
    "    x.append(ano)\n",
    "    #print(f'Tempo médio de dias para concessão: {ano} = {media:.2f}')\n",
    "\n",
    "plt.plot(x,y,label=\"tempo exame\")\n",
    "plt.ylim(min(y)-1, max(y) + 1)\n",
    "plt.yticks(range(6,14,1))\n",
    "plt.xlim(min(x)-1, max(x)+1)\n",
    "plt.xticks(range(min(x), max(x),2))\n",
    "plt.legend()\n",
    "plt.plot(x,y,color='r' , marker='o', markersize=2, linestyle='dashed', linewidth=2)\n",
    "plt.show()\n"
   ]
  },
  {
   "cell_type": "code",
   "execution_count": 79,
   "id": "86d01534",
   "metadata": {},
   "outputs": [
    {
     "name": "stdout",
     "output_type": "stream",
     "text": [
      "Tempo médio de dias para concessão: 1836 1 = 7.68\n",
      "Tempo médio de dias para concessão: 2117 2 = 7.61\n",
      "Tempo médio de dias para concessão: 2261 3 = 7.53\n",
      "Tempo médio de dias para concessão: 2054 4 = 7.65\n",
      "Tempo médio de dias para concessão: 2853 5 = 7.51\n",
      "Tempo médio de dias para concessão: 1685 6 = 7.30\n",
      "Tempo médio de dias para concessão: 1653 7 = 7.06\n",
      "Tempo médio de dias para concessão: 2372 8 = 6.91\n",
      "Tempo médio de dias para concessão: 1902 9 = 7.20\n",
      "Tempo médio de dias para concessão: 1700 10 = 6.73\n",
      "Tempo médio de dias para concessão: 2253 11 = 6.60\n"
     ]
    },
    {
     "data": {
      "image/png": "[encoded data removed]",
      "text/plain": [
       "<Figure size 432x288 with 1 Axes>"
      ]
     },
     "metadata": {
      "needs_background": "light"
     },
     "output_type": "display_data"
    }
   ],
   "source": [
    "y = []\n",
    "x = []\n",
    "#confere média de tempo de registro\n",
    "for mes in range(1, 12, 1):\n",
    "    ano = 2022\n",
    "    soma = 0\n",
    "    total = 0\n",
    "    comando = f'select * from arquivados where year(data)={ano} and month(data)={mes} and despacho=\"16.1\" and anulado=0'\n",
    "    cursor.execute(comando)\n",
    "    resultado = cursor.fetchall()\n",
    "    for row in resultado:\n",
    "        numero = str(row[2])\n",
    "        d=datetime.datetime.strptime(str(row[3]), \"%Y-%m-%d\")\n",
    "        date1 = datetime.date(d.year, d.month, d.day)\n",
    "        \n",
    "        comando = f\"select * from publicados where numero='{numero}'\"\n",
    "        try:\n",
    "            cursor.execute(comando)\n",
    "            resultado = cursor.fetchone()\n",
    "            if resultado is not None:\n",
    "                d = resultado[4]\n",
    "                data_deposito = str(d.year) + '-' + str(d.month) + '-' + str(d.day)\n",
    "                #print(data_deposito)\n",
    "        except (mysql.connector.Error, mysql.connector.Warning) as e:\n",
    "            print(e)\n",
    "            print(str(numero))\n",
    "\n",
    "        date2 = datetime.date(d.year, d.month, d.day)\n",
    "        soma = soma + numOfDays(date2, date1)\n",
    "        total = total + 1\n",
    "    \n",
    "    media=0\n",
    "    if total>0:\n",
    "        media = soma/total/365\n",
    "    y.append(media)\n",
    "    x.append(mes)\n",
    "    print(f'Tempo médio de dias para concessão: {total} {mes} = {media:.2f}')\n",
    "\n",
    "plt.plot(x,y,label=\"tempo exame\")\n",
    "plt.ylim(5, 10)\n",
    "plt.yticks(range(5,10,1))\n",
    "plt.xlim(min(x)-1, max(x)+1)\n",
    "plt.xticks(range(1, 12 , 1))\n",
    "plt.legend()\n",
    "plt.plot(x,y,color='green' , marker='o', markersize=4, linestyle=':', linewidth=2)\n",
    "plt.show()\n"
   ]
  },
  {
   "cell_type": "code",
   "execution_count": 75,
   "id": "5afa9895",
   "metadata": {},
   "outputs": [
    {
     "name": "stdout",
     "output_type": "stream",
     "text": [
      "Taxa deferimento: 1213 1 = 78.98\n",
      "Taxa deferimento: 2271 2 = 83.80\n",
      "Taxa deferimento: 3159 3 = 83.00\n",
      "Taxa deferimento: 2157 4 = 84.01\n",
      "Taxa deferimento: 2344 5 = 85.67\n",
      "Taxa deferimento: 2275 6 = 84.79\n",
      "Taxa deferimento: 2691 7 = 83.57\n",
      "Taxa deferimento: 2474 8 = 83.67\n",
      "Taxa deferimento: 2513 9 = 83.72\n",
      "Taxa deferimento: 2510 10 = 81.12\n",
      "Taxa deferimento: 2533 11 = 83.46\n"
     ]
    },
    {
     "data": {
      "image/png": "[encoded data removed]",
      "text/plain": [
       "<Figure size 432x288 with 1 Axes>"
      ]
     },
     "metadata": {
      "needs_background": "light"
     },
     "output_type": "display_data"
    }
   ],
   "source": [
    "y = []\n",
    "x = []\n",
    "#confere média de tempo de registro\n",
    "for mes in range(1, 12, 1):\n",
    "    ano = 2022\n",
    "    deferidos = 0\n",
    "    indeferidos = 0 \n",
    "    total = 0\n",
    "    comando = f'select * from arquivados where year(data)={ano} and month(data)={mes} and despacho in (\"9.1\",\"9.2\") and anulado=0'\n",
    "    cursor.execute(comando)\n",
    "    resultado = cursor.fetchall()\n",
    "    for row in resultado:\n",
    "        numero = str(row[2])\n",
    "        despacho = row[1]\n",
    "        if despacho=='9.1':\n",
    "            deferidos = deferidos + 1\n",
    "        else:\n",
    "            indeferidos = indeferidos + 1\n",
    "        total = total + 1\n",
    "    \n",
    "    media=0\n",
    "    if total>0:\n",
    "        percentual = 100*(deferidos)/(deferidos + indeferidos)\n",
    "    y.append(percentual)\n",
    "    x.append(mes)\n",
    "    print(f'Taxa deferimento: {total} {mes} = {percentual:.2f}')\n",
    "\n",
    "plt.grid(visible=True)\n",
    "plt.plot(x,y,label=\"taxa deferimento\")\n",
    "plt.ylim(70, 100)\n",
    "plt.yticks(range(70,100,5))\n",
    "plt.xlim(min(x)-1, max(x)+1)\n",
    "plt.xticks(range(1, 12 , 1))\n",
    "plt.legend()\n",
    "plt.plot(x,y,color='red' , marker='x', markersize=2, linestyle='--', linewidth=4)\n",
    "plt.show()\n"
   ]
  },
  {
   "cell_type": "code",
   "execution_count": null,
   "id": "c552b7d9",
   "metadata": {},
   "outputs": [],
   "source": []
  }
 ],
 "metadata": {
  "kernelspec": {
   "display_name": "Python 3 (ipykernel)",
   "language": "python",
   "name": "python3"
  },
  "language_info": {
   "codemirror_mode": {
    "name": "ipython",
    "version": 3
   },
   "file_extension": ".py",
   "mimetype": "text/x-python",
   "name": "python",
   "nbconvert_exporter": "python",
   "pygments_lexer": "ipython3",
   "version": "3.9.12"
  }
 },
 "nbformat": 4,
 "nbformat_minor": 5
}
