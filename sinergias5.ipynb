{
 "cells": [
  {
   "cell_type": "code",
   "execution_count": 12,
   "id": "093071ad",
   "metadata": {},
   "outputs": [],
   "source": [
    "import re\n",
    "import pandas as pd\n",
    "import datetime\n",
    "import mysql.connector\n",
    "import matplotlib.pyplot as plt \n",
    "import numpy as np\n",
    "%matplotlib inline"
   ]
  },
  {
   "cell_type": "code",
   "execution_count": 13,
   "id": "b08f098b",
   "metadata": {},
   "outputs": [],
   "source": [
    "conexao = mysql.connector.connect(host='localhost',user='root',password='',database='producao')\n",
    "cursor = conexao.cursor()"
   ]
  },
  {
   "cell_type": "code",
   "execution_count": 14,
   "id": "5a68d084",
   "metadata": {},
   "outputs": [
    {
     "data": {
      "image/png": "[encoded data removed]",
      "text/plain": [
       "<Figure size 432x288 with 1 Axes>"
      ]
     },
     "metadata": {
      "needs_background": "light"
     },
     "output_type": "display_data"
    }
   ],
   "source": [
    "def numOfDays(date1, date2):\n",
    "    return (date2-date1).days\n",
    "\n",
    "y = []\n",
    "x = []\n",
    "#confere média de tempo de registro\n",
    "for ano in range(2002, 2023, 1):\n",
    "    soma = 0\n",
    "    total = 0\n",
    "    comando = f'select * from arqpatentes where year(concessao)={ano}'\n",
    "    cursor.execute(comando)\n",
    "    resultado = cursor.fetchall()\n",
    "    for row in resultado:\n",
    "        #print(\"numero= \"+str(row[0]))\n",
    "        #print(\"data deposito= \"+str(row[1]))\n",
    "        d=datetime.datetime.strptime(str(row[1]), \"%Y-%m-%d\")\n",
    "        date1 = datetime.date(d.year, d.month, d.day)\n",
    "        #print(\"data concessao= \"+str(row[4]))\n",
    "        d=datetime.datetime.strptime(str(row[4]), \"%Y-%m-%d\")\n",
    "        date2 = datetime.date(d.year, d.month, d.day)\n",
    "        #print(numOfDays(date1, date2)/365, \"anos\")\n",
    "        soma = soma + numOfDays(date1, date2)\n",
    "        total = total + 1\n",
    "        #print(\"\\n\")\n",
    "    \n",
    "    media = soma/total/365\n",
    "    y.append(media)\n",
    "    x.append(ano)\n",
    "    #print(f'Tempo médio de dias para concessão: {ano} = {media:.2f}')\n",
    "\n",
    "plt.plot(x,y,label=\"tempo exame\")\n",
    "plt.ylim(min(y)-1, max(y) + 1)\n",
    "plt.yticks(range(6,14,1))\n",
    "plt.xlim(min(x)-1, max(x)+1)\n",
    "plt.xticks(range(min(x), max(x),2))\n",
    "plt.legend()\n",
    "plt.plot(x,y,color='r' , marker='o', markersize=2, linestyle='dashed', linewidth=2)\n",
    "plt.show()\n"
   ]
  },
  {
   "cell_type": "code",
   "execution_count": 15,
   "id": "86d01534",
   "metadata": {},
   "outputs": [
    {
     "name": "stdout",
     "output_type": "stream",
     "text": [
      "Tempo médio de dias para concessão: 1837 1 = 7.72\n",
      "Tempo médio de dias para concessão: 2118 2 = 7.64\n",
      "Tempo médio de dias para concessão: 2261 3 = 7.57\n",
      "Tempo médio de dias para concessão: 2056 4 = 7.70\n",
      "Tempo médio de dias para concessão: 2857 5 = 7.56\n",
      "Tempo médio de dias para concessão: 1686 6 = 7.35\n",
      "Tempo médio de dias para concessão: 1655 7 = 7.12\n",
      "Tempo médio de dias para concessão: 2379 8 = 6.96\n",
      "Tempo médio de dias para concessão: 1902 9 = 7.29\n",
      "Tempo médio de dias para concessão: 1700 10 = 6.77\n",
      "Tempo médio de dias para concessão: 1646 11 = 6.65\n"
     ]
    },
    {
     "data": {
      "image/png": "[encoded data removed]",
      "text/plain": [
       "<Figure size 432x288 with 1 Axes>"
      ]
     },
     "metadata": {
      "needs_background": "light"
     },
     "output_type": "display_data"
    }
   ],
   "source": [
    "y = []\n",
    "x = []\n",
    "#confere média de tempo de registro\n",
    "for mes in range(1, 12, 1):\n",
    "    ano = 2022\n",
    "    soma = 0\n",
    "    total = 0\n",
    "    comando = f'select * from arquivadosxml where year(data)={ano} and month(data)={mes} and despacho=\"16.1\" and anulado=0'\n",
    "    cursor.execute(comando)\n",
    "    resultado = cursor.fetchall()\n",
    "    for row in resultado:\n",
    "        numero = str(row[2])\n",
    "        d=datetime.datetime.strptime(str(row[3]), \"%Y-%m-%d\")\n",
    "        date1 = datetime.date(d.year, d.month, d.day)\n",
    "        \n",
    "        comando = f\"select * from depositados where numero='{numero}'\"\n",
    "        try:\n",
    "            cursor.execute(comando)\n",
    "            resultado = cursor.fetchone()\n",
    "            if resultado is not None:\n",
    "                d = resultado[1]\n",
    "                data_deposito = str(d.year) + '-' + str(d.month) + '-' + str(d.day)\n",
    "                #print(data_deposito)\n",
    "        except (mysql.connector.Error, mysql.connector.Warning) as e:\n",
    "            print(e)\n",
    "            print(str(numero))\n",
    "\n",
    "        date2 = datetime.date(d.year, d.month, d.day)\n",
    "        soma = soma + numOfDays(date2, date1)\n",
    "        total = total + 1\n",
    "    \n",
    "    media=0\n",
    "    if total>0:\n",
    "        media = soma/total/365\n",
    "    y.append(media)\n",
    "    x.append(mes)\n",
    "    print(f'Tempo médio de dias para concessão: {total} {mes} = {media:.2f}')\n",
    "\n",
    "plt.plot(x,y,label=\"tempo exame\")\n",
    "plt.ylim(5, 10)\n",
    "plt.yticks(range(5,10,1))\n",
    "plt.xlim(min(x)-1, max(x)+1)\n",
    "plt.xticks(range(1, 12 , 1))\n",
    "plt.legend()\n",
    "plt.plot(x,y,color='green' , marker='o', markersize=4, linestyle=':', linewidth=2)\n",
    "plt.show()\n"
   ]
  },
  {
   "cell_type": "code",
   "execution_count": 16,
   "id": "5afa9895",
   "metadata": {},
   "outputs": [
    {
     "name": "stdout",
     "output_type": "stream",
     "text": [
      "Taxa deferimento: 1218 1 = 78.74\n",
      "Taxa deferimento: 2277 2 = 83.71\n",
      "Taxa deferimento: 3170 3 = 82.90\n",
      "Taxa deferimento: 2164 4 = 83.87\n",
      "Taxa deferimento: 2348 5 = 85.60\n",
      "Taxa deferimento: 2279 6 = 84.69\n",
      "Taxa deferimento: 2698 7 = 83.40\n",
      "Taxa deferimento: 2478 8 = 83.66\n",
      "Taxa deferimento: 2526 9 = 83.65\n",
      "Taxa deferimento: 2515 10 = 81.03\n",
      "Taxa deferimento: 2163 11 = 84.60\n"
     ]
    },
    {
     "data": {
      "image/png": "[encoded data removed]",
      "text/plain": [
       "<Figure size 432x288 with 1 Axes>"
      ]
     },
     "metadata": {
      "needs_background": "light"
     },
     "output_type": "display_data"
    }
   ],
   "source": [
    "y = []\n",
    "x = []\n",
    "#confere média de tempo de registro\n",
    "for mes in range(1, 12, 1):\n",
    "    ano = 2022\n",
    "    deferidos = 0\n",
    "    indeferidos = 0 \n",
    "    total = 0\n",
    "    comando = f'select * from arquivadosxml where year(data)={ano} and month(data)={mes} and despacho in (\"9.1\",\"9.2\") and anulado=0'\n",
    "    cursor.execute(comando)\n",
    "    resultado = cursor.fetchall()\n",
    "    for row in resultado:\n",
    "        numero = str(row[2])\n",
    "        despacho = row[1]\n",
    "        if despacho=='9.1':\n",
    "            deferidos = deferidos + 1\n",
    "        else:\n",
    "            indeferidos = indeferidos + 1\n",
    "        total = total + 1\n",
    "    \n",
    "    media=0\n",
    "    if total>0:\n",
    "        percentual = 100*(deferidos)/(deferidos + indeferidos)\n",
    "    y.append(percentual)\n",
    "    x.append(mes)\n",
    "    print(f'Taxa deferimento: {total} {mes} = {percentual:.2f}')\n",
    "\n",
    "plt.grid(visible=True)\n",
    "plt.plot(x,y,label=\"taxa deferimento\")\n",
    "plt.ylim(70, 100)\n",
    "plt.yticks(range(70,100,5))\n",
    "plt.xlim(min(x)-1, max(x)+1)\n",
    "plt.xticks(range(1, 12 , 1))\n",
    "plt.legend()\n",
    "plt.plot(x,y,color='red' , marker='x', markersize=2, linestyle='--', linewidth=4)\n",
    "plt.show()\n"
   ]
  },
  {
   "cell_type": "code",
   "execution_count": null,
   "id": "c552b7d9",
   "metadata": {},
   "outputs": [],
   "source": []
  }
 ],
 "metadata": {
  "kernelspec": {
   "display_name": "Python 3 (ipykernel)",
   "language": "python",
   "name": "python3"
  },
  "language_info": {
   "codemirror_mode": {
    "name": "ipython",
    "version": 3
   },
   "file_extension": ".py",
   "mimetype": "text/x-python",
   "name": "python",
   "nbconvert_exporter": "python",
   "pygments_lexer": "ipython3",
   "version": "3.9.7"
  }
 },
 "nbformat": 4,
 "nbformat_minor": 5
}
